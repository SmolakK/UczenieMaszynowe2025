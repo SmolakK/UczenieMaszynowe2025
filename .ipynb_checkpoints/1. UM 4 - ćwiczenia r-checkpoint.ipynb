{
 "cells": [
  {
   "cell_type": "markdown",
   "id": "c7c26b5a",
   "metadata": {},
   "source": [
    "# Uczenie Maszynowe - ćwiczenia 4 (plik roboczy)\n",
    "\n",
    "Celem dzisiejszych ćwiczeń jest rozpoczęcie pracy z scikit-learn i budowy pierwszych modeli regresyjnych (tak jak na wykładzie).\n",
    "\n",
    "## Zadanie 1 - zapoznanie z regresją\n",
    "\n",
    "Poniżej podano wektor dwóch zmiennych X (cechy) i y (zmienna celowa), które są od siebie zależne i mogą posłużyć do modelowania regresji. Zapoznajmy się najpierw z danymi:\n"
   ]
  },
  {
   "cell_type": "code",
   "execution_count": null,
   "id": "16eb4423",
   "metadata": {},
   "outputs": [],
   "source": [
    "import numpy as np"
   ]
  },
  {
   "cell_type": "code",
   "execution_count": null,
   "id": "a711aab7",
   "metadata": {},
   "outputs": [],
   "source": [
    "x = np.array([0,1,2,2.1,3,3.2,4,4.6]).reshape(-1,1)\n",
    "y = np.array([0,1.1,1.9,2.4,3.1,3.8,3.8,8])"
   ]
  },
  {
   "cell_type": "markdown",
   "id": "1b33055c",
   "metadata": {},
   "source": [
    "1a. Wyświetl dane na wykresie punktowym używając biblioteki matplotlib"
   ]
  },
  {
   "cell_type": "code",
   "execution_count": null,
   "id": "b010725e",
   "metadata": {},
   "outputs": [],
   "source": [
    "import matplotlib.pyplot as plt\n",
    "\n",
    "plt.scatter(x,y)\n",
    "plt.show()"
   ]
  },
  {
   "cell_type": "markdown",
   "id": "c2749c14",
   "metadata": {},
   "source": [
    "Zależność jest linowa. Wpasujmy zatem prostą regresji w nasze dane.\n",
    "\n",
    "Proces uczenia modelu w scikit-learn wygląda podobnie dla wszystkich algorytmów. Należy kolejno:\n",
    "\n",
    "    Wczytać model: \n",
    "        from sklearn import linear_model\n",
    "    Zainstacjnować model\n",
    "        model = linear_model.LinearRegression()\n",
    "    Wytrenować: metodą fit(X,y)\n",
    "    Dokonać predykcji: metodą predict(X)\n",
    "    \n",
    "    1b. Zaimplementuj ten proces poniżej oraz\n",
    "    1c. Wyświetl równanie prostej\n",
    "    1d. Wyświetl dane i wpasowaną prostą regresji na wykresie\n",
    "    1f. Dokonaj predykcji dla zbioru czterech dowolnych wartości cechy X"
   ]
  },
  {
   "cell_type": "code",
   "execution_count": null,
   "id": "1b3a6593",
   "metadata": {},
   "outputs": [],
   "source": [
    "from sklearn import linear_model\n",
    "\n",
    "#1b. Zaimplementuj ten proces poniżej \n",
    "model = linear_model.LinearRegression()\n",
    "model.fit(x,y)\n",
    "y_predict = model.predict(x)\n",
    "print(y_predict)\n",
    "print(y)\n"
   ]
  },
  {
   "cell_type": "code",
   "execution_count": null,
   "id": "70a3d8cf-d667-4f7e-a4dd-06fb8647717d",
   "metadata": {},
   "outputs": [],
   "source": [
    "from sklearn.metrics import mean_squared_error"
   ]
  },
  {
   "cell_type": "code",
   "execution_count": null,
   "id": "49bf220c-6b71-426b-a27b-7fe6e497da24",
   "metadata": {},
   "outputs": [],
   "source": [
    "mean_squared_error(y,y_predict)"
   ]
  },
  {
   "cell_type": "code",
   "execution_count": null,
   "id": "768d5991-ad26-4fe8-acec-16689258f261",
   "metadata": {},
   "outputs": [],
   "source": [
    "#1c. Wyświetl równanie prostej\n",
    "a = model.coef_[0]\n",
    "b = model.intercept_\n",
    "print(f\"y={a:.3f}x+{b:.3f} \")"
   ]
  },
  {
   "cell_type": "code",
   "execution_count": null,
   "id": "33c5404c-780f-469a-99ca-2557f758651b",
   "metadata": {},
   "outputs": [],
   "source": [
    "#1d. Wyświetl dane i wpasowaną prostą regresji na wykresie\n",
    "plt.scatter(x,y, color = 'red')\n",
    "plt.plot(x,y_predict, color = 'yellow', ls = '--')\n",
    "plt.show()"
   ]
  },
  {
   "cell_type": "code",
   "execution_count": null,
   "id": "1ae7357b-89b1-4be3-85de-37dd75bfe8fb",
   "metadata": {},
   "outputs": [],
   "source": [
    "#1f. Dokonaj predykcji dla zbioru czterech dowolnych wartości cechy X\n",
    "\n",
    "x_new = np.array([5.5,6.5,5,50]).reshape(-1,1)\n",
    "y_predict_new = model.predict(x_new)\n",
    "\n",
    "plt.scatter(x,y, color = 'red')\n",
    "plt.scatter(x_new, y_predict_new, color = 'green')\n",
    "plt.plot(x,y_predict, color = 'yellow', ls = '--')\n",
    "plt.show()"
   ]
  },
  {
   "cell_type": "markdown",
   "id": "4fd4414a",
   "metadata": {},
   "source": [
    "## Zadanie 2 - proces modelowania regresji\n",
    "\n",
    "Proces budowy modelu zaczynamy od pozyskania danych. Skorzystamy z gotowych przykładów danych, które już dostępne są w bibliotece scikit-learn. Wczytaj dane dotyczące cen nieruchmości w Kalifornii jak poniżej i zapoznaj się ze zbiorem danych.\n",
    "Dokumentacja: https://scikit-learn.org/stable/modules/generated/sklearn.datasets.fetch_california_housing.html\n",
    "\n",
    "Wczytany zostanie słownik, który ma następujące klucze 'data' - dane, 'target' - cel predykcji, 'target_names' - nazwa zmiennej celowej (zależnej), 'feature_names' - nazwy zmiennych.\n",
    "\n",
    "    2a. Wykorzystaj pandasa by uporządkować te dane w DataFrame\n",
    "    2b. Sprawdź czy danych są braki, puste wartości."
   ]
  },
  {
   "cell_type": "code",
   "execution_count": null,
   "id": "b45bd95d",
   "metadata": {},
   "outputs": [],
   "source": [
    "from sklearn.datasets import fetch_california_housing\n",
    "import pandas as pd\n",
    "california = fetch_california_housing()"
   ]
  },
  {
   "cell_type": "code",
   "execution_count": null,
   "id": "45468728-44ac-43f7-8981-3cd6aa96dd5c",
   "metadata": {},
   "outputs": [],
   "source": [
    "df = pd.DataFrame(california.data, columns = california.feature_names)"
   ]
  },
  {
   "cell_type": "code",
   "execution_count": null,
   "id": "ae8f269d-7950-48d4-9faf-c4a7ca050725",
   "metadata": {},
   "outputs": [],
   "source": [
    "df"
   ]
  },
  {
   "cell_type": "code",
   "execution_count": null,
   "id": "aff6c744-69a6-4111-9da7-4ccf60772149",
   "metadata": {},
   "outputs": [],
   "source": [
    "brak_danych = df.isnull().sum()"
   ]
  },
  {
   "cell_type": "code",
   "execution_count": null,
   "id": "1623ea79-870a-4609-ab31-3393571d49b6",
   "metadata": {},
   "outputs": [],
   "source": [
    "brak_danych"
   ]
  },
  {
   "cell_type": "markdown",
   "id": "ad577887",
   "metadata": {},
   "source": [
    "W celu przeprowadzenia treningu i skutecznej oceny modelu, dane należy podzielić na dwa (a w zasadzie na trzy) zbiory: treningowy i testowy (treningowy, walidacyjny i testowy).\n",
    "\n",
    "Zbiór treningowy służy do uczenia modelu, czyli dopasowania parametrów modelu do wzorców ukrytych w danych. Na podstawie zbioru treningowego model uczy się relacji między zmiennymi wejściowymi a wyjściową, którą chcemy przewidzieć.\n",
    "\n",
    "Zbiór testowy jest używany wyłącznie do oceny modelu, a więc do sprawdzenia, jak dobrze wyuczone zależności przekładają się na dane, których model wcześniej nie widział. Pomaga to ocenić, czy model jest ogólny i sprawdzi się na nowych, nieznanych danych.\n",
    "\n",
    "    2c.  Przeprowadź podział danych na zbiór treningowy i testowy za pomocą funkcji train_test_split(). Zastosouj podział w stosunku 4:1."
   ]
  },
  {
   "cell_type": "code",
   "execution_count": null,
   "id": "1430f269-49b5-4852-8910-e45f189e35ec",
   "metadata": {},
   "outputs": [],
   "source": [
    "from sklearn.model_selection import train_test_split\n",
    "df['Target'] = california.target"
   ]
  },
  {
   "cell_type": "code",
   "execution_count": null,
   "id": "78bf25fc",
   "metadata": {},
   "outputs": [],
   "source": [
    "X = df[california.feature_names]\n",
    "y = df['Target']\n",
    "X_train, X_test, y_train, y_test = train_test_split(X,y,test_size=0.2,random_state=42)\n"
   ]
  },
  {
   "cell_type": "code",
   "execution_count": null,
   "id": "c65e7009-2e8a-4000-984b-6f6b36a4b344",
   "metadata": {},
   "outputs": [],
   "source": [
    "X_train.shape"
   ]
  },
  {
   "cell_type": "code",
   "execution_count": null,
   "id": "0f18ef6d-1350-4fe7-acf7-2f51bf5ac049",
   "metadata": {},
   "outputs": [],
   "source": [
    "X_test.shape"
   ]
  },
  {
   "cell_type": "code",
   "execution_count": null,
   "id": "21c827cb-b08d-446f-bc66-38be79aaaa57",
   "metadata": {},
   "outputs": [],
   "source": [
    "df"
   ]
  },
  {
   "cell_type": "markdown",
   "id": "23ab5c6e",
   "metadata": {},
   "source": [
    "Zanim zaczniemy proces modelowania, należy również dobrze zrozumieć dane. Dokonajmy więc najpierw odpowiedniej analizy naszych danych, musimy zwrócić uwagę przede wszystkim na\n",
    "\n",
    "    Jakie mamy dane - zrozumieć czym one są. Jakiego są typu - czy to wartości ciągłe czy kategoryczne?\n",
    "    Jakie mają wartości? Czy wykazują rozkład normalny?\n",
    "    Które cechy są najbardziej powiązane ze zmienną zależną?\n",
    "    Które cechy są ze sobą powiązane i potencjalne są redundantne?\n",
    "    \n",
    "Żeby szybko zrozumieć nasze dane, możemy szybko wykorzystać kilka przydantych funkcji:\n",
    "\n",
    "    Metoda .describe() w Pandas do opisu statystycznego danych\n",
    "    Biblioteka seaborn do wizualizacji rozkładów - seaborn.violinplot()\n",
    "    Wizualizacja zależności pomiędzy zmiennymi za pomocą scatterplot() lub seaborn.jointplot() (szybka wizualizacja seaborn.pairplot())\n",
    "    Korelacja między zmiennymi (metoda corr() pandasa i seaborn.heatmap() ) do wizualizacji\n",
    "\n",
    "Zapoznaj się z danymi:\n",
    "\n",
    "    2d. Zastanów się jakiego typu są zmienne w danych,\n",
    "    2e. Policz statystyki za pomocą metody describe()\n",
    "    2f. Zwizualizuj rozkłady danych (użyj violinplot)\n",
    "    2g. Zwizualizuj zależności między danymi.\n",
    "    2h. Policz korelacje między danymi. Policz korelację Spearmana i Pearsona. Jaka jest różnica? Użyj wizualizacji heatmap()\n"
   ]
  },
  {
   "cell_type": "code",
   "execution_count": null,
   "id": "c720dff5",
   "metadata": {},
   "outputs": [],
   "source": [
    "df.describe()"
   ]
  },
  {
   "cell_type": "markdown",
   "id": "9187cbba",
   "metadata": {},
   "source": [
    "Kluczowy jest wybór odpowiednich cech do uczenia naszego modelu. Przystąpmy zatem do procesu uczenia. Użyjmy najpierw regresji liniowej.\n",
    "Proces uczenia jest prosty, tak jak w zadaniu 1 - instancjonujemy model, używamy metod fit() i predict() do odpowiednio - treningu i ewaluacji.\n",
    "Ewaluację przeprowadzamy z wykorzystaniem miar - jak na wykładzie. Miary dostępne są w ramach biblioteki scikit-learn (sklearn.metrics). Składania wygląda zwykle tak samo\n",
    "`nazwa_metody(prawdziwe_wyniki, predykowane_wyniki`\n",
    "\n",
    "    2i. Wybierz najbardziej powiązaną (wg. ciebie) cechę ze zmienną zależną i zbuduj dla niej model regresji liniowej. Dokonaj ewaluacji modelu za pomocą wybranej przez siebie miary. Sprawdź dokładnośc modelu na zbioru treningowym i testowym. Jakie widzisz różnice?"
   ]
  },
  {
   "cell_type": "code",
   "execution_count": null,
   "id": "31d40c19",
   "metadata": {},
   "outputs": [],
   "source": [
    "# 2f. Zwizualizuj rozkłady danych (użyj violinplot)\n",
    "train = pd.DataFrame(X_train, columns=df.columns)\n",
    "\n",
    "import seaborn as sns\n",
    "plt.figure(figsize=(15, 10))\n",
    "for i, column in enumerate(X_train[:], 1):\n",
    "    plt.subplot(3,3,i)\n",
    "    sns.violinplot(data=train, x = column, color='pink')\n",
    "plt.tight_layout()\n",
    "plt.show()"
   ]
  },
  {
   "cell_type": "code",
   "execution_count": null,
   "id": "ef0877d0-7746-412e-be9c-64e5585ebf72",
   "metadata": {},
   "outputs": [],
   "source": [
    "df.columns"
   ]
  },
  {
   "cell_type": "code",
   "execution_count": null,
   "id": "bf40f351-ef8e-4ce8-818e-3d4326d76e23",
   "metadata": {},
   "outputs": [],
   "source": [
    "plt.scatter(df['Population'],df['AveRooms'])"
   ]
  },
  {
   "cell_type": "code",
   "execution_count": null,
   "id": "73afa7e8-87e4-4f0a-970c-57234eb3f1b6",
   "metadata": {},
   "outputs": [],
   "source": [
    "# 2g. Zwizualizuj zależności między danymi.\n",
    "\n",
    "sns.pairplot(df, diag_kind = 'kde', plot_kws={'alpha':0.3})\n",
    "plt.show()"
   ]
  },
  {
   "cell_type": "code",
   "execution_count": null,
   "id": "ae58c8cb-c8a3-483b-9071-41661c6eb5f2",
   "metadata": {},
   "outputs": [],
   "source": [
    "#2h. Policz korelacje między danymi. Policz korelację Spearmana i Pearsona. Jaka jest różnica? Użyj wizualizacji heatmap()\n",
    "#Pearson \n",
    "dane_testowe = pd.concat([X_train, y_train], axis=1)\n",
    "pearson_cor = dane_testowe.corr(method='pearson')\n",
    "plt.figure(figsize=(12,8))\n",
    "sns.heatmap(pearson_cor, annot=True, cmap='bwr')\n",
    "plt.title('Korelacja Pearsona')\n",
    "plt.show()"
   ]
  },
  {
   "cell_type": "code",
   "execution_count": null,
   "id": "edd5a9c9-a3d9-43db-af9c-61ffdeeb9582",
   "metadata": {},
   "outputs": [],
   "source": [
    "dane_testowe = pd.concat([X_train, y_train], axis=1)\n",
    "spearman_cor = dane_testowe.corr(method='spearman')\n",
    "plt.figure(figsize=(12,8))\n",
    "sns.heatmap(pearson_cor, annot=True, cmap='bwr')\n",
    "plt.title('Korelacja Spearmana')\n",
    "plt.show()"
   ]
  },
  {
   "cell_type": "code",
   "execution_count": null,
   "id": "8c54debb-4e56-4193-b556-6db5d27e44b7",
   "metadata": {},
   "outputs": [],
   "source": [
    "cor_dif = pearson_cor - spearman_cor\n",
    "plt.figure(figsize=(12,8))\n",
    "sns.heatmap(cor_dif, annot=True, cmap='bwr')\n",
    "plt.title('Roznica korelacji Pearsona i  Spearmana')\n",
    "plt.show()"
   ]
  },
  {
   "cell_type": "markdown",
   "id": "bd067cfc",
   "metadata": {},
   "source": [
    "## Zadanie 3. Regresja wieloraka\n",
    "\n",
    "Wykorzystanie tylko jednej zmiennej do predykcji naszej zmiennej zależnoej wydaje się bardzo ograniczone. Wykorzystajmy dlatego regresję wielomianową, gdzie predykcja odbywać się będzie z wykorzystaniem kilku zmiennych na raz.\n",
    "\n",
    "W sensie technicznym - nie musimy nic zmieniać. Użyjemy tego samego modelu, podając jako zmienną X więcej cech jednocześnie.\n",
    "\n",
    "    3. Powtórz proces treningu z zadania 2 z wykorzystaniem regresji wielorakiej. Spróbuj wybrać trzy różne kombinacje cech i sprawdź jak wpływają one na wynik końcowy."
   ]
  },
  {
   "cell_type": "code",
   "execution_count": null,
   "id": "342e8fb6-88b1-4dff-a883-a104b4854eef",
   "metadata": {},
   "outputs": [],
   "source": [
    "from sklearn.linear_model import LinearRegression\n",
    "from sklearn.metrics import mean_squared_error, r2_score"
   ]
  },
  {
   "cell_type": "code",
   "execution_count": null,
   "id": "04779f0b-d0c9-4929-b638-6726019e8d6e",
   "metadata": {},
   "outputs": [],
   "source": [
    "X_train.columns"
   ]
  },
  {
   "cell_type": "code",
   "execution_count": null,
   "id": "4c5c5682",
   "metadata": {
    "scrolled": true
   },
   "outputs": [],
   "source": [
    "combinations = [['MedInc', 'AveRooms', 'Latitude'], \n",
    "                ['MedInc', 'Latitude', 'HouseAge'],\n",
    "                ['HouseAge', 'AveRooms', 'MedInc'],\n",
    "                ['MedInc', 'AveRooms', 'Latitude', 'HouseAge'],\n",
    "                ['MedInc', 'HouseAge', 'AveRooms', 'AveBedrms', 'Population', 'AveOccup','Latitude', 'Longitude']]\n",
    "\n",
    "for i, comb in enumerate(combinations, 1):\n",
    "    X_sel = X_train[comb]\n",
    "    model = LinearRegression()\n",
    "    model.fit(X_sel, y_train)\n",
    "\n",
    "    y_train_pred = model.predict(X_sel)\n",
    "    y_test_pred = model.predict(X_test[comb])\n",
    "    \n",
    "    test_mse = mean_squared_error(y_test, y_test_pred)\n",
    "    train_mse = mean_squared_error(y_train, y_train_pred)\n",
    "\n",
    "    test_r2 = r2_score(y_test, y_test_pred)\n",
    "    train_r2 = r2_score(y_train, y_train_pred)\n",
    "\n",
    "    print(f\"Kombinacja {i}: {comb}\")\n",
    "    print(f\"Zbiór treningowy: MSE: {train_mse:.2f}, R2: {train_r2:.2f}\")\n",
    "    print(f\"Zbiór testowy: MSE: {test_mse:.2f}, R2: {test_r2:.2f}\")\n",
    "\n",
    "    plt.figure()\n",
    "    plt.plot(np.arange(0,5), np.arange(0,5), ls=\"--\", color=\"red\")\n",
    "    plt.scatter(y_train, y_train_pred)"
   ]
  },
  {
   "cell_type": "markdown",
   "id": "0ffcaf34",
   "metadata": {},
   "source": [
    "## Zadanie 4. Regresja wielomianowa\n",
    "\n",
    "Regresja liniowa to bardzo prosty model. Możemy zwiększyć zdolność naszego modelu do przedstawiania złożonych zależności między danymi wykorzystując kombinacje cech. Nazywa się to <b>inżynierią cech </b>.\n",
    "\n",
    "Dokonajmy kombinacji naszych cech by uzyskać bardziej złożone równanie regresji. Kombinacje oznaczają np. iloczyny lub ilorazy cech, ich kwadraty i tym podobne.\n",
    "\n",
    "Wykorzystać możemy do tego celu funkcję wbudowaną w scikit-learn, która obliczy kombinacje cech za nas. Jest to funkcja PolynomialFeatures z sklearn.preprocessing.\n",
    "\n",
    "    4. Powtórz proces treningu z zadania 3 z wykorzystaniem regresji wielomianowej. Spróbuj wybrać cztery różne kombinacje cech i sprawdź jak wpływają one na wynik końcowy.\n",
    "    4a. Policz kombinacje cech i oblicz ich korelacje oraz zwizualizuj związek ze zmienną celową.\n",
    "    4b. Wybierz najbardziej obiecujące cechy i wytrenuj model regresji wielomianowej (to nadal będzie model LinearRegression).\n",
    "    \n",
    "    "
   ]
  },
  {
   "cell_type": "code",
   "execution_count": 4,
   "id": "bacc6d0e",
   "metadata": {},
   "outputs": [
    {
     "name": "stdout",
     "output_type": "stream",
     "text": [
      "Zbiór treningowy: MSE: 0.60, R2: 0.55\n",
      "Zbiór testowy: MSE: 1.18, R2: 0.10\n"
     ]
    }
   ],
   "source": [
    "import numpy as np\n",
    "from sklearn.preprocessing import PolynomialFeatures\n",
    "from sklearn.linear_model import LinearRegression\n",
    "from sklearn.metrics import mean_squared_error, r2_score\n",
    "\n",
    "model = LinearRegression()\n",
    "\n",
    "X_sel = X_train[['MedInc', 'AveRooms', 'Latitude']]\n",
    "\n",
    "\n",
    "poly = PolynomialFeatures(4, interaction_only=False, include_bias = False)\n",
    "X_train_poly = poly.fit_transform(X_sel)\n",
    "X_test_poly = poly.transform(X_test[['MedInc',  'AveRooms', 'Latitude']])\n",
    "\n",
    "model.fit(X_train_poly, y_train)\n",
    "\n",
    "y_train_pred_poly = model.predict(X_train_poly)\n",
    "y_test_pred_poly = model.predict(X_test_poly)\n",
    "\n",
    "test_mse = mean_squared_error(y_test, y_test_pred_poly)\n",
    "train_mse = mean_squared_error(y_train, y_train_pred_poly)\n",
    "\n",
    "test_r2 = r2_score(y_test, y_test_pred_poly)\n",
    "train_r2 = r2_score(y_train, y_train_pred_poly)\n",
    "\n",
    "print(f\"Zbiór treningowy: MSE: {train_mse:.2f}, R2: {train_r2:.2f}\")\n",
    "print(f\"Zbiór testowy: MSE: {test_mse:.2f}, R2: {test_r2:.2f}\")\n"
   ]
  },
  {
   "cell_type": "code",
   "execution_count": 1,
   "id": "244cbd9a",
   "metadata": {},
   "outputs": [],
   "source": [
    "from sklearn.datasets import fetch_california_housing\n",
    "import pandas as pd\n",
    "from sklearn.linear_model import LinearRegression\n",
    "california = fetch_california_housing()\n",
    "df = pd.DataFrame(california.data, columns = california.feature_names)\n",
    "from sklearn.model_selection import train_test_split\n",
    "df['Target'] = california.target\n",
    "X = df[california.feature_names]\n",
    "y = df['Target']\n",
    "X_train, X_test, y_train, y_test = train_test_split(X,y,test_size=0.2,random_state=42)\n",
    "\n",
    "combinations = [['MedInc', 'AveRooms', 'Latitude'], \n",
    "                ['MedInc', 'Latitude', 'HouseAge'],\n",
    "                ['HouseAge', 'AveRooms', 'MedInc'],\n",
    "                ['MedInc', 'AveRooms', 'Latitude', 'HouseAge'],\n",
    "                ['MedInc', 'HouseAge', 'AveRooms', 'AveBedrms', 'Population', 'AveOccup','Latitude', 'Longitude']]"
   ]
  },
  {
   "cell_type": "code",
   "execution_count": 16,
   "id": "78b9497b",
   "metadata": {},
   "outputs": [],
   "source": [
    "def fitt(combination, degree, inter, bias):\n",
    "    model = LinearRegression()\n",
    "    X_sel = X_train[combination] # HERE\n",
    "    poly = PolynomialFeatures(degree, interaction_only=inter, include_bias = bias) # HERE\n",
    "    X_train_poly = poly.fit_transform(X_sel)\n",
    "    X_test_poly = poly.transform(X_test[combination]) # HERE\n",
    "    model.fit(X_train_poly, y_train)\n",
    "    y_train_pred_poly = model.predict(X_train_poly)\n",
    "    y_test_pred_poly = model.predict(X_test_poly)\n",
    "\n",
    "    test_mse = mean_squared_error(y_test, y_test_pred_poly)\n",
    "    train_mse = mean_squared_error(y_train, y_train_pred_poly)\n",
    "\n",
    "    test_r2 = r2_score(y_test, y_test_pred_poly)\n",
    "    train_r2 = r2_score(y_train, y_train_pred_poly)\n",
    "\n",
    "#     print(f\"Zbiór treningowy: MSE: {train_mse:.2f}, R2: {train_r2:.2f}\")\n",
    "#     print(f\"Zbiór testowy: MSE: {test_mse:.2f}, R2: {test_r2:.2f}\")\n",
    "    \n",
    "    return train_mse, test_mse"
   ]
  },
  {
   "cell_type": "code",
   "execution_count": null,
   "id": "8d28261c",
   "metadata": {},
   "outputs": [],
   "source": [
    "for c in combinations:\n",
    "    for d in range(2,10):\n",
    "        for i in [True, False]:\n",
    "            for b in [True, False]:\n",
    "                print(c,d, i, b)\n",
    "                fitt(c,d,i,b)"
   ]
  },
  {
   "cell_type": "markdown",
   "id": "802de1f9",
   "metadata": {},
   "source": [
    "## Zadanie 5. Dobór odpowiedniego modelu\n",
    "\n",
    "Przeprowadźmy pewien eksperyment. Wykorzystaj kod z zadania 4 by obliczyć błąd predykcji na zbiorze testowym i treningowym dla różnych stopni wielomianiu i kombinacji cech. Zwizualizuj tę zależność.\n",
    "\n",
    "Możemy zaobserwować 3 przypadki:\n",
    "    \n",
    "    Dokładność na zbiorze treningowym i testowym jest niska\n",
    "    Dokładność na zbiorze treningowym jest wysoka a na testowym niska\n",
    "    Dokładność na obu zbiorach jest wysoka (średnia)\n",
    "    \n",
    "Co oznacza każdy z tych przypadków?"
   ]
  },
  {
   "cell_type": "code",
   "execution_count": 12,
   "id": "673a0382",
   "metadata": {},
   "outputs": [],
   "source": [
    "c1 = combinations[1]\n",
    "cfull = combinations[-1]"
   ]
  },
  {
   "cell_type": "code",
   "execution_count": 6,
   "id": "c4df220a",
   "metadata": {},
   "outputs": [],
   "source": [
    "import matplotlib.pyplot as plt"
   ]
  },
  {
   "cell_type": "code",
   "execution_count": null,
   "id": "f9796e1f",
   "metadata": {},
   "outputs": [],
   "source": [
    "c1_test_results = []\n",
    "for d in range(2,10):\n",
    "    r2_train, r2_test = fitt(c1,d,False,True)\n",
    "    c1_test_results.append(r2_test)\n",
    "    \n",
    "cfull_test_results = []\n",
    "for d in range(2,5):\n",
    "    r2_train, r2_test = fitt(cfull,d,True,True)\n",
    "    cfull_test_results.append(r2_test)"
   ]
  },
  {
   "cell_type": "code",
   "execution_count": null,
   "id": "400dd965",
   "metadata": {},
   "outputs": [],
   "source": [
    "np.arange(2,5)"
   ]
  },
  {
   "cell_type": "code",
   "execution_count": null,
   "id": "59f71e0b",
   "metadata": {},
   "outputs": [],
   "source": [
    "plt.plot(np.arange(2,10),c1_test_results,c='b')\n",
    "# plt.plot(np.arange(2,5),cfull_test_results,c='k')"
   ]
  },
  {
   "cell_type": "code",
   "execution_count": 10,
   "id": "2ec0d091",
   "metadata": {},
   "outputs": [
    {
     "data": {
      "image/png": "[encoded data removed]",
      "text/plain": [
       "<Figure size 432x288 with 1 Axes>"
      ]
     },
     "metadata": {
      "needs_background": "light"
     },
     "output_type": "display_data"
    }
   ],
   "source": [
    "for c in combinations[:-3]:\n",
    "    test_results = []\n",
    "    for d in range(2,8):\n",
    "        r2_train, r2_test = fitt(c,d,False,True)\n",
    "        test_results.append(r2_test)\n",
    "    plt.plot(np.arange(2,8),test_results,label='{}'.format(c))\n",
    "    plt.legend()"
   ]
  },
  {
   "cell_type": "code",
   "execution_count": 17,
   "id": "f57b41d8",
   "metadata": {},
   "outputs": [
    {
     "data": {
      "text/plain": [
       "<matplotlib.legend.Legend at 0x25bbeff46d0>"
      ]
     },
     "execution_count": 17,
     "metadata": {},
     "output_type": "execute_result"
    },
    {
     "data": {
      "image/png": "[encoded data removed]",
      "text/plain": [
       "<Figure size 432x288 with 1 Axes>"
      ]
     },
     "metadata": {
      "needs_background": "light"
     },
     "output_type": "display_data"
    }
   ],
   "source": [
    "c1_test_results = []\n",
    "c1_train_results = []\n",
    "for d in range(2,20):\n",
    "    r2_train, r2_test = fitt(c1,d,False,True)\n",
    "    c1_test_results.append(r2_test)\n",
    "    c1_train_results.append(r2_train)\n",
    "plt.plot(np.arange(2,20),c1_test_results,c='r',label='Test')\n",
    "plt.plot(np.arange(2,20),c1_train_results,c='b',label=\"Train\")\n",
    "plt.legend()"
   ]
  },
  {
   "cell_type": "markdown",
   "id": "6540f060",
   "metadata": {},
   "source": [
    "## Zadanie 6. Regularyzacja modeli\n",
    "\n",
    "Regularyzacja to technika, która pomaga zapobiegać przeuczeniu (overfitting) modelu, narzucając dodatkowe wymogi do procesu treningu modelu. Najpopularniejszym przykładem będzie regularyzacjia regresji liniowej Ridge oraz Lasso. W Ridge i Lasso regresji regularyzacja jest wprowadzana przez dodatkowy człon w funkcji kosztu:\n",
    "\n",
    "    Ridge (L2): Dodaje kwadrat wartości współczynników do funkcji kosztu. Powoduje to, że współczynniki są „ściągane” bliżej zera, ale nigdy dokładnie do zera. Jest to przydatne, gdy chcemy zmniejszyć wagę mniej istotnych cech, ale ich nie usuwać.\n",
    "\n",
    "    Lasso (L1): Dodaje wartość absolutną współczynników do funkcji kosztu. Lasso może ustawiać współczynniki dokładnie na zero, co skutkuje selekcją cech. Jest przydatne, gdy chcemy automatycznie eliminować mniej istotne cechy.\n",
    "\n",
    "Dzięki regularyzacji model staje się bardziej ogólny i może lepiej działać na nowych danych.\n",
    "\n",
    "    6a. Wykorzystaj modele Ridge i Lasso (from sklearn.linear_model import Ridge, Lasso) by wytrenować regresję wielomianową dla naszego problemu. Zapoznaj się dokumentacją tych modeli. Przetestuj wyniki regresji z wykorzystaniem różnych parametrów dla tych modeli.\n",
    "    \n",
    "    6b.Wyrysuj krzywe złozoności dla modeli Ridge, Lasso, ElasticNet (uwzględnij rózne parametry alpha) i porownaj wyniki ze modelem regresji wielomianowej."
   ]
  },
  {
   "cell_type": "code",
   "execution_count": 18,
   "id": "1e46911f",
   "metadata": {},
   "outputs": [],
   "source": [
    "from sklearn.linear_model import Ridge, Lasso, ElasticNet"
   ]
  },
  {
   "cell_type": "code",
   "execution_count": 21,
   "id": "4ecfdfd7",
   "metadata": {},
   "outputs": [],
   "source": [
    "models = [LinearRegression, Ridge, Lasso, ElasticNet]"
   ]
  },
  {
   "cell_type": "code",
   "execution_count": 29,
   "id": "a38fd829",
   "metadata": {},
   "outputs": [
    {
     "name": "stdout",
     "output_type": "stream",
     "text": [
      "<class 'sklearn.linear_model._base.LinearRegression'>\n",
      "Zbiór treningowy: MSE: 0.57, R2: 0.57\n",
      "Zbiór testowy: MSE: 0.60, R2: 0.54\n",
      "<class 'sklearn.linear_model._ridge.Ridge'>\n",
      "Zbiór treningowy: MSE: 0.58, R2: 0.57\n",
      "Zbiór testowy: MSE: 0.60, R2: 0.54\n"
     ]
    },
    {
     "name": "stderr",
     "output_type": "stream",
     "text": [
      "C:\\Users\\kamil\\AppData\\Roaming\\Python\\Python39\\site-packages\\sklearn\\linear_model\\_ridge.py:204: LinAlgWarning: Ill-conditioned matrix (rcond=5.1658e-18): result may not be accurate.\n",
      "  return linalg.solve(A, Xy, assume_a=\"pos\", overwrite_a=True).T\n",
      "C:\\Users\\kamil\\AppData\\Roaming\\Python\\Python39\\site-packages\\sklearn\\linear_model\\_coordinate_descent.py:678: ConvergenceWarning: Objective did not converge. You might want to increase the number of iterations, check the scale of the features or consider increasing regularisation. Duality gap: 4.911e+03, tolerance: 2.207e+00\n",
      "  model = cd_fast.enet_coordinate_descent(\n"
     ]
    },
    {
     "name": "stdout",
     "output_type": "stream",
     "text": [
      "<class 'sklearn.linear_model._coordinate_descent.Lasso'>\n",
      "Zbiór treningowy: MSE: 0.59, R2: 0.56\n",
      "Zbiór testowy: MSE: 0.61, R2: 0.54\n",
      "<class 'sklearn.linear_model._coordinate_descent.ElasticNet'>\n",
      "Zbiór treningowy: MSE: 0.59, R2: 0.56\n",
      "Zbiór testowy: MSE: 0.61, R2: 0.53\n"
     ]
    },
    {
     "name": "stderr",
     "output_type": "stream",
     "text": [
      "C:\\Users\\kamil\\AppData\\Roaming\\Python\\Python39\\site-packages\\sklearn\\linear_model\\_coordinate_descent.py:678: ConvergenceWarning: Objective did not converge. You might want to increase the number of iterations, check the scale of the features or consider increasing regularisation. Duality gap: 4.911e+03, tolerance: 2.207e+00\n",
      "  model = cd_fast.enet_coordinate_descent(\n"
     ]
    }
   ],
   "source": [
    "combination = c1\n",
    "degree = 4\n",
    "for m in models:\n",
    "    model = m()\n",
    "    X_sel = X_train[combination] # HERE\n",
    "    poly = PolynomialFeatures(degree, interaction_only=False, include_bias = True) # HERE\n",
    "    X_train_poly = poly.fit_transform(X_sel)\n",
    "    X_test_poly = poly.transform(X_test[combination]) # HERE\n",
    "    model.fit(X_train_poly, y_train)\n",
    "    y_train_pred_poly = model.predict(X_train_poly)\n",
    "    y_test_pred_poly = model.predict(X_test_poly)\n",
    "\n",
    "    test_mse = mean_squared_error(y_test, y_test_pred_poly)\n",
    "    train_mse = mean_squared_error(y_train, y_train_pred_poly)\n",
    "\n",
    "    test_r2 = r2_score(y_test, y_test_pred_poly)\n",
    "    train_r2 = r2_score(y_train, y_train_pred_poly)\n",
    "    print(m)\n",
    "    print(f\"Zbiór treningowy: MSE: {train_mse:.2f}, R2: {train_r2:.2f}\")\n",
    "    print(f\"Zbiór testowy: MSE: {test_mse:.2f}, R2: {test_r2:.2f}\")\n"
   ]
  },
  {
   "cell_type": "code",
   "execution_count": 20,
   "id": "d13d4fab",
   "metadata": {},
   "outputs": [
    {
     "data": {
      "text/plain": [
       "(0.6366515282984468, 0.6460918476232856)"
      ]
     },
     "execution_count": 20,
     "metadata": {},
     "output_type": "execute_result"
    }
   ],
   "source": [
    "fitt(c1,7,True,True)"
   ]
  },
  {
   "cell_type": "markdown",
   "id": "ba60c279",
   "metadata": {},
   "source": [
    "# Zadanie 7. Walidacja krzyżowa\n",
    "\n",
    "Podział danych na zbiór testowy i treningowy to uproszczony wariant, który ma pewną wadę - zbiór testowy *należy użyć tylko raz*. Dobór parametrów na podstawie wyników na zbiorze testowym jest obarczony błędem statystycznym.\n",
    "\n",
    "Dlatego też stosujemy walidację krzyżową.\n",
    "Walidacja krzyżowa to technika stosowana do oceny wydajności modelu na różnych podzbiorach danych. W klasycznej walidacji krzyżowej K-Fold dzielimy dane na K równych części (folds). Model jest trenowany na K-1 częściach, a pozostała część służy jako zbiór testowy. Proces jest powtarzany K razy, tak aby każdy fold pełnił rolę zbioru testowego raz. Wyniki są uśredniane, co daje bardziej stabilny i wiarygodny wynik niż pojedynczy podział na zbiory treningowy i testowy.\n",
    "\n",
    "Walidacja krzyżowa ma kilka zalet:\n",
    "\n",
    "    Stabilność i dokładność: Uśrednienie wyników z kilku foldów redukuje wpływ losowego podziału danych, co daje bardziej stabilny wynik.\n",
    "    Efektywność przy małych zbiorach danych: Pomaga maksymalnie wykorzystać dostępne dane do oceny modelu.\n",
    "    \n",
    "    7a. Wybierz najlepszy ze swoich modeli i dodaj do kodu walidację krzyżową wykorzystując jedną ze wbudowanych funkcji walidacji krzyżowej. Może być to cross_val_score lub klasa KFold (więcej omówimy na wykładzie)."
   ]
  },
  {
   "cell_type": "code",
   "execution_count": null,
   "id": "eb94b397",
   "metadata": {},
   "outputs": [],
   "source": []
  }
 ],
 "metadata": {
  "kernelspec": {
   "display_name": "Python 3 (ipykernel)",
   "language": "python",
   "name": "python3"
  },
  "language_info": {
   "codemirror_mode": {
    "name": "ipython",
    "version": 3
   },
   "file_extension": ".py",
   "mimetype": "text/x-python",
   "name": "python",
   "nbconvert_exporter": "python",
   "pygments_lexer": "ipython3",
   "version": "3.9.12"
  }
 },
 "nbformat": 4,
 "nbformat_minor": 5
}
