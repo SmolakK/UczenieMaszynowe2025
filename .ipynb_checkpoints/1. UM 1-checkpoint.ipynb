{
 "cells": [
  {
   "cell_type": "markdown",
   "id": "db5e074a",
   "metadata": {},
   "source": [
    "# Uczenie Maszynowe (kurs zima 2024/2025)\n",
    "\n",
    "## Prowadzący zajęcia:\n",
    "\n",
    "* Dr Kamil Smolak; email: <kamil.smolak@upwr.edu.pl>"
   ]
  },
  {
   "cell_type": "markdown",
   "id": "bc071980",
   "metadata": {},
   "source": [
    "# Forma zajęć:\n",
    "\n",
    "Wszystkie materiały do zajęć, wykłady i ćwiczenia są dostępne online w postaci Jupyter Book.\n",
    "\n",
    "Materiały są interaktywnymi notebookami Pythona, które umożliwiają prezentację i praktykę umiejętności związanych z uczeniem maszynowym.\n",
    "\n",
    "Materiały będą dostępne online *przed* ćwiczeniami, co pozwoli na realizację zajęć w fomie _odwróconej_, w której studenci zapoznają się z materiałami *przed* ćwiczeniami. Dzięki temu możemy postawić większy nacisk na praktykę w trakcie zajęć."
   ]
  },
  {
   "cell_type": "code",
   "execution_count": 9,
   "id": "d2bd7d97",
   "metadata": {},
   "outputs": [
    {
     "data": {
      "application/vnd.jupyter.widget-view+json": {
       "model_id": "76dc986ae964456582836d0d656244ce",
       "version_major": 2,
       "version_minor": 0
      },
      "text/plain": [
       "interactive(children=(FloatSlider(value=1.0, description='C (Inverse of Regularization Strength)', max=10.0, m…"
      ]
     },
     "metadata": {},
     "output_type": "display_data"
    }
   ],
   "source": [
    "import numpy as np\n",
    "import matplotlib.pyplot as plt\n",
    "from sklearn.datasets import load_iris\n",
    "from sklearn.model_selection import train_test_split\n",
    "from sklearn.preprocessing import StandardScaler\n",
    "from sklearn.linear_model import LogisticRegression\n",
    "from sklearn.decomposition import PCA\n",
    "from sklearn.metrics import accuracy_score\n",
    "import ipywidgets as widgets\n",
    "from ipywidgets import interact\n",
    "\n",
    "# Load Iris Dataset\n",
    "iris = load_iris()\n",
    "X = iris.data\n",
    "y = iris.target\n",
    "\n",
    "# Use PCA to reduce to 2 dimensions for visualization\n",
    "pca = PCA(n_components=2)\n",
    "X_reduced = pca.fit_transform(X)\n",
    "\n",
    "# Standardize the dataset\n",
    "scaler = StandardScaler()\n",
    "X_reduced = scaler.fit_transform(X_reduced)\n",
    "\n",
    "# Train-test split\n",
    "X_train, X_test, y_train, y_test = train_test_split(X_reduced, y, test_size=0.2, random_state=42)\n",
    "\n",
    "# Interactive function to visualize the decision boundary with different regularization strength\n",
    "def plot_classification(C):\n",
    "    # Create and train the model\n",
    "    model = LogisticRegression(C=C, multi_class='ovr')\n",
    "    model.fit(X_train, y_train)\n",
    "\n",
    "    # Predict the test set\n",
    "    y_pred = model.predict(X_test)\n",
    "    accuracy = accuracy_score(y_test, y_pred)\n",
    "\n",
    "    # Plot decision boundary\n",
    "    plt.figure(figsize=(8, 6))\n",
    "    x_min, x_max = X_train[:, 0].min() - 1, X_train[:, 0].max() + 1\n",
    "    y_min, y_max = X_train[:, 1].min() - 1, X_train[:, 1].max() + 1\n",
    "    xx, yy = np.meshgrid(np.arange(x_min, x_max, 0.01), np.arange(y_min, y_max, 0.01))\n",
    "    Z = model.predict(np.c_[xx.ravel(), yy.ravel()])\n",
    "    Z = Z.reshape(xx.shape)\n",
    "\n",
    "    plt.contourf(xx, yy, Z, alpha=0.8)\n",
    "    plt.scatter(X_train[:, 0], X_train[:, 1], c=y_train, edgecolors='k', marker='o', label='Train set')\n",
    "    plt.scatter(X_test[:, 0], X_test[:, 1], c=y_test, marker='x', label='Test set')\n",
    "    \n",
    "    plt.title(f'Logistic Regression (C={C:.2f})\\nAccuracy: {accuracy:.2f}')\n",
    "    plt.xlabel('PCA Component 1')\n",
    "    plt.ylabel('PCA Component 2')\n",
    "    plt.legend(loc='upper left')\n",
    "    plt.show()\n",
    "\n",
    "# Interactive slider to control the regularization strength (C parameter)\n",
    "interact(plot_classification, C=widgets.FloatSlider(value=1.0, min=0.01, max=10.0, step=1, description='C (Inverse of Regularization Strength)'));\n"
   ]
  },
  {
   "cell_type": "markdown",
   "id": "c137c0a3",
   "metadata": {},
   "source": [
    "## Przedmiot i cel zajęć\n",
    "\n",
    "Przedmiot obejmuje wprowadzenie i kształcenie w dziedzinie uczenia maszynowego i powiązanych obszarów, takich jak Data Science.\n",
    "\n",
    "#### W trakcie kursu skupimy się na zrozumieniu zasad działania i typami uczenia maszynowego, nauczymy się przeprowadzania kompletnego procesu budowy modelu i zwrócimy uwagę na typowe błędy popełniane w trakcie budowy modeli.\n"
   ]
  },
  {
   "cell_type": "markdown",
   "id": "81cf9f0c",
   "metadata": {},
   "source": [
    "## Co to jest Uczenie Maszynowe?"
   ]
  },
  {
   "cell_type": "markdown",
   "id": "f2bb78d0",
   "metadata": {},
   "source": [
    "<img src='img/Student.png' width=500/>"
   ]
  },
  {
   "cell_type": "markdown",
   "id": "9cdb69c1",
   "metadata": {},
   "source": [
    "## O nazewnictwie"
   ]
  },
  {
   "cell_type": "markdown",
   "id": "7d8dd24d",
   "metadata": {},
   "source": [
    "<img src='img/AIMLDL.jpg' width=400/>\n",
    "\n",
    "<i>Demir, H., & Sarı, F. (2020). The effect of artificial intelligence and industry 4.0 on robotic systems. Engineering on Energy Materials, Iksad Publications, 51-72.</i>"
   ]
  },
  {
   "cell_type": "markdown",
   "id": "c4a84867",
   "metadata": {},
   "source": [
    "### To co powszechnie nazywamy Sztuczną Inteligencją (AI) jest w rzeczywistości uczeniem maszynowym, a nawet i uczeniem głębokim. \n",
    "\n",
    "Termin przyjął się w mowie potocznej, ale jest nieprecyzyjny. AI jest znacznie szerszym zakresem powiązanym również z robotyką i automatyką.\n",
    "\n",
    "\n",
    "## Celem AI jest zbudowanie istoty rozumującej jak człowiek.\n",
    "\n",
    "Budowa takiej istoty obejmuje replikację wszystkich elementów niezbędnych do interakcji z otoczeniem. Większość z tych elementów replikujemy całkiem nieźle - mowa tu o zdolnościach ruchowych i manipulacji obiektami.\n",
    "\n",
    "Można myśleć o tym, jak o replikacji konkretnych elementów ciała:\n",
    "\n",
    "* Nogi do poruszania\n",
    "* Ręce do manipulacji\n",
    "* <b> Mózg to rozumowania i wnioskowania </b>\n",
    "\n",
    "### Ambicją uczenia maszynowego jest komponentu niezbędnego dla inteligentnej istoty, tj. sztucznego mózgu\n",
    "\n",
    "<img src='img/mozg.webp' width=300/>\n",
    "\n",
    "Budowa mózgu stanowiła na przestrzeni lat niejako inspirację dla niektórych algorytmów uczenia maszynowego, a w szczególności sieci neuronowych, które rewolucjonizują obecny świat. Budowa neuronów i ich powiązań stanowiło podstawę opracowania pierwszego uczonego modelu. Miało to miejsce już w 1958 roku. Potem nastąpiła tzw. zima AI, gdzie niewiele badań nad tym tematem miało w ogóle miejsce. Wynikało to głównie z braku możliwości obliczeniowych.\n",
    "\n",
    "Wizja odtworzenia mózgu, pomimo że kusząca, jest nadal odległa. Złożoność obecnych algorytmów jest daleko mniejsza niż naszych mózgów.\n",
    "\n",
    "## Algorytmy są głównie trenowane do wykonywania jednego zadania, nie są w stanie generalizować zadań.\n",
    "\n",
    "W wielu obszarach zdolność algorytmów jest lepsza niż zdolność naszych mózgów.\n",
    "\n",
    "<img src='img/chiuaua.jpg' />\n",
    "\n",
    "Natomiast jesteśmy znacznie lepsi w *różnorodności* realizowanych zadań.\n",
    "\n",
    "* Żeby algorytm uczenia maszynowego był w stanie rozpoznać słonia, musi najpierw obejrzeć 1000 zdjęć słonia.\n",
    "* Dziecko na podstawie jednej książeczki z bajkowym rysunkiem słonia nauczy się go bezbłędnie rozpoznawać.\n",
    "\n",
    "\n",
    "* Osoba która nauczyła się jeździć autem w słonecznej pogodzie, prawdopodobnie poradzi sobie nieźle z jadą po śnieżnej drodze.\n",
    "* Algorytm, który nigdy nie widział zaśnieżonej drogi prawdopodobnie \"spanikuje\" i nie wykona żadnych akcji.\n",
    "\n",
    "## Jaka jest zatem przyszłość uczenia maszynowego?\n",
    "\n",
    "Modele stają się coraz bardziej uniwersalne i zdolne do wykonywania zadań szybko i efektywnie. Choćby przykład popularnych dużych modeli językowych (large language models - LLM) takich jak ChatGPT, pokazuje jak zdolne zaczyną być te narzędzia.\n",
    "\n",
    "To prowadzi do dwóch pytań:\n",
    "\n",
    "* Czy modele uczenia maszynowego są lub mogą być świadome?\n",
    "* Jaka jest ich przyszłość?\n",
    "\n",
    "Koncepcja \"osobliwości\" (singularity) mówi o stworzeniu tzw. Generalnej Sztucznej Inteligencji (General AI), która jest zdolna do wykonywania wszystkich powierzonych zadań w sposób inteligentny. Taka inteligencja jest zdolna do samo-ulepszania, rozwijając się daleko poza nasze wyobrażenia oraz kontrolę. Dlatego też, stawiane jest często pytanie dotyczące świadomości - kiedy możemy uznać algorytmy za świadome?\n",
    "\n",
    "Już dziś modele przesuwają granice wiedzy, znajdując rozwiązania problemów tak efektywne, że przekraczają one ludzką zdolność rozumowania.\n",
    "\n",
    "Przykładowo - macierze mnożone są wykorzystując metodę Strassena, która niezmiennie od 1969 była najefektywniejszą metodą tej operacji. W 2022 roku AlphaTensor opracował własną metodę mnożenia macierzy, która wymagała mniejszej liczby operacji.\n",
    "\n",
    "## Być może uczenie maszynowe to kolejna rewolucja w historii ludzkości.\n",
    "\n",
    "<img src='img/revol.jpg'/>\n",
    "\n",
    "Każda rewolucja charakteryzuje się zmianą sposobu życia, podnosząc jego poziom ale i zmieniając funkcjonowanie świata. Zmiany muszą być przeprowadzane odpowiedzialnie i zawsze spotykają się z oporem. *Etyka* jest kluczowym zagadnieniem. Prawdopodobnie niektóre zawody znikną i zostaną zautomatyzowane. Powstaną za to nowe."
   ]
  },
  {
   "cell_type": "markdown",
   "id": "7f40a8cb",
   "metadata": {},
   "source": [
    "# Praca w obszarze AI/ML\n",
    "\n",
    "Liczba roli/stanowisk które są oferowane na rynku w obszarze AI/ML jest ogromna. Można podzielić je na cztery główne typy:\n",
    "\n",
    "<img src='img/Roles.png'/>\n",
    "\n",
    "\n",
    "Firmy oferują różne stanowiska, specjalizujące się w konkretnych zadaniach lub bardziej ogólne, często zależne jest to od wielkości firmy i jej klientów.\n",
    "\n",
    "<img src='img/Needs.png'/>\n",
    "\n",
    "Na tym przedmiocie postaram wskazać się wam kierunki rozwoju w tym zakresie i pokazać jak wykorzystać uczenie maszynowe do projektów i zadań.\n",
    "\n",
    "Jest to też jeden z lepiej opłacanych sektorów gospodarki, choć rzadko oferowane są stanowiska dla początkujących (juniorów). Wymagane są:\n",
    "\n",
    "* dobra znajomość języka programowania (Python), \n",
    "* modeli, często zaawansowanych metod i typów uczenia maszynowego\n",
    "* umiejętności składowania i przetwarzania danych (SQL, NoSQL) \n",
    "* obliczeń rozproszonych (Dask, Spark)\n",
    "* utrzymywania budowy i rozwoju oprogramowania  (MLOps, Kubernetes, Docker)\n",
    "* pracy w środowisku chmurowym (AWS, Azure)\n",
    "* umiejętności zarządzania zespołem, pracy z klientem i prowadzenia projektów.\n",
    "\n",
    "Osoba pracująca w tym obszarze musi być wszechstronna i posiadać duże doświadczenie. Nierzadko jednak warto zainwestować swój czas.\n",
    "\n",
    "<img src='img/tools.jpg'/>\n",
    "\n",
    "Największy nacisk należy postawić na początku na:\n",
    "\n",
    "    naukę programowania (warto skorzystać ze stron z wyzwaniami programistycznymi jak np. leetcode.com i projecteuler.net)\n",
    "    \n",
    "    na wykowanie własnych projektów uczenia maszynowego\n",
    "    \n",
    "    na budowanie portfolio na swoim koncie GitHub (pracodawcy to sprawdzają)\n",
    "    \n",
    "<img src='img/leetcode.png' />"
   ]
  },
  {
   "cell_type": "markdown",
   "id": "5bee1d08",
   "metadata": {},
   "source": [
    "# Co zatem będziemy robić w trakcie tego kursu?\n",
    "\n",
    "Skupimy się na przeprowadzeniu kompletnego procesu budowy modeli uczenia maszynowego. Podążać będziemy za typowym podejściem do eksploracji danych, które obejmuje etapy:\n",
    "\n",
    "    Zrozumienie danych - biznesowe i techniczne\n",
    "    Przygotowanie danych\n",
    "    Modelowanie (budowa modelu)\n",
    "    Ewaluacja (ocena modelu)\n",
    "    Wnioski/Interpretacja i ewentualne powtórzenie procesu eksploracji\n",
    "\n",
    "<img src='img/model.png' />\n",
    "\n",
    "Budowa modelu uczenia maszynowego to tylko niewielka część całego procesu. Przygotowanie danych jest kluczowe i czasochłonne.\n",
    "\n",
    "## Zagadnienia\n",
    "\n",
    "Zagadnienia objęte tym kursem to:\n",
    "\n",
    "    Przygotowanie do procesu budowy modelu\n",
    "    Przygotowanie danych i inżynieria cech\n",
    "    Uczenie nadzorowane\n",
    "        Klasyfikacja\n",
    "        Regresja\n",
    "        Sieci neuronowe\n",
    "    Uczenie nienadzorowane\n",
    "        Klasteryzacja\n",
    "        Redukcja wymiarów\n",
    "    Ocena modeli i wyciąganie wniosków\n",
    "    Często popełniane błędy w trakcie budowy modeli"
   ]
  },
  {
   "cell_type": "markdown",
   "id": "4d4a7110",
   "metadata": {},
   "source": [
    "# Organizacja kursu\n",
    "\n",
    "Materiały do przedmiotu będą dostępne online w formie Jupyter Booka, którego można pobrać i uruchomić na własnym komputerze\n",
    "\n",
    "Wszelkie zadania będzie można przesyłać przed dedykowaną stronę na platformie Google Classroom. \n",
    "\n",
    "### Zaliczenie kursu\n",
    "\n",
    "Podstawą zaliczenia jest aktywność na ćwiczeniach. Z uwagi na podejście do zajęć w formie \"klasy odwróconej\", podczas ćwiczeń każde zadanie będzie wykonywać jedna osoba wybrana przez prowadzącego. Zadanie będzie wykonywane na rzutniku i będzie podlegało ocenie.\n",
    "\n",
    "Dodatkowo będą dwa testy z treści zajęć.\n",
    "\n"
   ]
  }
 ],
 "metadata": {
  "kernelspec": {
   "display_name": "Python 3 (ipykernel)",
   "language": "python",
   "name": "python3"
  },
  "language_info": {
   "codemirror_mode": {
    "name": "ipython",
    "version": 3
   },
   "file_extension": ".py",
   "mimetype": "text/x-python",
   "name": "python",
   "nbconvert_exporter": "python",
   "pygments_lexer": "ipython3",
   "version": "3.9.12"
  }
 },
 "nbformat": 4,
 "nbformat_minor": 5
}
