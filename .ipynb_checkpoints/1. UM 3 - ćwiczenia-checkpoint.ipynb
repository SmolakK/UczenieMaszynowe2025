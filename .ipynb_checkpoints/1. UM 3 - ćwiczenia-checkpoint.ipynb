{
 "cells": [
  {
   "cell_type": "markdown",
   "id": "2c9253db",
   "metadata": {},
   "source": [
    "# Uczenie Maszynowe - ćwiczenia 3\n",
    "\n",
    "## Pierwszy model - intuicja\n",
    "\n",
    "Celem dzisiejszych ćwiczeń jest zbudowanie intuicji dotyczącej procesu uczenia maszynowego. Zbudujemy dwa pierwsze modele, które są typem modeli uczenia maszynowego. Są to dość proste, ale efektywne modele, które korzystają z dobrodziejstw probabilistyki.\n",
    "\n",
    "## Teoria prawdopodobieństwa w uczeniu maszynowym\n",
    "\n",
    "Teoria prawdopodobieństwa odgrywa kluczową rolę w uczeniu maszynowym, dostarczając ramy do modelowania niepewności i przewidywania na podstawie danych. Możemy określić, kiedy coś się wydarzy, jeśli zdarza się to z wyższym prawdopodobieństwem.\n",
    "\n",
    "## Modelowanie niepewności\n",
    "\n",
    "Uczenie maszynowe często zajmuje się niepewnymi wynikami, takimi jak przewidywanie, czy e-mail to spam, czy nie. Prawdopodobieństwo pozwala nam na ilościowe określenie tej niepewności. Modele nie dają jednoznacznej odpowiedzi, zamiast tego dostarczają wynik w postaci prawdopodobieństwa — np. 70% szans, że e-mail to spam. \n",
    "\n",
    "## Modele probabilistyczne\n",
    "\n",
    "Wiele modeli uczenia maszynowego ma charakter probabilistyczny, co oznacza, że używają rozkładów prawdopodobieństwa do podejmowania decyzji.\n",
    "\n",
    "Modele wykorzystują wiedzę wcześniejszą (doświadczenie E) do oszacowania prawdopodobieństwa wystąpienia danego zdarzenia. Dzięki temu „uczą się” przewidywać określone wyniki. Inne zastosowania teorii prawdopodobieństwa w uczeniu maszynowym\n",
    "\n",
    "### Twierdzenie Bayesa\n",
    "\n",
    "Wiemy, że Steve jest bardzo nieśmiałą i uporządkowaną osobą. Co jest bardziej prawdopodobne:\n",
    "\n",
    "    Prawdopodobieństwo, że jest bibliotekarzem?\n",
    "    Prawdopodobieństwo, że jest rolnikiem?\n",
    "\n",
    "Wiemy, że Linda aktywnie angażuje się w ruch feministyczny. Co jest bardziej prawdopodobne:\n",
    "\n",
    "    Linda jest kasjerką w banku?\n",
    "    Linda jest kasjerką w banku i jest aktywna w ruchu feministycznym?\n",
    "\n",
    "Przyjrzyjmy się Steve'owi:\n",
    "\n",
    "Podano nam informację, że w populacji jest 10 bibliotekarzy i 200 rolników. Co byś teraz powiedział?\n",
    "\n",
    "I otrzymaliśmy kolejną informację:\n",
    "\n",
    "Istnieje 40% prawdopodobieństwo, że bibliotekarz jest nieśmiały i uporządkowany, oraz 10% prawdopodobieństwo, że rolnik pasuje do tego opisu. Jak wygląda to teraz?\n",
    "Twierdzenie Bayesa w praktyce\n",
    "\n",
    "Twierdzenie Bayesa pomaga nam znaleźć prawdopodobieństwo zdarzenia na podstawie wcześniejszej wiedzy o powiązanych warunkach. Jest to proste, a zarazem potężne równanie, szeroko stosowane w uczeniu maszynowym. Poniższe równanie stanowi podstawę dla wielu modeli uczenia maszynowego:\n",
    "\n",
    "\n",
    "$$\n",
    "P(A|B) = \\frac{P(B|A) \\cdot P(A)}{P(B)}\n",
    "$$\n",
    "\n",
    "\n",
    "Gdzie:\n",
    "\n",
    "    P(A∣B)P(A∣B) to prawdopodobieństwo a posteriori: prawdopodobieństwo zdarzenia A, pod warunkiem, że B jest prawdziwe.\n",
    "    P(B∣A)P(B∣A) to funkcja wiarygodności: prawdopodobieństwo zdarzenia B, pod warunkiem, że A jest prawdziwe.\n",
    "    P(A)P(A) to prawdopodobieństwo a priori: początkowe prawdopodobieństwo zdarzenia A.\n",
    "    P(B)P(B) to prawdopodobieństwo marginalne: prawdopodobieństwo wystąpienia zdarzenia B.\n",
    "    \n",
    "Twierdzenie Bayesa dostarcza narzędzia do rozumowania o prawdopodobieństwach w uczeniu maszynowym, szczególnie w sytuacjach, gdzie musimy radzić sobie z niepewnością.\n",
    "    "
   ]
  },
  {
   "cell_type": "markdown",
   "id": "8971ae61",
   "metadata": {},
   "source": [
    "## Zaaplikuj twierdzenie Bayesa\n",
    "\n",
    "W pierszym ćwiczeniu za pomocą twierdzenia Bayesa sprawdź co jest bardziej parwdopodobne - czy Steve jest bibliotekarzem czy farmerem?\n",
    "\n",
    "P(A|B) - to prawdopodobieństwo, że jest bibliotekarzem, wiedząc, że jest nieśmiały i uporządkowany\n",
    "\n",
    "P(B|A)- to prawdopodobieństwo, że jest nieśmiały i uporządkowany, ponieważ jest bibliotekarzem\n",
    "\n",
    "P(B) - to prawdopodobieństwo, że jest nieśmiały i uporządkowany\n",
    "        \n",
    "P(A) - to prawdopodobieństwo, że jest bibliotekarzem\n",
    "\n",
    "P(B|A) - 40% nieśmiałych i uporządkowanych osób to bibliotekarze\n",
    "        \n",
    "P(B) - 10% rolników jest nieśmiałych i uporządkowanych, a 40% bibliotekarzy jest nieśmiałych i uporządkowanych\n",
    "        \n",
    "P(A) - 10 z 210 osób to bibliotekarze"
   ]
  },
  {
   "cell_type": "code",
   "execution_count": null,
   "id": "997764e5",
   "metadata": {},
   "outputs": [],
   "source": []
  },
  {
   "cell_type": "markdown",
   "id": "7d4d6f1d",
   "metadata": {},
   "source": [
    "2. Teraz już wiemy jak działa twierdzenia Bayesa. Użyj twierdzenia Bayesa by zbudować Twój własny filtr spamu!\n",
    "\n",
    "Zróbmy to krok po kroku, poniżej zamieszcam przykłady wiadomości do treningu naszego modelu (doświadczenie E):"
   ]
  },
  {
   "cell_type": "code",
   "execution_count": 1,
   "id": "0155cdfa",
   "metadata": {},
   "outputs": [],
   "source": [
    "spam_messages = [\n",
    "    \"Gratulacje! Wygrałeś nowego iPhone'a! Kliknij tutaj, aby odebrać nagrodę!\",\n",
    "    \"Zainwestuj teraz w kryptowaluty i zarób miliony bez żadnego wysiłku!\",\n",
    "    \"Twoje konto bankowe zostanie zablokowane, jeśli nie klikniesz w ten link w ciągu 24 godzin!\",\n",
    "    \"Otrzymasz 1000 zł za wypełnienie tej prostej ankiety! Kliknij tutaj!\",\n",
    "    \"Kup tanie leki online bez recepty! Niesamowite promocje!\",\n",
    "    \"Zdobądź dostęp do sekretnego programu, który nauczy cię zarabiać 10 000 zł miesięcznie!\",\n",
    "    \"Pokażemy ci, jak schudnąć 10 kg w tydzień! Wypróbuj naszą magiczną dietę już teraz!\",\n",
    "    \"Wygraj darmową podróż dookoła świata! Kliknij tutaj, aby wziąć udział!\",\n",
    "    \"Masz zaległe płatności na swoim koncie, natychmiast kliknij w link, aby uniknąć kar!\",\n",
    "    \"Szybki i łatwy kredyt! Bez sprawdzania zdolności kredytowej!\",\n",
    "    \"Powiadomienie: Twoje ubezpieczenie wygasa dziś! Kliknij tutaj, aby przedłużyć.\",\n",
    "    \"Odbierz swój darmowy voucher na zakupy w naszym sklepie! Kliknij, aby odebrać!\",\n",
    "    \"Zyskaj dostęp do darmowego kursu inwestowania, kliknij tutaj!\",\n",
    "    \"Twoje dane bankowe są zagrożone! Natychmiast kliknij, aby zabezpieczyć swoje konto!\",\n",
    "    \"Uzyskaj natychmiastową pożyczkę bez formalności! Kliknij tutaj!\",\n",
    "    \"Super oferta! Odbierz 50% zniżki na wszystko w naszym sklepie!\",\n",
    "    \"Ostatnia szansa! Zarejestruj się, aby wygrać samochód!\",\n",
    "    \"Przelew gotówkowy czeka na ciebie! Kliknij tutaj, aby odebrać środki!\",\n",
    "    \"Specjalna oferta! Odbierz kupon na darmowe zakupy!\",\n",
    "    \"Zyskaj darmowy dostęp do najnowszych gier komputerowych! Kliknij, aby pobrać!\",\n",
    "    \"Tylko dzisiaj! 90% zniżki na abonament telefoniczny!\",\n",
    "    \"Otrzymasz natychmiastowy dostęp do prywatnych filmów! Kliknij tutaj!\",\n",
    "    \"Weź udział w konkursie i wygraj weekend w luksusowym hotelu!\",\n",
    "    \"Twoja subskrypcja wygasła! Odnów teraz, aby uniknąć przerwania usług!\",\n",
    "    \"Specjalny bonus! Zyskaj podwójne punkty lojalnościowe w naszym sklepie!\",\n",
    "    \"Zainwestuj w przyszłość! Sprawdź nasze gwarantowane metody na szybki zysk!\",\n",
    "    \"Wyjątkowa oferta: Zapłać tylko 50% za miesięczny abonament premium!\",\n",
    "    \"Zostań testerem najnowszych produktów i otrzymaj je za darmo!\",\n",
    "    \"Kliknij, aby odebrać swoją nagrodę z najnowszego konkursu!\",\n",
    "    \"Zyskaj dostęp do ekskluzywnych ofert tylko dzisiaj! Nie przegap!\"\n",
    "]"
   ]
  },
  {
   "cell_type": "code",
   "execution_count": 3,
   "id": "b0ab76b9",
   "metadata": {},
   "outputs": [],
   "source": [
    "normal_messages = [\n",
    "    \"Cześć, pamiętasz o naszym spotkaniu w piątek? Potwierdź proszę.\",\n",
    "    \"Proszę o przesłanie raportu do końca dnia. Pozdrawiam, Kasia.\",\n",
    "    \"Zapraszamy na zebranie zespołu w środę o 10:00 w sali konferencyjnej.\",\n",
    "    \"Zamówienie zostało zrealizowane, przesyłka powinna dotrzeć w ciągu 2 dni roboczych.\",\n",
    "    \"Cześć, mam nadzieję, że u Ciebie wszystko w porządku. Chciałem tylko zapytać, czy możemy się spotkać w weekend?\",\n",
    "    \"Przypominamy, że termin płatności za fakturę upływa za dwa dni.\",\n",
    "    \"W załączniku przesyłam dokumenty do zatwierdzenia. Daj znać, jeśli masz jakieś pytania.\",\n",
    "    \"Dziękujemy za zakupy w naszym sklepie. Twoje zamówienie zostało wysłane.\",\n",
    "    \"Spotkanie projektowe zostało przełożone na piątek o 14:00. Proszę o potwierdzenie obecności.\",\n",
    "    \"Przypomnienie: Twoja wizyta lekarska jest umówiona na poniedziałek o 15:00.\",\n",
    "    \"Dziękujemy za wiadomość, odpowiemy na nią w ciągu 24 godzin.\",\n",
    "    \"Twój lot został zarezerwowany. Bilet zostanie wysłany na Twój adres e-mail.\",\n",
    "    \"Przypomnienie: Spotkanie zarządu odbędzie się jutro o 9:00.\",\n",
    "    \"Czy możesz potwierdzić swoje uczestnictwo w konferencji w przyszłym tygodniu?\",\n",
    "    \"Twój rachunek telefoniczny za ten miesiąc wynosi 150 zł. Prosimy o dokonanie płatności.\",\n",
    "    \"W załączeniu przesyłam poprawioną wersję umowy. Czekam na Twój feedback.\",\n",
    "    \"Zapraszamy na szkolenie wprowadzające w środę o godzinie 10:00.\",\n",
    "    \"Twoja paczka została wysłana. Przewidywana dostawa: piątek.\",\n",
    "    \"Czy mógłbyś przesłać prezentację na jutrzejsze spotkanie do końca dnia?\",\n",
    "    \"Twój wniosek o urlop został zatwierdzony. Życzymy udanego wypoczynku!\",\n",
    "    \"Dziękujemy za rejestrację na nasz newsletter. Wkrótce otrzymasz aktualizacje.\",\n",
    "    \"Prosimy o przesłanie faktury za usługi do końca tygodnia.\",\n",
    "    \"Otrzymaliśmy Twoje zamówienie. Przewidywana dostawa: środa.\",\n",
    "    \"Przypomnienie o zaplanowanej konserwacji sieci w najbliższy weekend.\",\n",
    "    \"Twoje konto zostało zaktualizowane. Sprawdź swoje nowe ustawienia.\",\n",
    "    \"Twój wniosek został zatwierdzony. Dokumenty zostaną wysłane na Twój adres e-mail.\",\n",
    "    \"Czy moglibyśmy przełożyć spotkanie na poniedziałek o 10:00?\",\n",
    "    \"Zamówienie numer 12345 zostało anulowane zgodnie z Twoją prośbą.\",\n",
    "    \"Przypomnienie: W dniu jutrzejszym odbędzie się spotkanie zespołu o 11:00.\",\n",
    "    \"Dziękujemy za dokonanie płatności. Potwierdzenie zostało wysłane na Twój adres e-mail.\"\n",
    "]\n"
   ]
  },
  {
   "cell_type": "markdown",
   "id": "30094edb",
   "metadata": {},
   "source": [
    "2a. Oblicz pradopodobieństwo występowania każdego ze słów, w tym w zależności od typu wiadomości. Zbuduj dla nich słowniki prawdopodobieństwa. Przygotuj funkcje, które będą wykonywać te obliczenia."
   ]
  },
  {
   "cell_type": "code",
   "execution_count": null,
   "id": "5ad5b35e",
   "metadata": {},
   "outputs": [],
   "source": []
  },
  {
   "cell_type": "markdown",
   "id": "2265e0f8",
   "metadata": {},
   "source": [
    "2b. Przygotuj klasę klasyfikatora Bayesa, który wykorzysta słowniki prawdopodobieństwa. Wykorzystaj poniższą strukturę:"
   ]
  },
  {
   "cell_type": "code",
   "execution_count": 4,
   "id": "101c4be6",
   "metadata": {},
   "outputs": [
    {
     "ename": "IndentationError",
     "evalue": "expected an indented block (3073292482.py, line 8)",
     "output_type": "error",
     "traceback": [
      "\u001b[1;36m  Input \u001b[1;32mIn [4]\u001b[1;36m\u001b[0m\n\u001b[1;33m    \u001b[0m\n\u001b[1;37m    ^\u001b[0m\n\u001b[1;31mIndentationError\u001b[0m\u001b[1;31m:\u001b[0m expected an indented block\n"
     ]
    }
   ],
   "source": [
    "class NaiveBayesClassifier:\n",
    "\n",
    "    def __init__(self):\n",
    "    # Słowniki do przechowywania częstotliwości słów dla każdej klasy\n",
    "     # Liczba wiadomości SPAM i normalnych\n",
    "        # Liczba wszystkich słów w wiadomościach SPAM i normalnych\n",
    "        # Zbiór wszystkich unikalnych słów\n",
    "    "
   ]
  },
  {
   "cell_type": "markdown",
   "id": "93506a32",
   "metadata": {},
   "source": [
    "2c. Zbuduj prostą metodę tokenizacji - rozbijania wiadomości na słowa."
   ]
  },
  {
   "cell_type": "code",
   "execution_count": null,
   "id": "a015a10a",
   "metadata": {},
   "outputs": [],
   "source": []
  },
  {
   "cell_type": "markdown",
   "id": "f4f1f432",
   "metadata": {},
   "source": [
    "2d. Dodaj metodę trenowania (uczenia), która przyjmuje wiadomości wraz z etykietami tych wiadomości (spam/ham). Wykorzystaj funkcje z 2a."
   ]
  },
  {
   "cell_type": "code",
   "execution_count": 27,
   "id": "58d59287",
   "metadata": {},
   "outputs": [],
   "source": []
  },
  {
   "cell_type": "markdown",
   "id": "26bbabff",
   "metadata": {},
   "source": [
    "2e. Zbuduj metodę przewidywania \"predict\", która określi czy wpisana wiadomość jest spamem czy nie. Wynik podaj w formie ułamka prawdopodobieństwa."
   ]
  },
  {
   "cell_type": "code",
   "execution_count": null,
   "id": "b450e86e",
   "metadata": {},
   "outputs": [],
   "source": []
  },
  {
   "cell_type": "markdown",
   "id": "8bc47f24",
   "metadata": {},
   "source": [
    "## Łańcuch Markowa\n",
    "\n",
    "Łańcuch Markowa to matematyczny model, który opisuje proces, w którym przyszłe stany zależą wyłącznie od obecnego stanu, a nie od całej historii poprzednich stanów. W skrócie, jest to model procesów stochastycznych, w których przyszłość jest niezależna od przeszłości, o ile znamy obecny stan systemu.\n",
    "\n",
    "### Zastosowania\n",
    "\n",
    "    Prognoza pogoda\n",
    "    Modelowanie zachowań użytkowników\n",
    "    Przewidywanie lokalizacji użytkowników telefonii komórkowej\n",
    "\n",
    "Z puntku widzenia prawdopodobieństwa, łańcuch Markowa to macierz prawdopodobieństw warunkowych. \n",
    "\n",
    "### 1. Łańcuch Markowa - Prawdopodobieństwo warunkowe\n",
    "\n",
    "Łańcuch Markowa zakłada, że przyszły stan $$X_{n+1}$$ zależy wyłącznie od obecnego stanu $$X_n$$, a nie od poprzednich stanów $$ X_{n-1}, X_{n-2}, \\dots, X_0 $$. Prawdopodobieństwo przejścia między stanami możemy zapisać jako:\n",
    "\n",
    "$$\n",
    "P(X_{n+1} = x_{n+1} | X_n = x_n, X_{n-1} = x_{n-1}, \\dots, X_0 = x_0) = P(X_{n+1} = x_{n+1} | X_n = x_n)\n",
    "$$\n",
    "\n",
    "lub w skróconej formie:\n",
    "\n",
    "$$\n",
    "P(X_{n+1} | X_n) = P(X_{n+1} | X_n)\n",
    "$$\n",
    "\n",
    "### 2. Macierz przejść w łańcuchu Markowa\n",
    "\n",
    "Macierz przejść opisuje prawdopodobieństwo przejścia z jednego stanu do drugiego. Jeżeli mamy zbiór stanów $$S = \\{s_1, s_2, \\dots, s_k\\} $$, to macierz przejść $$ P $$ dla tych stanów jest zdefiniowana jako:\n",
    "\n",
    "$$\n",
    "P = \\begin{pmatrix}\n",
    "P(s_1 \\rightarrow s_1) & P(s_1 \\rightarrow s_2) & \\cdots & P(s_1 \\rightarrow s_k) \\\\\n",
    "P(s_2 \\rightarrow s_1) & P(s_2 \\rightarrow s_2) & \\cdots & P(s_2 \\rightarrow s_k) \\\\\n",
    "\\vdots & \\vdots & \\ddots & \\vdots \\\\\n",
    "P(s_k \\rightarrow s_1) & P(s_k \\rightarrow s_2) & \\cdots & P(s_k \\rightarrow s_k)\n",
    "\\end{pmatrix}\n",
    "$$\n",
    "\n",
    "Każdy element $$ P(s_i \\rightarrow s_j) $$ w macierzy opisuje prawdopodobieństwo przejścia ze stanu $$ s_i $$ do stanu $$ s_j $$.\n"
   ]
  },
  {
   "cell_type": "markdown",
   "id": "e577cbfe",
   "metadata": {},
   "source": [
    "3. Zaimplementuj klasę łańcuchów Markowa.\n",
    "\n",
    "Wytrenuj go dla przykładowej sekwencji stanów opisujących pogodę w kolejnych dniach we Wrocławiu:\n",
    "\n",
    "     S - słonecznie\n",
    "     D - deszczowo\n",
    "     P - pochmurnie\n",
    "     \n",
    "Spróbuj wykonać to zadanie używając macierzę przejść i bez niej. Sprawdź, która metoda jest szybsza używając biblioteki time."
   ]
  },
  {
   "cell_type": "code",
   "execution_count": 71,
   "id": "02938914",
   "metadata": {},
   "outputs": [
    {
     "data": {
      "text/plain": [
       "0.7"
      ]
     },
     "execution_count": 71,
     "metadata": {},
     "output_type": "execute_result"
    }
   ],
   "source": [
    "sekwencja_stanow = ['S', 'S', 'D', 'S', 'P', 'P', 'S', 'D', 'D', 'S', \n",
    "                    'P', 'S', 'S', 'P', 'D', 'P', 'S', 'S', 'D', 'S']\n"
   ]
  },
  {
   "cell_type": "markdown",
   "id": "7f11de15",
   "metadata": {},
   "source": [
    "Zastanów się - jak sprawdzić jak dokładna jest nasza metoda?"
   ]
  }
 ],
 "metadata": {
  "kernelspec": {
   "display_name": "Python 3 (ipykernel)",
   "language": "python",
   "name": "python3"
  },
  "language_info": {
   "codemirror_mode": {
    "name": "ipython",
    "version": 3
   },
   "file_extension": ".py",
   "mimetype": "text/x-python",
   "name": "python",
   "nbconvert_exporter": "python",
   "pygments_lexer": "ipython3",
   "version": "3.9.12"
  }
 },
 "nbformat": 4,
 "nbformat_minor": 5
}
