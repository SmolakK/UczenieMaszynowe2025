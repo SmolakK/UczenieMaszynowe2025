{
 "cells": [
  {
   "cell_type": "markdown",
   "id": "2c9253db",
   "metadata": {},
   "source": [
    "# Uczenie Maszynowe - ćwiczenia 3 (plik roboczy)\n",
    "\n",
    "## Pierwszy model - intuicja\n",
    "\n",
    "Celem dzisiejszych ćwiczeń jest zbudowanie intuicji dotyczącej procesu uczenia maszynowego. Zbudujemy dwa pierwsze modele, które są typem modeli uczenia maszynowego. Są to dość proste, ale efektywne modele, które korzystają z dobrodziejstw probabilistyki.\n",
    "\n",
    "## Teoria prawdopodobieństwa w uczeniu maszynowym\n",
    "\n",
    "Teoria prawdopodobieństwa odgrywa kluczową rolę w uczeniu maszynowym, dostarczając ramy do modelowania niepewności i przewidywania na podstawie danych. Możemy określić, kiedy coś się wydarzy, jeśli zdarza się to z wyższym prawdopodobieństwem.\n",
    "\n",
    "## Modelowanie niepewności\n",
    "\n",
    "Uczenie maszynowe często zajmuje się niepewnymi wynikami, takimi jak przewidywanie, czy e-mail to spam, czy nie. Prawdopodobieństwo pozwala nam na ilościowe określenie tej niepewności. Modele nie dają jednoznacznej odpowiedzi, zamiast tego dostarczają wynik w postaci prawdopodobieństwa — np. 70% szans, że e-mail to spam. \n",
    "\n",
    "## Modele probabilistyczne\n",
    "\n",
    "Wiele modeli uczenia maszynowego ma charakter probabilistyczny, co oznacza, że używają rozkładów prawdopodobieństwa do podejmowania decyzji.\n",
    "\n",
    "Modele wykorzystują wiedzę wcześniejszą (doświadczenie E) do oszacowania prawdopodobieństwa wystąpienia danego zdarzenia. Dzięki temu „uczą się” przewidywać określone wyniki. Inne zastosowania teorii prawdopodobieństwa w uczeniu maszynowym\n",
    "\n",
    "### Twierdzenie Bayesa\n",
    "\n",
    "Wiemy, że Steve jest bardzo nieśmiałą i uporządkowaną osobą. Co jest bardziej prawdopodobne:\n",
    "\n",
    "    Prawdopodobieństwo, że jest bibliotekarzem?\n",
    "    Prawdopodobieństwo, że jest rolnikiem?\n",
    "\n",
    "Wiemy, że Linda aktywnie angażuje się w ruch feministyczny. Co jest bardziej prawdopodobne:\n",
    "\n",
    "    Linda jest kasjerką w banku?\n",
    "    Linda jest kasjerką w banku i jest aktywna w ruchu feministycznym?\n",
    "\n",
    "Przyjrzyjmy się Steve'owi:\n",
    "\n",
    "Podano nam informację, że w populacji jest 10 bibliotekarzy i 200 rolników. Co byś teraz powiedział?\n",
    "\n",
    "I otrzymaliśmy kolejną informację:\n",
    "\n",
    "Istnieje 40% prawdopodobieństwo, że bibliotekarz jest nieśmiały i uporządkowany, oraz 10% prawdopodobieństwo, że rolnik pasuje do tego opisu. Jak wygląda to teraz?\n",
    "Twierdzenie Bayesa w praktyce\n",
    "\n",
    "Twierdzenie Bayesa pomaga nam znaleźć prawdopodobieństwo zdarzenia na podstawie wcześniejszej wiedzy o powiązanych warunkach. Jest to proste, a zarazem potężne równanie, szeroko stosowane w uczeniu maszynowym. Poniższe równanie stanowi podstawę dla wielu modeli uczenia maszynowego:\n",
    "\n",
    "\n",
    "$$\n",
    "P(A|B) = \\frac{P(B|A) \\cdot P(A)}{P(B)}\n",
    "$$\n",
    "\n",
    "\n",
    "Gdzie:\n",
    "\n",
    "    P(A∣B)P(A∣B) to prawdopodobieństwo a posteriori: prawdopodobieństwo zdarzenia A, pod warunkiem, że B jest prawdziwe.\n",
    "    P(B∣A)P(B∣A) to funkcja wiarygodności: prawdopodobieństwo zdarzenia B, pod warunkiem, że A jest prawdziwe.\n",
    "    P(A)P(A) to prawdopodobieństwo a priori: początkowe prawdopodobieństwo zdarzenia A.\n",
    "    P(B)P(B) to prawdopodobieństwo marginalne: prawdopodobieństwo wystąpienia zdarzenia B.\n",
    "    \n",
    "Twierdzenie Bayesa dostarcza narzędzia do rozumowania o prawdopodobieństwach w uczeniu maszynowym, szczególnie w sytuacjach, gdzie musimy radzić sobie z niepewnością.\n",
    "    "
   ]
  },
  {
   "cell_type": "markdown",
   "id": "8971ae61",
   "metadata": {},
   "source": [
    "## Zaaplikuj twierdzenie Bayesa\n",
    "\n",
    "W pierszym ćwiczeniu za pomocą twierdzenia Bayesa sprawdź co jest bardziej parwdopodobne - czy Steve jest bibliotekarzem czy farmerem?\n",
    "\n",
    "P(A|B) - to prawdopodobieństwo, że jest bibliotekarzem, wiedząc, że jest nieśmiały i uporządkowany\n",
    "\n",
    "P(B|A)- to prawdopodobieństwo, że jest nieśmiały i uporządkowany, ponieważ jest bibliotekarzem\n",
    "\n",
    "P(B) - to prawdopodobieństwo, że jest nieśmiały i uporządkowany\n",
    "        \n",
    "P(A) - to prawdopodobieństwo, że jest bibliotekarzem\n",
    "\n",
    "P(B|A) - 40% nieśmiałych i uporządkowanych osób to bibliotekarze\n",
    "        \n",
    "P(B) - 10% rolników jest nieśmiałych i uporządkowanych, a 40% bibliotekarzy jest nieśmiałych i uporządkowanych\n",
    "        \n",
    "P(A) - 10 z 210 osób to bibliotekarze"
   ]
  },
  {
   "cell_type": "code",
   "execution_count": null,
   "id": "997764e5",
   "metadata": {},
   "outputs": [],
   "source": []
  },
  {
   "cell_type": "markdown",
   "id": "7d4d6f1d",
   "metadata": {},
   "source": [
    "2. Teraz już wiemy jak działa twierdzenia Bayesa. Użyj twierdzenia Bayesa by zbudować Twój własny filtr spamu!\n",
    "\n",
    "Zróbmy to krok po kroku, poniżej zamieszcam przykłady wiadomości do treningu naszego modelu (doświadczenie E):"
   ]
  },
  {
   "cell_type": "code",
   "execution_count": 1,
   "id": "0155cdfa",
   "metadata": {},
   "outputs": [],
   "source": [
    "spam_messages = [\n",
    "    \"Gratulacje! Wygrałeś nowego iPhone'a! Kliknij tutaj, aby odebrać nagrodę!\",\n",
    "    \"Zainwestuj teraz w kryptowaluty i zarób miliony bez żadnego wysiłku!\",\n",
    "    \"Twoje konto bankowe zostanie zablokowane, jeśli nie klikniesz w ten link w ciągu 24 godzin!\",\n",
    "    \"Otrzymasz 1000 zł za wypełnienie tej prostej ankiety! Kliknij tutaj!\",\n",
    "    \"Kup tanie leki online bez recepty! Niesamowite promocje!\",\n",
    "    \"Zdobądź dostęp do sekretnego programu, który nauczy cię zarabiać 10 000 zł miesięcznie!\",\n",
    "    \"Pokażemy ci, jak schudnąć 10 kg w tydzień! Wypróbuj naszą magiczną dietę już teraz!\",\n",
    "    \"Wygraj darmową podróż dookoła świata! Kliknij tutaj, aby wziąć udział!\",\n",
    "    \"Masz zaległe płatności na swoim koncie, natychmiast kliknij w link, aby uniknąć kar!\",\n",
    "    \"Szybki i łatwy kredyt! Bez sprawdzania zdolności kredytowej!\",\n",
    "    \"Powiadomienie: Twoje ubezpieczenie wygasa dziś! Kliknij tutaj, aby przedłużyć.\",\n",
    "    \"Odbierz swój darmowy voucher na zakupy w naszym sklepie! Kliknij, aby odebrać!\",\n",
    "    \"Zyskaj dostęp do darmowego kursu inwestowania, kliknij tutaj!\",\n",
    "    \"Twoje dane bankowe są zagrożone! Natychmiast kliknij, aby zabezpieczyć swoje konto!\",\n",
    "    \"Uzyskaj natychmiastową pożyczkę bez formalności! Kliknij tutaj!\",\n",
    "    \"Super oferta! Odbierz 50% zniżki na wszystko w naszym sklepie!\",\n",
    "    \"Ostatnia szansa! Zarejestruj się, aby wygrać samochód!\",\n",
    "    \"Przelew gotówkowy czeka na ciebie! Kliknij tutaj, aby odebrać środki!\",\n",
    "    \"Specjalna oferta! Odbierz kupon na darmowe zakupy!\",\n",
    "    \"Zyskaj darmowy dostęp do najnowszych gier komputerowych! Kliknij, aby pobrać!\",\n",
    "    \"Tylko dzisiaj! 90% zniżki na abonament telefoniczny!\",\n",
    "    \"Otrzymasz natychmiastowy dostęp do prywatnych filmów! Kliknij tutaj!\",\n",
    "    \"Weź udział w konkursie i wygraj weekend w luksusowym hotelu!\",\n",
    "    \"Twoja subskrypcja wygasła! Odnów teraz, aby uniknąć przerwania usług!\",\n",
    "    \"Specjalny bonus! Zyskaj podwójne punkty lojalnościowe w naszym sklepie!\",\n",
    "    \"Zainwestuj w przyszłość! Sprawdź nasze gwarantowane metody na szybki zysk!\",\n",
    "    \"Wyjątkowa oferta: Zapłać tylko 50% za miesięczny abonament premium!\",\n",
    "    \"Zostań testerem najnowszych produktów i otrzymaj je za darmo!\",\n",
    "    \"Kliknij, aby odebrać swoją nagrodę z najnowszego konkursu!\",\n",
    "    \"Zyskaj dostęp do ekskluzywnych ofert tylko dzisiaj! Nie przegap!\"\n",
    "]"
   ]
  },
  {
   "cell_type": "code",
   "execution_count": 2,
   "id": "b0ab76b9",
   "metadata": {},
   "outputs": [],
   "source": [
    "normal_messages = [\n",
    "    \"Cześć, pamiętasz o naszym spotkaniu w piątek? Potwierdź proszę.\",\n",
    "    \"Proszę o przesłanie raportu do końca dnia. Pozdrawiam, Kasia.\",\n",
    "    \"Zapraszamy na zebranie zespołu w środę o 10:00 w sali konferencyjnej.\",\n",
    "    \"Zamówienie zostało zrealizowane, przesyłka powinna dotrzeć w ciągu 2 dni roboczych.\",\n",
    "    \"Cześć, mam nadzieję, że u Ciebie wszystko w porządku. Chciałem tylko zapytać, czy możemy się spotkać w weekend?\",\n",
    "    \"Przypominamy, że termin płatności za fakturę upływa za dwa dni.\",\n",
    "    \"W załączniku przesyłam dokumenty do zatwierdzenia. Daj znać, jeśli masz jakieś pytania.\",\n",
    "    \"Dziękujemy za zakupy w naszym sklepie. Twoje zamówienie zostało wysłane.\",\n",
    "    \"Spotkanie projektowe zostało przełożone na piątek o 14:00. Proszę o potwierdzenie obecności.\",\n",
    "    \"Przypomnienie: Twoja wizyta lekarska jest umówiona na poniedziałek o 15:00.\",\n",
    "    \"Dziękujemy za wiadomość, odpowiemy na nią w ciągu 24 godzin.\",\n",
    "    \"Twój lot został zarezerwowany. Bilet zostanie wysłany na Twój adres e-mail.\",\n",
    "    \"Przypomnienie: Spotkanie zarządu odbędzie się jutro o 9:00.\",\n",
    "    \"Czy możesz potwierdzić swoje uczestnictwo w konferencji w przyszłym tygodniu?\",\n",
    "    \"Twój rachunek telefoniczny za ten miesiąc wynosi 150 zł. Prosimy o dokonanie płatności.\",\n",
    "    \"W załączeniu przesyłam poprawioną wersję umowy. Czekam na Twój feedback.\",\n",
    "    \"Zapraszamy na szkolenie wprowadzające w środę o godzinie 10:00.\",\n",
    "    \"Twoja paczka została wysłana. Przewidywana dostawa: piątek.\",\n",
    "    \"Czy mógłbyś przesłać prezentację na jutrzejsze spotkanie do końca dnia?\",\n",
    "    \"Twój wniosek o urlop został zatwierdzony. Życzymy udanego wypoczynku!\",\n",
    "    \"Dziękujemy za rejestrację na nasz newsletter. Wkrótce otrzymasz aktualizacje.\",\n",
    "    \"Prosimy o przesłanie faktury za usługi do końca tygodnia.\",\n",
    "    \"Otrzymaliśmy Twoje zamówienie. Przewidywana dostawa: środa.\",\n",
    "    \"Przypomnienie o zaplanowanej konserwacji sieci w najbliższy weekend.\",\n",
    "    \"Twoje konto zostało zaktualizowane. Sprawdź swoje nowe ustawienia.\",\n",
    "    \"Twój wniosek został zatwierdzony. Dokumenty zostaną wysłane na Twój adres e-mail.\",\n",
    "    \"Czy moglibyśmy przełożyć spotkanie na poniedziałek o 10:00?\",\n",
    "    \"Zamówienie numer 12345 zostało anulowane zgodnie z Twoją prośbą.\",\n",
    "    \"Przypomnienie: W dniu jutrzejszym odbędzie się spotkanie zespołu o 11:00.\",\n",
    "    \"Dziękujemy za dokonanie płatności. Potwierdzenie zostało wysłane na Twój adres e-mail.\"\n",
    "]\n"
   ]
  },
  {
   "cell_type": "markdown",
   "id": "30094edb",
   "metadata": {},
   "source": [
    "2a. Oblicz pradopodobieństwo występowania każdego ze słów, w tym w zależności od typu wiadomości. Zbuduj dla nich słowniki prawdopodobieństwa. Przygotuj funkcje, które będą wykonywać te obliczenia."
   ]
  },
  {
   "cell_type": "code",
   "execution_count": 3,
   "id": "5ad5b35e",
   "metadata": {},
   "outputs": [],
   "source": [
    "def tokenize(mails):\n",
    "    split_words = [x.lower().split(' ') for x in mails]\n",
    "    words = []\n",
    "    for x in split_words:\n",
    "        words += [[k for k in y if k.isalpha()] for y in x]\n",
    "    words = [('').join(n) for n in words]\n",
    "    words = [l for l in words if len(l)>=2]\n",
    "    return words"
   ]
  },
  {
   "cell_type": "code",
   "execution_count": 4,
   "id": "6d3417ff-55ed-4e77-a591-1e039e08dcb6",
   "metadata": {},
   "outputs": [],
   "source": [
    "from collections import Counter\n",
    "def p_words(mails):\n",
    "    mail_tokenized = tokenize(mails)\n",
    "    word_count = len(mail_tokenized)\n",
    "    word_freq = Counter(mail_tokenized)\n",
    "    p_words = {k: (v+1)/(word_count + len(word_freq)) for k, v in word_freq.items()}\n",
    "    return p_words"
   ]
  },
  {
   "cell_type": "code",
   "execution_count": 5,
   "id": "3a594754-0c92-486b-be40-9a5f2475ee0b",
   "metadata": {},
   "outputs": [
    {
     "data": {
      "text/plain": [
       "{'cześć': 0.007159904534606206,\n",
       " 'pamiętasz': 0.00477326968973747,\n",
       " 'naszym': 0.007159904534606206,\n",
       " 'spotkaniu': 0.00477326968973747,\n",
       " 'piątek': 0.00954653937947494,\n",
       " 'potwierdź': 0.00477326968973747,\n",
       " 'proszę': 0.00954653937947494,\n",
       " 'przesłanie': 0.007159904534606206,\n",
       " 'raportu': 0.00477326968973747,\n",
       " 'do': 0.011933174224343675,\n",
       " 'końca': 0.00954653937947494,\n",
       " 'dnia': 0.007159904534606206,\n",
       " 'pozdrawiam': 0.00477326968973747,\n",
       " 'kasia': 0.00477326968973747,\n",
       " 'zapraszamy': 0.007159904534606206,\n",
       " 'na': 0.031026252983293555,\n",
       " 'zebranie': 0.00477326968973747,\n",
       " 'zespołu': 0.007159904534606206,\n",
       " 'środę': 0.007159904534606206,\n",
       " 'sali': 0.00477326968973747,\n",
       " 'konferencyjnej': 0.00477326968973747,\n",
       " 'zamówienie': 0.011933174224343675,\n",
       " 'zostało': 0.016706443914081145,\n",
       " 'zrealizowane': 0.00477326968973747,\n",
       " 'przesyłka': 0.00477326968973747,\n",
       " 'powinna': 0.00477326968973747,\n",
       " 'dotrzeć': 0.00477326968973747,\n",
       " 'ciągu': 0.007159904534606206,\n",
       " 'dni': 0.007159904534606206,\n",
       " 'roboczych': 0.00477326968973747,\n",
       " 'mam': 0.00477326968973747,\n",
       " 'nadzieję': 0.00477326968973747,\n",
       " 'że': 0.007159904534606206,\n",
       " 'ciebie': 0.00477326968973747,\n",
       " 'wszystko': 0.00477326968973747,\n",
       " 'porządku': 0.00477326968973747,\n",
       " 'chciałem': 0.00477326968973747,\n",
       " 'tylko': 0.00477326968973747,\n",
       " 'zapytać': 0.00477326968973747,\n",
       " 'czy': 0.011933174224343675,\n",
       " 'możemy': 0.00477326968973747,\n",
       " 'się': 0.00954653937947494,\n",
       " 'spotkać': 0.00477326968973747,\n",
       " 'weekend': 0.007159904534606206,\n",
       " 'przypominamy': 0.00477326968973747,\n",
       " 'termin': 0.00477326968973747,\n",
       " 'płatności': 0.00954653937947494,\n",
       " 'za': 0.021479713603818614,\n",
       " 'fakturę': 0.00477326968973747,\n",
       " 'upływa': 0.00477326968973747,\n",
       " 'dwa': 0.00477326968973747,\n",
       " 'załączniku': 0.00477326968973747,\n",
       " 'przesyłam': 0.007159904534606206,\n",
       " 'dokumenty': 0.007159904534606206,\n",
       " 'zatwierdzenia': 0.00477326968973747,\n",
       " 'daj': 0.00477326968973747,\n",
       " 'znać': 0.00477326968973747,\n",
       " 'jeśli': 0.00477326968973747,\n",
       " 'masz': 0.00477326968973747,\n",
       " 'jakieś': 0.00477326968973747,\n",
       " 'pytania': 0.00477326968973747,\n",
       " 'dziękujemy': 0.011933174224343675,\n",
       " 'zakupy': 0.00477326968973747,\n",
       " 'sklepie': 0.00477326968973747,\n",
       " 'twoje': 0.00954653937947494,\n",
       " 'wysłane': 0.00954653937947494,\n",
       " 'spotkanie': 0.014319809069212411,\n",
       " 'projektowe': 0.00477326968973747,\n",
       " 'przełożone': 0.00477326968973747,\n",
       " 'potwierdzenie': 0.007159904534606206,\n",
       " 'obecności': 0.00477326968973747,\n",
       " 'przypomnienie': 0.011933174224343675,\n",
       " 'twoja': 0.007159904534606206,\n",
       " 'wizyta': 0.00477326968973747,\n",
       " 'lekarska': 0.00477326968973747,\n",
       " 'jest': 0.00477326968973747,\n",
       " 'umówiona': 0.00477326968973747,\n",
       " 'poniedziałek': 0.007159904534606206,\n",
       " 'wiadomość': 0.00477326968973747,\n",
       " 'odpowiemy': 0.00477326968973747,\n",
       " 'nią': 0.00477326968973747,\n",
       " 'godzin': 0.00477326968973747,\n",
       " 'twój': 0.021479713603818614,\n",
       " 'lot': 0.00477326968973747,\n",
       " 'został': 0.00954653937947494,\n",
       " 'zarezerwowany': 0.00477326968973747,\n",
       " 'bilet': 0.00477326968973747,\n",
       " 'zostanie': 0.00477326968973747,\n",
       " 'wysłany': 0.00477326968973747,\n",
       " 'adres': 0.00954653937947494,\n",
       " 'email': 0.00954653937947494,\n",
       " 'zarządu': 0.00477326968973747,\n",
       " 'odbędzie': 0.007159904534606206,\n",
       " 'jutro': 0.00477326968973747,\n",
       " 'możesz': 0.00477326968973747,\n",
       " 'potwierdzić': 0.00477326968973747,\n",
       " 'swoje': 0.007159904534606206,\n",
       " 'uczestnictwo': 0.00477326968973747,\n",
       " 'konferencji': 0.00477326968973747,\n",
       " 'przyszłym': 0.00477326968973747,\n",
       " 'tygodniu': 0.00477326968973747,\n",
       " 'rachunek': 0.00477326968973747,\n",
       " 'telefoniczny': 0.00477326968973747,\n",
       " 'ten': 0.00477326968973747,\n",
       " 'miesiąc': 0.00477326968973747,\n",
       " 'wynosi': 0.00477326968973747,\n",
       " 'zł': 0.00477326968973747,\n",
       " 'prosimy': 0.007159904534606206,\n",
       " 'dokonanie': 0.007159904534606206,\n",
       " 'załączeniu': 0.00477326968973747,\n",
       " 'poprawioną': 0.00477326968973747,\n",
       " 'wersję': 0.00477326968973747,\n",
       " 'umowy': 0.00477326968973747,\n",
       " 'czekam': 0.00477326968973747,\n",
       " 'feedback': 0.00477326968973747,\n",
       " 'szkolenie': 0.00477326968973747,\n",
       " 'wprowadzające': 0.00477326968973747,\n",
       " 'godzinie': 0.00477326968973747,\n",
       " 'paczka': 0.00477326968973747,\n",
       " 'została': 0.00477326968973747,\n",
       " 'wysłana': 0.00477326968973747,\n",
       " 'przewidywana': 0.007159904534606206,\n",
       " 'dostawa': 0.007159904534606206,\n",
       " 'mógłbyś': 0.00477326968973747,\n",
       " 'przesłać': 0.00477326968973747,\n",
       " 'prezentację': 0.00477326968973747,\n",
       " 'jutrzejsze': 0.00477326968973747,\n",
       " 'wniosek': 0.007159904534606206,\n",
       " 'urlop': 0.00477326968973747,\n",
       " 'zatwierdzony': 0.007159904534606206,\n",
       " 'życzymy': 0.00477326968973747,\n",
       " 'udanego': 0.00477326968973747,\n",
       " 'wypoczynku': 0.00477326968973747,\n",
       " 'rejestrację': 0.00477326968973747,\n",
       " 'nasz': 0.00477326968973747,\n",
       " 'newsletter': 0.00477326968973747,\n",
       " 'wkrótce': 0.00477326968973747,\n",
       " 'otrzymasz': 0.00477326968973747,\n",
       " 'aktualizacje': 0.00477326968973747,\n",
       " 'faktury': 0.00477326968973747,\n",
       " 'usługi': 0.00477326968973747,\n",
       " 'tygodnia': 0.00477326968973747,\n",
       " 'otrzymaliśmy': 0.00477326968973747,\n",
       " 'środa': 0.00477326968973747,\n",
       " 'zaplanowanej': 0.00477326968973747,\n",
       " 'konserwacji': 0.00477326968973747,\n",
       " 'sieci': 0.00477326968973747,\n",
       " 'najbliższy': 0.00477326968973747,\n",
       " 'konto': 0.00477326968973747,\n",
       " 'zaktualizowane': 0.00477326968973747,\n",
       " 'sprawdź': 0.00477326968973747,\n",
       " 'nowe': 0.00477326968973747,\n",
       " 'ustawienia': 0.00477326968973747,\n",
       " 'zostaną': 0.00477326968973747,\n",
       " 'moglibyśmy': 0.00477326968973747,\n",
       " 'przełożyć': 0.00477326968973747,\n",
       " 'numer': 0.00477326968973747,\n",
       " 'anulowane': 0.00477326968973747,\n",
       " 'zgodnie': 0.00477326968973747,\n",
       " 'twoją': 0.00477326968973747,\n",
       " 'prośbą': 0.00477326968973747,\n",
       " 'dniu': 0.00477326968973747,\n",
       " 'jutrzejszym': 0.00477326968973747}"
      ]
     },
     "execution_count": 5,
     "metadata": {},
     "output_type": "execute_result"
    }
   ],
   "source": [
    "p_words(normal_messages)"
   ]
  },
  {
   "cell_type": "code",
   "execution_count": 6,
   "id": "28145a62-4f37-4a42-ad21-40e085419940",
   "metadata": {},
   "outputs": [
    {
     "data": {
      "text/plain": [
       "True"
      ]
     },
     "execution_count": 6,
     "metadata": {},
     "output_type": "execute_result"
    }
   ],
   "source": [
    "x= spam_messages+normal_messages\n",
    "y=[1 for a in range(len(spam_messages)) ]+[0 for b in range(len(normal_messages))]\n",
    "len(x)==len(y)\n"
   ]
  },
  {
   "cell_type": "code",
   "execution_count": 7,
   "id": "4d2c0820-2215-4177-8221-7912d17d5c5f",
   "metadata": {},
   "outputs": [
    {
     "data": {
      "text/plain": [
       "[\"Gratulacje! Wygrałeś nowego iPhone'a! Kliknij tutaj, aby odebrać nagrodę!\",\n",
       " 'Zainwestuj teraz w kryptowaluty i zarób miliony bez żadnego wysiłku!',\n",
       " 'Twoje konto bankowe zostanie zablokowane, jeśli nie klikniesz w ten link w ciągu 24 godzin!',\n",
       " 'Otrzymasz 1000 zł za wypełnienie tej prostej ankiety! Kliknij tutaj!',\n",
       " 'Kup tanie leki online bez recepty! Niesamowite promocje!',\n",
       " 'Zdobądź dostęp do sekretnego programu, który nauczy cię zarabiać 10 000 zł miesięcznie!',\n",
       " 'Pokażemy ci, jak schudnąć 10 kg w tydzień! Wypróbuj naszą magiczną dietę już teraz!',\n",
       " 'Wygraj darmową podróż dookoła świata! Kliknij tutaj, aby wziąć udział!',\n",
       " 'Masz zaległe płatności na swoim koncie, natychmiast kliknij w link, aby uniknąć kar!',\n",
       " 'Szybki i łatwy kredyt! Bez sprawdzania zdolności kredytowej!',\n",
       " 'Powiadomienie: Twoje ubezpieczenie wygasa dziś! Kliknij tutaj, aby przedłużyć.',\n",
       " 'Odbierz swój darmowy voucher na zakupy w naszym sklepie! Kliknij, aby odebrać!',\n",
       " 'Zyskaj dostęp do darmowego kursu inwestowania, kliknij tutaj!',\n",
       " 'Twoje dane bankowe są zagrożone! Natychmiast kliknij, aby zabezpieczyć swoje konto!',\n",
       " 'Uzyskaj natychmiastową pożyczkę bez formalności! Kliknij tutaj!',\n",
       " 'Super oferta! Odbierz 50% zniżki na wszystko w naszym sklepie!',\n",
       " 'Ostatnia szansa! Zarejestruj się, aby wygrać samochód!',\n",
       " 'Przelew gotówkowy czeka na ciebie! Kliknij tutaj, aby odebrać środki!',\n",
       " 'Specjalna oferta! Odbierz kupon na darmowe zakupy!',\n",
       " 'Zyskaj darmowy dostęp do najnowszych gier komputerowych! Kliknij, aby pobrać!',\n",
       " 'Tylko dzisiaj! 90% zniżki na abonament telefoniczny!',\n",
       " 'Otrzymasz natychmiastowy dostęp do prywatnych filmów! Kliknij tutaj!',\n",
       " 'Weź udział w konkursie i wygraj weekend w luksusowym hotelu!',\n",
       " 'Twoja subskrypcja wygasła! Odnów teraz, aby uniknąć przerwania usług!',\n",
       " 'Specjalny bonus! Zyskaj podwójne punkty lojalnościowe w naszym sklepie!',\n",
       " 'Zainwestuj w przyszłość! Sprawdź nasze gwarantowane metody na szybki zysk!',\n",
       " 'Wyjątkowa oferta: Zapłać tylko 50% za miesięczny abonament premium!',\n",
       " 'Zostań testerem najnowszych produktów i otrzymaj je za darmo!',\n",
       " 'Kliknij, aby odebrać swoją nagrodę z najnowszego konkursu!',\n",
       " 'Zyskaj dostęp do ekskluzywnych ofert tylko dzisiaj! Nie przegap!']"
      ]
     },
     "execution_count": 7,
     "metadata": {},
     "output_type": "execute_result"
    }
   ],
   "source": [
    "[c[0] for c in zip(x,y) if c[1]==1]"
   ]
  },
  {
   "cell_type": "markdown",
   "id": "2265e0f8",
   "metadata": {},
   "source": [
    "2b. Przygotuj klasę klasyfikatora Bayesa, który wykorzysta słowniki prawdopodobieństwa. Wykorzystaj poniższą strukturę:"
   ]
  },
  {
   "cell_type": "code",
   "execution_count": 8,
   "id": "101c4be6",
   "metadata": {},
   "outputs": [],
   "source": [
    "class NaiveBayesClassifier:\n",
    "\n",
    "    def __init__(self):\n",
    "        self.p_spam = 0\n",
    "        self.p_spam_words={}\n",
    "        self.p_ham_words={}\n",
    "        self.p_ham=0\n",
    "        \n",
    "    def fit(self, x, y):\n",
    "        spam_m = [c[0] for c in zip(x,y) if c[1]==1]\n",
    "        ham_m = [c[0] for c in zip(x,y) if c[1]==0]\n",
    "        self.p_spam_words=self.p_words(spam_m)\n",
    "        self.p_ham_words=self.p_words(ham_m)\n",
    "        self.p_spam = len(spam_m)/len(x)\n",
    "        self.p_ham = len(ham_m)/len(x)\n",
    "        \n",
    "    def tokenize(self,mails):\n",
    "        split_words = [x.lower().split(' ') for x in mails]\n",
    "        words = []\n",
    "        for x in split_words:\n",
    "            words += [[k for k in y if k.isalpha()] for y in x]\n",
    "        words = [('').join(n) for n in words]\n",
    "        words = [l for l in words if len(l)>=2]\n",
    "        return words\n",
    "    \n",
    "    def p_words(self,mails):\n",
    "        mail_tokenized = tokenize(mails)\n",
    "        word_count = len(mail_tokenized)\n",
    "        word_freq = Counter(mail_tokenized)\n",
    "        p_words = {k: (v+1)/(word_count + len(word_freq)) for k, v in word_freq.items()}\n",
    "        return p_words\n",
    "\n",
    "    def predict(self, x):\n",
    "        words = tokenize(x)\n",
    "        ps = self.p_spam\n",
    "        for w in words:\n",
    "            pws = self.p_spam_words.get(w,0) #P(w|s)\n",
    "            ps *= pws # P(w|s) * P(s)\n",
    "\n",
    "        ph = self.p_ham\n",
    "        for w in words:\n",
    "            pwh = self.p_ham_words.get(w,0) #P(w|h)\n",
    "            ph *= pwh # P(w|h) * P(h)\n",
    "\n",
    "        print(ph,ps)\n",
    "        if ph > ps:\n",
    "            return 0\n",
    "        else:\n",
    "            return 1\n",
    "        "
   ]
  },
  {
   "cell_type": "code",
   "execution_count": 9,
   "id": "ee708e61-9da3-4157-8db0-874c4e73b693",
   "metadata": {},
   "outputs": [],
   "source": [
    "nbc = NaiveBayesClassifier()\n",
    "nbc.fit(x,y)"
   ]
  },
  {
   "cell_type": "code",
   "execution_count": 10,
   "id": "e9e6f0d2-24bc-4ab4-98ac-ee0523f53c6f",
   "metadata": {},
   "outputs": [
    {
     "name": "stdout",
     "output_type": "stream",
     "text": [
      "0.0 0.0\n"
     ]
    },
    {
     "data": {
      "text/plain": [
       "1"
      ]
     },
     "execution_count": 10,
     "metadata": {},
     "output_type": "execute_result"
    }
   ],
   "source": [
    "nbc.predict([\"Gratulacje, odbierz kupon zniżkowy\"])"
   ]
  },
  {
   "cell_type": "markdown",
   "id": "93506a32",
   "metadata": {},
   "source": [
    "2c. Zbuduj prostą metodę tokenizacji - rozbijania wiadomości na słowa."
   ]
  },
  {
   "cell_type": "code",
   "execution_count": null,
   "id": "a015a10a",
   "metadata": {},
   "outputs": [],
   "source": []
  },
  {
   "cell_type": "markdown",
   "id": "f4f1f432",
   "metadata": {},
   "source": [
    "2d. Dodaj metodę trenowania (uczenia), która przyjmuje wiadomości wraz z etykietami tych wiadomości (spam/ham). Wykorzystaj funkcje z 2a."
   ]
  },
  {
   "cell_type": "code",
   "execution_count": 27,
   "id": "58d59287",
   "metadata": {},
   "outputs": [],
   "source": []
  },
  {
   "cell_type": "markdown",
   "id": "26bbabff",
   "metadata": {},
   "source": [
    "2e. Zbuduj metodę przewidywania \"predict\", która określi czy wpisana wiadomość jest spamem czy nie. Wynik podaj w formie ułamka prawdopodobieństwa."
   ]
  },
  {
   "cell_type": "code",
   "execution_count": null,
   "id": "b450e86e",
   "metadata": {},
   "outputs": [],
   "source": []
  },
  {
   "cell_type": "markdown",
   "id": "8bc47f24",
   "metadata": {},
   "source": [
    "## Łańcuch Markowa\n",
    "\n",
    "Łańcuch Markowa to matematyczny model, który opisuje proces, w którym przyszłe stany zależą wyłącznie od obecnego stanu, a nie od całej historii poprzednich stanów. W skrócie, jest to model procesów stochastycznych, w których przyszłość jest niezależna od przeszłości, o ile znamy obecny stan systemu.\n",
    "\n",
    "### Zastosowania\n",
    "\n",
    "    Prognoza pogoda\n",
    "    Modelowanie zachowań użytkowników\n",
    "    Przewidywanie lokalizacji użytkowników telefonii komórkowej\n",
    "\n",
    "Z puntku widzenia prawdopodobieństwa, łańcuch Markowa to macierz prawdopodobieństw warunkowych. \n",
    "\n",
    "### 1. Łańcuch Markowa - Prawdopodobieństwo warunkowe\n",
    "\n",
    "Łańcuch Markowa zakłada, że przyszły stan $$X_{n+1}$$ zależy wyłącznie od obecnego stanu $$X_n$$, a nie od poprzednich stanów $$ X_{n-1}, X_{n-2}, \\dots, X_0 $$. Prawdopodobieństwo przejścia między stanami możemy zapisać jako:\n",
    "\n",
    "$$\n",
    "P(X_{n+1} = x_{n+1} | X_n = x_n, X_{n-1} = x_{n-1}, \\dots, X_0 = x_0) = P(X_{n+1} = x_{n+1} | X_n = x_n)\n",
    "$$\n",
    "\n",
    "lub w skróconej formie:\n",
    "\n",
    "$$\n",
    "P(X_{n+1} | X_n) = P(X_{n+1} | X_n)\n",
    "$$\n",
    "\n",
    "### 2. Macierz przejść w łańcuchu Markowa\n",
    "\n",
    "Macierz przejść opisuje prawdopodobieństwo przejścia z jednego stanu do drugiego. Jeżeli mamy zbiór stanów $$S = \\{s_1, s_2, \\dots, s_k\\} $$, to macierz przejść $$ P $$ dla tych stanów jest zdefiniowana jako:\n",
    "\n",
    "$$\n",
    "P = \\begin{pmatrix}\n",
    "P(s_1 \\rightarrow s_1) & P(s_1 \\rightarrow s_2) & \\cdots & P(s_1 \\rightarrow s_k) \\\\\n",
    "P(s_2 \\rightarrow s_1) & P(s_2 \\rightarrow s_2) & \\cdots & P(s_2 \\rightarrow s_k) \\\\\n",
    "\\vdots & \\vdots & \\ddots & \\vdots \\\\\n",
    "P(s_k \\rightarrow s_1) & P(s_k \\rightarrow s_2) & \\cdots & P(s_k \\rightarrow s_k)\n",
    "\\end{pmatrix}\n",
    "$$\n",
    "\n",
    "Każdy element $$ P(s_i \\rightarrow s_j) $$ w macierzy opisuje prawdopodobieństwo przejścia ze stanu $$ s_i $$ do stanu $$ s_j $$.\n"
   ]
  },
  {
   "cell_type": "markdown",
   "id": "e577cbfe",
   "metadata": {},
   "source": [
    "3. Zaimplementuj klasę łańcuchów Markowa.\n",
    "\n",
    "Wytrenuj go dla przykładowej sekwencji stanów opisujących pogodę w kolejnych dniach we Wrocławiu:\n",
    "\n",
    "     S - słonecznie\n",
    "     D - deszczowo\n",
    "     P - pochmurnie\n",
    "     \n",
    "Spróbuj wykonać to zadanie używając macierzę przejść i bez niej. Sprawdź, która metoda jest szybsza używając biblioteki time."
   ]
  },
  {
   "cell_type": "code",
   "execution_count": 11,
   "id": "02938914",
   "metadata": {},
   "outputs": [],
   "source": [
    "sekwencja_stanow = ['S', 'S', 'D', 'S', 'P', 'P', 'S', 'D', 'D', 'S', \n",
    "                    'P', 'S', 'S', 'P', 'D', 'P', 'S', 'S', 'D', 'S']\n"
   ]
  },
  {
   "cell_type": "code",
   "execution_count": 12,
   "id": "81c07d99-02c8-4369-8668-8ef05b607a46",
   "metadata": {},
   "outputs": [],
   "source": [
    "macierz_przejsc = {}\n",
    "for indeks_stanu in range(1,len(sekwencja_stanow)):\n",
    "    ob_stan = sekwencja_stanow[indeks_stanu]\n",
    "    pop_stan = sekwencja_stanow[indeks_stanu-1]\n",
    "    if not ob_stan in macierz_przejsc.keys():\n",
    "        macierz_przejsc[ob_stan] = {}\n",
    "    else:\n",
    "        if pop_stan in macierz_przejsc[ob_stan].keys():\n",
    "            macierz_przejsc[ob_stan][pop_stan] += 1\n",
    "        else:\n",
    "            macierz_przejsc[ob_stan][pop_stan] = 1"
   ]
  },
  {
   "cell_type": "code",
   "execution_count": 13,
   "id": "963cb61b-1f0f-44bd-bed7-ee88819d7517",
   "metadata": {},
   "outputs": [
    {
     "data": {
      "text/plain": [
       "{'S': {'D': 3, 'P': 3, 'S': 2},\n",
       " 'D': {'S': 2, 'D': 1, 'P': 1},\n",
       " 'P': {'P': 1, 'S': 2, 'D': 1}}"
      ]
     },
     "execution_count": 13,
     "metadata": {},
     "output_type": "execute_result"
    }
   ],
   "source": [
    "macierz_przejsc"
   ]
  },
  {
   "cell_type": "code",
   "execution_count": 14,
   "id": "393772a3-5f1b-428d-aa93-f979b7e63572",
   "metadata": {},
   "outputs": [
    {
     "ename": "SyntaxError",
     "evalue": "unexpected EOF while parsing (1721457562.py, line 1)",
     "output_type": "error",
     "traceback": [
      "\u001b[1;36m  Input \u001b[1;32mIn [14]\u001b[1;36m\u001b[0m\n\u001b[1;33m    {'S': {'D': 0.55, 'S': 0.2, 'P': 0.25}, 'D': {\u001b[0m\n\u001b[1;37m                                                  ^\u001b[0m\n\u001b[1;31mSyntaxError\u001b[0m\u001b[1;31m:\u001b[0m unexpected EOF while parsing\n"
     ]
    }
   ],
   "source": [
    "{'S': {'D': 0.55, 'S': 0.2, 'P': 0.25}, 'D': {"
   ]
  },
  {
   "cell_type": "markdown",
   "id": "7f11de15",
   "metadata": {},
   "source": [
    "Zastanów się - jak sprawdzić jak dokładna jest nasza metoda?"
   ]
  }
 ],
 "metadata": {
  "kernelspec": {
   "display_name": "Python 3 (ipykernel)",
   "language": "python",
   "name": "python3"
  },
  "language_info": {
   "codemirror_mode": {
    "name": "ipython",
    "version": 3
   },
   "file_extension": ".py",
   "mimetype": "text/x-python",
   "name": "python",
   "nbconvert_exporter": "python",
   "pygments_lexer": "ipython3",
   "version": "3.9.12"
  }
 },
 "nbformat": 4,
 "nbformat_minor": 5
}