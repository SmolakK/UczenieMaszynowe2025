{
 "cells": [
  {
   "cell_type": "markdown",
   "id": "eb34863a",
   "metadata": {},
   "source": [
    "# Uczenie Maszynowe - ćwiczenia 1\n",
    "\n",
    "## Prowadzący zajęcia:\n",
    "\n",
    "* Dr Kamil Smolak; email: <kamil.smolak@upwr.edu.pl>\n",
    "\n",
    "# UM 1 - Ćwczenia\n",
    "\n",
    "Zaczynamy dziś nietypowo - od ćwiczeń.\n",
    "\n",
    "<b> Dzisiejsze ćwiczenia skupią się zatem na podstawowej umiejętności  niezbędnej do nauki uczenia maszynowego - Pythonie </b>\n",
    "\n",
    "Po wstęp do przedmiotu i teorię zapraszam do wykład - piątki 10:00 (co drugi piątek)\n",
    "\n",
    "# Forma zajęć:\n",
    "\n",
    "Wszystkie materiały do zajęć, wykłady i ćwiczenia są dostępne online w postaci Jupyter Book. (smolakk.github.io/UczenieMaszynowe2025)\n",
    "\n",
    "Materiały są interaktywnymi notebookami Pythona, które umożliwiają prezentację i praktykę umiejętności związanych z uczeniem maszynowym.\n",
    "\n",
    "Materiały będą dostępne online *przed* ćwiczeniami, co pozwoli na realizację zajęć w fomie _odwróconej_, w której studenci zapoznają się z materiałami *przed* ćwiczeniami. Dzięki temu możemy postawić większy nacisk na praktykę w trakcie zajęć."
   ]
  },
  {
   "cell_type": "code",
   "execution_count": 1,
   "id": "88a4736b",
   "metadata": {},
   "outputs": [
    {
     "data": {
      "application/vnd.jupyter.widget-view+json": {
       "model_id": "d051b8fa091945828812d0a592fc86b6",
       "version_major": 2,
       "version_minor": 0
      },
      "text/plain": [
       "interactive(children=(FloatSlider(value=1.0, description='C (Inverse of Regularization Strength)', max=1.0, mi…"
      ]
     },
     "metadata": {},
     "output_type": "display_data"
    }
   ],
   "source": [
    "import numpy as np\n",
    "import matplotlib.pyplot as plt\n",
    "from sklearn.datasets import load_iris\n",
    "from sklearn.model_selection import train_test_split\n",
    "from sklearn.preprocessing import StandardScaler\n",
    "from sklearn.linear_model import LogisticRegression\n",
    "from sklearn.decomposition import PCA\n",
    "from sklearn.metrics import accuracy_score\n",
    "import ipywidgets as widgets\n",
    "from ipywidgets import interact\n",
    "\n",
    "# Load Iris Dataset\n",
    "iris = load_iris()\n",
    "X = iris.data\n",
    "y = iris.target\n",
    "\n",
    "# Use PCA to reduce to 2 dimensions for visualization\n",
    "pca = PCA(n_components=2)\n",
    "X_reduced = pca.fit_transform(X)\n",
    "\n",
    "# Standardize the dataset\n",
    "scaler = StandardScaler()\n",
    "X_reduced = scaler.fit_transform(X_reduced)\n",
    "\n",
    "# Train-test split\n",
    "X_train, X_test, y_train, y_test = train_test_split(X_reduced, y, test_size=0.2, random_state=42)\n",
    "\n",
    "# Interactive function to visualize the decision boundary with different regularization strength\n",
    "def plot_classification(C):\n",
    "    # Create and train the model\n",
    "    model = LogisticRegression(C=C, multi_class='ovr')\n",
    "    model.fit(X_train, y_train)\n",
    "\n",
    "    # Predict the test set\n",
    "    y_pred = model.predict(X_test)\n",
    "    accuracy = accuracy_score(y_test, y_pred)\n",
    "\n",
    "    # Plot decision boundary\n",
    "    plt.figure(figsize=(8, 6))\n",
    "    x_min, x_max = X_train[:, 0].min() - 1, X_train[:, 0].max() + 1\n",
    "    y_min, y_max = X_train[:, 1].min() - 1, X_train[:, 1].max() + 1\n",
    "    xx, yy = np.meshgrid(np.arange(x_min, x_max, 0.01), np.arange(y_min, y_max, 0.01))\n",
    "    Z = model.predict(np.c_[xx.ravel(), yy.ravel()])\n",
    "    Z = Z.reshape(xx.shape)\n",
    "\n",
    "    plt.contourf(xx, yy, Z, alpha=0.8)\n",
    "    plt.scatter(X_train[:, 0], X_train[:, 1], c=y_train, edgecolors='k', marker='o', label='Train set')\n",
    "    plt.scatter(X_test[:, 0], X_test[:, 1], c=y_test, marker='x', label='Test set')\n",
    "    \n",
    "    plt.title(f'Logistic Regression (C={C:.2f})\\nAccuracy: {accuracy:.2f}')\n",
    "    plt.xlabel('PCA Component 1')\n",
    "    plt.ylabel('PCA Component 2')\n",
    "    plt.legend(loc='upper left')\n",
    "    plt.show()\n",
    "\n",
    "# Interactive slider to control the regularization strength (C parameter)\n",
    "interact(plot_classification, C=widgets.FloatSlider(value=1.0, min=0.01, max=1.0, step=.1, description='C (Inverse of Regularization Strength)'));\n"
   ]
  },
  {
   "cell_type": "markdown",
   "id": "4c5d9557",
   "metadata": {},
   "source": [
    "## Cel zajęć i ćwiczeń\n",
    "\n",
    "Przedmiot obejmuje wprowadzenie i kształcenie w dziedzinie uczenia maszynowego i powiązanych obszarów, takich jak Data Science.\n",
    "\n",
    "Ćwiczenia skupią się na praktyce związanej z uczeniem maszynowym.\n",
    "\n",
    "\n",
    "## Dzisiejsze ćwiczenia\n",
    "\n",
    "Podstawową umiejętnością (dla tych zajęć jak i dla stosowania uczenia maszynowego) jest programowanie w Pythonie. Dzisiejsze ćwiczenia poświęcone są przypomnieniu sobie tej umiejętności oraz ocenie Państwa zaawansowania w programowaniu w Pythonie.\n",
    "\n",
    "Python jest najlepszym językiem do nauki uczenia maszynowego, głównie ze względu na bogactwo bibliotek i narzędzi poświęconych temu tematowi.\n",
    "\n",
    "\n",
    "## Czym jest uczenie maszynowe?\n",
    "\n",
    "Uczenie maszynowe (Machine Learning) to poddział sztucznej inteligencji (AI) (na wykładzie więcej o tym podziale), który zajmuje się rozwojem algorytmów zdolnych do uczenia się na podstawie danych i wykonywania pewnych decyzji lub predykcji nie będąc wprost zaprogramowanych do tego.\n",
    "\n",
    "Algorytmy uczenia maszynowego mają za zadanie odkryć wzorzec w danych i powiązać ze sposobem rozwiązania konkretnego zadania.\n",
    "\n",
    "Pokrótce można powiedzieć że algorytmy uczą sie na podstawie doświadczenia E jak wykonać zadanie T oceniając się poprzez P, wtedy gdy ich zdolność do wykonywania T oceniana przez P wzrasta dzięki E.\n",
    "\n",
    "To oznacza, że algorytmy ulepszają się bez interwencji człowieka, to nazywamy \"uczeniem\".\n",
    "\n",
    "### Kluczowe koncepcje związane z uczeniem maszynowym:\n",
    "\n",
    "* Oparte na danych - podstawą uczenia maszynowego są dane. Te dane to właśnie doświadczenie E. Bez nich, niemożliwy jest trening algorytmu.\n",
    "    \n",
    "    \n",
    "* Nauka na podstawie doświadczenia E oznacza wykorzystanie jakichś danych, np. historycznych by zdobyć wiedzę i zaaplikować je do obecnego problemu i nowych danych opisujących ten problem.\n",
    "    \n",
    "    \n",
    "* Model - modele stanowią podstawę uczenia maszynowego, modele stworzone są tak by być w stanie się uczyć.\n",
    "    \n",
    "    \n",
    "* Trening - trening oznacza pozyskiwanie wiedzy z doświadczenia E i odpowiednie dostosowanie modelu według miary oceny P by wykonać T\n",
    "    \n",
    "    \n",
    "* Testowanie - testowanie jest niezbędne do oceny tego jak nasz model radzi sobie w rzeczywistości. Oceniamy jak wykonuje zadanie T na podstawie miar P.\n",
    "     \n",
    "     \n",
    "* Uczenie nadzorowane - uczenie, w którym algorytm na podstawie \"poprawnych\" przykładów wykonania zadania uczy się jak je wykonywać.\n",
    "\n",
    "\n",
    "* Uczenie nienadzorowane - uczenie, w którym algorytm musi wykonuje zadanie bez poprawnych przykładów, odkrywając ukryte wzorce w danych.\n",
    "\n",
    "\n",
    "* Uczenie przez wzmocnienie - typ uczenia, w którym algorytm poprzez interakcję z otoczeniem i system nagród i kar uczy się wykonywać zadanie.\n",
    "\n",
    "\n",
    "## Niezbędne umiejętności\n",
    "\n",
    "\n",
    "* Statystyka\n",
    "    * Rachunek prawdopodobieństwa, podstawy statystyki (miary statystyczne, rozkłady zmiennych, testy statystyczne)\n",
    "        * Modele uczenia maszynowego oparte są na koncepcji prawdopodobieństwa\n",
    "        * Zrozumienie danych wymaga znajomość właściwości statystycznych danych\n",
    "    * Algebra liniowa\n",
    "        * Algebra liniowa stanowi podstawę obliczeń prowadzonych w algorytmach, obejmuje to operacje na wektorach, macierzach i tensorach, transformacje linearne\n",
    "    * Rachunek różniczkowy\n",
    "         * Większość algorytmów, a zwłaszcza część związana z ich optymalizacją jest oparta na pojęciu pochodnych i gradientów. Wiedza ta niezbędna jest do \"uczenia\" algorytmów\n",
    "    * Rachunek wyrównawczy (optymalizacja)\n",
    "         * Wiedza z rachunku wyrównawczego (choć niezwiązana z geodezyjnym wymiarem wiedzy) będzie bardzo przydatna w kontekście optymalizacji modeli - o to w końcu chodzi w rachunku wyrównawczym.\n",
    "* Programowanie (Python)\n",
    "    * Biblioteki Pythona związane z uczeniem maszynowym:\n",
    "        * NumPy - algebra liniowa\n",
    "        * Pandas - zarządzanie danymi\n",
    "        * Matplotlib - wizualizacja danych\n",
    "        * Scikit-learn - standardowe algorytmy uczenia maszynowego\n",
    "        * TensorFlow, Keras, PyTorch - uczenie głębokie"
   ]
  },
  {
   "cell_type": "markdown",
   "id": "b06de77a",
   "metadata": {},
   "source": [
    "## Potrenujmy zatem Pythona (i matematykę)\n",
    "\n",
    "### Wykonaj mnożenie dwóch wektorów z wykorzystaniem:\n",
    "\n",
    "    1. Wyłącznie Pythona (uwzględnij ograniczenia - wektory muszą być tej samej długości)\n",
    "    2. Wykorzystając bibliotekę NumPy\n",
    "    \n",
    "Mnożymy dwa wektory a i b, jak podane poniżej:\n",
    "\n",
    "a = [1, 2, 3]\n",
    "b = [4, 5, 6]\n",
    "\n",
    "\n",
    "Oczekiwany wynik: 32"
   ]
  },
  {
   "cell_type": "code",
   "execution_count": null,
   "id": "5e16904c",
   "metadata": {},
   "outputs": [],
   "source": []
  },
  {
   "cell_type": "markdown",
   "id": "8196076a",
   "metadata": {},
   "source": [
    "### Wykonaj mnożenie dwóch macierzy z wykorzystaniem:\n",
    "\n",
    "1. Wyłącznie Pythona (uwzględnij warunek)\n",
    "2. Wykorzystując NumPy\n",
    "\n",
    "Wejście:\n",
    "A = [[1, 2], [3, 4]]\n",
    "B = [[5, 6], [7, 8]]\n",
    "\n",
    "Wyjście:\n",
    "[[19, 22], [43, 50]]"
   ]
  },
  {
   "cell_type": "code",
   "execution_count": 2,
   "id": "5ad25169",
   "metadata": {},
   "outputs": [],
   "source": [
    "A = [[1, 2], [3, 4]]\n",
    "B = [[5, 6], [7, 8]]"
   ]
  },
  {
   "cell_type": "code",
   "execution_count": null,
   "id": "366f734e",
   "metadata": {},
   "outputs": [],
   "source": []
  },
  {
   "cell_type": "markdown",
   "id": "e5426789",
   "metadata": {},
   "source": [
    "### Oblicz pochodną funkcji wykorzystując:\n",
    "\n",
    "0. Ręcznie\n",
    "1. Wyłącznie Pythona\n",
    "2. Wykorzystując SciPy\n",
    "\n",
    "Obliczmy pochodną dla funkcji\n",
    "\n",
    "def f(x):\n",
    "    return x**2\n",
    "    \n",
    "w punkcie 2, przyjmij mały krok ~1e-5\n",
    "\n",
    "<p>Wykorzystaj wzór:</p>\n",
    "<p>\n",
    "  <math xmlns=\"http://www.w3.org/1998/Math/MathML\">\n",
    "    <mfrac>\n",
    "      <mrow>\n",
    "        <mi>f</mi><mo>&#x2061;</mo><mo>&#x2061;</mo><mo>(</mo><msub><mi>x</mi><mn>0</mn></msub><mo>+</mo><mi>h</mi><mo>)</mo><mo>-</mo>\n",
    "        <mi>f</mi><mo>&#x2061;</mo><mo>(</mo><msub><mi>x</mi><mn>0</mn></msub><mo>-</mo><mi>h</mi><mo>)</mo>\n",
    "      </mrow>\n",
    "      <mrow>\n",
    "        <mn>/2</mn><mi>h</mi>\n",
    "      </mrow>\n",
    "    </mfrac>\n",
    "  </math>\n",
    "</p>\n"
   ]
  },
  {
   "cell_type": "code",
   "execution_count": 3,
   "id": "210eefee",
   "metadata": {},
   "outputs": [],
   "source": [
    "def f(x):\n",
    "    return x**2\n",
    "\n",
    "x0 = 2\n",
    "h = 1e-5 "
   ]
  },
  {
   "cell_type": "code",
   "execution_count": null,
   "id": "228493dd",
   "metadata": {},
   "outputs": [],
   "source": []
  },
  {
   "cell_type": "code",
   "execution_count": null,
   "id": "0ed67367",
   "metadata": {},
   "outputs": [],
   "source": []
  },
  {
   "cell_type": "code",
   "execution_count": 4,
   "id": "cdb3f01e",
   "metadata": {},
   "outputs": [],
   "source": [
    "from scipy.misc import derivative"
   ]
  },
  {
   "cell_type": "markdown",
   "id": "4f5f3c25",
   "metadata": {},
   "source": [
    "### Oblicz wartość prawdopodobieństwa w rozkładzie normalnym wykorzystując:\n",
    "\n",
    "1. Wyłącznie Pythona\n",
    "2. Wykorzystując SciPy\n",
    "\n",
    "\n",
    "i zwizualizuj wykres dla różnych parametrów."
   ]
  },
  {
   "cell_type": "code",
   "execution_count": null,
   "id": "7a49720b",
   "metadata": {},
   "outputs": [],
   "source": []
  },
  {
   "cell_type": "code",
   "execution_count": 5,
   "id": "ac22465e",
   "metadata": {},
   "outputs": [],
   "source": [
    "from scipy.stats import norm"
   ]
  },
  {
   "cell_type": "markdown",
   "id": "dd892b95",
   "metadata": {},
   "source": [
    "### Rozwiąż problem optymalizacyjny wykorzystując:\n",
    "\n",
    "1. Wykorzystując NumPy\n",
    "2. wykorzystując SciPy\n",
    "\n",
    "Optymalizowana funkcja jest liniowa:\n",
    "y = XA\n",
    "\n",
    "gdzie A to poszukiwane parametry.\n",
    "\n",
    "Dane do optymalizacji:\n",
    "\n",
    "X = np.array([[1, 1], [1, 2], [1, 3], [1, 4]])\n",
    "y = np.array([2, 3, 4, 5])"
   ]
  },
  {
   "cell_type": "code",
   "execution_count": 6,
   "id": "a0ccaf26",
   "metadata": {},
   "outputs": [],
   "source": [
    "X = np.array([[1, 1], [1, 2], [1, 3], [1, 4]])\n",
    "y = np.array([2, 3, 4, 5])"
   ]
  },
  {
   "cell_type": "code",
   "execution_count": 84,
   "id": "65ffc496",
   "metadata": {},
   "outputs": [
    {
     "data": {
      "text/plain": [
       "array([1., 1.])"
      ]
     },
     "execution_count": 84,
     "metadata": {},
     "output_type": "execute_result"
    }
   ],
   "source": []
  },
  {
   "cell_type": "code",
   "execution_count": 7,
   "id": "0c1e246e",
   "metadata": {},
   "outputs": [],
   "source": [
    "from scipy.optimize import minimize\n",
    "\n",
    "def kwadrat_bledu(theta, X, y):\n",
    "    m = len(y)  # Liczba próbek\n",
    "    predictions = X.dot(theta) # predykcje\n",
    "    return (1 / (2 * m)) * np.sum((predictions - y) ** 2) # suma kwadratów błędu"
   ]
  }
 ],
 "metadata": {
  "kernelspec": {
   "display_name": "Python 3 (ipykernel)",
   "language": "python",
   "name": "python3"
  },
  "language_info": {
   "codemirror_mode": {
    "name": "ipython",
    "version": 3
   },
   "file_extension": ".py",
   "mimetype": "text/x-python",
   "name": "python",
   "nbconvert_exporter": "python",
   "pygments_lexer": "ipython3",
   "version": "3.9.12"
  },
  "widgets": {
   "application/vnd.jupyter.widget-state+json": {
    "state": {
     "15697e6d433745b88ccf8ad3c67db3f0": {
      "model_module": "@jupyter-widgets/base",
      "model_module_version": "1.2.0",
      "model_name": "LayoutModel",
      "state": {
       "_model_module": "@jupyter-widgets/base",
       "_model_module_version": "1.2.0",
       "_model_name": "LayoutModel",
       "_view_count": null,
       "_view_module": "@jupyter-widgets/base",
       "_view_module_version": "1.2.0",
       "_view_name": "LayoutView",
       "align_content": null,
       "align_items": null,
       "align_self": null,
       "border": null,
       "bottom": null,
       "display": null,
       "flex": null,
       "flex_flow": null,
       "grid_area": null,
       "grid_auto_columns": null,
       "grid_auto_flow": null,
       "grid_auto_rows": null,
       "grid_column": null,
       "grid_gap": null,
       "grid_row": null,
       "grid_template_areas": null,
       "grid_template_columns": null,
       "grid_template_rows": null,
       "height": null,
       "justify_content": null,
       "justify_items": null,
       "left": null,
       "margin": null,
       "max_height": null,
       "max_width": null,
       "min_height": null,
       "min_width": null,
       "object_fit": null,
       "object_position": null,
       "order": null,
       "overflow": null,
       "overflow_x": null,
       "overflow_y": null,
       "padding": null,
       "right": null,
       "top": null,
       "visibility": null,
       "width": null
      }
     },
     "1d08d75c8d544295bc6be89f32f6a676": {
      "model_module": "@jupyter-widgets/controls",
      "model_module_version": "1.5.0",
      "model_name": "SliderStyleModel",
      "state": {
       "_model_module": "@jupyter-widgets/controls",
       "_model_module_version": "1.5.0",
       "_model_name": "SliderStyleModel",
       "_view_count": null,
       "_view_module": "@jupyter-widgets/base",
       "_view_module_version": "1.2.0",
       "_view_name": "StyleView",
       "description_width": "",
       "handle_color": null
      }
     },
     "6eafe4a2ba634e1993a46c4c67299838": {
      "model_module": "@jupyter-widgets/base",
      "model_module_version": "1.2.0",
      "model_name": "LayoutModel",
      "state": {
       "_model_module": "@jupyter-widgets/base",
       "_model_module_version": "1.2.0",
       "_model_name": "LayoutModel",
       "_view_count": null,
       "_view_module": "@jupyter-widgets/base",
       "_view_module_version": "1.2.0",
       "_view_name": "LayoutView",
       "align_content": null,
       "align_items": null,
       "align_self": null,
       "border": null,
       "bottom": null,
       "display": null,
       "flex": null,
       "flex_flow": null,
       "grid_area": null,
       "grid_auto_columns": null,
       "grid_auto_flow": null,
       "grid_auto_rows": null,
       "grid_column": null,
       "grid_gap": null,
       "grid_row": null,
       "grid_template_areas": null,
       "grid_template_columns": null,
       "grid_template_rows": null,
       "height": null,
       "justify_content": null,
       "justify_items": null,
       "left": null,
       "margin": null,
       "max_height": null,
       "max_width": null,
       "min_height": null,
       "min_width": null,
       "object_fit": null,
       "object_position": null,
       "order": null,
       "overflow": null,
       "overflow_x": null,
       "overflow_y": null,
       "padding": null,
       "right": null,
       "top": null,
       "visibility": null,
       "width": null
      }
     },
     "87af2d967d3c4e55a9a2239d53594ae5": {
      "model_module": "@jupyter-widgets/output",
      "model_module_version": "1.0.0",
      "model_name": "OutputModel",
      "state": {
       "_dom_classes": [],
       "_model_module": "@jupyter-widgets/output",
       "_model_module_version": "1.0.0",
       "_model_name": "OutputModel",
       "_view_count": null,
       "_view_module": "@jupyter-widgets/output",
       "_view_module_version": "1.0.0",
       "_view_name": "OutputView",
       "layout": "IPY_MODEL_6eafe4a2ba634e1993a46c4c67299838",
       "msg_id": "",
       "outputs": [
        {
         "data": {
          "image/png": "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\n",
          "text/plain": "<Figure size 576x432 with 1 Axes>"
         },
         "metadata": {
          "needs_background": "light"
         },
         "output_type": "display_data"
        }
       ]
      }
     },
     "d051b8fa091945828812d0a592fc86b6": {
      "model_module": "@jupyter-widgets/controls",
      "model_module_version": "1.5.0",
      "model_name": "VBoxModel",
      "state": {
       "_dom_classes": [
        "widget-interact"
       ],
       "_model_module": "@jupyter-widgets/controls",
       "_model_module_version": "1.5.0",
       "_model_name": "VBoxModel",
       "_view_count": null,
       "_view_module": "@jupyter-widgets/controls",
       "_view_module_version": "1.5.0",
       "_view_name": "VBoxView",
       "box_style": "",
       "children": [
        "IPY_MODEL_d1977cace3d84d8e928c5832940440bd",
        "IPY_MODEL_87af2d967d3c4e55a9a2239d53594ae5"
       ],
       "layout": "IPY_MODEL_15697e6d433745b88ccf8ad3c67db3f0"
      }
     },
     "d1977cace3d84d8e928c5832940440bd": {
      "model_module": "@jupyter-widgets/controls",
      "model_module_version": "1.5.0",
      "model_name": "FloatSliderModel",
      "state": {
       "_dom_classes": [],
       "_model_module": "@jupyter-widgets/controls",
       "_model_module_version": "1.5.0",
       "_model_name": "FloatSliderModel",
       "_view_count": null,
       "_view_module": "@jupyter-widgets/controls",
       "_view_module_version": "1.5.0",
       "_view_name": "FloatSliderView",
       "continuous_update": true,
       "description": "C (Inverse of Regularization Strength)",
       "description_tooltip": null,
       "disabled": false,
       "layout": "IPY_MODEL_dd361ee65b674b94b62dfe8767eaad7c",
       "max": 1.0,
       "min": 0.01,
       "orientation": "horizontal",
       "readout": true,
       "readout_format": ".2f",
       "step": 0.1,
       "style": "IPY_MODEL_1d08d75c8d544295bc6be89f32f6a676",
       "value": 1.0
      }
     },
     "dd361ee65b674b94b62dfe8767eaad7c": {
      "model_module": "@jupyter-widgets/base",
      "model_module_version": "1.2.0",
      "model_name": "LayoutModel",
      "state": {
       "_model_module": "@jupyter-widgets/base",
       "_model_module_version": "1.2.0",
       "_model_name": "LayoutModel",
       "_view_count": null,
       "_view_module": "@jupyter-widgets/base",
       "_view_module_version": "1.2.0",
       "_view_name": "LayoutView",
       "align_content": null,
       "align_items": null,
       "align_self": null,
       "border": null,
       "bottom": null,
       "display": null,
       "flex": null,
       "flex_flow": null,
       "grid_area": null,
       "grid_auto_columns": null,
       "grid_auto_flow": null,
       "grid_auto_rows": null,
       "grid_column": null,
       "grid_gap": null,
       "grid_row": null,
       "grid_template_areas": null,
       "grid_template_columns": null,
       "grid_template_rows": null,
       "height": null,
       "justify_content": null,
       "justify_items": null,
       "left": null,
       "margin": null,
       "max_height": null,
       "max_width": null,
       "min_height": null,
       "min_width": null,
       "object_fit": null,
       "object_position": null,
       "order": null,
       "overflow": null,
       "overflow_x": null,
       "overflow_y": null,
       "padding": null,
       "right": null,
       "top": null,
       "visibility": null,
       "width": null
      }
     }
    },
    "version_major": 2,
    "version_minor": 0
   }
  }
 },
 "nbformat": 4,
 "nbformat_minor": 5
}