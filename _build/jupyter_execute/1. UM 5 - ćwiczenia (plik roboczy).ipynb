{
 "cells": [
  {
   "cell_type": "markdown",
   "id": "437e2b1e",
   "metadata": {},
   "source": [
    "# Uczenie Maszynowe - ćwiczenia 5 (plik roboczy)\n",
    "\n",
    "Dziś poznamy nowe algorytmy uczenia maszynowego, dowiemy się czegoś o hiperparametrach modeli i zastosujemy je w praktyce!"
   ]
  },
  {
   "cell_type": "markdown",
   "id": "712aad2e",
   "metadata": {},
   "source": [
    "# Support Vector Regression (SVR)\n",
    "\n",
    "Support Vector Regression (SVR) to algorytm oparty na zasadach Support Vector Machines (SVM), stosowany do regresji. Celem SVR jest znalezienie linii, krzywej lub powierzchni, która najlepiej odwzorowuje zależność między zmiennymi wejściowymi a wyjściową. Oto kluczowe aspekty działania SVR:\n",
    "\n",
    "Wektory nośne (support vector) oznacza wykorzystanie punktów \"najistotniejszych\" do wpsowania modelu.\n",
    "\n",
    "### Zasada Epsilon-Tube\n",
    "\n",
    "SVR nie próbuje dokładnie dopasować modelu do każdego punktu danych. Zamiast tego, określa pewien margines błędu, zwany epsilon (ε), w którym model toleruje różnice między przewidywanymi a rzeczywistymi wartościami.\n",
    "\n",
    "Jeśli punkt danych znajduje się w tym marginesie, jest traktowany jako \"dobrze dopasowany\" i nie wpływa na ostateczne rozwiązanie.\n",
    "Punkty poza marginesem (leżące poza epsilon-tube) przyczyniają się do błędu i są karane w funkcji kosztu.\n",
    "\n",
    "### Optymalizacja i marginesy\n",
    "\n",
    "Celem SVR jest znalezienie takiej linii/krzywej/powierzchni, która:\n",
    "\n",
    "Minimalizuje odchylenie od danych, jednocześnie dopuszczając tolerancję ε.\n",
    "Maksymalizuje płaskość funkcji, co oznacza regularyzację.\n",
    "\n",
    "Formuła optymalizacji w SVR uwzględnia dwa aspekty:\n",
    "\n",
    "Minimalizację ∣∣w∣∣2 (ograniczanie modelu, aby był prosty).\n",
    "Minimalizację błędów dla punktów poza epsilon-tube (punkty trudne do przewidzenia są karane proporcjonalnie do ich odległości od marginesu).\n",
    "\n",
    "### Kara za odchylenia - parametr C\n",
    "\n",
    "Parametr C kontroluje kompromis między dopasowaniem modelu a jego ogólną złożonością:\n",
    "\n",
    "    Niskie C: Model jest bardziej elastyczny, dopuszcza większe błędy, co może skutkować niedopasowaniem (underfitting).\n",
    "    Wysokie C: Model bardziej stara się dopasować do danych treningowych, co może prowadzić do przeuczenia (overfitting).\n",
    "\n",
    "### Kernel i przestrzeń cech\n",
    "\n",
    "SVR może pracować z danymi nieliniowymi dzięki tzw. trikom jądrowym (kernel tricks):\n",
    "\n",
    "Kernel przekształca dane do wyższej przestrzeni wymiarów, gdzie można łatwiej znaleźć liniową hiperpowierzchnię (np. linię regresji).\n",
    "\n",
    "Popularne kernele to:\n",
    "        \n",
    "        Linear (prosta regresja liniowa),\n",
    "        Polynomial (model polinomiczny),\n",
    "        RBF (nieliniowy model z funkcją radialną, dobry dla złożonych danych).\n",
    "\n",
    "### Epsilon i funkcja kosztu\n",
    "\n",
    "Parametr ε (epsilon) definiuje szerokość marginesu tolerancji:\n",
    "\n",
    "    Mniejsze epsilon: Model stara się bardziej dopasować do danych, co może skutkować przeuczeniem.\n",
    "    Większe epsilon: Model jest bardziej tolerancyjny na błędy i ignoruje drobne odchylenia.\n"
   ]
  },
  {
   "cell_type": "code",
   "execution_count": 1,
   "id": "a1f2fcc2",
   "metadata": {},
   "outputs": [
    {
     "data": {
      "application/vnd.jupyter.widget-view+json": {
       "model_id": "32a1913d28d84e3dad7adb224dcbeb65",
       "version_major": 2,
       "version_minor": 0
      },
      "text/plain": [
       "interactive(children=(FloatSlider(value=1.0, description='C', min=0.1), FloatSlider(value=0.1, description='ep…"
      ]
     },
     "metadata": {},
     "output_type": "display_data"
    },
    {
     "data": {
      "text/plain": [
       "<function __main__.plot_svr(C=1.0, epsilon=0.1, kernel='rbf')>"
      ]
     },
     "execution_count": 1,
     "metadata": {},
     "output_type": "execute_result"
    }
   ],
   "source": [
    "import numpy as np\n",
    "import matplotlib.pyplot as plt\n",
    "from sklearn.svm import SVR\n",
    "from ipywidgets import interact\n",
    "\n",
    "# Generate synthetic data\n",
    "np.random.seed(42)\n",
    "X = np.sort(5 * np.random.rand(50, 1), axis=0)\n",
    "y = X.ravel() + 4 * (0.5 - np.random.rand(50))\n",
    "\n",
    "# Function to plot SVR with interactive controls\n",
    "def plot_svr(C=1.0, epsilon=0.1, kernel='rbf'):\n",
    "    # Train SVR model\n",
    "    svr = SVR(kernel=kernel, C=C, epsilon=epsilon)\n",
    "    svr.fit(X, y)\n",
    "    \n",
    "    # Generate predictions\n",
    "    X_fit = np.linspace(0, 5, 500).reshape(-1, 1)\n",
    "    y_fit = svr.predict(X_fit)\n",
    "    \n",
    "    # Plot data and SVR predictions\n",
    "    plt.figure(figsize=(10, 6))\n",
    "    plt.scatter(X, y, color='red', label='Data points')\n",
    "    plt.plot(X_fit, y_fit, color='blue', label='SVR prediction')\n",
    "    plt.fill_between(\n",
    "        X_fit.ravel(),\n",
    "        y_fit - epsilon,\n",
    "        y_fit + epsilon,\n",
    "        color='blue',\n",
    "        alpha=0.2,\n",
    "        label=f\"Epsilon-tube (ε={epsilon})\"\n",
    "    )\n",
    "    plt.title(f\"Support Vector Regression (Kernel: {kernel}, C={C}, ε={epsilon})\")\n",
    "    plt.xlabel(\"X\")\n",
    "    plt.ylabel(\"y\")\n",
    "    plt.legend()\n",
    "    plt.show()\n",
    "\n",
    "# Create interactive widget\n",
    "interact(\n",
    "    plot_svr,\n",
    "    C=(0.1, 100.0, 0.1),\n",
    "    epsilon=(0.01, 1.0, 0.01),\n",
    "    kernel=['linear', 'poly', 'rbf']\n",
    ")\n"
   ]
  },
  {
   "cell_type": "code",
   "execution_count": 2,
   "id": "a23bdb9f",
   "metadata": {},
   "outputs": [
    {
     "data": {
      "application/vnd.jupyter.widget-view+json": {
       "model_id": "732a9984f6a54b0d80935183822740f2",
       "version_major": 2,
       "version_minor": 0
      },
      "text/plain": [
       "interactive(children=(FloatSlider(value=1.0, description='C', min=0.1), FloatSlider(value=0.1, description='ep…"
      ]
     },
     "metadata": {},
     "output_type": "display_data"
    },
    {
     "data": {
      "text/plain": [
       "<function __main__.plot_svr(C=1.0, epsilon=0.1, kernel='rbf')>"
      ]
     },
     "execution_count": 2,
     "metadata": {},
     "output_type": "execute_result"
    }
   ],
   "source": [
    "import numpy as np\n",
    "import matplotlib.pyplot as plt\n",
    "from sklearn.svm import SVR\n",
    "from ipywidgets import interact\n",
    "\n",
    "# Generate synthetic data\n",
    "np.random.seed(42)\n",
    "X = np.sort(5 * np.random.rand(50, 1), axis=0)\n",
    "y = np.sin(X).ravel() + 0.3 * (0.5 - np.random.rand(50))\n",
    "\n",
    "# Function to plot SVR with interactive controls\n",
    "def plot_svr(C=1.0, epsilon=0.1, kernel='rbf'):\n",
    "    # Train SVR model\n",
    "    svr = SVR(kernel=kernel, C=C, epsilon=epsilon)\n",
    "    svr.fit(X, y)\n",
    "    \n",
    "    # Generate predictions\n",
    "    X_fit = np.linspace(0, 5, 500).reshape(-1, 1)\n",
    "    y_fit = svr.predict(X_fit)\n",
    "    \n",
    "    # Plot data and SVR predictions\n",
    "    plt.figure(figsize=(10, 6))\n",
    "    plt.scatter(X, y, color='red', label='Data points')\n",
    "    plt.plot(X_fit, y_fit, color='blue', label='SVR prediction')\n",
    "    plt.fill_between(\n",
    "        X_fit.ravel(),\n",
    "        y_fit - epsilon,\n",
    "        y_fit + epsilon,\n",
    "        color='blue',\n",
    "        alpha=0.2,\n",
    "        label=f\"Epsilon-tube (ε={epsilon})\"\n",
    "    )\n",
    "    plt.title(f\"Support Vector Regression (Kernel: {kernel}, C={C}, ε={epsilon})\")\n",
    "    plt.xlabel(\"X\")\n",
    "    plt.ylabel(\"y\")\n",
    "    plt.legend()\n",
    "    plt.show()\n",
    "\n",
    "# Create interactive widget\n",
    "interact(\n",
    "    plot_svr,\n",
    "    C=(0.1, 100.0, 0.1),\n",
    "    epsilon=(0.01, 1.0, 0.01),\n",
    "    kernel=['linear', 'poly', 'rbf']\n",
    ")\n"
   ]
  },
  {
   "cell_type": "markdown",
   "id": "e29b0ee1",
   "metadata": {},
   "source": [
    "# Zadanie 1.\n",
    "\n",
    "Poniżej znajdziesz wygenerowane dwa zestawy danych. Wykorzystaj algorytm SVR by jak najlepiej rozwiązać problem predykcji. Wyświetl wpasowany model w dane by lepiej zwizualizować zależność parametrów od zachowania algorytmu.\n"
   ]
  },
  {
   "cell_type": "code",
   "execution_count": 3,
   "id": "9d67c47a-9efe-41a4-bc9f-f589bfc05ebe",
   "metadata": {},
   "outputs": [],
   "source": [
    "import matplotlib.pyplot as plt"
   ]
  },
  {
   "cell_type": "code",
   "execution_count": 4,
   "id": "a77ea37b",
   "metadata": {},
   "outputs": [],
   "source": [
    "from sklearn.datasets import make_regression\n",
    "dataset1 = make_regression(n_samples=1000,n_features=1,noise=3)\n",
    "dataset1_x = dataset1[0]\n",
    "dataset1_y = dataset1[1]\n",
    "dataset2 = make_regression(n_samples=1000,n_features=1,noise=3)\n",
    "dataset2_x = dataset2[0]\n",
    "dataset2_y = dataset2[1]**2"
   ]
  },
  {
   "cell_type": "code",
   "execution_count": 5,
   "id": "9a0400c8",
   "metadata": {},
   "outputs": [
    {
     "data": {
      "text/plain": [
       "<matplotlib.collections.PathCollection at 0x1e86ffd2190>"
      ]
     },
     "execution_count": 5,
     "metadata": {},
     "output_type": "execute_result"
    },
    {
     "data": {
      "image/png": "[encoded data removed]",
      "text/plain": [
       "<Figure size 432x288 with 1 Axes>"
      ]
     },
     "metadata": {
      "needs_background": "light"
     },
     "output_type": "display_data"
    }
   ],
   "source": [
    "plt.scatter(dataset1_x,dataset1_y)"
   ]
  },
  {
   "cell_type": "code",
   "execution_count": 6,
   "id": "8821065e",
   "metadata": {},
   "outputs": [
    {
     "data": {
      "text/plain": [
       "<matplotlib.collections.PathCollection at 0x1e86f82c1c0>"
      ]
     },
     "execution_count": 6,
     "metadata": {},
     "output_type": "execute_result"
    },
    {
     "data": {
      "image/png": "[encoded data removed]",
      "text/plain": [
       "<Figure size 432x288 with 1 Axes>"
      ]
     },
     "metadata": {
      "needs_background": "light"
     },
     "output_type": "display_data"
    }
   ],
   "source": [
    "plt.scatter(dataset2_x,dataset2_y)"
   ]
  },
  {
   "cell_type": "code",
   "execution_count": 7,
   "id": "c30b9f19-a641-4c2f-ab96-4b6f8b017c8a",
   "metadata": {},
   "outputs": [
    {
     "data": {
      "text/plain": [
       "array([ 0.01,  1.12,  2.23,  3.34,  4.45,  5.56,  6.67,  7.78,  8.89,\n",
       "       10.  ])"
      ]
     },
     "execution_count": 7,
     "metadata": {},
     "output_type": "execute_result"
    }
   ],
   "source": [
    "np.linspace(0.01,10,10)"
   ]
  },
  {
   "cell_type": "code",
   "execution_count": 8,
   "id": "992a934a",
   "metadata": {},
   "outputs": [
    {
     "name": "stdout",
     "output_type": "stream",
     "text": [
      "Fitting 5 folds for each of 800 candidates, totalling 4000 fits\n",
      "[CV 1/5] END C=0.01, epsilon=0.01, gamma=scale, kernel=rbf;, score=0.032 total time=   0.0s\n",
      "[CV 2/5] END C=0.01, epsilon=0.01, gamma=scale, kernel=rbf;, score=0.038 total time=   0.0s\n",
      "[CV 3/5] END C=0.01, epsilon=0.01, gamma=scale, kernel=rbf;, score=0.031 total time=   0.0s\n",
      "[CV 4/5] END C=0.01, epsilon=0.01, gamma=scale, kernel=rbf;, score=0.014 total time=   0.0s\n",
      "[CV 5/5] END C=0.01, epsilon=0.01, gamma=scale, kernel=rbf;, score=0.035 total time=   0.0s\n",
      "[CV 1/5] END C=0.01, epsilon=0.01, gamma=scale, kernel=linear;, score=0.160 total time=   0.0s\n"
     ]
    },
    {
     "name": "stdout",
     "output_type": "stream",
     "text": [
      "[CV 2/5] END C=0.01, epsilon=0.01, gamma=scale, kernel=linear;, score=0.166 total time=   0.0s\n",
      "[CV 3/5] END C=0.01, epsilon=0.01, gamma=scale, kernel=linear;, score=0.157 total time=   0.0s\n",
      "[CV 4/5] END C=0.01, epsilon=0.01, gamma=scale, kernel=linear;, score=0.146 total time=   0.0s\n",
      "[CV 5/5] END C=0.01, epsilon=0.01, gamma=scale, kernel=linear;, score=0.162 total time=   0.0s\n",
      "[CV 1/5] END C=0.01, epsilon=0.01, gamma=scale, kernel=poly;, score=0.541 total time=   0.0s\n",
      "[CV 2/5] END C=0.01, epsilon=0.01, gamma=scale, kernel=poly;, score=0.436 total time=   0.0s\n",
      "[CV 3/5] END C=0.01, epsilon=0.01, gamma=scale, kernel=poly;, score=0.509 total time=   0.0s\n",
      "[CV 4/5] END C=0.01, epsilon=0.01, gamma=scale, kernel=poly;, score=0.555 total time=   0.0s\n",
      "[CV 5/5] END C=0.01, epsilon=0.01, gamma=scale, kernel=poly;, score=0.473 total time=   0.0s\n"
     ]
    },
    {
     "name": "stdout",
     "output_type": "stream",
     "text": [
      "[CV 1/5] END C=0.01, epsilon=0.01, gamma=scale, kernel=sigmoid;, score=0.080 total time=   0.0s\n",
      "[CV 2/5] END C=0.01, epsilon=0.01, gamma=scale, kernel=sigmoid;, score=0.084 total time=   0.0s\n",
      "[CV 3/5] END C=0.01, epsilon=0.01, gamma=scale, kernel=sigmoid;, score=0.079 total time=   0.0s\n",
      "[CV 4/5] END C=0.01, epsilon=0.01, gamma=scale, kernel=sigmoid;, score=0.065 total time=   0.0s\n",
      "[CV 5/5] END C=0.01, epsilon=0.01, gamma=scale, kernel=sigmoid;, score=0.083 total time=   0.0s\n",
      "[CV 1/5] END C=0.01, epsilon=0.01, gamma=auto, kernel=rbf;, score=0.031 total time=   0.0s\n",
      "[CV 2/5] END C=0.01, epsilon=0.01, gamma=auto, kernel=rbf;, score=0.037 total time=   0.0s\n"
     ]
    },
    {
     "name": "stdout",
     "output_type": "stream",
     "text": [
      "[CV 3/5] END C=0.01, epsilon=0.01, gamma=auto, kernel=rbf;, score=0.031 total time=   0.0s\n",
      "[CV 4/5] END C=0.01, epsilon=0.01, gamma=auto, kernel=rbf;, score=0.013 total time=   0.0s\n",
      "[CV 5/5] END C=0.01, epsilon=0.01, gamma=auto, kernel=rbf;, score=0.035 total time=   0.0s\n",
      "[CV 1/5] END C=0.01, epsilon=0.01, gamma=auto, kernel=linear;, score=0.160 total time=   0.0s\n",
      "[CV 2/5] END C=0.01, epsilon=0.01, gamma=auto, kernel=linear;, score=0.166 total time=   0.0s\n",
      "[CV 3/5] END C=0.01, epsilon=0.01, gamma=auto, kernel=linear;, score=0.157 total time=   0.0s\n",
      "[CV 4/5] END C=0.01, epsilon=0.01, gamma=auto, kernel=linear;, score=0.146 total time=   0.0s\n",
      "[CV 5/5] END C=0.01, epsilon=0.01, gamma=auto, kernel=linear;, score=0.162 total time=   0.0s\n",
      "[CV 1/5] END C=0.01, epsilon=0.01, gamma=auto, kernel=poly;, score=0.588 total time=   0.0s\n",
      "[CV 2/5] END C=0.01, epsilon=0.01, gamma=auto, kernel=poly;, score=0.545 total time=   0.0s\n"
     ]
    },
    {
     "name": "stdout",
     "output_type": "stream",
     "text": [
      "[CV 3/5] END C=0.01, epsilon=0.01, gamma=auto, kernel=poly;, score=0.572 total time=   0.0s\n",
      "[CV 4/5] END C=0.01, epsilon=0.01, gamma=auto, kernel=poly;, score=0.604 total time=   0.0s\n",
      "[CV 5/5] END C=0.01, epsilon=0.01, gamma=auto, kernel=poly;, score=0.562 total time=   0.0s\n",
      "[CV 1/5] END C=0.01, epsilon=0.01, gamma=auto, kernel=sigmoid;, score=0.084 total time=   0.0s\n",
      "[CV 2/5] END C=0.01, epsilon=0.01, gamma=auto, kernel=sigmoid;, score=0.092 total time=   0.0s\n",
      "[CV 3/5] END C=0.01, epsilon=0.01, gamma=auto, kernel=sigmoid;, score=0.084 total time=   0.0s\n",
      "[CV 4/5] END C=0.01, epsilon=0.01, gamma=auto, kernel=sigmoid;, score=0.069 total time=   0.0s\n",
      "[CV 5/5] END C=0.01, epsilon=0.01, gamma=auto, kernel=sigmoid;, score=0.088 total time=   0.0s\n"
     ]
    },
    {
     "name": "stdout",
     "output_type": "stream",
     "text": [
      "[CV 1/5] END C=0.01, epsilon=0.12, gamma=scale, kernel=rbf;, score=0.032 total time=   0.0s\n",
      "[CV 2/5] END C=0.01, epsilon=0.12, gamma=scale, kernel=rbf;, score=0.038 total time=   0.0s\n",
      "[CV 3/5] END C=0.01, epsilon=0.12, gamma=scale, kernel=rbf;, score=0.031 total time=   0.0s\n",
      "[CV 4/5] END C=0.01, epsilon=0.12, gamma=scale, kernel=rbf;, score=0.014 total time=   0.0s\n",
      "[CV 5/5] END C=0.01, epsilon=0.12, gamma=scale, kernel=rbf;, score=0.035 total time=   0.0s\n",
      "[CV 1/5] END C=0.01, epsilon=0.12, gamma=scale, kernel=linear;, score=0.160 total time=   0.0s\n"
     ]
    },
    {
     "name": "stdout",
     "output_type": "stream",
     "text": [
      "[CV 2/5] END C=0.01, epsilon=0.12, gamma=scale, kernel=linear;, score=0.166 total time=   0.0s\n",
      "[CV 3/5] END C=0.01, epsilon=0.12, gamma=scale, kernel=linear;, score=0.157 total time=   0.0s\n",
      "[CV 4/5] END C=0.01, epsilon=0.12, gamma=scale, kernel=linear;, score=0.146 total time=   0.0s\n",
      "[CV 5/5] END C=0.01, epsilon=0.12, gamma=scale, kernel=linear;, score=0.162 total time=   0.0s\n",
      "[CV 1/5] END C=0.01, epsilon=0.12, gamma=scale, kernel=poly;, score=0.541 total time=   0.0s\n",
      "[CV 2/5] END C=0.01, epsilon=0.12, gamma=scale, kernel=poly;, score=0.436 total time=   0.0s\n",
      "[CV 3/5] END C=0.01, epsilon=0.12, gamma=scale, kernel=poly;, score=0.509 total time=   0.0s\n",
      "[CV 4/5] END C=0.01, epsilon=0.12, gamma=scale, kernel=poly;, score=0.555 total time=   0.0s\n",
      "[CV 5/5] END C=0.01, epsilon=0.12, gamma=scale, kernel=poly;, score=0.472 total time=   0.0s\n",
      "[CV 1/5] END C=0.01, epsilon=0.12, gamma=scale, kernel=sigmoid;, score=0.080 total time=   0.0s\n"
     ]
    },
    {
     "name": "stdout",
     "output_type": "stream",
     "text": [
      "[CV 2/5] END C=0.01, epsilon=0.12, gamma=scale, kernel=sigmoid;, score=0.084 total time=   0.0s\n",
      "[CV 3/5] END C=0.01, epsilon=0.12, gamma=scale, kernel=sigmoid;, score=0.079 total time=   0.0s\n",
      "[CV 4/5] END C=0.01, epsilon=0.12, gamma=scale, kernel=sigmoid;, score=0.065 total time=   0.0s\n",
      "[CV 5/5] END C=0.01, epsilon=0.12, gamma=scale, kernel=sigmoid;, score=0.083 total time=   0.0s\n",
      "[CV 1/5] END C=0.01, epsilon=0.12, gamma=auto, kernel=rbf;, score=0.031 total time=   0.0s\n",
      "[CV 2/5] END C=0.01, epsilon=0.12, gamma=auto, kernel=rbf;, score=0.037 total time=   0.0s\n",
      "[CV 3/5] END C=0.01, epsilon=0.12, gamma=auto, kernel=rbf;, score=0.031 total time=   0.0s\n"
     ]
    },
    {
     "name": "stdout",
     "output_type": "stream",
     "text": [
      "[CV 4/5] END C=0.01, epsilon=0.12, gamma=auto, kernel=rbf;, score=0.013 total time=   0.0s\n",
      "[CV 5/5] END C=0.01, epsilon=0.12, gamma=auto, kernel=rbf;, score=0.035 total time=   0.0s\n",
      "[CV 1/5] END C=0.01, epsilon=0.12, gamma=auto, kernel=linear;, score=0.160 total time=   0.0s\n",
      "[CV 2/5] END C=0.01, epsilon=0.12, gamma=auto, kernel=linear;, score=0.166 total time=   0.0s\n",
      "[CV 3/5] END C=0.01, epsilon=0.12, gamma=auto, kernel=linear;, score=0.157 total time=   0.0s\n",
      "[CV 4/5] END C=0.01, epsilon=0.12, gamma=auto, kernel=linear;, score=0.146 total time=   0.0s\n",
      "[CV 5/5] END C=0.01, epsilon=0.12, gamma=auto, kernel=linear;, score=0.162 total time=   0.0s\n",
      "[CV 1/5] END C=0.01, epsilon=0.12, gamma=auto, kernel=poly;, score=0.588 total time=   0.0s\n",
      "[CV 2/5] END C=0.01, epsilon=0.12, gamma=auto, kernel=poly;, score=0.545 total time=   0.0s\n",
      "[CV 3/5] END C=0.01, epsilon=0.12, gamma=auto, kernel=poly;, score=0.571 total time=   0.0s\n"
     ]
    },
    {
     "name": "stdout",
     "output_type": "stream",
     "text": [
      "[CV 4/5] END C=0.01, epsilon=0.12, gamma=auto, kernel=poly;, score=0.604 total time=   0.0s\n",
      "[CV 5/5] END C=0.01, epsilon=0.12, gamma=auto, kernel=poly;, score=0.562 total time=   0.0s\n",
      "[CV 1/5] END C=0.01, epsilon=0.12, gamma=auto, kernel=sigmoid;, score=0.084 total time=   0.0s\n",
      "[CV 2/5] END C=0.01, epsilon=0.12, gamma=auto, kernel=sigmoid;, score=0.092 total time=   0.0s\n",
      "[CV 3/5] END C=0.01, epsilon=0.12, gamma=auto, kernel=sigmoid;, score=0.084 total time=   0.0s\n",
      "[CV 4/5] END C=0.01, epsilon=0.12, gamma=auto, kernel=sigmoid;, score=0.069 total time=   0.0s\n",
      "[CV 5/5] END C=0.01, epsilon=0.12, gamma=auto, kernel=sigmoid;, score=0.088 total time=   0.0s\n",
      "[CV 1/5] END C=0.01, epsilon=0.23, gamma=scale, kernel=rbf;, score=0.032 total time=   0.0s\n",
      "[CV 2/5] END C=0.01, epsilon=0.23, gamma=scale, kernel=rbf;, score=0.038 total time=   0.0s\n"
     ]
    },
    {
     "name": "stdout",
     "output_type": "stream",
     "text": [
      "[CV 3/5] END C=0.01, epsilon=0.23, gamma=scale, kernel=rbf;, score=0.031 total time=   0.0s\n",
      "[CV 4/5] END C=0.01, epsilon=0.23, gamma=scale, kernel=rbf;, score=0.013 total time=   0.0s\n",
      "[CV 5/5] END C=0.01, epsilon=0.23, gamma=scale, kernel=rbf;, score=0.035 total time=   0.0s\n",
      "[CV 1/5] END C=0.01, epsilon=0.23, gamma=scale, kernel=linear;, score=0.160 total time=   0.0s\n",
      "[CV 2/5] END C=0.01, epsilon=0.23, gamma=scale, kernel=linear;, score=0.166 total time=   0.0s\n",
      "[CV 3/5] END C=0.01, epsilon=0.23, gamma=scale, kernel=linear;, score=0.157 total time=   0.0s\n",
      "[CV 4/5] END C=0.01, epsilon=0.23, gamma=scale, kernel=linear;, score=0.146 total time=   0.0s\n",
      "[CV 5/5] END C=0.01, epsilon=0.23, gamma=scale, kernel=linear;, score=0.162 total time=   0.0s\n",
      "[CV 1/5] END C=0.01, epsilon=0.23, gamma=scale, kernel=poly;, score=0.541 total time=   0.0s\n",
      "[CV 2/5] END C=0.01, epsilon=0.23, gamma=scale, kernel=poly;, score=0.436 total time=   0.0s\n"
     ]
    },
    {
     "name": "stdout",
     "output_type": "stream",
     "text": [
      "[CV 3/5] END C=0.01, epsilon=0.23, gamma=scale, kernel=poly;, score=0.509 total time=   0.0s\n",
      "[CV 4/5] END C=0.01, epsilon=0.23, gamma=scale, kernel=poly;, score=0.554 total time=   0.0s\n",
      "[CV 5/5] END C=0.01, epsilon=0.23, gamma=scale, kernel=poly;, score=0.472 total time=   0.0s\n",
      "[CV 1/5] END C=0.01, epsilon=0.23, gamma=scale, kernel=sigmoid;, score=0.080 total time=   0.0s\n",
      "[CV 2/5] END C=0.01, epsilon=0.23, gamma=scale, kernel=sigmoid;, score=0.084 total time=   0.0s\n",
      "[CV 3/5] END C=0.01, epsilon=0.23, gamma=scale, kernel=sigmoid;, score=0.079 total time=   0.0s\n",
      "[CV 4/5] END C=0.01, epsilon=0.23, gamma=scale, kernel=sigmoid;, score=0.065 total time=   0.0s\n",
      "[CV 5/5] END C=0.01, epsilon=0.23, gamma=scale, kernel=sigmoid;, score=0.083 total time=   0.0s\n",
      "[CV 1/5] END C=0.01, epsilon=0.23, gamma=auto, kernel=rbf;, score=0.031 total time=   0.0s\n"
     ]
    },
    {
     "name": "stdout",
     "output_type": "stream",
     "text": [
      "[CV 2/5] END C=0.01, epsilon=0.23, gamma=auto, kernel=rbf;, score=0.037 total time=   0.0s\n",
      "[CV 3/5] END C=0.01, epsilon=0.23, gamma=auto, kernel=rbf;, score=0.031 total time=   0.0s\n",
      "[CV 4/5] END C=0.01, epsilon=0.23, gamma=auto, kernel=rbf;, score=0.013 total time=   0.0s\n",
      "[CV 5/5] END C=0.01, epsilon=0.23, gamma=auto, kernel=rbf;, score=0.035 total time=   0.0s\n",
      "[CV 1/5] END C=0.01, epsilon=0.23, gamma=auto, kernel=linear;, score=0.160 total time=   0.0s\n",
      "[CV 2/5] END C=0.01, epsilon=0.23, gamma=auto, kernel=linear;, score=0.166 total time=   0.0s\n",
      "[CV 3/5] END C=0.01, epsilon=0.23, gamma=auto, kernel=linear;, score=0.157 total time=   0.0s\n",
      "[CV 4/5] END C=0.01, epsilon=0.23, gamma=auto, kernel=linear;, score=0.146 total time=   0.0s\n",
      "[CV 5/5] END C=0.01, epsilon=0.23, gamma=auto, kernel=linear;, score=0.162 total time=   0.0s\n"
     ]
    },
    {
     "name": "stdout",
     "output_type": "stream",
     "text": [
      "[CV 1/5] END C=0.01, epsilon=0.23, gamma=auto, kernel=poly;, score=0.588 total time=   0.0s\n",
      "[CV 2/5] END C=0.01, epsilon=0.23, gamma=auto, kernel=poly;, score=0.545 total time=   0.0s\n",
      "[CV 3/5] END C=0.01, epsilon=0.23, gamma=auto, kernel=poly;, score=0.571 total time=   0.0s\n",
      "[CV 4/5] END C=0.01, epsilon=0.23, gamma=auto, kernel=poly;, score=0.604 total time=   0.0s\n",
      "[CV 5/5] END C=0.01, epsilon=0.23, gamma=auto, kernel=poly;, score=0.562 total time=   0.0s\n",
      "[CV 1/5] END C=0.01, epsilon=0.23, gamma=auto, kernel=sigmoid;, score=0.084 total time=   0.0s\n",
      "[CV 2/5] END C=0.01, epsilon=0.23, gamma=auto, kernel=sigmoid;, score=0.092 total time=   0.0s\n",
      "[CV 3/5] END C=0.01, epsilon=0.23, gamma=auto, kernel=sigmoid;, score=0.084 total time=   0.0s\n",
      "[CV 4/5] END C=0.01, epsilon=0.23, gamma=auto, kernel=sigmoid;, score=0.069 total time=   0.0s\n"
     ]
    },
    {
     "name": "stdout",
     "output_type": "stream",
     "text": [
      "[CV 5/5] END C=0.01, epsilon=0.23, gamma=auto, kernel=sigmoid;, score=0.088 total time=   0.0s\n",
      "[CV 1/5] END C=0.01, epsilon=0.34, gamma=scale, kernel=rbf;, score=0.032 total time=   0.0s\n",
      "[CV 2/5] END C=0.01, epsilon=0.34, gamma=scale, kernel=rbf;, score=0.038 total time=   0.0s\n",
      "[CV 3/5] END C=0.01, epsilon=0.34, gamma=scale, kernel=rbf;, score=0.031 total time=   0.0s\n",
      "[CV 4/5] END C=0.01, epsilon=0.34, gamma=scale, kernel=rbf;, score=0.013 total time=   0.0s\n",
      "[CV 5/5] END C=0.01, epsilon=0.34, gamma=scale, kernel=rbf;, score=0.035 total time=   0.0s\n",
      "[CV 1/5] END C=0.01, epsilon=0.34, gamma=scale, kernel=linear;, score=0.160 total time=   0.0s\n",
      "[CV 2/5] END C=0.01, epsilon=0.34, gamma=scale, kernel=linear;, score=0.166 total time=   0.0s\n",
      "[CV 3/5] END C=0.01, epsilon=0.34, gamma=scale, kernel=linear;, score=0.157 total time=   0.0s\n"
     ]
    },
    {
     "name": "stdout",
     "output_type": "stream",
     "text": [
      "[CV 4/5] END C=0.01, epsilon=0.34, gamma=scale, kernel=linear;, score=0.146 total time=   0.0s\n",
      "[CV 5/5] END C=0.01, epsilon=0.34, gamma=scale, kernel=linear;, score=0.162 total time=   0.0s\n",
      "[CV 1/5] END C=0.01, epsilon=0.34, gamma=scale, kernel=poly;, score=0.541 total time=   0.0s\n",
      "[CV 2/5] END C=0.01, epsilon=0.34, gamma=scale, kernel=poly;, score=0.436 total time=   0.0s\n",
      "[CV 3/5] END C=0.01, epsilon=0.34, gamma=scale, kernel=poly;, score=0.509 total time=   0.0s\n",
      "[CV 4/5] END C=0.01, epsilon=0.34, gamma=scale, kernel=poly;, score=0.554 total time=   0.0s\n",
      "[CV 5/5] END C=0.01, epsilon=0.34, gamma=scale, kernel=poly;, score=0.472 total time=   0.0s\n",
      "[CV 1/5] END C=0.01, epsilon=0.34, gamma=scale, kernel=sigmoid;, score=0.080 total time=   0.0s\n",
      "[CV 2/5] END C=0.01, epsilon=0.34, gamma=scale, kernel=sigmoid;, score=0.084 total time=   0.0s\n",
      "[CV 3/5] END C=0.01, epsilon=0.34, gamma=scale, kernel=sigmoid;, score=0.079 total time=   0.0s\n"
     ]
    },
    {
     "name": "stdout",
     "output_type": "stream",
     "text": [
      "[CV 4/5] END C=0.01, epsilon=0.34, gamma=scale, kernel=sigmoid;, score=0.065 total time=   0.0s\n",
      "[CV 5/5] END C=0.01, epsilon=0.34, gamma=scale, kernel=sigmoid;, score=0.082 total time=   0.0s\n",
      "[CV 1/5] END C=0.01, epsilon=0.34, gamma=auto, kernel=rbf;, score=0.031 total time=   0.0s\n",
      "[CV 2/5] END C=0.01, epsilon=0.34, gamma=auto, kernel=rbf;, score=0.037 total time=   0.0s\n",
      "[CV 3/5] END C=0.01, epsilon=0.34, gamma=auto, kernel=rbf;, score=0.031 total time=   0.0s\n"
     ]
    },
    {
     "name": "stdout",
     "output_type": "stream",
     "text": [
      "[CV 4/5] END C=0.01, epsilon=0.34, gamma=auto, kernel=rbf;, score=0.013 total time=   0.0s\n",
      "[CV 5/5] END C=0.01, epsilon=0.34, gamma=auto, kernel=rbf;, score=0.035 total time=   0.0s\n",
      "[CV 1/5] END C=0.01, epsilon=0.34, gamma=auto, kernel=linear;, score=0.160 total time=   0.0s\n",
      "[CV 2/5] END C=0.01, epsilon=0.34, gamma=auto, kernel=linear;, score=0.166 total time=   0.0s\n",
      "[CV 3/5] END C=0.01, epsilon=0.34, gamma=auto, kernel=linear;, score=0.157 total time=   0.0s\n",
      "[CV 4/5] END C=0.01, epsilon=0.34, gamma=auto, kernel=linear;, score=0.146 total time=   0.0s\n",
      "[CV 5/5] END C=0.01, epsilon=0.34, gamma=auto, kernel=linear;, score=0.162 total time=   0.0s\n",
      "[CV 1/5] END C=0.01, epsilon=0.34, gamma=auto, kernel=poly;, score=0.588 total time=   0.0s\n",
      "[CV 2/5] END C=0.01, epsilon=0.34, gamma=auto, kernel=poly;, score=0.545 total time=   0.0s\n",
      "[CV 3/5] END C=0.01, epsilon=0.34, gamma=auto, kernel=poly;, score=0.571 total time=   0.0s\n",
      "[CV 4/5] END C=0.01, epsilon=0.34, gamma=auto, kernel=poly;, score=0.604 total time=   0.0s\n"
     ]
    },
    {
     "name": "stdout",
     "output_type": "stream",
     "text": [
      "[CV 5/5] END C=0.01, epsilon=0.34, gamma=auto, kernel=poly;, score=0.562 total time=   0.0s\n",
      "[CV 1/5] END C=0.01, epsilon=0.34, gamma=auto, kernel=sigmoid;, score=0.084 total time=   0.0s\n",
      "[CV 2/5] END C=0.01, epsilon=0.34, gamma=auto, kernel=sigmoid;, score=0.092 total time=   0.0s\n",
      "[CV 3/5] END C=0.01, epsilon=0.34, gamma=auto, kernel=sigmoid;, score=0.084 total time=   0.0s\n",
      "[CV 4/5] END C=0.01, epsilon=0.34, gamma=auto, kernel=sigmoid;, score=0.069 total time=   0.0s\n",
      "[CV 5/5] END C=0.01, epsilon=0.34, gamma=auto, kernel=sigmoid;, score=0.088 total time=   0.0s\n"
     ]
    },
    {
     "name": "stdout",
     "output_type": "stream",
     "text": [
      "[CV 1/5] END C=0.01, epsilon=0.45, gamma=scale, kernel=rbf;, score=0.032 total time=   0.0s\n",
      "[CV 2/5] END C=0.01, epsilon=0.45, gamma=scale, kernel=rbf;, score=0.038 total time=   0.0s\n",
      "[CV 3/5] END C=0.01, epsilon=0.45, gamma=scale, kernel=rbf;, score=0.031 total time=   0.0s\n",
      "[CV 4/5] END C=0.01, epsilon=0.45, gamma=scale, kernel=rbf;, score=0.014 total time=   0.0s\n",
      "[CV 5/5] END C=0.01, epsilon=0.45, gamma=scale, kernel=rbf;, score=0.035 total time=   0.0s\n",
      "[CV 1/5] END C=0.01, epsilon=0.45, gamma=scale, kernel=linear;, score=0.160 total time=   0.0s\n",
      "[CV 2/5] END C=0.01, epsilon=0.45, gamma=scale, kernel=linear;, score=0.166 total time=   0.0s\n"
     ]
    },
    {
     "name": "stdout",
     "output_type": "stream",
     "text": [
      "[CV 3/5] END C=0.01, epsilon=0.45, gamma=scale, kernel=linear;, score=0.157 total time=   0.0s\n",
      "[CV 4/5] END C=0.01, epsilon=0.45, gamma=scale, kernel=linear;, score=0.146 total time=   0.0s\n",
      "[CV 5/5] END C=0.01, epsilon=0.45, gamma=scale, kernel=linear;, score=0.162 total time=   0.0s\n",
      "[CV 1/5] END C=0.01, epsilon=0.45, gamma=scale, kernel=poly;, score=0.541 total time=   0.0s\n",
      "[CV 2/5] END C=0.01, epsilon=0.45, gamma=scale, kernel=poly;, score=0.436 total time=   0.0s\n",
      "[CV 3/5] END C=0.01, epsilon=0.45, gamma=scale, kernel=poly;, score=0.509 total time=   0.0s\n",
      "[CV 4/5] END C=0.01, epsilon=0.45, gamma=scale, kernel=poly;, score=0.554 total time=   0.0s\n",
      "[CV 5/5] END C=0.01, epsilon=0.45, gamma=scale, kernel=poly;, score=0.472 total time=   0.0s\n",
      "[CV 1/5] END C=0.01, epsilon=0.45, gamma=scale, kernel=sigmoid;, score=0.080 total time=   0.0s\n"
     ]
    },
    {
     "name": "stdout",
     "output_type": "stream",
     "text": [
      "[CV 2/5] END C=0.01, epsilon=0.45, gamma=scale, kernel=sigmoid;, score=0.084 total time=   0.0s\n",
      "[CV 3/5] END C=0.01, epsilon=0.45, gamma=scale, kernel=sigmoid;, score=0.079 total time=   0.0s\n",
      "[CV 4/5] END C=0.01, epsilon=0.45, gamma=scale, kernel=sigmoid;, score=0.065 total time=   0.0s\n",
      "[CV 5/5] END C=0.01, epsilon=0.45, gamma=scale, kernel=sigmoid;, score=0.082 total time=   0.0s\n",
      "[CV 1/5] END C=0.01, epsilon=0.45, gamma=auto, kernel=rbf;, score=0.031 total time=   0.0s\n",
      "[CV 2/5] END C=0.01, epsilon=0.45, gamma=auto, kernel=rbf;, score=0.037 total time=   0.0s\n",
      "[CV 3/5] END C=0.01, epsilon=0.45, gamma=auto, kernel=rbf;, score=0.030 total time=   0.0s\n"
     ]
    },
    {
     "name": "stdout",
     "output_type": "stream",
     "text": [
      "[CV 4/5] END C=0.01, epsilon=0.45, gamma=auto, kernel=rbf;, score=0.013 total time=   0.0s\n",
      "[CV 5/5] END C=0.01, epsilon=0.45, gamma=auto, kernel=rbf;, score=0.035 total time=   0.0s\n",
      "[CV 1/5] END C=0.01, epsilon=0.45, gamma=auto, kernel=linear;, score=0.160 total time=   0.0s\n",
      "[CV 2/5] END C=0.01, epsilon=0.45, gamma=auto, kernel=linear;, score=0.166 total time=   0.0s\n",
      "[CV 3/5] END C=0.01, epsilon=0.45, gamma=auto, kernel=linear;, score=0.157 total time=   0.0s\n",
      "[CV 4/5] END C=0.01, epsilon=0.45, gamma=auto, kernel=linear;, score=0.146 total time=   0.0s\n",
      "[CV 5/5] END C=0.01, epsilon=0.45, gamma=auto, kernel=linear;, score=0.162 total time=   0.0s\n",
      "[CV 1/5] END C=0.01, epsilon=0.45, gamma=auto, kernel=poly;, score=0.589 total time=   0.0s\n",
      "[CV 2/5] END C=0.01, epsilon=0.45, gamma=auto, kernel=poly;, score=0.545 total time=   0.0s\n",
      "[CV 3/5] END C=0.01, epsilon=0.45, gamma=auto, kernel=poly;, score=0.571 total time=   0.0s\n"
     ]
    },
    {
     "name": "stdout",
     "output_type": "stream",
     "text": [
      "[CV 4/5] END C=0.01, epsilon=0.45, gamma=auto, kernel=poly;, score=0.604 total time=   0.0s\n",
      "[CV 5/5] END C=0.01, epsilon=0.45, gamma=auto, kernel=poly;, score=0.562 total time=   0.0s\n",
      "[CV 1/5] END C=0.01, epsilon=0.45, gamma=auto, kernel=sigmoid;, score=0.084 total time=   0.0s\n",
      "[CV 2/5] END C=0.01, epsilon=0.45, gamma=auto, kernel=sigmoid;, score=0.092 total time=   0.0s\n",
      "[CV 3/5] END C=0.01, epsilon=0.45, gamma=auto, kernel=sigmoid;, score=0.083 total time=   0.0s\n",
      "[CV 4/5] END C=0.01, epsilon=0.45, gamma=auto, kernel=sigmoid;, score=0.069 total time=   0.0s\n",
      "[CV 5/5] END C=0.01, epsilon=0.45, gamma=auto, kernel=sigmoid;, score=0.088 total time=   0.0s\n",
      "[CV 1/5] END C=0.01, epsilon=0.56, gamma=scale, kernel=rbf;, score=0.032 total time=   0.0s\n"
     ]
    },
    {
     "name": "stdout",
     "output_type": "stream",
     "text": [
      "[CV 2/5] END C=0.01, epsilon=0.56, gamma=scale, kernel=rbf;, score=0.038 total time=   0.0s\n",
      "[CV 3/5] END C=0.01, epsilon=0.56, gamma=scale, kernel=rbf;, score=0.031 total time=   0.0s\n",
      "[CV 4/5] END C=0.01, epsilon=0.56, gamma=scale, kernel=rbf;, score=0.014 total time=   0.0s\n",
      "[CV 5/5] END C=0.01, epsilon=0.56, gamma=scale, kernel=rbf;, score=0.035 total time=   0.0s\n",
      "[CV 1/5] END C=0.01, epsilon=0.56, gamma=scale, kernel=linear;, score=0.160 total time=   0.0s\n",
      "[CV 2/5] END C=0.01, epsilon=0.56, gamma=scale, kernel=linear;, score=0.166 total time=   0.0s\n",
      "[CV 3/5] END C=0.01, epsilon=0.56, gamma=scale, kernel=linear;, score=0.157 total time=   0.0s\n",
      "[CV 4/5] END C=0.01, epsilon=0.56, gamma=scale, kernel=linear;, score=0.146 total time=   0.0s\n",
      "[CV 5/5] END C=0.01, epsilon=0.56, gamma=scale, kernel=linear;, score=0.161 total time=   0.0s\n",
      "[CV 1/5] END C=0.01, epsilon=0.56, gamma=scale, kernel=poly;, score=0.541 total time=   0.0s\n"
     ]
    },
    {
     "name": "stdout",
     "output_type": "stream",
     "text": [
      "[CV 2/5] END C=0.01, epsilon=0.56, gamma=scale, kernel=poly;, score=0.436 total time=   0.0s\n",
      "[CV 3/5] END C=0.01, epsilon=0.56, gamma=scale, kernel=poly;, score=0.509 total time=   0.0s\n",
      "[CV 4/5] END C=0.01, epsilon=0.56, gamma=scale, kernel=poly;, score=0.554 total time=   0.0s\n",
      "[CV 5/5] END C=0.01, epsilon=0.56, gamma=scale, kernel=poly;, score=0.471 total time=   0.0s\n",
      "[CV 1/5] END C=0.01, epsilon=0.56, gamma=scale, kernel=sigmoid;, score=0.080 total time=   0.0s\n",
      "[CV 2/5] END C=0.01, epsilon=0.56, gamma=scale, kernel=sigmoid;, score=0.084 total time=   0.0s\n",
      "[CV 3/5] END C=0.01, epsilon=0.56, gamma=scale, kernel=sigmoid;, score=0.079 total time=   0.0s\n"
     ]
    },
    {
     "name": "stdout",
     "output_type": "stream",
     "text": [
      "[CV 4/5] END C=0.01, epsilon=0.56, gamma=scale, kernel=sigmoid;, score=0.065 total time=   0.0s\n",
      "[CV 5/5] END C=0.01, epsilon=0.56, gamma=scale, kernel=sigmoid;, score=0.082 total time=   0.0s\n",
      "[CV 1/5] END C=0.01, epsilon=0.56, gamma=auto, kernel=rbf;, score=0.031 total time=   0.0s\n",
      "[CV 2/5] END C=0.01, epsilon=0.56, gamma=auto, kernel=rbf;, score=0.037 total time=   0.0s\n"
     ]
    },
    {
     "name": "stdout",
     "output_type": "stream",
     "text": [
      "[CV 3/5] END C=0.01, epsilon=0.56, gamma=auto, kernel=rbf;, score=0.030 total time=   0.0s\n",
      "[CV 4/5] END C=0.01, epsilon=0.56, gamma=auto, kernel=rbf;, score=0.013 total time=   0.0s\n",
      "[CV 5/5] END C=0.01, epsilon=0.56, gamma=auto, kernel=rbf;, score=0.035 total time=   0.0s\n",
      "[CV 1/5] END C=0.01, epsilon=0.56, gamma=auto, kernel=linear;, score=0.160 total time=   0.0s\n",
      "[CV 2/5] END C=0.01, epsilon=0.56, gamma=auto, kernel=linear;, score=0.166 total time=   0.0s\n",
      "[CV 3/5] END C=0.01, epsilon=0.56, gamma=auto, kernel=linear;, score=0.157 total time=   0.0s\n",
      "[CV 4/5] END C=0.01, epsilon=0.56, gamma=auto, kernel=linear;, score=0.146 total time=   0.0s\n",
      "[CV 5/5] END C=0.01, epsilon=0.56, gamma=auto, kernel=linear;, score=0.161 total time=   0.0s\n",
      "[CV 1/5] END C=0.01, epsilon=0.56, gamma=auto, kernel=poly;, score=0.589 total time=   0.0s\n"
     ]
    },
    {
     "name": "stdout",
     "output_type": "stream",
     "text": [
      "[CV 2/5] END C=0.01, epsilon=0.56, gamma=auto, kernel=poly;, score=0.545 total time=   0.0s\n",
      "[CV 3/5] END C=0.01, epsilon=0.56, gamma=auto, kernel=poly;, score=0.571 total time=   0.0s\n",
      "[CV 4/5] END C=0.01, epsilon=0.56, gamma=auto, kernel=poly;, score=0.603 total time=   0.0s\n",
      "[CV 5/5] END C=0.01, epsilon=0.56, gamma=auto, kernel=poly;, score=0.562 total time=   0.0s\n",
      "[CV 1/5] END C=0.01, epsilon=0.56, gamma=auto, kernel=sigmoid;, score=0.084 total time=   0.0s\n",
      "[CV 2/5] END C=0.01, epsilon=0.56, gamma=auto, kernel=sigmoid;, score=0.092 total time=   0.0s\n"
     ]
    },
    {
     "name": "stdout",
     "output_type": "stream",
     "text": [
      "[CV 3/5] END C=0.01, epsilon=0.56, gamma=auto, kernel=sigmoid;, score=0.083 total time=   0.0s\n",
      "[CV 4/5] END C=0.01, epsilon=0.56, gamma=auto, kernel=sigmoid;, score=0.069 total time=   0.0s\n",
      "[CV 5/5] END C=0.01, epsilon=0.56, gamma=auto, kernel=sigmoid;, score=0.088 total time=   0.0s\n",
      "[CV 1/5] END C=0.01, epsilon=0.67, gamma=scale, kernel=rbf;, score=0.032 total time=   0.0s\n"
     ]
    },
    {
     "name": "stdout",
     "output_type": "stream",
     "text": [
      "[CV 2/5] END C=0.01, epsilon=0.67, gamma=scale, kernel=rbf;, score=0.038 total time=   0.0s\n",
      "[CV 3/5] END C=0.01, epsilon=0.67, gamma=scale, kernel=rbf;, score=0.031 total time=   0.0s\n",
      "[CV 4/5] END C=0.01, epsilon=0.67, gamma=scale, kernel=rbf;, score=0.013 total time=   0.0s\n",
      "[CV 5/5] END C=0.01, epsilon=0.67, gamma=scale, kernel=rbf;, score=0.035 total time=   0.0s\n",
      "[CV 1/5] END C=0.01, epsilon=0.67, gamma=scale, kernel=linear;, score=0.160 total time=   0.0s\n",
      "[CV 2/5] END C=0.01, epsilon=0.67, gamma=scale, kernel=linear;, score=0.166 total time=   0.0s\n",
      "[CV 3/5] END C=0.01, epsilon=0.67, gamma=scale, kernel=linear;, score=0.157 total time=   0.0s\n",
      "[CV 4/5] END C=0.01, epsilon=0.67, gamma=scale, kernel=linear;, score=0.146 total time=   0.0s\n",
      "[CV 5/5] END C=0.01, epsilon=0.67, gamma=scale, kernel=linear;, score=0.162 total time=   0.0s\n"
     ]
    },
    {
     "name": "stdout",
     "output_type": "stream",
     "text": [
      "[CV 1/5] END C=0.01, epsilon=0.67, gamma=scale, kernel=poly;, score=0.541 total time=   0.0s\n",
      "[CV 2/5] END C=0.01, epsilon=0.67, gamma=scale, kernel=poly;, score=0.436 total time=   0.0s\n",
      "[CV 3/5] END C=0.01, epsilon=0.67, gamma=scale, kernel=poly;, score=0.509 total time=   0.0s\n",
      "[CV 4/5] END C=0.01, epsilon=0.67, gamma=scale, kernel=poly;, score=0.554 total time=   0.0s\n",
      "[CV 5/5] END C=0.01, epsilon=0.67, gamma=scale, kernel=poly;, score=0.471 total time=   0.0s\n",
      "[CV 1/5] END C=0.01, epsilon=0.67, gamma=scale, kernel=sigmoid;, score=0.080 total time=   0.0s\n",
      "[CV 2/5] END C=0.01, epsilon=0.67, gamma=scale, kernel=sigmoid;, score=0.084 total time=   0.0s\n",
      "[CV 3/5] END C=0.01, epsilon=0.67, gamma=scale, kernel=sigmoid;, score=0.079 total time=   0.0s\n"
     ]
    },
    {
     "name": "stdout",
     "output_type": "stream",
     "text": [
      "[CV 4/5] END C=0.01, epsilon=0.67, gamma=scale, kernel=sigmoid;, score=0.065 total time=   0.0s\n",
      "[CV 5/5] END C=0.01, epsilon=0.67, gamma=scale, kernel=sigmoid;, score=0.082 total time=   0.0s\n",
      "[CV 1/5] END C=0.01, epsilon=0.67, gamma=auto, kernel=rbf;, score=0.031 total time=   0.0s\n",
      "[CV 2/5] END C=0.01, epsilon=0.67, gamma=auto, kernel=rbf;, score=0.037 total time=   0.0s\n",
      "[CV 3/5] END C=0.01, epsilon=0.67, gamma=auto, kernel=rbf;, score=0.030 total time=   0.0s\n",
      "[CV 4/5] END C=0.01, epsilon=0.67, gamma=auto, kernel=rbf;, score=0.013 total time=   0.0s\n",
      "[CV 5/5] END C=0.01, epsilon=0.67, gamma=auto, kernel=rbf;, score=0.034 total time=   0.0s\n"
     ]
    },
    {
     "name": "stdout",
     "output_type": "stream",
     "text": [
      "[CV 1/5] END C=0.01, epsilon=0.67, gamma=auto, kernel=linear;, score=0.160 total time=   0.0s\n",
      "[CV 2/5] END C=0.01, epsilon=0.67, gamma=auto, kernel=linear;, score=0.166 total time=   0.0s\n",
      "[CV 3/5] END C=0.01, epsilon=0.67, gamma=auto, kernel=linear;, score=0.157 total time=   0.0s\n",
      "[CV 4/5] END C=0.01, epsilon=0.67, gamma=auto, kernel=linear;, score=0.146 total time=   0.0s\n",
      "[CV 5/5] END C=0.01, epsilon=0.67, gamma=auto, kernel=linear;, score=0.162 total time=   0.0s\n",
      "[CV 1/5] END C=0.01, epsilon=0.67, gamma=auto, kernel=poly;, score=0.589 total time=   0.0s\n",
      "[CV 2/5] END C=0.01, epsilon=0.67, gamma=auto, kernel=poly;, score=0.545 total time=   0.0s\n",
      "[CV 3/5] END C=0.01, epsilon=0.67, gamma=auto, kernel=poly;, score=0.571 total time=   0.0s\n",
      "[CV 4/5] END C=0.01, epsilon=0.67, gamma=auto, kernel=poly;, score=0.603 total time=   0.0s\n",
      "[CV 5/5] END C=0.01, epsilon=0.67, gamma=auto, kernel=poly;, score=0.561 total time=   0.0s\n",
      "[CV 1/5] END C=0.01, epsilon=0.67, gamma=auto, kernel=sigmoid;, score=0.084 total time=   0.0s\n"
     ]
    },
    {
     "name": "stdout",
     "output_type": "stream",
     "text": [
      "[CV 2/5] END C=0.01, epsilon=0.67, gamma=auto, kernel=sigmoid;, score=0.092 total time=   0.0s\n",
      "[CV 3/5] END C=0.01, epsilon=0.67, gamma=auto, kernel=sigmoid;, score=0.083 total time=   0.0s\n",
      "[CV 4/5] END C=0.01, epsilon=0.67, gamma=auto, kernel=sigmoid;, score=0.069 total time=   0.0s\n",
      "[CV 5/5] END C=0.01, epsilon=0.67, gamma=auto, kernel=sigmoid;, score=0.088 total time=   0.0s\n",
      "[CV 1/5] END C=0.01, epsilon=0.78, gamma=scale, kernel=rbf;, score=0.032 total time=   0.0s\n",
      "[CV 2/5] END C=0.01, epsilon=0.78, gamma=scale, kernel=rbf;, score=0.038 total time=   0.0s\n",
      "[CV 3/5] END C=0.01, epsilon=0.78, gamma=scale, kernel=rbf;, score=0.031 total time=   0.0s\n"
     ]
    },
    {
     "name": "stdout",
     "output_type": "stream",
     "text": [
      "[CV 4/5] END C=0.01, epsilon=0.78, gamma=scale, kernel=rbf;, score=0.013 total time=   0.0s\n",
      "[CV 5/5] END C=0.01, epsilon=0.78, gamma=scale, kernel=rbf;, score=0.035 total time=   0.0s\n",
      "[CV 1/5] END C=0.01, epsilon=0.78, gamma=scale, kernel=linear;, score=0.160 total time=   0.0s\n",
      "[CV 2/5] END C=0.01, epsilon=0.78, gamma=scale, kernel=linear;, score=0.166 total time=   0.0s\n",
      "[CV 3/5] END C=0.01, epsilon=0.78, gamma=scale, kernel=linear;, score=0.157 total time=   0.0s\n",
      "[CV 4/5] END C=0.01, epsilon=0.78, gamma=scale, kernel=linear;, score=0.145 total time=   0.0s\n",
      "[CV 5/5] END C=0.01, epsilon=0.78, gamma=scale, kernel=linear;, score=0.161 total time=   0.0s\n"
     ]
    },
    {
     "name": "stdout",
     "output_type": "stream",
     "text": [
      "[CV 1/5] END C=0.01, epsilon=0.78, gamma=scale, kernel=poly;, score=0.541 total time=   0.0s\n",
      "[CV 2/5] END C=0.01, epsilon=0.78, gamma=scale, kernel=poly;, score=0.436 total time=   0.0s\n",
      "[CV 3/5] END C=0.01, epsilon=0.78, gamma=scale, kernel=poly;, score=0.509 total time=   0.0s\n",
      "[CV 4/5] END C=0.01, epsilon=0.78, gamma=scale, kernel=poly;, score=0.554 total time=   0.0s\n",
      "[CV 5/5] END C=0.01, epsilon=0.78, gamma=scale, kernel=poly;, score=0.471 total time=   0.0s\n"
     ]
    },
    {
     "name": "stdout",
     "output_type": "stream",
     "text": [
      "[CV 1/5] END C=0.01, epsilon=0.78, gamma=scale, kernel=sigmoid;, score=0.080 total time=   0.0s\n",
      "[CV 2/5] END C=0.01, epsilon=0.78, gamma=scale, kernel=sigmoid;, score=0.084 total time=   0.0s\n",
      "[CV 3/5] END C=0.01, epsilon=0.78, gamma=scale, kernel=sigmoid;, score=0.079 total time=   0.0s\n",
      "[CV 4/5] END C=0.01, epsilon=0.78, gamma=scale, kernel=sigmoid;, score=0.064 total time=   0.0s\n",
      "[CV 5/5] END C=0.01, epsilon=0.78, gamma=scale, kernel=sigmoid;, score=0.082 total time=   0.0s\n",
      "[CV 1/5] END C=0.01, epsilon=0.78, gamma=auto, kernel=rbf;, score=0.031 total time=   0.0s\n",
      "[CV 2/5] END C=0.01, epsilon=0.78, gamma=auto, kernel=rbf;, score=0.037 total time=   0.0s\n"
     ]
    },
    {
     "name": "stdout",
     "output_type": "stream",
     "text": [
      "[CV 3/5] END C=0.01, epsilon=0.78, gamma=auto, kernel=rbf;, score=0.030 total time=   0.0s\n",
      "[CV 4/5] END C=0.01, epsilon=0.78, gamma=auto, kernel=rbf;, score=0.013 total time=   0.0s\n",
      "[CV 5/5] END C=0.01, epsilon=0.78, gamma=auto, kernel=rbf;, score=0.035 total time=   0.0s\n",
      "[CV 1/5] END C=0.01, epsilon=0.78, gamma=auto, kernel=linear;, score=0.160 total time=   0.0s\n",
      "[CV 2/5] END C=0.01, epsilon=0.78, gamma=auto, kernel=linear;, score=0.166 total time=   0.0s\n",
      "[CV 3/5] END C=0.01, epsilon=0.78, gamma=auto, kernel=linear;, score=0.157 total time=   0.0s\n",
      "[CV 4/5] END C=0.01, epsilon=0.78, gamma=auto, kernel=linear;, score=0.145 total time=   0.0s\n",
      "[CV 5/5] END C=0.01, epsilon=0.78, gamma=auto, kernel=linear;, score=0.161 total time=   0.0s\n",
      "[CV 1/5] END C=0.01, epsilon=0.78, gamma=auto, kernel=poly;, score=0.589 total time=   0.0s\n"
     ]
    },
    {
     "name": "stdout",
     "output_type": "stream",
     "text": [
      "[CV 2/5] END C=0.01, epsilon=0.78, gamma=auto, kernel=poly;, score=0.545 total time=   0.0s\n",
      "[CV 3/5] END C=0.01, epsilon=0.78, gamma=auto, kernel=poly;, score=0.570 total time=   0.0s\n",
      "[CV 4/5] END C=0.01, epsilon=0.78, gamma=auto, kernel=poly;, score=0.603 total time=   0.0s\n",
      "[CV 5/5] END C=0.01, epsilon=0.78, gamma=auto, kernel=poly;, score=0.561 total time=   0.0s\n",
      "[CV 1/5] END C=0.01, epsilon=0.78, gamma=auto, kernel=sigmoid;, score=0.084 total time=   0.0s\n",
      "[CV 2/5] END C=0.01, epsilon=0.78, gamma=auto, kernel=sigmoid;, score=0.092 total time=   0.0s\n",
      "[CV 3/5] END C=0.01, epsilon=0.78, gamma=auto, kernel=sigmoid;, score=0.083 total time=   0.0s\n",
      "[CV 4/5] END C=0.01, epsilon=0.78, gamma=auto, kernel=sigmoid;, score=0.068 total time=   0.0s\n",
      "[CV 5/5] END C=0.01, epsilon=0.78, gamma=auto, kernel=sigmoid;, score=0.088 total time=   0.0s\n",
      "[CV 1/5] END C=0.01, epsilon=0.89, gamma=scale, kernel=rbf;, score=0.032 total time=   0.0s\n"
     ]
    },
    {
     "name": "stdout",
     "output_type": "stream",
     "text": [
      "[CV 2/5] END C=0.01, epsilon=0.89, gamma=scale, kernel=rbf;, score=0.038 total time=   0.0s\n",
      "[CV 3/5] END C=0.01, epsilon=0.89, gamma=scale, kernel=rbf;, score=0.031 total time=   0.0s\n",
      "[CV 4/5] END C=0.01, epsilon=0.89, gamma=scale, kernel=rbf;, score=0.013 total time=   0.0s\n",
      "[CV 5/5] END C=0.01, epsilon=0.89, gamma=scale, kernel=rbf;, score=0.035 total time=   0.0s\n",
      "[CV 1/5] END C=0.01, epsilon=0.89, gamma=scale, kernel=linear;, score=0.160 total time=   0.0s\n",
      "[CV 2/5] END C=0.01, epsilon=0.89, gamma=scale, kernel=linear;, score=0.166 total time=   0.0s\n",
      "[CV 3/5] END C=0.01, epsilon=0.89, gamma=scale, kernel=linear;, score=0.157 total time=   0.0s\n"
     ]
    },
    {
     "name": "stdout",
     "output_type": "stream",
     "text": [
      "[CV 4/5] END C=0.01, epsilon=0.89, gamma=scale, kernel=linear;, score=0.145 total time=   0.0s\n",
      "[CV 5/5] END C=0.01, epsilon=0.89, gamma=scale, kernel=linear;, score=0.161 total time=   0.0s\n",
      "[CV 1/5] END C=0.01, epsilon=0.89, gamma=scale, kernel=poly;, score=0.541 total time=   0.0s\n",
      "[CV 2/5] END C=0.01, epsilon=0.89, gamma=scale, kernel=poly;, score=0.437 total time=   0.0s\n",
      "[CV 3/5] END C=0.01, epsilon=0.89, gamma=scale, kernel=poly;, score=0.509 total time=   0.0s\n",
      "[CV 4/5] END C=0.01, epsilon=0.89, gamma=scale, kernel=poly;, score=0.554 total time=   0.0s\n",
      "[CV 5/5] END C=0.01, epsilon=0.89, gamma=scale, kernel=poly;, score=0.471 total time=   0.0s\n",
      "[CV 1/5] END C=0.01, epsilon=0.89, gamma=scale, kernel=sigmoid;, score=0.080 total time=   0.0s\n",
      "[CV 2/5] END C=0.01, epsilon=0.89, gamma=scale, kernel=sigmoid;, score=0.084 total time=   0.0s\n"
     ]
    },
    {
     "name": "stdout",
     "output_type": "stream",
     "text": [
      "[CV 3/5] END C=0.01, epsilon=0.89, gamma=scale, kernel=sigmoid;, score=0.079 total time=   0.0s\n",
      "[CV 4/5] END C=0.01, epsilon=0.89, gamma=scale, kernel=sigmoid;, score=0.064 total time=   0.0s\n",
      "[CV 5/5] END C=0.01, epsilon=0.89, gamma=scale, kernel=sigmoid;, score=0.082 total time=   0.0s\n",
      "[CV 1/5] END C=0.01, epsilon=0.89, gamma=auto, kernel=rbf;, score=0.031 total time=   0.0s\n",
      "[CV 2/5] END C=0.01, epsilon=0.89, gamma=auto, kernel=rbf;, score=0.037 total time=   0.0s\n",
      "[CV 3/5] END C=0.01, epsilon=0.89, gamma=auto, kernel=rbf;, score=0.030 total time=   0.0s\n",
      "[CV 4/5] END C=0.01, epsilon=0.89, gamma=auto, kernel=rbf;, score=0.013 total time=   0.0s\n",
      "[CV 5/5] END C=0.01, epsilon=0.89, gamma=auto, kernel=rbf;, score=0.035 total time=   0.0s\n",
      "[CV 1/5] END C=0.01, epsilon=0.89, gamma=auto, kernel=linear;, score=0.160 total time=   0.0s\n"
     ]
    },
    {
     "name": "stdout",
     "output_type": "stream",
     "text": [
      "[CV 2/5] END C=0.01, epsilon=0.89, gamma=auto, kernel=linear;, score=0.166 total time=   0.0s\n",
      "[CV 3/5] END C=0.01, epsilon=0.89, gamma=auto, kernel=linear;, score=0.157 total time=   0.0s\n",
      "[CV 4/5] END C=0.01, epsilon=0.89, gamma=auto, kernel=linear;, score=0.145 total time=   0.0s\n",
      "[CV 5/5] END C=0.01, epsilon=0.89, gamma=auto, kernel=linear;, score=0.161 total time=   0.0s\n",
      "[CV 1/5] END C=0.01, epsilon=0.89, gamma=auto, kernel=poly;, score=0.589 total time=   0.0s\n",
      "[CV 2/5] END C=0.01, epsilon=0.89, gamma=auto, kernel=poly;, score=0.545 total time=   0.0s\n",
      "[CV 3/5] END C=0.01, epsilon=0.89, gamma=auto, kernel=poly;, score=0.571 total time=   0.0s\n",
      "[CV 4/5] END C=0.01, epsilon=0.89, gamma=auto, kernel=poly;, score=0.603 total time=   0.0s\n",
      "[CV 5/5] END C=0.01, epsilon=0.89, gamma=auto, kernel=poly;, score=0.561 total time=   0.0s\n"
     ]
    },
    {
     "name": "stdout",
     "output_type": "stream",
     "text": [
      "[CV 1/5] END C=0.01, epsilon=0.89, gamma=auto, kernel=sigmoid;, score=0.084 total time=   0.0s\n",
      "[CV 2/5] END C=0.01, epsilon=0.89, gamma=auto, kernel=sigmoid;, score=0.092 total time=   0.0s\n",
      "[CV 3/5] END C=0.01, epsilon=0.89, gamma=auto, kernel=sigmoid;, score=0.083 total time=   0.0s\n",
      "[CV 4/5] END C=0.01, epsilon=0.89, gamma=auto, kernel=sigmoid;, score=0.068 total time=   0.0s\n",
      "[CV 5/5] END C=0.01, epsilon=0.89, gamma=auto, kernel=sigmoid;, score=0.088 total time=   0.0s\n",
      "[CV 1/5] END C=0.01, epsilon=1.0, gamma=scale, kernel=rbf;, score=0.032 total time=   0.0s\n",
      "[CV 2/5] END C=0.01, epsilon=1.0, gamma=scale, kernel=rbf;, score=0.038 total time=   0.0s\n"
     ]
    },
    {
     "name": "stdout",
     "output_type": "stream",
     "text": [
      "[CV 3/5] END C=0.01, epsilon=1.0, gamma=scale, kernel=rbf;, score=0.031 total time=   0.0s\n",
      "[CV 4/5] END C=0.01, epsilon=1.0, gamma=scale, kernel=rbf;, score=0.013 total time=   0.0s\n",
      "[CV 5/5] END C=0.01, epsilon=1.0, gamma=scale, kernel=rbf;, score=0.035 total time=   0.0s\n",
      "[CV 1/5] END C=0.01, epsilon=1.0, gamma=scale, kernel=linear;, score=0.160 total time=   0.0s\n",
      "[CV 2/5] END C=0.01, epsilon=1.0, gamma=scale, kernel=linear;, score=0.166 total time=   0.0s\n",
      "[CV 3/5] END C=0.01, epsilon=1.0, gamma=scale, kernel=linear;, score=0.157 total time=   0.0s\n",
      "[CV 4/5] END C=0.01, epsilon=1.0, gamma=scale, kernel=linear;, score=0.145 total time=   0.0s\n",
      "[CV 5/5] END C=0.01, epsilon=1.0, gamma=scale, kernel=linear;, score=0.162 total time=   0.0s\n",
      "[CV 1/5] END C=0.01, epsilon=1.0, gamma=scale, kernel=poly;, score=0.541 total time=   0.0s\n",
      "[CV 2/5] END C=0.01, epsilon=1.0, gamma=scale, kernel=poly;, score=0.437 total time=   0.0s\n"
     ]
    },
    {
     "name": "stdout",
     "output_type": "stream",
     "text": [
      "[CV 3/5] END C=0.01, epsilon=1.0, gamma=scale, kernel=poly;, score=0.509 total time=   0.0s\n",
      "[CV 4/5] END C=0.01, epsilon=1.0, gamma=scale, kernel=poly;, score=0.554 total time=   0.0s\n",
      "[CV 5/5] END C=0.01, epsilon=1.0, gamma=scale, kernel=poly;, score=0.470 total time=   0.0s\n",
      "[CV 1/5] END C=0.01, epsilon=1.0, gamma=scale, kernel=sigmoid;, score=0.080 total time=   0.0s\n",
      "[CV 2/5] END C=0.01, epsilon=1.0, gamma=scale, kernel=sigmoid;, score=0.084 total time=   0.0s\n",
      "[CV 3/5] END C=0.01, epsilon=1.0, gamma=scale, kernel=sigmoid;, score=0.079 total time=   0.0s\n",
      "[CV 4/5] END C=0.01, epsilon=1.0, gamma=scale, kernel=sigmoid;, score=0.064 total time=   0.0s\n",
      "[CV 5/5] END C=0.01, epsilon=1.0, gamma=scale, kernel=sigmoid;, score=0.082 total time=   0.0s\n"
     ]
    },
    {
     "name": "stdout",
     "output_type": "stream",
     "text": [
      "[CV 1/5] END C=0.01, epsilon=1.0, gamma=auto, kernel=rbf;, score=0.031 total time=   0.0s\n",
      "[CV 2/5] END C=0.01, epsilon=1.0, gamma=auto, kernel=rbf;, score=0.037 total time=   0.0s\n",
      "[CV 3/5] END C=0.01, epsilon=1.0, gamma=auto, kernel=rbf;, score=0.030 total time=   0.0s\n",
      "[CV 4/5] END C=0.01, epsilon=1.0, gamma=auto, kernel=rbf;, score=0.013 total time=   0.0s\n",
      "[CV 5/5] END C=0.01, epsilon=1.0, gamma=auto, kernel=rbf;, score=0.035 total time=   0.0s\n",
      "[CV 1/5] END C=0.01, epsilon=1.0, gamma=auto, kernel=linear;, score=0.160 total time=   0.0s\n"
     ]
    },
    {
     "name": "stdout",
     "output_type": "stream",
     "text": [
      "[CV 2/5] END C=0.01, epsilon=1.0, gamma=auto, kernel=linear;, score=0.166 total time=   0.0s\n",
      "[CV 3/5] END C=0.01, epsilon=1.0, gamma=auto, kernel=linear;, score=0.157 total time=   0.0s\n",
      "[CV 4/5] END C=0.01, epsilon=1.0, gamma=auto, kernel=linear;, score=0.145 total time=   0.0s\n",
      "[CV 5/5] END C=0.01, epsilon=1.0, gamma=auto, kernel=linear;, score=0.162 total time=   0.0s\n",
      "[CV 1/5] END C=0.01, epsilon=1.0, gamma=auto, kernel=poly;, score=0.589 total time=   0.0s\n",
      "[CV 2/5] END C=0.01, epsilon=1.0, gamma=auto, kernel=poly;, score=0.545 total time=   0.0s\n",
      "[CV 3/5] END C=0.01, epsilon=1.0, gamma=auto, kernel=poly;, score=0.571 total time=   0.0s\n",
      "[CV 4/5] END C=0.01, epsilon=1.0, gamma=auto, kernel=poly;, score=0.603 total time=   0.0s\n",
      "[CV 5/5] END C=0.01, epsilon=1.0, gamma=auto, kernel=poly;, score=0.561 total time=   0.0s\n",
      "[CV 1/5] END C=0.01, epsilon=1.0, gamma=auto, kernel=sigmoid;, score=0.084 total time=   0.0s\n"
     ]
    },
    {
     "name": "stdout",
     "output_type": "stream",
     "text": [
      "[CV 2/5] END C=0.01, epsilon=1.0, gamma=auto, kernel=sigmoid;, score=0.092 total time=   0.0s\n",
      "[CV 3/5] END C=0.01, epsilon=1.0, gamma=auto, kernel=sigmoid;, score=0.083 total time=   0.0s\n",
      "[CV 4/5] END C=0.01, epsilon=1.0, gamma=auto, kernel=sigmoid;, score=0.068 total time=   0.0s\n",
      "[CV 5/5] END C=0.01, epsilon=1.0, gamma=auto, kernel=sigmoid;, score=0.088 total time=   0.0s\n",
      "[CV 1/5] END C=1.12, epsilon=0.01, gamma=scale, kernel=rbf;, score=0.806 total time=   0.0s\n",
      "[CV 2/5] END C=1.12, epsilon=0.01, gamma=scale, kernel=rbf;, score=0.894 total time=   0.0s\n",
      "[CV 3/5] END C=1.12, epsilon=0.01, gamma=scale, kernel=rbf;, score=0.857 total time=   0.0s\n",
      "[CV 4/5] END C=1.12, epsilon=0.01, gamma=scale, kernel=rbf;, score=0.780 total time=   0.0s\n"
     ]
    },
    {
     "name": "stdout",
     "output_type": "stream",
     "text": [
      "[CV 5/5] END C=1.12, epsilon=0.01, gamma=scale, kernel=rbf;, score=0.876 total time=   0.0s\n",
      "[CV 1/5] END C=1.12, epsilon=0.01, gamma=scale, kernel=linear;, score=0.998 total time=   0.0s\n",
      "[CV 2/5] END C=1.12, epsilon=0.01, gamma=scale, kernel=linear;, score=0.997 total time=   0.0s\n",
      "[CV 3/5] END C=1.12, epsilon=0.01, gamma=scale, kernel=linear;, score=0.998 total time=   0.0s\n",
      "[CV 4/5] END C=1.12, epsilon=0.01, gamma=scale, kernel=linear;, score=0.998 total time=   0.0s\n",
      "[CV 5/5] END C=1.12, epsilon=0.01, gamma=scale, kernel=linear;, score=0.998 total time=   0.0s\n",
      "[CV 1/5] END C=1.12, epsilon=0.01, gamma=scale, kernel=poly;, score=0.286 total time=   0.0s\n",
      "[CV 2/5] END C=1.12, epsilon=0.01, gamma=scale, kernel=poly;, score=0.652 total time=   0.0s\n",
      "[CV 3/5] END C=1.12, epsilon=0.01, gamma=scale, kernel=poly;, score=0.529 total time=   0.0s\n",
      "[CV 4/5] END C=1.12, epsilon=0.01, gamma=scale, kernel=poly;, score=0.328 total time=   0.0s\n"
     ]
    },
    {
     "name": "stdout",
     "output_type": "stream",
     "text": [
      "[CV 5/5] END C=1.12, epsilon=0.01, gamma=scale, kernel=poly;, score=0.676 total time=   0.0s\n",
      "[CV 1/5] END C=1.12, epsilon=0.01, gamma=scale, kernel=sigmoid;, score=0.171 total time=   0.0s\n",
      "[CV 2/5] END C=1.12, epsilon=0.01, gamma=scale, kernel=sigmoid;, score=0.334 total time=   0.0s\n",
      "[CV 3/5] END C=1.12, epsilon=0.01, gamma=scale, kernel=sigmoid;, score=0.193 total time=   0.0s\n",
      "[CV 4/5] END C=1.12, epsilon=0.01, gamma=scale, kernel=sigmoid;, score=0.098 total time=   0.0s\n",
      "[CV 5/5] END C=1.12, epsilon=0.01, gamma=scale, kernel=sigmoid;, score=0.261 total time=   0.0s\n",
      "[CV 1/5] END C=1.12, epsilon=0.01, gamma=auto, kernel=rbf;, score=0.796 total time=   0.0s\n"
     ]
    },
    {
     "name": "stdout",
     "output_type": "stream",
     "text": [
      "[CV 2/5] END C=1.12, epsilon=0.01, gamma=auto, kernel=rbf;, score=0.886 total time=   0.0s\n",
      "[CV 3/5] END C=1.12, epsilon=0.01, gamma=auto, kernel=rbf;, score=0.850 total time=   0.0s\n",
      "[CV 4/5] END C=1.12, epsilon=0.01, gamma=auto, kernel=rbf;, score=0.771 total time=   0.0s\n",
      "[CV 5/5] END C=1.12, epsilon=0.01, gamma=auto, kernel=rbf;, score=0.866 total time=   0.0s\n",
      "[CV 1/5] END C=1.12, epsilon=0.01, gamma=auto, kernel=linear;, score=0.998 total time=   0.0s\n",
      "[CV 2/5] END C=1.12, epsilon=0.01, gamma=auto, kernel=linear;, score=0.997 total time=   0.0s\n",
      "[CV 3/5] END C=1.12, epsilon=0.01, gamma=auto, kernel=linear;, score=0.998 total time=   0.0s\n",
      "[CV 4/5] END C=1.12, epsilon=0.01, gamma=auto, kernel=linear;, score=0.998 total time=   0.0s\n"
     ]
    },
    {
     "name": "stdout",
     "output_type": "stream",
     "text": [
      "[CV 5/5] END C=1.12, epsilon=0.01, gamma=auto, kernel=linear;, score=0.998 total time=   0.0s\n",
      "[CV 1/5] END C=1.12, epsilon=0.01, gamma=auto, kernel=poly;, score=0.272 total time=   0.0s\n",
      "[CV 2/5] END C=1.12, epsilon=0.01, gamma=auto, kernel=poly;, score=0.650 total time=   0.0s\n",
      "[CV 3/5] END C=1.12, epsilon=0.01, gamma=auto, kernel=poly;, score=0.529 total time=   0.0s\n",
      "[CV 4/5] END C=1.12, epsilon=0.01, gamma=auto, kernel=poly;, score=0.324 total time=   0.0s\n",
      "[CV 5/5] END C=1.12, epsilon=0.01, gamma=auto, kernel=poly;, score=0.676 total time=   0.0s\n",
      "[CV 1/5] END C=1.12, epsilon=0.01, gamma=auto, kernel=sigmoid;, score=0.042 total time=   0.0s\n",
      "[CV 2/5] END C=1.12, epsilon=0.01, gamma=auto, kernel=sigmoid;, score=0.128 total time=   0.0s\n"
     ]
    },
    {
     "name": "stdout",
     "output_type": "stream",
     "text": [
      "[CV 3/5] END C=1.12, epsilon=0.01, gamma=auto, kernel=sigmoid;, score=0.052 total time=   0.0s\n",
      "[CV 4/5] END C=1.12, epsilon=0.01, gamma=auto, kernel=sigmoid;, score=-0.012 total time=   0.0s\n",
      "[CV 5/5] END C=1.12, epsilon=0.01, gamma=auto, kernel=sigmoid;, score=0.079 total time=   0.0s\n",
      "[CV 1/5] END C=1.12, epsilon=0.12, gamma=scale, kernel=rbf;, score=0.806 total time=   0.0s\n",
      "[CV 2/5] END C=1.12, epsilon=0.12, gamma=scale, kernel=rbf;, score=0.894 total time=   0.0s\n",
      "[CV 3/5] END C=1.12, epsilon=0.12, gamma=scale, kernel=rbf;, score=0.858 total time=   0.0s\n"
     ]
    },
    {
     "name": "stdout",
     "output_type": "stream",
     "text": [
      "[CV 4/5] END C=1.12, epsilon=0.12, gamma=scale, kernel=rbf;, score=0.780 total time=   0.0s\n",
      "[CV 5/5] END C=1.12, epsilon=0.12, gamma=scale, kernel=rbf;, score=0.877 total time=   0.0s\n",
      "[CV 1/5] END C=1.12, epsilon=0.12, gamma=scale, kernel=linear;, score=0.998 total time=   0.0s\n",
      "[CV 2/5] END C=1.12, epsilon=0.12, gamma=scale, kernel=linear;, score=0.998 total time=   0.0s\n",
      "[CV 3/5] END C=1.12, epsilon=0.12, gamma=scale, kernel=linear;, score=0.998 total time=   0.0s\n",
      "[CV 4/5] END C=1.12, epsilon=0.12, gamma=scale, kernel=linear;, score=0.998 total time=   0.0s\n",
      "[CV 5/5] END C=1.12, epsilon=0.12, gamma=scale, kernel=linear;, score=0.998 total time=   0.0s\n",
      "[CV 1/5] END C=1.12, epsilon=0.12, gamma=scale, kernel=poly;, score=0.285 total time=   0.0s\n"
     ]
    },
    {
     "name": "stdout",
     "output_type": "stream",
     "text": [
      "[CV 2/5] END C=1.12, epsilon=0.12, gamma=scale, kernel=poly;, score=0.652 total time=   0.0s\n",
      "[CV 3/5] END C=1.12, epsilon=0.12, gamma=scale, kernel=poly;, score=0.531 total time=   0.0s\n",
      "[CV 4/5] END C=1.12, epsilon=0.12, gamma=scale, kernel=poly;, score=0.327 total time=   0.0s\n",
      "[CV 5/5] END C=1.12, epsilon=0.12, gamma=scale, kernel=poly;, score=0.676 total time=   0.0s\n",
      "[CV 1/5] END C=1.12, epsilon=0.12, gamma=scale, kernel=sigmoid;, score=0.172 total time=   0.0s\n",
      "[CV 2/5] END C=1.12, epsilon=0.12, gamma=scale, kernel=sigmoid;, score=0.332 total time=   0.0s\n",
      "[CV 3/5] END C=1.12, epsilon=0.12, gamma=scale, kernel=sigmoid;, score=0.191 total time=   0.0s\n"
     ]
    },
    {
     "name": "stdout",
     "output_type": "stream",
     "text": [
      "[CV 4/5] END C=1.12, epsilon=0.12, gamma=scale, kernel=sigmoid;, score=0.100 total time=   0.0s\n",
      "[CV 5/5] END C=1.12, epsilon=0.12, gamma=scale, kernel=sigmoid;, score=0.258 total time=   0.0s\n",
      "[CV 1/5] END C=1.12, epsilon=0.12, gamma=auto, kernel=rbf;, score=0.797 total time=   0.0s\n",
      "[CV 2/5] END C=1.12, epsilon=0.12, gamma=auto, kernel=rbf;, score=0.886 total time=   0.0s\n",
      "[CV 3/5] END C=1.12, epsilon=0.12, gamma=auto, kernel=rbf;, score=0.850 total time=   0.0s\n",
      "[CV 4/5] END C=1.12, epsilon=0.12, gamma=auto, kernel=rbf;, score=0.771 total time=   0.0s\n",
      "[CV 5/5] END C=1.12, epsilon=0.12, gamma=auto, kernel=rbf;, score=0.867 total time=   0.0s\n",
      "[CV 1/5] END C=1.12, epsilon=0.12, gamma=auto, kernel=linear;, score=0.998 total time=   0.0s\n",
      "[CV 2/5] END C=1.12, epsilon=0.12, gamma=auto, kernel=linear;, score=0.998 total time=   0.0s\n"
     ]
    },
    {
     "name": "stdout",
     "output_type": "stream",
     "text": [
      "[CV 3/5] END C=1.12, epsilon=0.12, gamma=auto, kernel=linear;, score=0.998 total time=   0.0s\n",
      "[CV 4/5] END C=1.12, epsilon=0.12, gamma=auto, kernel=linear;, score=0.998 total time=   0.0s\n",
      "[CV 5/5] END C=1.12, epsilon=0.12, gamma=auto, kernel=linear;, score=0.998 total time=   0.0s\n",
      "[CV 1/5] END C=1.12, epsilon=0.12, gamma=auto, kernel=poly;, score=0.270 total time=   0.0s\n",
      "[CV 2/5] END C=1.12, epsilon=0.12, gamma=auto, kernel=poly;, score=0.650 total time=   0.0s\n",
      "[CV 3/5] END C=1.12, epsilon=0.12, gamma=auto, kernel=poly;, score=0.528 total time=   0.0s\n",
      "[CV 4/5] END C=1.12, epsilon=0.12, gamma=auto, kernel=poly;, score=0.326 total time=   0.0s\n",
      "[CV 5/5] END C=1.12, epsilon=0.12, gamma=auto, kernel=poly;, score=0.675 total time=   0.0s\n",
      "[CV 1/5] END C=1.12, epsilon=0.12, gamma=auto, kernel=sigmoid;, score=0.041 total time=   0.0s\n"
     ]
    },
    {
     "name": "stdout",
     "output_type": "stream",
     "text": [
      "[CV 2/5] END C=1.12, epsilon=0.12, gamma=auto, kernel=sigmoid;, score=0.126 total time=   0.0s\n",
      "[CV 3/5] END C=1.12, epsilon=0.12, gamma=auto, kernel=sigmoid;, score=0.056 total time=   0.0s\n",
      "[CV 4/5] END C=1.12, epsilon=0.12, gamma=auto, kernel=sigmoid;, score=-0.013 total time=   0.0s\n",
      "[CV 5/5] END C=1.12, epsilon=0.12, gamma=auto, kernel=sigmoid;, score=0.078 total time=   0.0s\n",
      "[CV 1/5] END C=1.12, epsilon=0.23, gamma=scale, kernel=rbf;, score=0.806 total time=   0.0s\n",
      "[CV 2/5] END C=1.12, epsilon=0.23, gamma=scale, kernel=rbf;, score=0.894 total time=   0.0s\n",
      "[CV 3/5] END C=1.12, epsilon=0.23, gamma=scale, kernel=rbf;, score=0.857 total time=   0.0s\n",
      "[CV 4/5] END C=1.12, epsilon=0.23, gamma=scale, kernel=rbf;, score=0.780 total time=   0.0s\n"
     ]
    },
    {
     "name": "stdout",
     "output_type": "stream",
     "text": [
      "[CV 5/5] END C=1.12, epsilon=0.23, gamma=scale, kernel=rbf;, score=0.876 total time=   0.0s\n",
      "[CV 1/5] END C=1.12, epsilon=0.23, gamma=scale, kernel=linear;, score=0.998 total time=   0.0s\n",
      "[CV 2/5] END C=1.12, epsilon=0.23, gamma=scale, kernel=linear;, score=0.998 total time=   0.0s\n",
      "[CV 3/5] END C=1.12, epsilon=0.23, gamma=scale, kernel=linear;, score=0.998 total time=   0.0s\n",
      "[CV 4/5] END C=1.12, epsilon=0.23, gamma=scale, kernel=linear;, score=0.998 total time=   0.0s\n",
      "[CV 5/5] END C=1.12, epsilon=0.23, gamma=scale, kernel=linear;, score=0.998 total time=   0.0s\n",
      "[CV 1/5] END C=1.12, epsilon=0.23, gamma=scale, kernel=poly;, score=0.282 total time=   0.0s\n",
      "[CV 2/5] END C=1.12, epsilon=0.23, gamma=scale, kernel=poly;, score=0.652 total time=   0.0s\n",
      "[CV 3/5] END C=1.12, epsilon=0.23, gamma=scale, kernel=poly;, score=0.531 total time=   0.0s\n"
     ]
    },
    {
     "name": "stdout",
     "output_type": "stream",
     "text": [
      "[CV 4/5] END C=1.12, epsilon=0.23, gamma=scale, kernel=poly;, score=0.329 total time=   0.0s\n",
      "[CV 5/5] END C=1.12, epsilon=0.23, gamma=scale, kernel=poly;, score=0.676 total time=   0.0s\n",
      "[CV 1/5] END C=1.12, epsilon=0.23, gamma=scale, kernel=sigmoid;, score=0.172 total time=   0.0s\n",
      "[CV 2/5] END C=1.12, epsilon=0.23, gamma=scale, kernel=sigmoid;, score=0.333 total time=   0.0s\n",
      "[CV 3/5] END C=1.12, epsilon=0.23, gamma=scale, kernel=sigmoid;, score=0.190 total time=   0.0s\n",
      "[CV 4/5] END C=1.12, epsilon=0.23, gamma=scale, kernel=sigmoid;, score=0.100 total time=   0.0s\n",
      "[CV 5/5] END C=1.12, epsilon=0.23, gamma=scale, kernel=sigmoid;, score=0.256 total time=   0.0s\n"
     ]
    },
    {
     "name": "stdout",
     "output_type": "stream",
     "text": [
      "[CV 1/5] END C=1.12, epsilon=0.23, gamma=auto, kernel=rbf;, score=0.797 total time=   0.0s\n",
      "[CV 2/5] END C=1.12, epsilon=0.23, gamma=auto, kernel=rbf;, score=0.885 total time=   0.0s\n",
      "[CV 3/5] END C=1.12, epsilon=0.23, gamma=auto, kernel=rbf;, score=0.850 total time=   0.0s\n",
      "[CV 4/5] END C=1.12, epsilon=0.23, gamma=auto, kernel=rbf;, score=0.770 total time=   0.0s\n",
      "[CV 5/5] END C=1.12, epsilon=0.23, gamma=auto, kernel=rbf;, score=0.866 total time=   0.0s\n",
      "[CV 1/5] END C=1.12, epsilon=0.23, gamma=auto, kernel=linear;, score=0.998 total time=   0.0s\n",
      "[CV 2/5] END C=1.12, epsilon=0.23, gamma=auto, kernel=linear;, score=0.998 total time=   0.0s\n"
     ]
    },
    {
     "name": "stdout",
     "output_type": "stream",
     "text": [
      "[CV 3/5] END C=1.12, epsilon=0.23, gamma=auto, kernel=linear;, score=0.998 total time=   0.0s\n",
      "[CV 4/5] END C=1.12, epsilon=0.23, gamma=auto, kernel=linear;, score=0.998 total time=   0.0s\n",
      "[CV 5/5] END C=1.12, epsilon=0.23, gamma=auto, kernel=linear;, score=0.998 total time=   0.0s\n",
      "[CV 1/5] END C=1.12, epsilon=0.23, gamma=auto, kernel=poly;, score=0.268 total time=   0.0s\n",
      "[CV 2/5] END C=1.12, epsilon=0.23, gamma=auto, kernel=poly;, score=0.650 total time=   0.0s\n",
      "[CV 3/5] END C=1.12, epsilon=0.23, gamma=auto, kernel=poly;, score=0.530 total time=   0.0s\n",
      "[CV 4/5] END C=1.12, epsilon=0.23, gamma=auto, kernel=poly;, score=0.327 total time=   0.0s\n"
     ]
    },
    {
     "name": "stdout",
     "output_type": "stream",
     "text": [
      "[CV 5/5] END C=1.12, epsilon=0.23, gamma=auto, kernel=poly;, score=0.675 total time=   0.0s\n",
      "[CV 1/5] END C=1.12, epsilon=0.23, gamma=auto, kernel=sigmoid;, score=0.041 total time=   0.0s\n",
      "[CV 2/5] END C=1.12, epsilon=0.23, gamma=auto, kernel=sigmoid;, score=0.126 total time=   0.0s\n",
      "[CV 3/5] END C=1.12, epsilon=0.23, gamma=auto, kernel=sigmoid;, score=0.056 total time=   0.0s\n",
      "[CV 4/5] END C=1.12, epsilon=0.23, gamma=auto, kernel=sigmoid;, score=-0.016 total time=   0.0s\n"
     ]
    },
    {
     "name": "stdout",
     "output_type": "stream",
     "text": [
      "[CV 5/5] END C=1.12, epsilon=0.23, gamma=auto, kernel=sigmoid;, score=0.079 total time=   0.0s\n",
      "[CV 1/5] END C=1.12, epsilon=0.34, gamma=scale, kernel=rbf;, score=0.806 total time=   0.0s\n",
      "[CV 2/5] END C=1.12, epsilon=0.34, gamma=scale, kernel=rbf;, score=0.894 total time=   0.0s\n",
      "[CV 3/5] END C=1.12, epsilon=0.34, gamma=scale, kernel=rbf;, score=0.857 total time=   0.0s\n",
      "[CV 4/5] END C=1.12, epsilon=0.34, gamma=scale, kernel=rbf;, score=0.780 total time=   0.0s\n",
      "[CV 5/5] END C=1.12, epsilon=0.34, gamma=scale, kernel=rbf;, score=0.877 total time=   0.0s\n"
     ]
    },
    {
     "name": "stdout",
     "output_type": "stream",
     "text": [
      "[CV 1/5] END C=1.12, epsilon=0.34, gamma=scale, kernel=linear;, score=0.998 total time=   0.0s\n",
      "[CV 2/5] END C=1.12, epsilon=0.34, gamma=scale, kernel=linear;, score=0.998 total time=   0.0s\n",
      "[CV 3/5] END C=1.12, epsilon=0.34, gamma=scale, kernel=linear;, score=0.998 total time=   0.0s\n",
      "[CV 4/5] END C=1.12, epsilon=0.34, gamma=scale, kernel=linear;, score=0.998 total time=   0.0s\n",
      "[CV 5/5] END C=1.12, epsilon=0.34, gamma=scale, kernel=linear;, score=0.998 total time=   0.0s\n",
      "[CV 1/5] END C=1.12, epsilon=0.34, gamma=scale, kernel=poly;, score=0.280 total time=   0.0s\n"
     ]
    },
    {
     "name": "stdout",
     "output_type": "stream",
     "text": [
      "[CV 2/5] END C=1.12, epsilon=0.34, gamma=scale, kernel=poly;, score=0.652 total time=   0.0s\n",
      "[CV 3/5] END C=1.12, epsilon=0.34, gamma=scale, kernel=poly;, score=0.532 total time=   0.0s\n",
      "[CV 4/5] END C=1.12, epsilon=0.34, gamma=scale, kernel=poly;, score=0.332 total time=   0.0s\n",
      "[CV 5/5] END C=1.12, epsilon=0.34, gamma=scale, kernel=poly;, score=0.676 total time=   0.0s\n",
      "[CV 1/5] END C=1.12, epsilon=0.34, gamma=scale, kernel=sigmoid;, score=0.171 total time=   0.0s\n",
      "[CV 2/5] END C=1.12, epsilon=0.34, gamma=scale, kernel=sigmoid;, score=0.333 total time=   0.0s\n"
     ]
    },
    {
     "name": "stdout",
     "output_type": "stream",
     "text": [
      "[CV 3/5] END C=1.12, epsilon=0.34, gamma=scale, kernel=sigmoid;, score=0.189 total time=   0.0s\n",
      "[CV 4/5] END C=1.12, epsilon=0.34, gamma=scale, kernel=sigmoid;, score=0.100 total time=   0.0s\n",
      "[CV 5/5] END C=1.12, epsilon=0.34, gamma=scale, kernel=sigmoid;, score=0.255 total time=   0.0s\n",
      "[CV 1/5] END C=1.12, epsilon=0.34, gamma=auto, kernel=rbf;, score=0.796 total time=   0.0s\n",
      "[CV 2/5] END C=1.12, epsilon=0.34, gamma=auto, kernel=rbf;, score=0.886 total time=   0.0s\n",
      "[CV 3/5] END C=1.12, epsilon=0.34, gamma=auto, kernel=rbf;, score=0.850 total time=   0.0s\n"
     ]
    },
    {
     "name": "stdout",
     "output_type": "stream",
     "text": [
      "[CV 4/5] END C=1.12, epsilon=0.34, gamma=auto, kernel=rbf;, score=0.770 total time=   0.0s\n",
      "[CV 5/5] END C=1.12, epsilon=0.34, gamma=auto, kernel=rbf;, score=0.866 total time=   0.0s\n",
      "[CV 1/5] END C=1.12, epsilon=0.34, gamma=auto, kernel=linear;, score=0.998 total time=   0.0s\n",
      "[CV 2/5] END C=1.12, epsilon=0.34, gamma=auto, kernel=linear;, score=0.998 total time=   0.0s\n",
      "[CV 3/5] END C=1.12, epsilon=0.34, gamma=auto, kernel=linear;, score=0.998 total time=   0.0s\n",
      "[CV 4/5] END C=1.12, epsilon=0.34, gamma=auto, kernel=linear;, score=0.998 total time=   0.0s\n",
      "[CV 5/5] END C=1.12, epsilon=0.34, gamma=auto, kernel=linear;, score=0.998 total time=   0.0s\n",
      "[CV 1/5] END C=1.12, epsilon=0.34, gamma=auto, kernel=poly;, score=0.265 total time=   0.0s\n"
     ]
    },
    {
     "name": "stdout",
     "output_type": "stream",
     "text": [
      "[CV 2/5] END C=1.12, epsilon=0.34, gamma=auto, kernel=poly;, score=0.650 total time=   0.0s\n",
      "[CV 3/5] END C=1.12, epsilon=0.34, gamma=auto, kernel=poly;, score=0.530 total time=   0.0s\n",
      "[CV 4/5] END C=1.12, epsilon=0.34, gamma=auto, kernel=poly;, score=0.329 total time=   0.0s\n",
      "[CV 5/5] END C=1.12, epsilon=0.34, gamma=auto, kernel=poly;, score=0.674 total time=   0.0s\n",
      "[CV 1/5] END C=1.12, epsilon=0.34, gamma=auto, kernel=sigmoid;, score=0.042 total time=   0.0s\n",
      "[CV 2/5] END C=1.12, epsilon=0.34, gamma=auto, kernel=sigmoid;, score=0.125 total time=   0.0s\n",
      "[CV 3/5] END C=1.12, epsilon=0.34, gamma=auto, kernel=sigmoid;, score=0.053 total time=   0.0s\n",
      "[CV 4/5] END C=1.12, epsilon=0.34, gamma=auto, kernel=sigmoid;, score=-0.014 total time=   0.0s\n",
      "[CV 5/5] END C=1.12, epsilon=0.34, gamma=auto, kernel=sigmoid;, score=0.080 total time=   0.0s\n"
     ]
    },
    {
     "name": "stdout",
     "output_type": "stream",
     "text": [
      "[CV 1/5] END C=1.12, epsilon=0.45, gamma=scale, kernel=rbf;, score=0.806 total time=   0.0s\n",
      "[CV 2/5] END C=1.12, epsilon=0.45, gamma=scale, kernel=rbf;, score=0.894 total time=   0.0s\n",
      "[CV 3/5] END C=1.12, epsilon=0.45, gamma=scale, kernel=rbf;, score=0.857 total time=   0.0s\n",
      "[CV 4/5] END C=1.12, epsilon=0.45, gamma=scale, kernel=rbf;, score=0.780 total time=   0.0s\n",
      "[CV 5/5] END C=1.12, epsilon=0.45, gamma=scale, kernel=rbf;, score=0.876 total time=   0.0s\n",
      "[CV 1/5] END C=1.12, epsilon=0.45, gamma=scale, kernel=linear;, score=0.998 total time=   0.0s\n",
      "[CV 2/5] END C=1.12, epsilon=0.45, gamma=scale, kernel=linear;, score=0.998 total time=   0.0s\n"
     ]
    },
    {
     "name": "stdout",
     "output_type": "stream",
     "text": [
      "[CV 3/5] END C=1.12, epsilon=0.45, gamma=scale, kernel=linear;, score=0.998 total time=   0.0s\n",
      "[CV 4/5] END C=1.12, epsilon=0.45, gamma=scale, kernel=linear;, score=0.998 total time=   0.0s\n",
      "[CV 5/5] END C=1.12, epsilon=0.45, gamma=scale, kernel=linear;, score=0.998 total time=   0.0s\n",
      "[CV 1/5] END C=1.12, epsilon=0.45, gamma=scale, kernel=poly;, score=0.280 total time=   0.0s\n",
      "[CV 2/5] END C=1.12, epsilon=0.45, gamma=scale, kernel=poly;, score=0.653 total time=   0.0s\n",
      "[CV 3/5] END C=1.12, epsilon=0.45, gamma=scale, kernel=poly;, score=0.532 total time=   0.0s\n",
      "[CV 4/5] END C=1.12, epsilon=0.45, gamma=scale, kernel=poly;, score=0.333 total time=   0.0s\n",
      "[CV 5/5] END C=1.12, epsilon=0.45, gamma=scale, kernel=poly;, score=0.676 total time=   0.0s\n"
     ]
    },
    {
     "name": "stdout",
     "output_type": "stream",
     "text": [
      "[CV 1/5] END C=1.12, epsilon=0.45, gamma=scale, kernel=sigmoid;, score=0.171 total time=   0.0s\n",
      "[CV 2/5] END C=1.12, epsilon=0.45, gamma=scale, kernel=sigmoid;, score=0.333 total time=   0.0s\n",
      "[CV 3/5] END C=1.12, epsilon=0.45, gamma=scale, kernel=sigmoid;, score=0.189 total time=   0.0s\n",
      "[CV 4/5] END C=1.12, epsilon=0.45, gamma=scale, kernel=sigmoid;, score=0.101 total time=   0.0s\n",
      "[CV 5/5] END C=1.12, epsilon=0.45, gamma=scale, kernel=sigmoid;, score=0.255 total time=   0.0s\n",
      "[CV 1/5] END C=1.12, epsilon=0.45, gamma=auto, kernel=rbf;, score=0.796 total time=   0.0s\n",
      "[CV 2/5] END C=1.12, epsilon=0.45, gamma=auto, kernel=rbf;, score=0.886 total time=   0.0s\n"
     ]
    },
    {
     "name": "stdout",
     "output_type": "stream",
     "text": [
      "[CV 3/5] END C=1.12, epsilon=0.45, gamma=auto, kernel=rbf;, score=0.849 total time=   0.0s\n",
      "[CV 4/5] END C=1.12, epsilon=0.45, gamma=auto, kernel=rbf;, score=0.770 total time=   0.0s\n",
      "[CV 5/5] END C=1.12, epsilon=0.45, gamma=auto, kernel=rbf;, score=0.866 total time=   0.0s\n",
      "[CV 1/5] END C=1.12, epsilon=0.45, gamma=auto, kernel=linear;, score=0.998 total time=   0.0s\n",
      "[CV 2/5] END C=1.12, epsilon=0.45, gamma=auto, kernel=linear;, score=0.998 total time=   0.0s\n",
      "[CV 3/5] END C=1.12, epsilon=0.45, gamma=auto, kernel=linear;, score=0.998 total time=   0.0s\n",
      "[CV 4/5] END C=1.12, epsilon=0.45, gamma=auto, kernel=linear;, score=0.998 total time=   0.0s\n"
     ]
    },
    {
     "name": "stdout",
     "output_type": "stream",
     "text": [
      "[CV 5/5] END C=1.12, epsilon=0.45, gamma=auto, kernel=linear;, score=0.998 total time=   0.0s\n",
      "[CV 1/5] END C=1.12, epsilon=0.45, gamma=auto, kernel=poly;, score=0.265 total time=   0.0s\n",
      "[CV 2/5] END C=1.12, epsilon=0.45, gamma=auto, kernel=poly;, score=0.650 total time=   0.0s\n",
      "[CV 3/5] END C=1.12, epsilon=0.45, gamma=auto, kernel=poly;, score=0.530 total time=   0.0s\n",
      "[CV 4/5] END C=1.12, epsilon=0.45, gamma=auto, kernel=poly;, score=0.331 total time=   0.0s\n",
      "[CV 5/5] END C=1.12, epsilon=0.45, gamma=auto, kernel=poly;, score=0.674 total time=   0.0s\n",
      "[CV 1/5] END C=1.12, epsilon=0.45, gamma=auto, kernel=sigmoid;, score=0.043 total time=   0.0s\n",
      "[CV 2/5] END C=1.12, epsilon=0.45, gamma=auto, kernel=sigmoid;, score=0.125 total time=   0.0s\n",
      "[CV 3/5] END C=1.12, epsilon=0.45, gamma=auto, kernel=sigmoid;, score=0.052 total time=   0.0s\n"
     ]
    },
    {
     "name": "stdout",
     "output_type": "stream",
     "text": [
      "[CV 4/5] END C=1.12, epsilon=0.45, gamma=auto, kernel=sigmoid;, score=-0.011 total time=   0.0s\n",
      "[CV 5/5] END C=1.12, epsilon=0.45, gamma=auto, kernel=sigmoid;, score=0.081 total time=   0.0s\n",
      "[CV 1/5] END C=1.12, epsilon=0.56, gamma=scale, kernel=rbf;, score=0.806 total time=   0.0s\n",
      "[CV 2/5] END C=1.12, epsilon=0.56, gamma=scale, kernel=rbf;, score=0.894 total time=   0.0s\n",
      "[CV 3/5] END C=1.12, epsilon=0.56, gamma=scale, kernel=rbf;, score=0.858 total time=   0.0s\n",
      "[CV 4/5] END C=1.12, epsilon=0.56, gamma=scale, kernel=rbf;, score=0.779 total time=   0.0s\n",
      "[CV 5/5] END C=1.12, epsilon=0.56, gamma=scale, kernel=rbf;, score=0.876 total time=   0.0s\n",
      "[CV 1/5] END C=1.12, epsilon=0.56, gamma=scale, kernel=linear;, score=0.998 total time=   0.0s\n",
      "[CV 2/5] END C=1.12, epsilon=0.56, gamma=scale, kernel=linear;, score=0.998 total time=   0.0s\n"
     ]
    },
    {
     "name": "stdout",
     "output_type": "stream",
     "text": [
      "[CV 3/5] END C=1.12, epsilon=0.56, gamma=scale, kernel=linear;, score=0.998 total time=   0.0s\n",
      "[CV 4/5] END C=1.12, epsilon=0.56, gamma=scale, kernel=linear;, score=0.998 total time=   0.0s\n",
      "[CV 5/5] END C=1.12, epsilon=0.56, gamma=scale, kernel=linear;, score=0.998 total time=   0.0s\n",
      "[CV 1/5] END C=1.12, epsilon=0.56, gamma=scale, kernel=poly;, score=0.279 total time=   0.0s\n",
      "[CV 2/5] END C=1.12, epsilon=0.56, gamma=scale, kernel=poly;, score=0.653 total time=   0.0s\n",
      "[CV 3/5] END C=1.12, epsilon=0.56, gamma=scale, kernel=poly;, score=0.532 total time=   0.0s\n",
      "[CV 4/5] END C=1.12, epsilon=0.56, gamma=scale, kernel=poly;, score=0.334 total time=   0.0s\n",
      "[CV 5/5] END C=1.12, epsilon=0.56, gamma=scale, kernel=poly;, score=0.676 total time=   0.0s\n",
      "[CV 1/5] END C=1.12, epsilon=0.56, gamma=scale, kernel=sigmoid;, score=0.170 total time=   0.0s\n"
     ]
    },
    {
     "name": "stdout",
     "output_type": "stream",
     "text": [
      "[CV 2/5] END C=1.12, epsilon=0.56, gamma=scale, kernel=sigmoid;, score=0.334 total time=   0.0s\n",
      "[CV 3/5] END C=1.12, epsilon=0.56, gamma=scale, kernel=sigmoid;, score=0.187 total time=   0.0s\n",
      "[CV 4/5] END C=1.12, epsilon=0.56, gamma=scale, kernel=sigmoid;, score=0.103 total time=   0.0s\n",
      "[CV 5/5] END C=1.12, epsilon=0.56, gamma=scale, kernel=sigmoid;, score=0.252 total time=   0.0s\n",
      "[CV 1/5] END C=1.12, epsilon=0.56, gamma=auto, kernel=rbf;, score=0.797 total time=   0.0s\n",
      "[CV 2/5] END C=1.12, epsilon=0.56, gamma=auto, kernel=rbf;, score=0.886 total time=   0.0s\n",
      "[CV 3/5] END C=1.12, epsilon=0.56, gamma=auto, kernel=rbf;, score=0.849 total time=   0.0s\n"
     ]
    },
    {
     "name": "stdout",
     "output_type": "stream",
     "text": [
      "[CV 4/5] END C=1.12, epsilon=0.56, gamma=auto, kernel=rbf;, score=0.770 total time=   0.0s\n",
      "[CV 5/5] END C=1.12, epsilon=0.56, gamma=auto, kernel=rbf;, score=0.866 total time=   0.0s\n",
      "[CV 1/5] END C=1.12, epsilon=0.56, gamma=auto, kernel=linear;, score=0.998 total time=   0.0s\n",
      "[CV 2/5] END C=1.12, epsilon=0.56, gamma=auto, kernel=linear;, score=0.998 total time=   0.0s\n",
      "[CV 3/5] END C=1.12, epsilon=0.56, gamma=auto, kernel=linear;, score=0.998 total time=   0.0s\n",
      "[CV 4/5] END C=1.12, epsilon=0.56, gamma=auto, kernel=linear;, score=0.998 total time=   0.0s\n",
      "[CV 5/5] END C=1.12, epsilon=0.56, gamma=auto, kernel=linear;, score=0.998 total time=   0.0s\n"
     ]
    },
    {
     "name": "stdout",
     "output_type": "stream",
     "text": [
      "[CV 1/5] END C=1.12, epsilon=0.56, gamma=auto, kernel=poly;, score=0.264 total time=   0.0s\n",
      "[CV 2/5] END C=1.12, epsilon=0.56, gamma=auto, kernel=poly;, score=0.650 total time=   0.0s\n",
      "[CV 3/5] END C=1.12, epsilon=0.56, gamma=auto, kernel=poly;, score=0.530 total time=   0.0s\n",
      "[CV 4/5] END C=1.12, epsilon=0.56, gamma=auto, kernel=poly;, score=0.333 total time=   0.0s\n",
      "[CV 5/5] END C=1.12, epsilon=0.56, gamma=auto, kernel=poly;, score=0.674 total time=   0.0s\n",
      "[CV 1/5] END C=1.12, epsilon=0.56, gamma=auto, kernel=sigmoid;, score=0.044 total time=   0.0s\n",
      "[CV 2/5] END C=1.12, epsilon=0.56, gamma=auto, kernel=sigmoid;, score=0.126 total time=   0.0s\n"
     ]
    },
    {
     "name": "stdout",
     "output_type": "stream",
     "text": [
      "[CV 3/5] END C=1.12, epsilon=0.56, gamma=auto, kernel=sigmoid;, score=0.052 total time=   0.0s\n",
      "[CV 4/5] END C=1.12, epsilon=0.56, gamma=auto, kernel=sigmoid;, score=-0.011 total time=   0.0s\n",
      "[CV 5/5] END C=1.12, epsilon=0.56, gamma=auto, kernel=sigmoid;, score=0.082 total time=   0.0s\n",
      "[CV 1/5] END C=1.12, epsilon=0.67, gamma=scale, kernel=rbf;, score=0.806 total time=   0.0s\n",
      "[CV 2/5] END C=1.12, epsilon=0.67, gamma=scale, kernel=rbf;, score=0.894 total time=   0.0s\n",
      "[CV 3/5] END C=1.12, epsilon=0.67, gamma=scale, kernel=rbf;, score=0.858 total time=   0.0s\n",
      "[CV 4/5] END C=1.12, epsilon=0.67, gamma=scale, kernel=rbf;, score=0.779 total time=   0.0s\n"
     ]
    },
    {
     "name": "stdout",
     "output_type": "stream",
     "text": [
      "[CV 5/5] END C=1.12, epsilon=0.67, gamma=scale, kernel=rbf;, score=0.876 total time=   0.0s\n",
      "[CV 1/5] END C=1.12, epsilon=0.67, gamma=scale, kernel=linear;, score=0.998 total time=   0.0s\n",
      "[CV 2/5] END C=1.12, epsilon=0.67, gamma=scale, kernel=linear;, score=0.998 total time=   0.0s\n",
      "[CV 3/5] END C=1.12, epsilon=0.67, gamma=scale, kernel=linear;, score=0.998 total time=   0.0s\n",
      "[CV 4/5] END C=1.12, epsilon=0.67, gamma=scale, kernel=linear;, score=0.998 total time=   0.0s\n",
      "[CV 5/5] END C=1.12, epsilon=0.67, gamma=scale, kernel=linear;, score=0.998 total time=   0.0s\n",
      "[CV 1/5] END C=1.12, epsilon=0.67, gamma=scale, kernel=poly;, score=0.280 total time=   0.0s\n",
      "[CV 2/5] END C=1.12, epsilon=0.67, gamma=scale, kernel=poly;, score=0.653 total time=   0.0s\n",
      "[CV 3/5] END C=1.12, epsilon=0.67, gamma=scale, kernel=poly;, score=0.532 total time=   0.0s\n",
      "[CV 4/5] END C=1.12, epsilon=0.67, gamma=scale, kernel=poly;, score=0.334 total time=   0.0s\n",
      "[CV 5/5] END C=1.12, epsilon=0.67, gamma=scale, kernel=poly;, score=0.675 total time=   0.0s\n",
      "[CV 1/5] END C=1.12, epsilon=0.67, gamma=scale, kernel=sigmoid;, score=0.171 total time=   0.0s\n"
     ]
    },
    {
     "name": "stdout",
     "output_type": "stream",
     "text": [
      "[CV 2/5] END C=1.12, epsilon=0.67, gamma=scale, kernel=sigmoid;, score=0.336 total time=   0.0s\n",
      "[CV 3/5] END C=1.12, epsilon=0.67, gamma=scale, kernel=sigmoid;, score=0.187 total time=   0.0s\n",
      "[CV 4/5] END C=1.12, epsilon=0.67, gamma=scale, kernel=sigmoid;, score=0.104 total time=   0.0s\n",
      "[CV 5/5] END C=1.12, epsilon=0.67, gamma=scale, kernel=sigmoid;, score=0.251 total time=   0.0s\n",
      "[CV 1/5] END C=1.12, epsilon=0.67, gamma=auto, kernel=rbf;, score=0.797 total time=   0.0s\n"
     ]
    },
    {
     "name": "stdout",
     "output_type": "stream",
     "text": [
      "[CV 2/5] END C=1.12, epsilon=0.67, gamma=auto, kernel=rbf;, score=0.885 total time=   0.0s\n",
      "[CV 3/5] END C=1.12, epsilon=0.67, gamma=auto, kernel=rbf;, score=0.850 total time=   0.0s\n",
      "[CV 4/5] END C=1.12, epsilon=0.67, gamma=auto, kernel=rbf;, score=0.770 total time=   0.0s\n",
      "[CV 5/5] END C=1.12, epsilon=0.67, gamma=auto, kernel=rbf;, score=0.866 total time=   0.0s\n",
      "[CV 1/5] END C=1.12, epsilon=0.67, gamma=auto, kernel=linear;, score=0.998 total time=   0.0s\n",
      "[CV 2/5] END C=1.12, epsilon=0.67, gamma=auto, kernel=linear;, score=0.998 total time=   0.0s\n",
      "[CV 3/5] END C=1.12, epsilon=0.67, gamma=auto, kernel=linear;, score=0.998 total time=   0.0s\n",
      "[CV 4/5] END C=1.12, epsilon=0.67, gamma=auto, kernel=linear;, score=0.998 total time=   0.0s\n"
     ]
    },
    {
     "name": "stdout",
     "output_type": "stream",
     "text": [
      "[CV 5/5] END C=1.12, epsilon=0.67, gamma=auto, kernel=linear;, score=0.998 total time=   0.0s\n",
      "[CV 1/5] END C=1.12, epsilon=0.67, gamma=auto, kernel=poly;, score=0.261 total time=   0.0s\n",
      "[CV 2/5] END C=1.12, epsilon=0.67, gamma=auto, kernel=poly;, score=0.650 total time=   0.0s\n",
      "[CV 3/5] END C=1.12, epsilon=0.67, gamma=auto, kernel=poly;, score=0.531 total time=   0.0s\n",
      "[CV 4/5] END C=1.12, epsilon=0.67, gamma=auto, kernel=poly;, score=0.333 total time=   0.0s\n",
      "[CV 5/5] END C=1.12, epsilon=0.67, gamma=auto, kernel=poly;, score=0.674 total time=   0.0s\n"
     ]
    },
    {
     "name": "stdout",
     "output_type": "stream",
     "text": [
      "[CV 1/5] END C=1.12, epsilon=0.67, gamma=auto, kernel=sigmoid;, score=0.045 total time=   0.0s\n",
      "[CV 2/5] END C=1.12, epsilon=0.67, gamma=auto, kernel=sigmoid;, score=0.126 total time=   0.0s\n",
      "[CV 3/5] END C=1.12, epsilon=0.67, gamma=auto, kernel=sigmoid;, score=0.052 total time=   0.0s\n",
      "[CV 4/5] END C=1.12, epsilon=0.67, gamma=auto, kernel=sigmoid;, score=-0.011 total time=   0.0s\n",
      "[CV 5/5] END C=1.12, epsilon=0.67, gamma=auto, kernel=sigmoid;, score=0.083 total time=   0.0s\n"
     ]
    },
    {
     "name": "stdout",
     "output_type": "stream",
     "text": [
      "[CV 1/5] END C=1.12, epsilon=0.78, gamma=scale, kernel=rbf;, score=0.806 total time=   0.0s\n",
      "[CV 2/5] END C=1.12, epsilon=0.78, gamma=scale, kernel=rbf;, score=0.894 total time=   0.0s\n",
      "[CV 3/5] END C=1.12, epsilon=0.78, gamma=scale, kernel=rbf;, score=0.857 total time=   0.0s\n",
      "[CV 4/5] END C=1.12, epsilon=0.78, gamma=scale, kernel=rbf;, score=0.779 total time=   0.0s\n",
      "[CV 5/5] END C=1.12, epsilon=0.78, gamma=scale, kernel=rbf;, score=0.876 total time=   0.0s\n"
     ]
    },
    {
     "name": "stdout",
     "output_type": "stream",
     "text": [
      "[CV 1/5] END C=1.12, epsilon=0.78, gamma=scale, kernel=linear;, score=0.998 total time=   0.0s\n",
      "[CV 2/5] END C=1.12, epsilon=0.78, gamma=scale, kernel=linear;, score=0.998 total time=   0.0s\n",
      "[CV 3/5] END C=1.12, epsilon=0.78, gamma=scale, kernel=linear;, score=0.998 total time=   0.0s\n",
      "[CV 4/5] END C=1.12, epsilon=0.78, gamma=scale, kernel=linear;, score=0.998 total time=   0.0s\n",
      "[CV 5/5] END C=1.12, epsilon=0.78, gamma=scale, kernel=linear;, score=0.998 total time=   0.0s\n",
      "[CV 1/5] END C=1.12, epsilon=0.78, gamma=scale, kernel=poly;, score=0.282 total time=   0.0s\n",
      "[CV 2/5] END C=1.12, epsilon=0.78, gamma=scale, kernel=poly;, score=0.654 total time=   0.0s\n",
      "[CV 3/5] END C=1.12, epsilon=0.78, gamma=scale, kernel=poly;, score=0.532 total time=   0.0s\n"
     ]
    },
    {
     "name": "stdout",
     "output_type": "stream",
     "text": [
      "[CV 4/5] END C=1.12, epsilon=0.78, gamma=scale, kernel=poly;, score=0.337 total time=   0.0s\n",
      "[CV 5/5] END C=1.12, epsilon=0.78, gamma=scale, kernel=poly;, score=0.675 total time=   0.0s\n",
      "[CV 1/5] END C=1.12, epsilon=0.78, gamma=scale, kernel=sigmoid;, score=0.174 total time=   0.0s\n",
      "[CV 2/5] END C=1.12, epsilon=0.78, gamma=scale, kernel=sigmoid;, score=0.336 total time=   0.0s\n",
      "[CV 3/5] END C=1.12, epsilon=0.78, gamma=scale, kernel=sigmoid;, score=0.185 total time=   0.0s\n",
      "[CV 4/5] END C=1.12, epsilon=0.78, gamma=scale, kernel=sigmoid;, score=0.104 total time=   0.0s\n"
     ]
    },
    {
     "name": "stdout",
     "output_type": "stream",
     "text": [
      "[CV 5/5] END C=1.12, epsilon=0.78, gamma=scale, kernel=sigmoid;, score=0.251 total time=   0.0s\n",
      "[CV 1/5] END C=1.12, epsilon=0.78, gamma=auto, kernel=rbf;, score=0.797 total time=   0.0s\n",
      "[CV 2/5] END C=1.12, epsilon=0.78, gamma=auto, kernel=rbf;, score=0.886 total time=   0.0s\n",
      "[CV 3/5] END C=1.12, epsilon=0.78, gamma=auto, kernel=rbf;, score=0.849 total time=   0.0s\n",
      "[CV 4/5] END C=1.12, epsilon=0.78, gamma=auto, kernel=rbf;, score=0.770 total time=   0.0s\n",
      "[CV 5/5] END C=1.12, epsilon=0.78, gamma=auto, kernel=rbf;, score=0.867 total time=   0.0s\n",
      "[CV 1/5] END C=1.12, epsilon=0.78, gamma=auto, kernel=linear;, score=0.998 total time=   0.0s\n",
      "[CV 2/5] END C=1.12, epsilon=0.78, gamma=auto, kernel=linear;, score=0.998 total time=   0.0s\n"
     ]
    },
    {
     "name": "stdout",
     "output_type": "stream",
     "text": [
      "[CV 3/5] END C=1.12, epsilon=0.78, gamma=auto, kernel=linear;, score=0.998 total time=   0.0s\n",
      "[CV 4/5] END C=1.12, epsilon=0.78, gamma=auto, kernel=linear;, score=0.998 total time=   0.0s\n",
      "[CV 5/5] END C=1.12, epsilon=0.78, gamma=auto, kernel=linear;, score=0.998 total time=   0.0s\n",
      "[CV 1/5] END C=1.12, epsilon=0.78, gamma=auto, kernel=poly;, score=0.261 total time=   0.0s\n",
      "[CV 2/5] END C=1.12, epsilon=0.78, gamma=auto, kernel=poly;, score=0.651 total time=   0.0s\n",
      "[CV 3/5] END C=1.12, epsilon=0.78, gamma=auto, kernel=poly;, score=0.530 total time=   0.0s\n",
      "[CV 4/5] END C=1.12, epsilon=0.78, gamma=auto, kernel=poly;, score=0.333 total time=   0.0s\n",
      "[CV 5/5] END C=1.12, epsilon=0.78, gamma=auto, kernel=poly;, score=0.674 total time=   0.0s\n",
      "[CV 1/5] END C=1.12, epsilon=0.78, gamma=auto, kernel=sigmoid;, score=0.042 total time=   0.0s\n",
      "[CV 2/5] END C=1.12, epsilon=0.78, gamma=auto, kernel=sigmoid;, score=0.128 total time=   0.0s\n"
     ]
    },
    {
     "name": "stdout",
     "output_type": "stream",
     "text": [
      "[CV 3/5] END C=1.12, epsilon=0.78, gamma=auto, kernel=sigmoid;, score=0.052 total time=   0.0s\n",
      "[CV 4/5] END C=1.12, epsilon=0.78, gamma=auto, kernel=sigmoid;, score=-0.010 total time=   0.0s\n",
      "[CV 5/5] END C=1.12, epsilon=0.78, gamma=auto, kernel=sigmoid;, score=0.083 total time=   0.0s\n",
      "[CV 1/5] END C=1.12, epsilon=0.89, gamma=scale, kernel=rbf;, score=0.806 total time=   0.0s\n",
      "[CV 2/5] END C=1.12, epsilon=0.89, gamma=scale, kernel=rbf;, score=0.894 total time=   0.0s\n",
      "[CV 3/5] END C=1.12, epsilon=0.89, gamma=scale, kernel=rbf;, score=0.857 total time=   0.0s\n",
      "[CV 4/5] END C=1.12, epsilon=0.89, gamma=scale, kernel=rbf;, score=0.779 total time=   0.0s\n"
     ]
    },
    {
     "name": "stdout",
     "output_type": "stream",
     "text": [
      "[CV 5/5] END C=1.12, epsilon=0.89, gamma=scale, kernel=rbf;, score=0.876 total time=   0.0s\n",
      "[CV 1/5] END C=1.12, epsilon=0.89, gamma=scale, kernel=linear;, score=0.998 total time=   0.0s\n",
      "[CV 2/5] END C=1.12, epsilon=0.89, gamma=scale, kernel=linear;, score=0.998 total time=   0.0s\n",
      "[CV 3/5] END C=1.12, epsilon=0.89, gamma=scale, kernel=linear;, score=0.998 total time=   0.0s\n",
      "[CV 4/5] END C=1.12, epsilon=0.89, gamma=scale, kernel=linear;, score=0.998 total time=   0.0s\n",
      "[CV 5/5] END C=1.12, epsilon=0.89, gamma=scale, kernel=linear;, score=0.998 total time=   0.0s\n",
      "[CV 1/5] END C=1.12, epsilon=0.89, gamma=scale, kernel=poly;, score=0.282 total time=   0.0s\n",
      "[CV 2/5] END C=1.12, epsilon=0.89, gamma=scale, kernel=poly;, score=0.654 total time=   0.0s\n",
      "[CV 3/5] END C=1.12, epsilon=0.89, gamma=scale, kernel=poly;, score=0.531 total time=   0.0s\n"
     ]
    },
    {
     "name": "stdout",
     "output_type": "stream",
     "text": [
      "[CV 4/5] END C=1.12, epsilon=0.89, gamma=scale, kernel=poly;, score=0.336 total time=   0.0s\n",
      "[CV 5/5] END C=1.12, epsilon=0.89, gamma=scale, kernel=poly;, score=0.674 total time=   0.0s\n",
      "[CV 1/5] END C=1.12, epsilon=0.89, gamma=scale, kernel=sigmoid;, score=0.175 total time=   0.0s\n",
      "[CV 2/5] END C=1.12, epsilon=0.89, gamma=scale, kernel=sigmoid;, score=0.336 total time=   0.0s\n",
      "[CV 3/5] END C=1.12, epsilon=0.89, gamma=scale, kernel=sigmoid;, score=0.184 total time=   0.0s\n",
      "[CV 4/5] END C=1.12, epsilon=0.89, gamma=scale, kernel=sigmoid;, score=0.104 total time=   0.0s\n",
      "[CV 5/5] END C=1.12, epsilon=0.89, gamma=scale, kernel=sigmoid;, score=0.250 total time=   0.0s\n"
     ]
    },
    {
     "name": "stdout",
     "output_type": "stream",
     "text": [
      "[CV 1/5] END C=1.12, epsilon=0.89, gamma=auto, kernel=rbf;, score=0.797 total time=   0.0s\n",
      "[CV 2/5] END C=1.12, epsilon=0.89, gamma=auto, kernel=rbf;, score=0.886 total time=   0.0s\n",
      "[CV 3/5] END C=1.12, epsilon=0.89, gamma=auto, kernel=rbf;, score=0.849 total time=   0.0s\n",
      "[CV 4/5] END C=1.12, epsilon=0.89, gamma=auto, kernel=rbf;, score=0.770 total time=   0.0s\n",
      "[CV 5/5] END C=1.12, epsilon=0.89, gamma=auto, kernel=rbf;, score=0.866 total time=   0.0s\n",
      "[CV 1/5] END C=1.12, epsilon=0.89, gamma=auto, kernel=linear;, score=0.998 total time=   0.0s\n",
      "[CV 2/5] END C=1.12, epsilon=0.89, gamma=auto, kernel=linear;, score=0.998 total time=   0.0s\n",
      "[CV 3/5] END C=1.12, epsilon=0.89, gamma=auto, kernel=linear;, score=0.998 total time=   0.0s\n",
      "[CV 4/5] END C=1.12, epsilon=0.89, gamma=auto, kernel=linear;, score=0.998 total time=   0.0s\n"
     ]
    },
    {
     "name": "stdout",
     "output_type": "stream",
     "text": [
      "[CV 5/5] END C=1.12, epsilon=0.89, gamma=auto, kernel=linear;, score=0.998 total time=   0.0s\n",
      "[CV 1/5] END C=1.12, epsilon=0.89, gamma=auto, kernel=poly;, score=0.261 total time=   0.0s\n",
      "[CV 2/5] END C=1.12, epsilon=0.89, gamma=auto, kernel=poly;, score=0.651 total time=   0.0s\n",
      "[CV 3/5] END C=1.12, epsilon=0.89, gamma=auto, kernel=poly;, score=0.530 total time=   0.0s\n",
      "[CV 4/5] END C=1.12, epsilon=0.89, gamma=auto, kernel=poly;, score=0.332 total time=   0.0s\n",
      "[CV 5/5] END C=1.12, epsilon=0.89, gamma=auto, kernel=poly;, score=0.674 total time=   0.0s\n",
      "[CV 1/5] END C=1.12, epsilon=0.89, gamma=auto, kernel=sigmoid;, score=0.042 total time=   0.0s\n",
      "[CV 2/5] END C=1.12, epsilon=0.89, gamma=auto, kernel=sigmoid;, score=0.128 total time=   0.0s\n",
      "[CV 3/5] END C=1.12, epsilon=0.89, gamma=auto, kernel=sigmoid;, score=0.053 total time=   0.0s\n"
     ]
    },
    {
     "name": "stdout",
     "output_type": "stream",
     "text": [
      "[CV 4/5] END C=1.12, epsilon=0.89, gamma=auto, kernel=sigmoid;, score=-0.010 total time=   0.0s\n",
      "[CV 5/5] END C=1.12, epsilon=0.89, gamma=auto, kernel=sigmoid;, score=0.083 total time=   0.0s\n",
      "[CV 1/5] END C=1.12, epsilon=1.0, gamma=scale, kernel=rbf;, score=0.806 total time=   0.0s\n",
      "[CV 2/5] END C=1.12, epsilon=1.0, gamma=scale, kernel=rbf;, score=0.894 total time=   0.0s\n",
      "[CV 3/5] END C=1.12, epsilon=1.0, gamma=scale, kernel=rbf;, score=0.858 total time=   0.0s\n",
      "[CV 4/5] END C=1.12, epsilon=1.0, gamma=scale, kernel=rbf;, score=0.779 total time=   0.0s\n",
      "[CV 5/5] END C=1.12, epsilon=1.0, gamma=scale, kernel=rbf;, score=0.876 total time=   0.0s\n",
      "[CV 1/5] END C=1.12, epsilon=1.0, gamma=scale, kernel=linear;, score=0.998 total time=   0.0s\n",
      "[CV 2/5] END C=1.12, epsilon=1.0, gamma=scale, kernel=linear;, score=0.998 total time=   0.0s\n"
     ]
    },
    {
     "name": "stdout",
     "output_type": "stream",
     "text": [
      "[CV 3/5] END C=1.12, epsilon=1.0, gamma=scale, kernel=linear;, score=0.998 total time=   0.0s\n",
      "[CV 4/5] END C=1.12, epsilon=1.0, gamma=scale, kernel=linear;, score=0.998 total time=   0.0s\n",
      "[CV 5/5] END C=1.12, epsilon=1.0, gamma=scale, kernel=linear;, score=0.998 total time=   0.0s\n",
      "[CV 1/5] END C=1.12, epsilon=1.0, gamma=scale, kernel=poly;, score=0.282 total time=   0.0s\n",
      "[CV 2/5] END C=1.12, epsilon=1.0, gamma=scale, kernel=poly;, score=0.653 total time=   0.0s\n",
      "[CV 3/5] END C=1.12, epsilon=1.0, gamma=scale, kernel=poly;, score=0.531 total time=   0.0s\n",
      "[CV 4/5] END C=1.12, epsilon=1.0, gamma=scale, kernel=poly;, score=0.333 total time=   0.0s\n"
     ]
    },
    {
     "name": "stdout",
     "output_type": "stream",
     "text": [
      "[CV 5/5] END C=1.12, epsilon=1.0, gamma=scale, kernel=poly;, score=0.674 total time=   0.0s\n",
      "[CV 1/5] END C=1.12, epsilon=1.0, gamma=scale, kernel=sigmoid;, score=0.174 total time=   0.0s\n",
      "[CV 2/5] END C=1.12, epsilon=1.0, gamma=scale, kernel=sigmoid;, score=0.336 total time=   0.0s\n",
      "[CV 3/5] END C=1.12, epsilon=1.0, gamma=scale, kernel=sigmoid;, score=0.184 total time=   0.0s\n",
      "[CV 4/5] END C=1.12, epsilon=1.0, gamma=scale, kernel=sigmoid;, score=0.104 total time=   0.0s\n"
     ]
    },
    {
     "name": "stdout",
     "output_type": "stream",
     "text": [
      "[CV 5/5] END C=1.12, epsilon=1.0, gamma=scale, kernel=sigmoid;, score=0.250 total time=   0.0s\n",
      "[CV 1/5] END C=1.12, epsilon=1.0, gamma=auto, kernel=rbf;, score=0.797 total time=   0.0s\n",
      "[CV 2/5] END C=1.12, epsilon=1.0, gamma=auto, kernel=rbf;, score=0.885 total time=   0.0s\n",
      "[CV 3/5] END C=1.12, epsilon=1.0, gamma=auto, kernel=rbf;, score=0.850 total time=   0.0s\n",
      "[CV 4/5] END C=1.12, epsilon=1.0, gamma=auto, kernel=rbf;, score=0.770 total time=   0.0s\n",
      "[CV 5/5] END C=1.12, epsilon=1.0, gamma=auto, kernel=rbf;, score=0.867 total time=   0.0s\n",
      "[CV 1/5] END C=1.12, epsilon=1.0, gamma=auto, kernel=linear;, score=0.998 total time=   0.0s\n",
      "[CV 2/5] END C=1.12, epsilon=1.0, gamma=auto, kernel=linear;, score=0.998 total time=   0.0s\n",
      "[CV 3/5] END C=1.12, epsilon=1.0, gamma=auto, kernel=linear;, score=0.998 total time=   0.0s\n"
     ]
    },
    {
     "name": "stdout",
     "output_type": "stream",
     "text": [
      "[CV 4/5] END C=1.12, epsilon=1.0, gamma=auto, kernel=linear;, score=0.998 total time=   0.0s\n",
      "[CV 5/5] END C=1.12, epsilon=1.0, gamma=auto, kernel=linear;, score=0.998 total time=   0.0s\n",
      "[CV 1/5] END C=1.12, epsilon=1.0, gamma=auto, kernel=poly;, score=0.261 total time=   0.0s\n",
      "[CV 2/5] END C=1.12, epsilon=1.0, gamma=auto, kernel=poly;, score=0.651 total time=   0.0s\n",
      "[CV 3/5] END C=1.12, epsilon=1.0, gamma=auto, kernel=poly;, score=0.530 total time=   0.0s\n",
      "[CV 4/5] END C=1.12, epsilon=1.0, gamma=auto, kernel=poly;, score=0.332 total time=   0.0s\n",
      "[CV 5/5] END C=1.12, epsilon=1.0, gamma=auto, kernel=poly;, score=0.674 total time=   0.0s\n",
      "[CV 1/5] END C=1.12, epsilon=1.0, gamma=auto, kernel=sigmoid;, score=0.042 total time=   0.0s\n",
      "[CV 2/5] END C=1.12, epsilon=1.0, gamma=auto, kernel=sigmoid;, score=0.127 total time=   0.0s\n"
     ]
    },
    {
     "name": "stdout",
     "output_type": "stream",
     "text": [
      "[CV 3/5] END C=1.12, epsilon=1.0, gamma=auto, kernel=sigmoid;, score=0.056 total time=   0.0s\n",
      "[CV 4/5] END C=1.12, epsilon=1.0, gamma=auto, kernel=sigmoid;, score=-0.010 total time=   0.0s\n",
      "[CV 5/5] END C=1.12, epsilon=1.0, gamma=auto, kernel=sigmoid;, score=0.085 total time=   0.0s\n",
      "[CV 1/5] END C=2.23, epsilon=0.01, gamma=scale, kernel=rbf;, score=0.872 total time=   0.0s\n",
      "[CV 2/5] END C=2.23, epsilon=0.01, gamma=scale, kernel=rbf;, score=0.944 total time=   0.0s\n",
      "[CV 3/5] END C=2.23, epsilon=0.01, gamma=scale, kernel=rbf;, score=0.922 total time=   0.0s\n",
      "[CV 4/5] END C=2.23, epsilon=0.01, gamma=scale, kernel=rbf;, score=0.860 total time=   0.0s\n"
     ]
    },
    {
     "name": "stdout",
     "output_type": "stream",
     "text": [
      "[CV 5/5] END C=2.23, epsilon=0.01, gamma=scale, kernel=rbf;, score=0.938 total time=   0.0s\n",
      "[CV 1/5] END C=2.23, epsilon=0.01, gamma=scale, kernel=linear;, score=0.998 total time=   0.0s\n",
      "[CV 2/5] END C=2.23, epsilon=0.01, gamma=scale, kernel=linear;, score=0.998 total time=   0.0s\n",
      "[CV 3/5] END C=2.23, epsilon=0.01, gamma=scale, kernel=linear;, score=0.998 total time=   0.0s\n",
      "[CV 4/5] END C=2.23, epsilon=0.01, gamma=scale, kernel=linear;, score=0.998 total time=   0.0s\n"
     ]
    },
    {
     "name": "stdout",
     "output_type": "stream",
     "text": [
      "[CV 5/5] END C=2.23, epsilon=0.01, gamma=scale, kernel=linear;, score=0.998 total time=   0.0s\n",
      "[CV 1/5] END C=2.23, epsilon=0.01, gamma=scale, kernel=poly;, score=0.272 total time=   0.0s\n",
      "[CV 2/5] END C=2.23, epsilon=0.01, gamma=scale, kernel=poly;, score=0.650 total time=   0.0s\n",
      "[CV 3/5] END C=2.23, epsilon=0.01, gamma=scale, kernel=poly;, score=0.529 total time=   0.0s\n",
      "[CV 4/5] END C=2.23, epsilon=0.01, gamma=scale, kernel=poly;, score=0.323 total time=   0.0s\n",
      "[CV 5/5] END C=2.23, epsilon=0.01, gamma=scale, kernel=poly;, score=0.676 total time=   0.0s\n",
      "[CV 1/5] END C=2.23, epsilon=0.01, gamma=scale, kernel=sigmoid;, score=-1.044 total time=   0.0s\n",
      "[CV 2/5] END C=2.23, epsilon=0.01, gamma=scale, kernel=sigmoid;, score=-0.730 total time=   0.0s\n",
      "[CV 3/5] END C=2.23, epsilon=0.01, gamma=scale, kernel=sigmoid;, score=-0.977 total time=   0.0s\n"
     ]
    },
    {
     "name": "stdout",
     "output_type": "stream",
     "text": [
      "[CV 4/5] END C=2.23, epsilon=0.01, gamma=scale, kernel=sigmoid;, score=-1.198 total time=   0.0s\n",
      "[CV 5/5] END C=2.23, epsilon=0.01, gamma=scale, kernel=sigmoid;, score=-0.855 total time=   0.0s\n",
      "[CV 1/5] END C=2.23, epsilon=0.01, gamma=auto, kernel=rbf;, score=0.864 total time=   0.0s\n",
      "[CV 2/5] END C=2.23, epsilon=0.01, gamma=auto, kernel=rbf;, score=0.939 total time=   0.0s\n",
      "[CV 3/5] END C=2.23, epsilon=0.01, gamma=auto, kernel=rbf;, score=0.917 total time=   0.0s\n",
      "[CV 4/5] END C=2.23, epsilon=0.01, gamma=auto, kernel=rbf;, score=0.853 total time=   0.0s\n"
     ]
    },
    {
     "name": "stdout",
     "output_type": "stream",
     "text": [
      "[CV 5/5] END C=2.23, epsilon=0.01, gamma=auto, kernel=rbf;, score=0.933 total time=   0.0s\n",
      "[CV 1/5] END C=2.23, epsilon=0.01, gamma=auto, kernel=linear;, score=0.998 total time=   0.0s\n",
      "[CV 2/5] END C=2.23, epsilon=0.01, gamma=auto, kernel=linear;, score=0.998 total time=   0.0s\n",
      "[CV 3/5] END C=2.23, epsilon=0.01, gamma=auto, kernel=linear;, score=0.998 total time=   0.0s\n",
      "[CV 4/5] END C=2.23, epsilon=0.01, gamma=auto, kernel=linear;, score=0.998 total time=   0.0s\n",
      "[CV 5/5] END C=2.23, epsilon=0.01, gamma=auto, kernel=linear;, score=0.998 total time=   0.0s\n",
      "[CV 1/5] END C=2.23, epsilon=0.01, gamma=auto, kernel=poly;, score=0.242 total time=   0.0s\n",
      "[CV 2/5] END C=2.23, epsilon=0.01, gamma=auto, kernel=poly;, score=0.650 total time=   0.0s\n"
     ]
    },
    {
     "name": "stdout",
     "output_type": "stream",
     "text": [
      "[CV 3/5] END C=2.23, epsilon=0.01, gamma=auto, kernel=poly;, score=0.526 total time=   0.0s\n",
      "[CV 4/5] END C=2.23, epsilon=0.01, gamma=auto, kernel=poly;, score=0.323 total time=   0.0s\n",
      "[CV 5/5] END C=2.23, epsilon=0.01, gamma=auto, kernel=poly;, score=0.671 total time=   0.0s\n",
      "[CV 1/5] END C=2.23, epsilon=0.01, gamma=auto, kernel=sigmoid;, score=-1.379 total time=   0.0s\n",
      "[CV 2/5] END C=2.23, epsilon=0.01, gamma=auto, kernel=sigmoid;, score=-1.314 total time=   0.0s\n",
      "[CV 3/5] END C=2.23, epsilon=0.01, gamma=auto, kernel=sigmoid;, score=-1.300 total time=   0.0s\n"
     ]
    },
    {
     "name": "stdout",
     "output_type": "stream",
     "text": [
      "[CV 4/5] END C=2.23, epsilon=0.01, gamma=auto, kernel=sigmoid;, score=-1.515 total time=   0.0s\n",
      "[CV 5/5] END C=2.23, epsilon=0.01, gamma=auto, kernel=sigmoid;, score=-1.293 total time=   0.0s\n",
      "[CV 1/5] END C=2.23, epsilon=0.12, gamma=scale, kernel=rbf;, score=0.872 total time=   0.0s\n",
      "[CV 2/5] END C=2.23, epsilon=0.12, gamma=scale, kernel=rbf;, score=0.944 total time=   0.0s\n",
      "[CV 3/5] END C=2.23, epsilon=0.12, gamma=scale, kernel=rbf;, score=0.922 total time=   0.0s\n",
      "[CV 4/5] END C=2.23, epsilon=0.12, gamma=scale, kernel=rbf;, score=0.860 total time=   0.0s\n"
     ]
    },
    {
     "name": "stdout",
     "output_type": "stream",
     "text": [
      "[CV 5/5] END C=2.23, epsilon=0.12, gamma=scale, kernel=rbf;, score=0.938 total time=   0.0s\n",
      "[CV 1/5] END C=2.23, epsilon=0.12, gamma=scale, kernel=linear;, score=0.998 total time=   0.0s\n",
      "[CV 2/5] END C=2.23, epsilon=0.12, gamma=scale, kernel=linear;, score=0.998 total time=   0.0s\n",
      "[CV 3/5] END C=2.23, epsilon=0.12, gamma=scale, kernel=linear;, score=0.998 total time=   0.0s\n",
      "[CV 4/5] END C=2.23, epsilon=0.12, gamma=scale, kernel=linear;, score=0.998 total time=   0.0s\n",
      "[CV 5/5] END C=2.23, epsilon=0.12, gamma=scale, kernel=linear;, score=0.998 total time=   0.0s\n",
      "[CV 1/5] END C=2.23, epsilon=0.12, gamma=scale, kernel=poly;, score=0.270 total time=   0.0s\n"
     ]
    },
    {
     "name": "stdout",
     "output_type": "stream",
     "text": [
      "[CV 2/5] END C=2.23, epsilon=0.12, gamma=scale, kernel=poly;, score=0.650 total time=   0.0s\n",
      "[CV 3/5] END C=2.23, epsilon=0.12, gamma=scale, kernel=poly;, score=0.528 total time=   0.0s\n",
      "[CV 4/5] END C=2.23, epsilon=0.12, gamma=scale, kernel=poly;, score=0.321 total time=   0.0s\n",
      "[CV 5/5] END C=2.23, epsilon=0.12, gamma=scale, kernel=poly;, score=0.675 total time=   0.0s\n",
      "[CV 1/5] END C=2.23, epsilon=0.12, gamma=scale, kernel=sigmoid;, score=-1.044 total time=   0.0s\n",
      "[CV 2/5] END C=2.23, epsilon=0.12, gamma=scale, kernel=sigmoid;, score=-0.730 total time=   0.0s\n",
      "[CV 3/5] END C=2.23, epsilon=0.12, gamma=scale, kernel=sigmoid;, score=-0.977 total time=   0.0s\n",
      "[CV 4/5] END C=2.23, epsilon=0.12, gamma=scale, kernel=sigmoid;, score=-1.201 total time=   0.0s\n",
      "[CV 5/5] END C=2.23, epsilon=0.12, gamma=scale, kernel=sigmoid;, score=-0.857 total time=   0.0s\n"
     ]
    },
    {
     "name": "stdout",
     "output_type": "stream",
     "text": [
      "[CV 1/5] END C=2.23, epsilon=0.12, gamma=auto, kernel=rbf;, score=0.864 total time=   0.0s\n",
      "[CV 2/5] END C=2.23, epsilon=0.12, gamma=auto, kernel=rbf;, score=0.939 total time=   0.0s\n",
      "[CV 3/5] END C=2.23, epsilon=0.12, gamma=auto, kernel=rbf;, score=0.917 total time=   0.0s\n",
      "[CV 4/5] END C=2.23, epsilon=0.12, gamma=auto, kernel=rbf;, score=0.853 total time=   0.0s\n",
      "[CV 5/5] END C=2.23, epsilon=0.12, gamma=auto, kernel=rbf;, score=0.932 total time=   0.0s\n",
      "[CV 1/5] END C=2.23, epsilon=0.12, gamma=auto, kernel=linear;, score=0.998 total time=   0.0s\n",
      "[CV 2/5] END C=2.23, epsilon=0.12, gamma=auto, kernel=linear;, score=0.998 total time=   0.0s\n"
     ]
    },
    {
     "name": "stdout",
     "output_type": "stream",
     "text": [
      "[CV 3/5] END C=2.23, epsilon=0.12, gamma=auto, kernel=linear;, score=0.998 total time=   0.0s\n",
      "[CV 4/5] END C=2.23, epsilon=0.12, gamma=auto, kernel=linear;, score=0.998 total time=   0.0s\n",
      "[CV 5/5] END C=2.23, epsilon=0.12, gamma=auto, kernel=linear;, score=0.998 total time=   0.0s\n",
      "[CV 1/5] END C=2.23, epsilon=0.12, gamma=auto, kernel=poly;, score=0.244 total time=   0.0s\n",
      "[CV 2/5] END C=2.23, epsilon=0.12, gamma=auto, kernel=poly;, score=0.649 total time=   0.0s\n",
      "[CV 3/5] END C=2.23, epsilon=0.12, gamma=auto, kernel=poly;, score=0.527 total time=   0.0s\n",
      "[CV 4/5] END C=2.23, epsilon=0.12, gamma=auto, kernel=poly;, score=0.321 total time=   0.0s\n",
      "[CV 5/5] END C=2.23, epsilon=0.12, gamma=auto, kernel=poly;, score=0.672 total time=   0.0s\n",
      "[CV 1/5] END C=2.23, epsilon=0.12, gamma=auto, kernel=sigmoid;, score=-1.380 total time=   0.0s\n"
     ]
    },
    {
     "name": "stdout",
     "output_type": "stream",
     "text": [
      "[CV 2/5] END C=2.23, epsilon=0.12, gamma=auto, kernel=sigmoid;, score=-1.314 total time=   0.0s\n",
      "[CV 3/5] END C=2.23, epsilon=0.12, gamma=auto, kernel=sigmoid;, score=-1.300 total time=   0.0s\n",
      "[CV 4/5] END C=2.23, epsilon=0.12, gamma=auto, kernel=sigmoid;, score=-1.515 total time=   0.0s\n",
      "[CV 5/5] END C=2.23, epsilon=0.12, gamma=auto, kernel=sigmoid;, score=-1.294 total time=   0.0s\n",
      "[CV 1/5] END C=2.23, epsilon=0.23, gamma=scale, kernel=rbf;, score=0.872 total time=   0.0s\n",
      "[CV 2/5] END C=2.23, epsilon=0.23, gamma=scale, kernel=rbf;, score=0.944 total time=   0.0s\n",
      "[CV 3/5] END C=2.23, epsilon=0.23, gamma=scale, kernel=rbf;, score=0.922 total time=   0.0s\n",
      "[CV 4/5] END C=2.23, epsilon=0.23, gamma=scale, kernel=rbf;, score=0.860 total time=   0.0s\n"
     ]
    },
    {
     "name": "stdout",
     "output_type": "stream",
     "text": [
      "[CV 5/5] END C=2.23, epsilon=0.23, gamma=scale, kernel=rbf;, score=0.938 total time=   0.0s\n",
      "[CV 1/5] END C=2.23, epsilon=0.23, gamma=scale, kernel=linear;, score=0.998 total time=   0.0s\n",
      "[CV 2/5] END C=2.23, epsilon=0.23, gamma=scale, kernel=linear;, score=0.998 total time=   0.0s\n",
      "[CV 3/5] END C=2.23, epsilon=0.23, gamma=scale, kernel=linear;, score=0.998 total time=   0.0s\n",
      "[CV 4/5] END C=2.23, epsilon=0.23, gamma=scale, kernel=linear;, score=0.998 total time=   0.0s\n",
      "[CV 5/5] END C=2.23, epsilon=0.23, gamma=scale, kernel=linear;, score=0.998 total time=   0.0s\n",
      "[CV 1/5] END C=2.23, epsilon=0.23, gamma=scale, kernel=poly;, score=0.268 total time=   0.0s\n",
      "[CV 2/5] END C=2.23, epsilon=0.23, gamma=scale, kernel=poly;, score=0.650 total time=   0.0s\n",
      "[CV 3/5] END C=2.23, epsilon=0.23, gamma=scale, kernel=poly;, score=0.530 total time=   0.0s\n"
     ]
    },
    {
     "name": "stdout",
     "output_type": "stream",
     "text": [
      "[CV 4/5] END C=2.23, epsilon=0.23, gamma=scale, kernel=poly;, score=0.321 total time=   0.0s\n",
      "[CV 5/5] END C=2.23, epsilon=0.23, gamma=scale, kernel=poly;, score=0.675 total time=   0.0s\n",
      "[CV 1/5] END C=2.23, epsilon=0.23, gamma=scale, kernel=sigmoid;, score=-1.048 total time=   0.0s\n",
      "[CV 2/5] END C=2.23, epsilon=0.23, gamma=scale, kernel=sigmoid;, score=-0.730 total time=   0.0s\n",
      "[CV 3/5] END C=2.23, epsilon=0.23, gamma=scale, kernel=sigmoid;, score=-0.976 total time=   0.0s\n",
      "[CV 4/5] END C=2.23, epsilon=0.23, gamma=scale, kernel=sigmoid;, score=-1.202 total time=   0.0s\n",
      "[CV 5/5] END C=2.23, epsilon=0.23, gamma=scale, kernel=sigmoid;, score=-0.858 total time=   0.0s\n"
     ]
    },
    {
     "name": "stdout",
     "output_type": "stream",
     "text": [
      "[CV 1/5] END C=2.23, epsilon=0.23, gamma=auto, kernel=rbf;, score=0.864 total time=   0.0s\n",
      "[CV 2/5] END C=2.23, epsilon=0.23, gamma=auto, kernel=rbf;, score=0.939 total time=   0.0s\n",
      "[CV 3/5] END C=2.23, epsilon=0.23, gamma=auto, kernel=rbf;, score=0.917 total time=   0.0s\n",
      "[CV 4/5] END C=2.23, epsilon=0.23, gamma=auto, kernel=rbf;, score=0.853 total time=   0.0s\n",
      "[CV 5/5] END C=2.23, epsilon=0.23, gamma=auto, kernel=rbf;, score=0.933 total time=   0.0s\n"
     ]
    },
    {
     "name": "stdout",
     "output_type": "stream",
     "text": [
      "[CV 1/5] END C=2.23, epsilon=0.23, gamma=auto, kernel=linear;, score=0.998 total time=   0.0s\n",
      "[CV 2/5] END C=2.23, epsilon=0.23, gamma=auto, kernel=linear;, score=0.998 total time=   0.0s\n",
      "[CV 3/5] END C=2.23, epsilon=0.23, gamma=auto, kernel=linear;, score=0.998 total time=   0.0s\n",
      "[CV 4/5] END C=2.23, epsilon=0.23, gamma=auto, kernel=linear;, score=0.998 total time=   0.0s\n",
      "[CV 5/5] END C=2.23, epsilon=0.23, gamma=auto, kernel=linear;, score=0.998 total time=   0.0s\n",
      "[CV 1/5] END C=2.23, epsilon=0.23, gamma=auto, kernel=poly;, score=0.244 total time=   0.0s\n",
      "[CV 2/5] END C=2.23, epsilon=0.23, gamma=auto, kernel=poly;, score=0.649 total time=   0.0s\n",
      "[CV 3/5] END C=2.23, epsilon=0.23, gamma=auto, kernel=poly;, score=0.526 total time=   0.0s\n",
      "[CV 4/5] END C=2.23, epsilon=0.23, gamma=auto, kernel=poly;, score=0.321 total time=   0.0s\n"
     ]
    },
    {
     "name": "stdout",
     "output_type": "stream",
     "text": [
      "[CV 5/5] END C=2.23, epsilon=0.23, gamma=auto, kernel=poly;, score=0.672 total time=   0.0s\n",
      "[CV 1/5] END C=2.23, epsilon=0.23, gamma=auto, kernel=sigmoid;, score=-1.381 total time=   0.0s\n",
      "[CV 2/5] END C=2.23, epsilon=0.23, gamma=auto, kernel=sigmoid;, score=-1.314 total time=   0.0s\n",
      "[CV 3/5] END C=2.23, epsilon=0.23, gamma=auto, kernel=sigmoid;, score=-1.300 total time=   0.0s\n",
      "[CV 4/5] END C=2.23, epsilon=0.23, gamma=auto, kernel=sigmoid;, score=-1.515 total time=   0.0s\n",
      "[CV 5/5] END C=2.23, epsilon=0.23, gamma=auto, kernel=sigmoid;, score=-1.295 total time=   0.0s\n",
      "[CV 1/5] END C=2.23, epsilon=0.34, gamma=scale, kernel=rbf;, score=0.872 total time=   0.0s\n"
     ]
    },
    {
     "name": "stdout",
     "output_type": "stream",
     "text": [
      "[CV 2/5] END C=2.23, epsilon=0.34, gamma=scale, kernel=rbf;, score=0.944 total time=   0.0s\n",
      "[CV 3/5] END C=2.23, epsilon=0.34, gamma=scale, kernel=rbf;, score=0.922 total time=   0.0s\n",
      "[CV 4/5] END C=2.23, epsilon=0.34, gamma=scale, kernel=rbf;, score=0.860 total time=   0.0s\n",
      "[CV 5/5] END C=2.23, epsilon=0.34, gamma=scale, kernel=rbf;, score=0.939 total time=   0.0s\n",
      "[CV 1/5] END C=2.23, epsilon=0.34, gamma=scale, kernel=linear;, score=0.998 total time=   0.0s\n",
      "[CV 2/5] END C=2.23, epsilon=0.34, gamma=scale, kernel=linear;, score=0.998 total time=   0.0s\n",
      "[CV 3/5] END C=2.23, epsilon=0.34, gamma=scale, kernel=linear;, score=0.998 total time=   0.0s\n",
      "[CV 4/5] END C=2.23, epsilon=0.34, gamma=scale, kernel=linear;, score=0.998 total time=   0.0s\n"
     ]
    },
    {
     "name": "stdout",
     "output_type": "stream",
     "text": [
      "[CV 5/5] END C=2.23, epsilon=0.34, gamma=scale, kernel=linear;, score=0.998 total time=   0.0s\n",
      "[CV 1/5] END C=2.23, epsilon=0.34, gamma=scale, kernel=poly;, score=0.265 total time=   0.0s\n",
      "[CV 2/5] END C=2.23, epsilon=0.34, gamma=scale, kernel=poly;, score=0.650 total time=   0.0s\n",
      "[CV 3/5] END C=2.23, epsilon=0.34, gamma=scale, kernel=poly;, score=0.530 total time=   0.0s\n",
      "[CV 4/5] END C=2.23, epsilon=0.34, gamma=scale, kernel=poly;, score=0.319 total time=   0.0s\n",
      "[CV 5/5] END C=2.23, epsilon=0.34, gamma=scale, kernel=poly;, score=0.674 total time=   0.0s\n",
      "[CV 1/5] END C=2.23, epsilon=0.34, gamma=scale, kernel=sigmoid;, score=-1.050 total time=   0.0s\n",
      "[CV 2/5] END C=2.23, epsilon=0.34, gamma=scale, kernel=sigmoid;, score=-0.731 total time=   0.0s\n"
     ]
    },
    {
     "name": "stdout",
     "output_type": "stream",
     "text": [
      "[CV 3/5] END C=2.23, epsilon=0.34, gamma=scale, kernel=sigmoid;, score=-0.975 total time=   0.0s\n",
      "[CV 4/5] END C=2.23, epsilon=0.34, gamma=scale, kernel=sigmoid;, score=-1.202 total time=   0.0s\n",
      "[CV 5/5] END C=2.23, epsilon=0.34, gamma=scale, kernel=sigmoid;, score=-0.862 total time=   0.0s\n",
      "[CV 1/5] END C=2.23, epsilon=0.34, gamma=auto, kernel=rbf;, score=0.864 total time=   0.0s\n",
      "[CV 2/5] END C=2.23, epsilon=0.34, gamma=auto, kernel=rbf;, score=0.939 total time=   0.0s\n",
      "[CV 3/5] END C=2.23, epsilon=0.34, gamma=auto, kernel=rbf;, score=0.917 total time=   0.0s\n",
      "[CV 4/5] END C=2.23, epsilon=0.34, gamma=auto, kernel=rbf;, score=0.853 total time=   0.0s\n"
     ]
    },
    {
     "name": "stdout",
     "output_type": "stream",
     "text": [
      "[CV 5/5] END C=2.23, epsilon=0.34, gamma=auto, kernel=rbf;, score=0.933 total time=   0.0s\n",
      "[CV 1/5] END C=2.23, epsilon=0.34, gamma=auto, kernel=linear;, score=0.998 total time=   0.0s\n",
      "[CV 2/5] END C=2.23, epsilon=0.34, gamma=auto, kernel=linear;, score=0.998 total time=   0.0s\n",
      "[CV 3/5] END C=2.23, epsilon=0.34, gamma=auto, kernel=linear;, score=0.998 total time=   0.0s\n",
      "[CV 4/5] END C=2.23, epsilon=0.34, gamma=auto, kernel=linear;, score=0.998 total time=   0.0s\n",
      "[CV 5/5] END C=2.23, epsilon=0.34, gamma=auto, kernel=linear;, score=0.998 total time=   0.0s\n",
      "[CV 1/5] END C=2.23, epsilon=0.34, gamma=auto, kernel=poly;, score=0.246 total time=   0.0s\n",
      "[CV 2/5] END C=2.23, epsilon=0.34, gamma=auto, kernel=poly;, score=0.649 total time=   0.0s\n",
      "[CV 3/5] END C=2.23, epsilon=0.34, gamma=auto, kernel=poly;, score=0.524 total time=   0.0s\n",
      "[CV 4/5] END C=2.23, epsilon=0.34, gamma=auto, kernel=poly;, score=0.319 total time=   0.0s\n"
     ]
    },
    {
     "name": "stdout",
     "output_type": "stream",
     "text": [
      "[CV 5/5] END C=2.23, epsilon=0.34, gamma=auto, kernel=poly;, score=0.673 total time=   0.0s\n",
      "[CV 1/5] END C=2.23, epsilon=0.34, gamma=auto, kernel=sigmoid;, score=-1.381 total time=   0.0s\n",
      "[CV 2/5] END C=2.23, epsilon=0.34, gamma=auto, kernel=sigmoid;, score=-1.312 total time=   0.0s\n",
      "[CV 3/5] END C=2.23, epsilon=0.34, gamma=auto, kernel=sigmoid;, score=-1.302 total time=   0.0s\n",
      "[CV 4/5] END C=2.23, epsilon=0.34, gamma=auto, kernel=sigmoid;, score=-1.515 total time=   0.0s\n",
      "[CV 5/5] END C=2.23, epsilon=0.34, gamma=auto, kernel=sigmoid;, score=-1.294 total time=   0.0s\n"
     ]
    },
    {
     "name": "stdout",
     "output_type": "stream",
     "text": [
      "[CV 1/5] END C=2.23, epsilon=0.45, gamma=scale, kernel=rbf;, score=0.872 total time=   0.0s\n",
      "[CV 2/5] END C=2.23, epsilon=0.45, gamma=scale, kernel=rbf;, score=0.944 total time=   0.0s\n",
      "[CV 3/5] END C=2.23, epsilon=0.45, gamma=scale, kernel=rbf;, score=0.922 total time=   0.0s\n",
      "[CV 4/5] END C=2.23, epsilon=0.45, gamma=scale, kernel=rbf;, score=0.860 total time=   0.0s\n",
      "[CV 5/5] END C=2.23, epsilon=0.45, gamma=scale, kernel=rbf;, score=0.939 total time=   0.0s\n",
      "[CV 1/5] END C=2.23, epsilon=0.45, gamma=scale, kernel=linear;, score=0.998 total time=   0.0s\n",
      "[CV 2/5] END C=2.23, epsilon=0.45, gamma=scale, kernel=linear;, score=0.998 total time=   0.0s\n",
      "[CV 3/5] END C=2.23, epsilon=0.45, gamma=scale, kernel=linear;, score=0.998 total time=   0.0s\n"
     ]
    },
    {
     "name": "stdout",
     "output_type": "stream",
     "text": [
      "[CV 4/5] END C=2.23, epsilon=0.45, gamma=scale, kernel=linear;, score=0.998 total time=   0.0s\n",
      "[CV 5/5] END C=2.23, epsilon=0.45, gamma=scale, kernel=linear;, score=0.998 total time=   0.0s\n",
      "[CV 1/5] END C=2.23, epsilon=0.45, gamma=scale, kernel=poly;, score=0.265 total time=   0.0s\n",
      "[CV 2/5] END C=2.23, epsilon=0.45, gamma=scale, kernel=poly;, score=0.650 total time=   0.0s\n",
      "[CV 3/5] END C=2.23, epsilon=0.45, gamma=scale, kernel=poly;, score=0.530 total time=   0.0s\n",
      "[CV 4/5] END C=2.23, epsilon=0.45, gamma=scale, kernel=poly;, score=0.318 total time=   0.0s\n",
      "[CV 5/5] END C=2.23, epsilon=0.45, gamma=scale, kernel=poly;, score=0.674 total time=   0.0s\n",
      "[CV 1/5] END C=2.23, epsilon=0.45, gamma=scale, kernel=sigmoid;, score=-1.047 total time=   0.0s\n",
      "[CV 2/5] END C=2.23, epsilon=0.45, gamma=scale, kernel=sigmoid;, score=-0.732 total time=   0.0s\n"
     ]
    },
    {
     "name": "stdout",
     "output_type": "stream",
     "text": [
      "[CV 3/5] END C=2.23, epsilon=0.45, gamma=scale, kernel=sigmoid;, score=-0.973 total time=   0.0s\n",
      "[CV 4/5] END C=2.23, epsilon=0.45, gamma=scale, kernel=sigmoid;, score=-1.202 total time=   0.0s\n",
      "[CV 5/5] END C=2.23, epsilon=0.45, gamma=scale, kernel=sigmoid;, score=-0.865 total time=   0.0s\n",
      "[CV 1/5] END C=2.23, epsilon=0.45, gamma=auto, kernel=rbf;, score=0.864 total time=   0.0s\n",
      "[CV 2/5] END C=2.23, epsilon=0.45, gamma=auto, kernel=rbf;, score=0.939 total time=   0.0s\n",
      "[CV 3/5] END C=2.23, epsilon=0.45, gamma=auto, kernel=rbf;, score=0.917 total time=   0.0s\n"
     ]
    },
    {
     "name": "stdout",
     "output_type": "stream",
     "text": [
      "[CV 4/5] END C=2.23, epsilon=0.45, gamma=auto, kernel=rbf;, score=0.853 total time=   0.0s\n",
      "[CV 5/5] END C=2.23, epsilon=0.45, gamma=auto, kernel=rbf;, score=0.933 total time=   0.0s\n",
      "[CV 1/5] END C=2.23, epsilon=0.45, gamma=auto, kernel=linear;, score=0.998 total time=   0.0s\n",
      "[CV 2/5] END C=2.23, epsilon=0.45, gamma=auto, kernel=linear;, score=0.998 total time=   0.0s\n",
      "[CV 3/5] END C=2.23, epsilon=0.45, gamma=auto, kernel=linear;, score=0.998 total time=   0.0s\n",
      "[CV 4/5] END C=2.23, epsilon=0.45, gamma=auto, kernel=linear;, score=0.998 total time=   0.0s\n",
      "[CV 5/5] END C=2.23, epsilon=0.45, gamma=auto, kernel=linear;, score=0.998 total time=   0.0s\n",
      "[CV 1/5] END C=2.23, epsilon=0.45, gamma=auto, kernel=poly;, score=0.247 total time=   0.0s\n"
     ]
    },
    {
     "name": "stdout",
     "output_type": "stream",
     "text": [
      "[CV 2/5] END C=2.23, epsilon=0.45, gamma=auto, kernel=poly;, score=0.649 total time=   0.0s\n",
      "[CV 3/5] END C=2.23, epsilon=0.45, gamma=auto, kernel=poly;, score=0.524 total time=   0.0s\n",
      "[CV 4/5] END C=2.23, epsilon=0.45, gamma=auto, kernel=poly;, score=0.318 total time=   0.0s\n",
      "[CV 5/5] END C=2.23, epsilon=0.45, gamma=auto, kernel=poly;, score=0.673 total time=   0.0s\n",
      "[CV 1/5] END C=2.23, epsilon=0.45, gamma=auto, kernel=sigmoid;, score=-1.381 total time=   0.0s\n",
      "[CV 2/5] END C=2.23, epsilon=0.45, gamma=auto, kernel=sigmoid;, score=-1.310 total time=   0.0s\n",
      "[CV 3/5] END C=2.23, epsilon=0.45, gamma=auto, kernel=sigmoid;, score=-1.301 total time=   0.0s\n",
      "[CV 4/5] END C=2.23, epsilon=0.45, gamma=auto, kernel=sigmoid;, score=-1.514 total time=   0.0s\n"
     ]
    },
    {
     "name": "stdout",
     "output_type": "stream",
     "text": [
      "[CV 5/5] END C=2.23, epsilon=0.45, gamma=auto, kernel=sigmoid;, score=-1.294 total time=   0.0s\n",
      "[CV 1/5] END C=2.23, epsilon=0.56, gamma=scale, kernel=rbf;, score=0.872 total time=   0.0s\n",
      "[CV 2/5] END C=2.23, epsilon=0.56, gamma=scale, kernel=rbf;, score=0.944 total time=   0.0s\n",
      "[CV 3/5] END C=2.23, epsilon=0.56, gamma=scale, kernel=rbf;, score=0.922 total time=   0.0s\n",
      "[CV 4/5] END C=2.23, epsilon=0.56, gamma=scale, kernel=rbf;, score=0.860 total time=   0.0s\n",
      "[CV 5/5] END C=2.23, epsilon=0.56, gamma=scale, kernel=rbf;, score=0.939 total time=   0.0s\n",
      "[CV 1/5] END C=2.23, epsilon=0.56, gamma=scale, kernel=linear;, score=0.998 total time=   0.0s\n",
      "[CV 2/5] END C=2.23, epsilon=0.56, gamma=scale, kernel=linear;, score=0.998 total time=   0.0s\n",
      "[CV 3/5] END C=2.23, epsilon=0.56, gamma=scale, kernel=linear;, score=0.998 total time=   0.0s\n"
     ]
    },
    {
     "name": "stdout",
     "output_type": "stream",
     "text": [
      "[CV 4/5] END C=2.23, epsilon=0.56, gamma=scale, kernel=linear;, score=0.998 total time=   0.0s\n",
      "[CV 5/5] END C=2.23, epsilon=0.56, gamma=scale, kernel=linear;, score=0.998 total time=   0.0s\n",
      "[CV 1/5] END C=2.23, epsilon=0.56, gamma=scale, kernel=poly;, score=0.264 total time=   0.0s\n",
      "[CV 2/5] END C=2.23, epsilon=0.56, gamma=scale, kernel=poly;, score=0.650 total time=   0.0s\n",
      "[CV 3/5] END C=2.23, epsilon=0.56, gamma=scale, kernel=poly;, score=0.530 total time=   0.0s\n",
      "[CV 4/5] END C=2.23, epsilon=0.56, gamma=scale, kernel=poly;, score=0.318 total time=   0.0s\n"
     ]
    },
    {
     "name": "stdout",
     "output_type": "stream",
     "text": [
      "[CV 5/5] END C=2.23, epsilon=0.56, gamma=scale, kernel=poly;, score=0.674 total time=   0.0s\n",
      "[CV 1/5] END C=2.23, epsilon=0.56, gamma=scale, kernel=sigmoid;, score=-1.046 total time=   0.0s\n",
      "[CV 2/5] END C=2.23, epsilon=0.56, gamma=scale, kernel=sigmoid;, score=-0.733 total time=   0.0s\n",
      "[CV 3/5] END C=2.23, epsilon=0.56, gamma=scale, kernel=sigmoid;, score=-0.972 total time=   0.0s\n",
      "[CV 4/5] END C=2.23, epsilon=0.56, gamma=scale, kernel=sigmoid;, score=-1.203 total time=   0.0s\n",
      "[CV 5/5] END C=2.23, epsilon=0.56, gamma=scale, kernel=sigmoid;, score=-0.865 total time=   0.0s\n",
      "[CV 1/5] END C=2.23, epsilon=0.56, gamma=auto, kernel=rbf;, score=0.864 total time=   0.0s\n",
      "[CV 2/5] END C=2.23, epsilon=0.56, gamma=auto, kernel=rbf;, score=0.939 total time=   0.0s\n"
     ]
    },
    {
     "name": "stdout",
     "output_type": "stream",
     "text": [
      "[CV 3/5] END C=2.23, epsilon=0.56, gamma=auto, kernel=rbf;, score=0.917 total time=   0.0s\n",
      "[CV 4/5] END C=2.23, epsilon=0.56, gamma=auto, kernel=rbf;, score=0.853 total time=   0.0s\n",
      "[CV 5/5] END C=2.23, epsilon=0.56, gamma=auto, kernel=rbf;, score=0.933 total time=   0.0s\n",
      "[CV 1/5] END C=2.23, epsilon=0.56, gamma=auto, kernel=linear;, score=0.998 total time=   0.0s\n",
      "[CV 2/5] END C=2.23, epsilon=0.56, gamma=auto, kernel=linear;, score=0.998 total time=   0.0s\n",
      "[CV 3/5] END C=2.23, epsilon=0.56, gamma=auto, kernel=linear;, score=0.998 total time=   0.0s\n",
      "[CV 4/5] END C=2.23, epsilon=0.56, gamma=auto, kernel=linear;, score=0.998 total time=   0.0s\n"
     ]
    },
    {
     "name": "stdout",
     "output_type": "stream",
     "text": [
      "[CV 5/5] END C=2.23, epsilon=0.56, gamma=auto, kernel=linear;, score=0.998 total time=   0.0s\n",
      "[CV 1/5] END C=2.23, epsilon=0.56, gamma=auto, kernel=poly;, score=0.249 total time=   0.0s\n",
      "[CV 2/5] END C=2.23, epsilon=0.56, gamma=auto, kernel=poly;, score=0.649 total time=   0.0s\n",
      "[CV 3/5] END C=2.23, epsilon=0.56, gamma=auto, kernel=poly;, score=0.523 total time=   0.0s\n",
      "[CV 4/5] END C=2.23, epsilon=0.56, gamma=auto, kernel=poly;, score=0.318 total time=   0.0s\n",
      "[CV 5/5] END C=2.23, epsilon=0.56, gamma=auto, kernel=poly;, score=0.673 total time=   0.0s\n",
      "[CV 1/5] END C=2.23, epsilon=0.56, gamma=auto, kernel=sigmoid;, score=-1.383 total time=   0.0s\n",
      "[CV 2/5] END C=2.23, epsilon=0.56, gamma=auto, kernel=sigmoid;, score=-1.308 total time=   0.0s\n",
      "[CV 3/5] END C=2.23, epsilon=0.56, gamma=auto, kernel=sigmoid;, score=-1.301 total time=   0.0s\n"
     ]
    },
    {
     "name": "stdout",
     "output_type": "stream",
     "text": [
      "[CV 4/5] END C=2.23, epsilon=0.56, gamma=auto, kernel=sigmoid;, score=-1.515 total time=   0.0s\n",
      "[CV 5/5] END C=2.23, epsilon=0.56, gamma=auto, kernel=sigmoid;, score=-1.293 total time=   0.0s\n",
      "[CV 1/5] END C=2.23, epsilon=0.67, gamma=scale, kernel=rbf;, score=0.872 total time=   0.0s\n",
      "[CV 2/5] END C=2.23, epsilon=0.67, gamma=scale, kernel=rbf;, score=0.944 total time=   0.0s\n",
      "[CV 3/5] END C=2.23, epsilon=0.67, gamma=scale, kernel=rbf;, score=0.922 total time=   0.0s\n",
      "[CV 4/5] END C=2.23, epsilon=0.67, gamma=scale, kernel=rbf;, score=0.860 total time=   0.0s\n",
      "[CV 5/5] END C=2.23, epsilon=0.67, gamma=scale, kernel=rbf;, score=0.939 total time=   0.0s\n",
      "[CV 1/5] END C=2.23, epsilon=0.67, gamma=scale, kernel=linear;, score=0.998 total time=   0.0s\n"
     ]
    },
    {
     "name": "stdout",
     "output_type": "stream",
     "text": [
      "[CV 2/5] END C=2.23, epsilon=0.67, gamma=scale, kernel=linear;, score=0.998 total time=   0.0s\n",
      "[CV 3/5] END C=2.23, epsilon=0.67, gamma=scale, kernel=linear;, score=0.998 total time=   0.0s\n",
      "[CV 4/5] END C=2.23, epsilon=0.67, gamma=scale, kernel=linear;, score=0.998 total time=   0.0s\n",
      "[CV 5/5] END C=2.23, epsilon=0.67, gamma=scale, kernel=linear;, score=0.998 total time=   0.0s\n",
      "[CV 1/5] END C=2.23, epsilon=0.67, gamma=scale, kernel=poly;, score=0.261 total time=   0.0s\n",
      "[CV 2/5] END C=2.23, epsilon=0.67, gamma=scale, kernel=poly;, score=0.650 total time=   0.0s\n",
      "[CV 3/5] END C=2.23, epsilon=0.67, gamma=scale, kernel=poly;, score=0.531 total time=   0.0s\n",
      "[CV 4/5] END C=2.23, epsilon=0.67, gamma=scale, kernel=poly;, score=0.320 total time=   0.0s\n",
      "[CV 5/5] END C=2.23, epsilon=0.67, gamma=scale, kernel=poly;, score=0.674 total time=   0.0s\n"
     ]
    },
    {
     "name": "stdout",
     "output_type": "stream",
     "text": [
      "[CV 1/5] END C=2.23, epsilon=0.67, gamma=scale, kernel=sigmoid;, score=-1.046 total time=   0.0s\n",
      "[CV 2/5] END C=2.23, epsilon=0.67, gamma=scale, kernel=sigmoid;, score=-0.735 total time=   0.0s\n",
      "[CV 3/5] END C=2.23, epsilon=0.67, gamma=scale, kernel=sigmoid;, score=-0.970 total time=   0.0s\n",
      "[CV 4/5] END C=2.23, epsilon=0.67, gamma=scale, kernel=sigmoid;, score=-1.203 total time=   0.0s\n",
      "[CV 5/5] END C=2.23, epsilon=0.67, gamma=scale, kernel=sigmoid;, score=-0.864 total time=   0.0s\n",
      "[CV 1/5] END C=2.23, epsilon=0.67, gamma=auto, kernel=rbf;, score=0.864 total time=   0.0s\n",
      "[CV 2/5] END C=2.23, epsilon=0.67, gamma=auto, kernel=rbf;, score=0.939 total time=   0.0s\n",
      "[CV 3/5] END C=2.23, epsilon=0.67, gamma=auto, kernel=rbf;, score=0.917 total time=   0.0s\n"
     ]
    },
    {
     "name": "stdout",
     "output_type": "stream",
     "text": [
      "[CV 4/5] END C=2.23, epsilon=0.67, gamma=auto, kernel=rbf;, score=0.853 total time=   0.0s\n"
     ]
    },
    {
     "ename": "KeyboardInterrupt",
     "evalue": "",
     "output_type": "error",
     "traceback": [
      "\u001b[1;31m---------------------------------------------------------------------------\u001b[0m",
      "\u001b[1;31mKeyboardInterrupt\u001b[0m                         Traceback (most recent call last)",
      "Input \u001b[1;32mIn [8]\u001b[0m, in \u001b[0;36m<cell line: 13>\u001b[1;34m()\u001b[0m\n\u001b[0;32m     11\u001b[0m X_train, X_test, y_train, y_test \u001b[38;5;241m=\u001b[39m train_test_split(dataset1_x, dataset1_y, test_size \u001b[38;5;241m=\u001b[39m \u001b[38;5;241m.2\u001b[39m)\n\u001b[0;32m     12\u001b[0m gscv \u001b[38;5;241m=\u001b[39m GridSearchCV(model, param_grid, scoring \u001b[38;5;241m=\u001b[39m \u001b[38;5;124m'\u001b[39m\u001b[38;5;124mr2\u001b[39m\u001b[38;5;124m'\u001b[39m, cv \u001b[38;5;241m=\u001b[39m \u001b[38;5;241m5\u001b[39m, verbose \u001b[38;5;241m=\u001b[39m \u001b[38;5;241m3\u001b[39m, refit\u001b[38;5;241m=\u001b[39m\u001b[38;5;28;01mTrue\u001b[39;00m)\n\u001b[1;32m---> 13\u001b[0m \u001b[43mgscv\u001b[49m\u001b[38;5;241;43m.\u001b[39;49m\u001b[43mfit\u001b[49m\u001b[43m(\u001b[49m\u001b[43mX_train\u001b[49m\u001b[43m,\u001b[49m\u001b[43my_train\u001b[49m\u001b[43m)\u001b[49m\n",
      "File \u001b[1;32m~\\AppData\\Roaming\\Python\\Python39\\site-packages\\sklearn\\base.py:1474\u001b[0m, in \u001b[0;36m_fit_context.<locals>.decorator.<locals>.wrapper\u001b[1;34m(estimator, *args, **kwargs)\u001b[0m\n\u001b[0;32m   1467\u001b[0m     estimator\u001b[38;5;241m.\u001b[39m_validate_params()\n\u001b[0;32m   1469\u001b[0m \u001b[38;5;28;01mwith\u001b[39;00m config_context(\n\u001b[0;32m   1470\u001b[0m     skip_parameter_validation\u001b[38;5;241m=\u001b[39m(\n\u001b[0;32m   1471\u001b[0m         prefer_skip_nested_validation \u001b[38;5;129;01mor\u001b[39;00m global_skip_validation\n\u001b[0;32m   1472\u001b[0m     )\n\u001b[0;32m   1473\u001b[0m ):\n\u001b[1;32m-> 1474\u001b[0m     \u001b[38;5;28;01mreturn\u001b[39;00m fit_method(estimator, \u001b[38;5;241m*\u001b[39margs, \u001b[38;5;241m*\u001b[39m\u001b[38;5;241m*\u001b[39mkwargs)\n",
      "File \u001b[1;32m~\\AppData\\Roaming\\Python\\Python39\\site-packages\\sklearn\\model_selection\\_search.py:970\u001b[0m, in \u001b[0;36mBaseSearchCV.fit\u001b[1;34m(self, X, y, **params)\u001b[0m\n\u001b[0;32m    964\u001b[0m     results \u001b[38;5;241m=\u001b[39m \u001b[38;5;28mself\u001b[39m\u001b[38;5;241m.\u001b[39m_format_results(\n\u001b[0;32m    965\u001b[0m         all_candidate_params, n_splits, all_out, all_more_results\n\u001b[0;32m    966\u001b[0m     )\n\u001b[0;32m    968\u001b[0m     \u001b[38;5;28;01mreturn\u001b[39;00m results\n\u001b[1;32m--> 970\u001b[0m \u001b[38;5;28;43mself\u001b[39;49m\u001b[38;5;241;43m.\u001b[39;49m\u001b[43m_run_search\u001b[49m\u001b[43m(\u001b[49m\u001b[43mevaluate_candidates\u001b[49m\u001b[43m)\u001b[49m\n\u001b[0;32m    972\u001b[0m \u001b[38;5;66;03m# multimetric is determined here because in the case of a callable\u001b[39;00m\n\u001b[0;32m    973\u001b[0m \u001b[38;5;66;03m# self.scoring the return type is only known after calling\u001b[39;00m\n\u001b[0;32m    974\u001b[0m first_test_score \u001b[38;5;241m=\u001b[39m all_out[\u001b[38;5;241m0\u001b[39m][\u001b[38;5;124m\"\u001b[39m\u001b[38;5;124mtest_scores\u001b[39m\u001b[38;5;124m\"\u001b[39m]\n",
      "File \u001b[1;32m~\\AppData\\Roaming\\Python\\Python39\\site-packages\\sklearn\\model_selection\\_search.py:1527\u001b[0m, in \u001b[0;36mGridSearchCV._run_search\u001b[1;34m(self, evaluate_candidates)\u001b[0m\n\u001b[0;32m   1525\u001b[0m \u001b[38;5;28;01mdef\u001b[39;00m \u001b[38;5;21m_run_search\u001b[39m(\u001b[38;5;28mself\u001b[39m, evaluate_candidates):\n\u001b[0;32m   1526\u001b[0m     \u001b[38;5;124;03m\"\"\"Search all candidates in param_grid\"\"\"\u001b[39;00m\n\u001b[1;32m-> 1527\u001b[0m     \u001b[43mevaluate_candidates\u001b[49m\u001b[43m(\u001b[49m\u001b[43mParameterGrid\u001b[49m\u001b[43m(\u001b[49m\u001b[38;5;28;43mself\u001b[39;49m\u001b[38;5;241;43m.\u001b[39;49m\u001b[43mparam_grid\u001b[49m\u001b[43m)\u001b[49m\u001b[43m)\u001b[49m\n",
      "File \u001b[1;32m~\\AppData\\Roaming\\Python\\Python39\\site-packages\\sklearn\\model_selection\\_search.py:916\u001b[0m, in \u001b[0;36mBaseSearchCV.fit.<locals>.evaluate_candidates\u001b[1;34m(candidate_params, cv, more_results)\u001b[0m\n\u001b[0;32m    908\u001b[0m \u001b[38;5;28;01mif\u001b[39;00m \u001b[38;5;28mself\u001b[39m\u001b[38;5;241m.\u001b[39mverbose \u001b[38;5;241m>\u001b[39m \u001b[38;5;241m0\u001b[39m:\n\u001b[0;32m    909\u001b[0m     \u001b[38;5;28mprint\u001b[39m(\n\u001b[0;32m    910\u001b[0m         \u001b[38;5;124m\"\u001b[39m\u001b[38;5;124mFitting \u001b[39m\u001b[38;5;132;01m{0}\u001b[39;00m\u001b[38;5;124m folds for each of \u001b[39m\u001b[38;5;132;01m{1}\u001b[39;00m\u001b[38;5;124m candidates,\u001b[39m\u001b[38;5;124m\"\u001b[39m\n\u001b[0;32m    911\u001b[0m         \u001b[38;5;124m\"\u001b[39m\u001b[38;5;124m totalling \u001b[39m\u001b[38;5;132;01m{2}\u001b[39;00m\u001b[38;5;124m fits\u001b[39m\u001b[38;5;124m\"\u001b[39m\u001b[38;5;241m.\u001b[39mformat(\n\u001b[0;32m    912\u001b[0m             n_splits, n_candidates, n_candidates \u001b[38;5;241m*\u001b[39m n_splits\n\u001b[0;32m    913\u001b[0m         )\n\u001b[0;32m    914\u001b[0m     )\n\u001b[1;32m--> 916\u001b[0m out \u001b[38;5;241m=\u001b[39m \u001b[43mparallel\u001b[49m\u001b[43m(\u001b[49m\n\u001b[0;32m    917\u001b[0m \u001b[43m    \u001b[49m\u001b[43mdelayed\u001b[49m\u001b[43m(\u001b[49m\u001b[43m_fit_and_score\u001b[49m\u001b[43m)\u001b[49m\u001b[43m(\u001b[49m\n\u001b[0;32m    918\u001b[0m \u001b[43m        \u001b[49m\u001b[43mclone\u001b[49m\u001b[43m(\u001b[49m\u001b[43mbase_estimator\u001b[49m\u001b[43m)\u001b[49m\u001b[43m,\u001b[49m\n\u001b[0;32m    919\u001b[0m \u001b[43m        \u001b[49m\u001b[43mX\u001b[49m\u001b[43m,\u001b[49m\n\u001b[0;32m    920\u001b[0m \u001b[43m        \u001b[49m\u001b[43my\u001b[49m\u001b[43m,\u001b[49m\n\u001b[0;32m    921\u001b[0m \u001b[43m        \u001b[49m\u001b[43mtrain\u001b[49m\u001b[38;5;241;43m=\u001b[39;49m\u001b[43mtrain\u001b[49m\u001b[43m,\u001b[49m\n\u001b[0;32m    922\u001b[0m \u001b[43m        \u001b[49m\u001b[43mtest\u001b[49m\u001b[38;5;241;43m=\u001b[39;49m\u001b[43mtest\u001b[49m\u001b[43m,\u001b[49m\n\u001b[0;32m    923\u001b[0m \u001b[43m        \u001b[49m\u001b[43mparameters\u001b[49m\u001b[38;5;241;43m=\u001b[39;49m\u001b[43mparameters\u001b[49m\u001b[43m,\u001b[49m\n\u001b[0;32m    924\u001b[0m \u001b[43m        \u001b[49m\u001b[43msplit_progress\u001b[49m\u001b[38;5;241;43m=\u001b[39;49m\u001b[43m(\u001b[49m\u001b[43msplit_idx\u001b[49m\u001b[43m,\u001b[49m\u001b[43m \u001b[49m\u001b[43mn_splits\u001b[49m\u001b[43m)\u001b[49m\u001b[43m,\u001b[49m\n\u001b[0;32m    925\u001b[0m \u001b[43m        \u001b[49m\u001b[43mcandidate_progress\u001b[49m\u001b[38;5;241;43m=\u001b[39;49m\u001b[43m(\u001b[49m\u001b[43mcand_idx\u001b[49m\u001b[43m,\u001b[49m\u001b[43m \u001b[49m\u001b[43mn_candidates\u001b[49m\u001b[43m)\u001b[49m\u001b[43m,\u001b[49m\n\u001b[0;32m    926\u001b[0m \u001b[43m        \u001b[49m\u001b[38;5;241;43m*\u001b[39;49m\u001b[38;5;241;43m*\u001b[39;49m\u001b[43mfit_and_score_kwargs\u001b[49m\u001b[43m,\u001b[49m\n\u001b[0;32m    927\u001b[0m \u001b[43m    \u001b[49m\u001b[43m)\u001b[49m\n\u001b[0;32m    928\u001b[0m \u001b[43m    \u001b[49m\u001b[38;5;28;43;01mfor\u001b[39;49;00m\u001b[43m \u001b[49m\u001b[43m(\u001b[49m\u001b[43mcand_idx\u001b[49m\u001b[43m,\u001b[49m\u001b[43m \u001b[49m\u001b[43mparameters\u001b[49m\u001b[43m)\u001b[49m\u001b[43m,\u001b[49m\u001b[43m \u001b[49m\u001b[43m(\u001b[49m\u001b[43msplit_idx\u001b[49m\u001b[43m,\u001b[49m\u001b[43m \u001b[49m\u001b[43m(\u001b[49m\u001b[43mtrain\u001b[49m\u001b[43m,\u001b[49m\u001b[43m \u001b[49m\u001b[43mtest\u001b[49m\u001b[43m)\u001b[49m\u001b[43m)\u001b[49m\u001b[43m \u001b[49m\u001b[38;5;129;43;01min\u001b[39;49;00m\u001b[43m \u001b[49m\u001b[43mproduct\u001b[49m\u001b[43m(\u001b[49m\n\u001b[0;32m    929\u001b[0m \u001b[43m        \u001b[49m\u001b[38;5;28;43menumerate\u001b[39;49m\u001b[43m(\u001b[49m\u001b[43mcandidate_params\u001b[49m\u001b[43m)\u001b[49m\u001b[43m,\u001b[49m\n\u001b[0;32m    930\u001b[0m \u001b[43m        \u001b[49m\u001b[38;5;28;43menumerate\u001b[39;49m\u001b[43m(\u001b[49m\u001b[43mcv\u001b[49m\u001b[38;5;241;43m.\u001b[39;49m\u001b[43msplit\u001b[49m\u001b[43m(\u001b[49m\u001b[43mX\u001b[49m\u001b[43m,\u001b[49m\u001b[43m \u001b[49m\u001b[43my\u001b[49m\u001b[43m,\u001b[49m\u001b[43m \u001b[49m\u001b[38;5;241;43m*\u001b[39;49m\u001b[38;5;241;43m*\u001b[39;49m\u001b[43mrouted_params\u001b[49m\u001b[38;5;241;43m.\u001b[39;49m\u001b[43msplitter\u001b[49m\u001b[38;5;241;43m.\u001b[39;49m\u001b[43msplit\u001b[49m\u001b[43m)\u001b[49m\u001b[43m)\u001b[49m\u001b[43m,\u001b[49m\n\u001b[0;32m    931\u001b[0m \u001b[43m    \u001b[49m\u001b[43m)\u001b[49m\n\u001b[0;32m    932\u001b[0m \u001b[43m\u001b[49m\u001b[43m)\u001b[49m\n\u001b[0;32m    934\u001b[0m \u001b[38;5;28;01mif\u001b[39;00m \u001b[38;5;28mlen\u001b[39m(out) \u001b[38;5;241m<\u001b[39m \u001b[38;5;241m1\u001b[39m:\n\u001b[0;32m    935\u001b[0m     \u001b[38;5;28;01mraise\u001b[39;00m \u001b[38;5;167;01mValueError\u001b[39;00m(\n\u001b[0;32m    936\u001b[0m         \u001b[38;5;124m\"\u001b[39m\u001b[38;5;124mNo fits were performed. \u001b[39m\u001b[38;5;124m\"\u001b[39m\n\u001b[0;32m    937\u001b[0m         \u001b[38;5;124m\"\u001b[39m\u001b[38;5;124mWas the CV iterator empty? \u001b[39m\u001b[38;5;124m\"\u001b[39m\n\u001b[0;32m    938\u001b[0m         \u001b[38;5;124m\"\u001b[39m\u001b[38;5;124mWere there no candidates?\u001b[39m\u001b[38;5;124m\"\u001b[39m\n\u001b[0;32m    939\u001b[0m     )\n",
      "File \u001b[1;32m~\\AppData\\Roaming\\Python\\Python39\\site-packages\\sklearn\\utils\\parallel.py:67\u001b[0m, in \u001b[0;36mParallel.__call__\u001b[1;34m(self, iterable)\u001b[0m\n\u001b[0;32m     62\u001b[0m config \u001b[38;5;241m=\u001b[39m get_config()\n\u001b[0;32m     63\u001b[0m iterable_with_config \u001b[38;5;241m=\u001b[39m (\n\u001b[0;32m     64\u001b[0m     (_with_config(delayed_func, config), args, kwargs)\n\u001b[0;32m     65\u001b[0m     \u001b[38;5;28;01mfor\u001b[39;00m delayed_func, args, kwargs \u001b[38;5;129;01min\u001b[39;00m iterable\n\u001b[0;32m     66\u001b[0m )\n\u001b[1;32m---> 67\u001b[0m \u001b[38;5;28;01mreturn\u001b[39;00m \u001b[38;5;28;43msuper\u001b[39;49m\u001b[43m(\u001b[49m\u001b[43m)\u001b[49m\u001b[38;5;241;43m.\u001b[39;49m\u001b[38;5;21;43m__call__\u001b[39;49m\u001b[43m(\u001b[49m\u001b[43miterable_with_config\u001b[49m\u001b[43m)\u001b[49m\n",
      "File \u001b[1;32m~\\AppData\\Roaming\\Python\\Python39\\site-packages\\joblib\\parallel.py:1918\u001b[0m, in \u001b[0;36mParallel.__call__\u001b[1;34m(self, iterable)\u001b[0m\n\u001b[0;32m   1916\u001b[0m     output \u001b[38;5;241m=\u001b[39m \u001b[38;5;28mself\u001b[39m\u001b[38;5;241m.\u001b[39m_get_sequential_output(iterable)\n\u001b[0;32m   1917\u001b[0m     \u001b[38;5;28mnext\u001b[39m(output)\n\u001b[1;32m-> 1918\u001b[0m     \u001b[38;5;28;01mreturn\u001b[39;00m output \u001b[38;5;28;01mif\u001b[39;00m \u001b[38;5;28mself\u001b[39m\u001b[38;5;241m.\u001b[39mreturn_generator \u001b[38;5;28;01melse\u001b[39;00m \u001b[38;5;28;43mlist\u001b[39;49m\u001b[43m(\u001b[49m\u001b[43moutput\u001b[49m\u001b[43m)\u001b[49m\n\u001b[0;32m   1920\u001b[0m \u001b[38;5;66;03m# Let's create an ID that uniquely identifies the current call. If the\u001b[39;00m\n\u001b[0;32m   1921\u001b[0m \u001b[38;5;66;03m# call is interrupted early and that the same instance is immediately\u001b[39;00m\n\u001b[0;32m   1922\u001b[0m \u001b[38;5;66;03m# re-used, this id will be used to prevent workers that were\u001b[39;00m\n\u001b[0;32m   1923\u001b[0m \u001b[38;5;66;03m# concurrently finalizing a task from the previous call to run the\u001b[39;00m\n\u001b[0;32m   1924\u001b[0m \u001b[38;5;66;03m# callback.\u001b[39;00m\n\u001b[0;32m   1925\u001b[0m \u001b[38;5;28;01mwith\u001b[39;00m \u001b[38;5;28mself\u001b[39m\u001b[38;5;241m.\u001b[39m_lock:\n",
      "File \u001b[1;32m~\\AppData\\Roaming\\Python\\Python39\\site-packages\\joblib\\parallel.py:1847\u001b[0m, in \u001b[0;36mParallel._get_sequential_output\u001b[1;34m(self, iterable)\u001b[0m\n\u001b[0;32m   1845\u001b[0m \u001b[38;5;28mself\u001b[39m\u001b[38;5;241m.\u001b[39mn_dispatched_batches \u001b[38;5;241m+\u001b[39m\u001b[38;5;241m=\u001b[39m \u001b[38;5;241m1\u001b[39m\n\u001b[0;32m   1846\u001b[0m \u001b[38;5;28mself\u001b[39m\u001b[38;5;241m.\u001b[39mn_dispatched_tasks \u001b[38;5;241m+\u001b[39m\u001b[38;5;241m=\u001b[39m \u001b[38;5;241m1\u001b[39m\n\u001b[1;32m-> 1847\u001b[0m res \u001b[38;5;241m=\u001b[39m func(\u001b[38;5;241m*\u001b[39margs, \u001b[38;5;241m*\u001b[39m\u001b[38;5;241m*\u001b[39mkwargs)\n\u001b[0;32m   1848\u001b[0m \u001b[38;5;28mself\u001b[39m\u001b[38;5;241m.\u001b[39mn_completed_tasks \u001b[38;5;241m+\u001b[39m\u001b[38;5;241m=\u001b[39m \u001b[38;5;241m1\u001b[39m\n\u001b[0;32m   1849\u001b[0m \u001b[38;5;28mself\u001b[39m\u001b[38;5;241m.\u001b[39mprint_progress()\n",
      "File \u001b[1;32m~\\AppData\\Roaming\\Python\\Python39\\site-packages\\sklearn\\utils\\parallel.py:129\u001b[0m, in \u001b[0;36m_FuncWrapper.__call__\u001b[1;34m(self, *args, **kwargs)\u001b[0m\n\u001b[0;32m    127\u001b[0m     config \u001b[38;5;241m=\u001b[39m {}\n\u001b[0;32m    128\u001b[0m \u001b[38;5;28;01mwith\u001b[39;00m config_context(\u001b[38;5;241m*\u001b[39m\u001b[38;5;241m*\u001b[39mconfig):\n\u001b[1;32m--> 129\u001b[0m     \u001b[38;5;28;01mreturn\u001b[39;00m \u001b[38;5;28mself\u001b[39m\u001b[38;5;241m.\u001b[39mfunction(\u001b[38;5;241m*\u001b[39margs, \u001b[38;5;241m*\u001b[39m\u001b[38;5;241m*\u001b[39mkwargs)\n",
      "File \u001b[1;32m~\\AppData\\Roaming\\Python\\Python39\\site-packages\\sklearn\\model_selection\\_validation.py:895\u001b[0m, in \u001b[0;36m_fit_and_score\u001b[1;34m(estimator, X, y, scorer, train, test, verbose, parameters, fit_params, score_params, return_train_score, return_parameters, return_n_test_samples, return_times, return_estimator, split_progress, candidate_progress, error_score)\u001b[0m\n\u001b[0;32m    893\u001b[0m         estimator\u001b[38;5;241m.\u001b[39mfit(X_train, \u001b[38;5;241m*\u001b[39m\u001b[38;5;241m*\u001b[39mfit_params)\n\u001b[0;32m    894\u001b[0m     \u001b[38;5;28;01melse\u001b[39;00m:\n\u001b[1;32m--> 895\u001b[0m         estimator\u001b[38;5;241m.\u001b[39mfit(X_train, y_train, \u001b[38;5;241m*\u001b[39m\u001b[38;5;241m*\u001b[39mfit_params)\n\u001b[0;32m    897\u001b[0m \u001b[38;5;28;01mexcept\u001b[39;00m \u001b[38;5;167;01mException\u001b[39;00m:\n\u001b[0;32m    898\u001b[0m     \u001b[38;5;66;03m# Note fit time as time until error\u001b[39;00m\n\u001b[0;32m    899\u001b[0m     fit_time \u001b[38;5;241m=\u001b[39m time\u001b[38;5;241m.\u001b[39mtime() \u001b[38;5;241m-\u001b[39m start_time\n",
      "File \u001b[1;32m~\\AppData\\Roaming\\Python\\Python39\\site-packages\\sklearn\\base.py:1474\u001b[0m, in \u001b[0;36m_fit_context.<locals>.decorator.<locals>.wrapper\u001b[1;34m(estimator, *args, **kwargs)\u001b[0m\n\u001b[0;32m   1467\u001b[0m     estimator\u001b[38;5;241m.\u001b[39m_validate_params()\n\u001b[0;32m   1469\u001b[0m \u001b[38;5;28;01mwith\u001b[39;00m config_context(\n\u001b[0;32m   1470\u001b[0m     skip_parameter_validation\u001b[38;5;241m=\u001b[39m(\n\u001b[0;32m   1471\u001b[0m         prefer_skip_nested_validation \u001b[38;5;129;01mor\u001b[39;00m global_skip_validation\n\u001b[0;32m   1472\u001b[0m     )\n\u001b[0;32m   1473\u001b[0m ):\n\u001b[1;32m-> 1474\u001b[0m     \u001b[38;5;28;01mreturn\u001b[39;00m fit_method(estimator, \u001b[38;5;241m*\u001b[39margs, \u001b[38;5;241m*\u001b[39m\u001b[38;5;241m*\u001b[39mkwargs)\n",
      "File \u001b[1;32m~\\AppData\\Roaming\\Python\\Python39\\site-packages\\sklearn\\svm\\_base.py:250\u001b[0m, in \u001b[0;36mBaseLibSVM.fit\u001b[1;34m(self, X, y, sample_weight)\u001b[0m\n\u001b[0;32m    247\u001b[0m     \u001b[38;5;28mprint\u001b[39m(\u001b[38;5;124m\"\u001b[39m\u001b[38;5;124m[LibSVM]\u001b[39m\u001b[38;5;124m\"\u001b[39m, end\u001b[38;5;241m=\u001b[39m\u001b[38;5;124m\"\u001b[39m\u001b[38;5;124m\"\u001b[39m)\n\u001b[0;32m    249\u001b[0m seed \u001b[38;5;241m=\u001b[39m rnd\u001b[38;5;241m.\u001b[39mrandint(np\u001b[38;5;241m.\u001b[39miinfo(\u001b[38;5;124m\"\u001b[39m\u001b[38;5;124mi\u001b[39m\u001b[38;5;124m\"\u001b[39m)\u001b[38;5;241m.\u001b[39mmax)\n\u001b[1;32m--> 250\u001b[0m \u001b[43mfit\u001b[49m\u001b[43m(\u001b[49m\u001b[43mX\u001b[49m\u001b[43m,\u001b[49m\u001b[43m \u001b[49m\u001b[43my\u001b[49m\u001b[43m,\u001b[49m\u001b[43m \u001b[49m\u001b[43msample_weight\u001b[49m\u001b[43m,\u001b[49m\u001b[43m \u001b[49m\u001b[43msolver_type\u001b[49m\u001b[43m,\u001b[49m\u001b[43m \u001b[49m\u001b[43mkernel\u001b[49m\u001b[43m,\u001b[49m\u001b[43m \u001b[49m\u001b[43mrandom_seed\u001b[49m\u001b[38;5;241;43m=\u001b[39;49m\u001b[43mseed\u001b[49m\u001b[43m)\u001b[49m\n\u001b[0;32m    251\u001b[0m \u001b[38;5;66;03m# see comment on the other call to np.iinfo in this file\u001b[39;00m\n\u001b[0;32m    253\u001b[0m \u001b[38;5;28mself\u001b[39m\u001b[38;5;241m.\u001b[39mshape_fit_ \u001b[38;5;241m=\u001b[39m X\u001b[38;5;241m.\u001b[39mshape \u001b[38;5;28;01mif\u001b[39;00m \u001b[38;5;28mhasattr\u001b[39m(X, \u001b[38;5;124m\"\u001b[39m\u001b[38;5;124mshape\u001b[39m\u001b[38;5;124m\"\u001b[39m) \u001b[38;5;28;01melse\u001b[39;00m (n_samples,)\n",
      "File \u001b[1;32m~\\AppData\\Roaming\\Python\\Python39\\site-packages\\sklearn\\svm\\_base.py:329\u001b[0m, in \u001b[0;36mBaseLibSVM._dense_fit\u001b[1;34m(self, X, y, sample_weight, solver_type, kernel, random_seed)\u001b[0m\n\u001b[0;32m    315\u001b[0m libsvm\u001b[38;5;241m.\u001b[39mset_verbosity_wrap(\u001b[38;5;28mself\u001b[39m\u001b[38;5;241m.\u001b[39mverbose)\n\u001b[0;32m    317\u001b[0m \u001b[38;5;66;03m# we don't pass **self.get_params() to allow subclasses to\u001b[39;00m\n\u001b[0;32m    318\u001b[0m \u001b[38;5;66;03m# add other parameters to __init__\u001b[39;00m\n\u001b[0;32m    319\u001b[0m (\n\u001b[0;32m    320\u001b[0m     \u001b[38;5;28mself\u001b[39m\u001b[38;5;241m.\u001b[39msupport_,\n\u001b[0;32m    321\u001b[0m     \u001b[38;5;28mself\u001b[39m\u001b[38;5;241m.\u001b[39msupport_vectors_,\n\u001b[0;32m    322\u001b[0m     \u001b[38;5;28mself\u001b[39m\u001b[38;5;241m.\u001b[39m_n_support,\n\u001b[0;32m    323\u001b[0m     \u001b[38;5;28mself\u001b[39m\u001b[38;5;241m.\u001b[39mdual_coef_,\n\u001b[0;32m    324\u001b[0m     \u001b[38;5;28mself\u001b[39m\u001b[38;5;241m.\u001b[39mintercept_,\n\u001b[0;32m    325\u001b[0m     \u001b[38;5;28mself\u001b[39m\u001b[38;5;241m.\u001b[39m_probA,\n\u001b[0;32m    326\u001b[0m     \u001b[38;5;28mself\u001b[39m\u001b[38;5;241m.\u001b[39m_probB,\n\u001b[0;32m    327\u001b[0m     \u001b[38;5;28mself\u001b[39m\u001b[38;5;241m.\u001b[39mfit_status_,\n\u001b[0;32m    328\u001b[0m     \u001b[38;5;28mself\u001b[39m\u001b[38;5;241m.\u001b[39m_num_iter,\n\u001b[1;32m--> 329\u001b[0m ) \u001b[38;5;241m=\u001b[39m \u001b[43mlibsvm\u001b[49m\u001b[38;5;241;43m.\u001b[39;49m\u001b[43mfit\u001b[49m\u001b[43m(\u001b[49m\n\u001b[0;32m    330\u001b[0m \u001b[43m    \u001b[49m\u001b[43mX\u001b[49m\u001b[43m,\u001b[49m\n\u001b[0;32m    331\u001b[0m \u001b[43m    \u001b[49m\u001b[43my\u001b[49m\u001b[43m,\u001b[49m\n\u001b[0;32m    332\u001b[0m \u001b[43m    \u001b[49m\u001b[43msvm_type\u001b[49m\u001b[38;5;241;43m=\u001b[39;49m\u001b[43msolver_type\u001b[49m\u001b[43m,\u001b[49m\n\u001b[0;32m    333\u001b[0m \u001b[43m    \u001b[49m\u001b[43msample_weight\u001b[49m\u001b[38;5;241;43m=\u001b[39;49m\u001b[43msample_weight\u001b[49m\u001b[43m,\u001b[49m\n\u001b[0;32m    334\u001b[0m \u001b[43m    \u001b[49m\u001b[43mclass_weight\u001b[49m\u001b[38;5;241;43m=\u001b[39;49m\u001b[38;5;28;43mgetattr\u001b[39;49m\u001b[43m(\u001b[49m\u001b[38;5;28;43mself\u001b[39;49m\u001b[43m,\u001b[49m\u001b[43m \u001b[49m\u001b[38;5;124;43m\"\u001b[39;49m\u001b[38;5;124;43mclass_weight_\u001b[39;49m\u001b[38;5;124;43m\"\u001b[39;49m\u001b[43m,\u001b[49m\u001b[43m \u001b[49m\u001b[43mnp\u001b[49m\u001b[38;5;241;43m.\u001b[39;49m\u001b[43mempty\u001b[49m\u001b[43m(\u001b[49m\u001b[38;5;241;43m0\u001b[39;49m\u001b[43m)\u001b[49m\u001b[43m)\u001b[49m\u001b[43m,\u001b[49m\n\u001b[0;32m    335\u001b[0m \u001b[43m    \u001b[49m\u001b[43mkernel\u001b[49m\u001b[38;5;241;43m=\u001b[39;49m\u001b[43mkernel\u001b[49m\u001b[43m,\u001b[49m\n\u001b[0;32m    336\u001b[0m \u001b[43m    \u001b[49m\u001b[43mC\u001b[49m\u001b[38;5;241;43m=\u001b[39;49m\u001b[38;5;28;43mself\u001b[39;49m\u001b[38;5;241;43m.\u001b[39;49m\u001b[43mC\u001b[49m\u001b[43m,\u001b[49m\n\u001b[0;32m    337\u001b[0m \u001b[43m    \u001b[49m\u001b[43mnu\u001b[49m\u001b[38;5;241;43m=\u001b[39;49m\u001b[38;5;28;43mself\u001b[39;49m\u001b[38;5;241;43m.\u001b[39;49m\u001b[43mnu\u001b[49m\u001b[43m,\u001b[49m\n\u001b[0;32m    338\u001b[0m \u001b[43m    \u001b[49m\u001b[43mprobability\u001b[49m\u001b[38;5;241;43m=\u001b[39;49m\u001b[38;5;28;43mself\u001b[39;49m\u001b[38;5;241;43m.\u001b[39;49m\u001b[43mprobability\u001b[49m\u001b[43m,\u001b[49m\n\u001b[0;32m    339\u001b[0m \u001b[43m    \u001b[49m\u001b[43mdegree\u001b[49m\u001b[38;5;241;43m=\u001b[39;49m\u001b[38;5;28;43mself\u001b[39;49m\u001b[38;5;241;43m.\u001b[39;49m\u001b[43mdegree\u001b[49m\u001b[43m,\u001b[49m\n\u001b[0;32m    340\u001b[0m \u001b[43m    \u001b[49m\u001b[43mshrinking\u001b[49m\u001b[38;5;241;43m=\u001b[39;49m\u001b[38;5;28;43mself\u001b[39;49m\u001b[38;5;241;43m.\u001b[39;49m\u001b[43mshrinking\u001b[49m\u001b[43m,\u001b[49m\n\u001b[0;32m    341\u001b[0m \u001b[43m    \u001b[49m\u001b[43mtol\u001b[49m\u001b[38;5;241;43m=\u001b[39;49m\u001b[38;5;28;43mself\u001b[39;49m\u001b[38;5;241;43m.\u001b[39;49m\u001b[43mtol\u001b[49m\u001b[43m,\u001b[49m\n\u001b[0;32m    342\u001b[0m \u001b[43m    \u001b[49m\u001b[43mcache_size\u001b[49m\u001b[38;5;241;43m=\u001b[39;49m\u001b[38;5;28;43mself\u001b[39;49m\u001b[38;5;241;43m.\u001b[39;49m\u001b[43mcache_size\u001b[49m\u001b[43m,\u001b[49m\n\u001b[0;32m    343\u001b[0m \u001b[43m    \u001b[49m\u001b[43mcoef0\u001b[49m\u001b[38;5;241;43m=\u001b[39;49m\u001b[38;5;28;43mself\u001b[39;49m\u001b[38;5;241;43m.\u001b[39;49m\u001b[43mcoef0\u001b[49m\u001b[43m,\u001b[49m\n\u001b[0;32m    344\u001b[0m \u001b[43m    \u001b[49m\u001b[43mgamma\u001b[49m\u001b[38;5;241;43m=\u001b[39;49m\u001b[38;5;28;43mself\u001b[39;49m\u001b[38;5;241;43m.\u001b[39;49m\u001b[43m_gamma\u001b[49m\u001b[43m,\u001b[49m\n\u001b[0;32m    345\u001b[0m \u001b[43m    \u001b[49m\u001b[43mepsilon\u001b[49m\u001b[38;5;241;43m=\u001b[39;49m\u001b[38;5;28;43mself\u001b[39;49m\u001b[38;5;241;43m.\u001b[39;49m\u001b[43mepsilon\u001b[49m\u001b[43m,\u001b[49m\n\u001b[0;32m    346\u001b[0m \u001b[43m    \u001b[49m\u001b[43mmax_iter\u001b[49m\u001b[38;5;241;43m=\u001b[39;49m\u001b[38;5;28;43mself\u001b[39;49m\u001b[38;5;241;43m.\u001b[39;49m\u001b[43mmax_iter\u001b[49m\u001b[43m,\u001b[49m\n\u001b[0;32m    347\u001b[0m \u001b[43m    \u001b[49m\u001b[43mrandom_seed\u001b[49m\u001b[38;5;241;43m=\u001b[39;49m\u001b[43mrandom_seed\u001b[49m\u001b[43m,\u001b[49m\n\u001b[0;32m    348\u001b[0m \u001b[43m\u001b[49m\u001b[43m)\u001b[49m\n\u001b[0;32m    350\u001b[0m \u001b[38;5;28mself\u001b[39m\u001b[38;5;241m.\u001b[39m_warn_from_fit_status()\n",
      "File \u001b[1;32msklearn\\\\svm\\\\_libsvm.pyx:265\u001b[0m, in \u001b[0;36msklearn.svm._libsvm.fit\u001b[1;34m()\u001b[0m\n",
      "\u001b[1;31mKeyboardInterrupt\u001b[0m: "
     ]
    }
   ],
   "source": [
    "from sklearn.svm import SVR\n",
    "from sklearn.model_selection import cross_val_score, train_test_split, GridSearchCV\n",
    "from sklearn.metrics import r2_score\n",
    "import numpy as np\n",
    "\n",
    "model = SVR()\n",
    "param_grid = {'kernel': ['rbf','linear','poly','sigmoid'],\n",
    "            'C': np.linspace(0.01,10,10),\n",
    "            'epsilon': np.linspace(0.01,1,10),\n",
    "             'gamma': ['scale','auto']}\n",
    "X_train, X_test, y_train, y_test = train_test_split(dataset1_x, dataset1_y, test_size = .2)\n",
    "gscv = GridSearchCV(model, param_grid, scoring = 'r2', cv = 5, verbose = 3, refit=True)\n",
    "gscv.fit(X_train,y_train)"
   ]
  },
  {
   "cell_type": "code",
   "execution_count": 98,
   "id": "6aad3e68-ce00-45f7-a520-b71ceef634c3",
   "metadata": {},
   "outputs": [
    {
     "data": {
      "text/html": [
       "<style>#sk-container-id-3 {\n",
       "  /* Definition of color scheme common for light and dark mode */\n",
       "  --sklearn-color-text: black;\n",
       "  --sklearn-color-line: gray;\n",
       "  /* Definition of color scheme for unfitted estimators */\n",
       "  --sklearn-color-unfitted-level-0: #fff5e6;\n",
       "  --sklearn-color-unfitted-level-1: #f6e4d2;\n",
       "  --sklearn-color-unfitted-level-2: #ffe0b3;\n",
       "  --sklearn-color-unfitted-level-3: chocolate;\n",
       "  /* Definition of color scheme for fitted estimators */\n",
       "  --sklearn-color-fitted-level-0: #f0f8ff;\n",
       "  --sklearn-color-fitted-level-1: #d4ebff;\n",
       "  --sklearn-color-fitted-level-2: #b3dbfd;\n",
       "  --sklearn-color-fitted-level-3: cornflowerblue;\n",
       "\n",
       "  /* Specific color for light theme */\n",
       "  --sklearn-color-text-on-default-background: var(--sg-text-color, var(--theme-code-foreground, var(--jp-content-font-color1, black)));\n",
       "  --sklearn-color-background: var(--sg-background-color, var(--theme-background, var(--jp-layout-color0, white)));\n",
       "  --sklearn-color-border-box: var(--sg-text-color, var(--theme-code-foreground, var(--jp-content-font-color1, black)));\n",
       "  --sklearn-color-icon: #696969;\n",
       "\n",
       "  @media (prefers-color-scheme: dark) {\n",
       "    /* Redefinition of color scheme for dark theme */\n",
       "    --sklearn-color-text-on-default-background: var(--sg-text-color, var(--theme-code-foreground, var(--jp-content-font-color1, white)));\n",
       "    --sklearn-color-background: var(--sg-background-color, var(--theme-background, var(--jp-layout-color0, #111)));\n",
       "    --sklearn-color-border-box: var(--sg-text-color, var(--theme-code-foreground, var(--jp-content-font-color1, white)));\n",
       "    --sklearn-color-icon: #878787;\n",
       "  }\n",
       "}\n",
       "\n",
       "#sk-container-id-3 {\n",
       "  color: var(--sklearn-color-text);\n",
       "}\n",
       "\n",
       "#sk-container-id-3 pre {\n",
       "  padding: 0;\n",
       "}\n",
       "\n",
       "#sk-container-id-3 input.sk-hidden--visually {\n",
       "  border: 0;\n",
       "  clip: rect(1px 1px 1px 1px);\n",
       "  clip: rect(1px, 1px, 1px, 1px);\n",
       "  height: 1px;\n",
       "  margin: -1px;\n",
       "  overflow: hidden;\n",
       "  padding: 0;\n",
       "  position: absolute;\n",
       "  width: 1px;\n",
       "}\n",
       "\n",
       "#sk-container-id-3 div.sk-dashed-wrapped {\n",
       "  border: 1px dashed var(--sklearn-color-line);\n",
       "  margin: 0 0.4em 0.5em 0.4em;\n",
       "  box-sizing: border-box;\n",
       "  padding-bottom: 0.4em;\n",
       "  background-color: var(--sklearn-color-background);\n",
       "}\n",
       "\n",
       "#sk-container-id-3 div.sk-container {\n",
       "  /* jupyter's `normalize.less` sets `[hidden] { display: none; }`\n",
       "     but bootstrap.min.css set `[hidden] { display: none !important; }`\n",
       "     so we also need the `!important` here to be able to override the\n",
       "     default hidden behavior on the sphinx rendered scikit-learn.org.\n",
       "     See: https://github.com/scikit-learn/scikit-learn/issues/21755 */\n",
       "  display: inline-block !important;\n",
       "  position: relative;\n",
       "}\n",
       "\n",
       "#sk-container-id-3 div.sk-text-repr-fallback {\n",
       "  display: none;\n",
       "}\n",
       "\n",
       "div.sk-parallel-item,\n",
       "div.sk-serial,\n",
       "div.sk-item {\n",
       "  /* draw centered vertical line to link estimators */\n",
       "  background-image: linear-gradient(var(--sklearn-color-text-on-default-background), var(--sklearn-color-text-on-default-background));\n",
       "  background-size: 2px 100%;\n",
       "  background-repeat: no-repeat;\n",
       "  background-position: center center;\n",
       "}\n",
       "\n",
       "/* Parallel-specific style estimator block */\n",
       "\n",
       "#sk-container-id-3 div.sk-parallel-item::after {\n",
       "  content: \"\";\n",
       "  width: 100%;\n",
       "  border-bottom: 2px solid var(--sklearn-color-text-on-default-background);\n",
       "  flex-grow: 1;\n",
       "}\n",
       "\n",
       "#sk-container-id-3 div.sk-parallel {\n",
       "  display: flex;\n",
       "  align-items: stretch;\n",
       "  justify-content: center;\n",
       "  background-color: var(--sklearn-color-background);\n",
       "  position: relative;\n",
       "}\n",
       "\n",
       "#sk-container-id-3 div.sk-parallel-item {\n",
       "  display: flex;\n",
       "  flex-direction: column;\n",
       "}\n",
       "\n",
       "#sk-container-id-3 div.sk-parallel-item:first-child::after {\n",
       "  align-self: flex-end;\n",
       "  width: 50%;\n",
       "}\n",
       "\n",
       "#sk-container-id-3 div.sk-parallel-item:last-child::after {\n",
       "  align-self: flex-start;\n",
       "  width: 50%;\n",
       "}\n",
       "\n",
       "#sk-container-id-3 div.sk-parallel-item:only-child::after {\n",
       "  width: 0;\n",
       "}\n",
       "\n",
       "/* Serial-specific style estimator block */\n",
       "\n",
       "#sk-container-id-3 div.sk-serial {\n",
       "  display: flex;\n",
       "  flex-direction: column;\n",
       "  align-items: center;\n",
       "  background-color: var(--sklearn-color-background);\n",
       "  padding-right: 1em;\n",
       "  padding-left: 1em;\n",
       "}\n",
       "\n",
       "\n",
       "/* Toggleable style: style used for estimator/Pipeline/ColumnTransformer box that is\n",
       "clickable and can be expanded/collapsed.\n",
       "- Pipeline and ColumnTransformer use this feature and define the default style\n",
       "- Estimators will overwrite some part of the style using the `sk-estimator` class\n",
       "*/\n",
       "\n",
       "/* Pipeline and ColumnTransformer style (default) */\n",
       "\n",
       "#sk-container-id-3 div.sk-toggleable {\n",
       "  /* Default theme specific background. It is overwritten whether we have a\n",
       "  specific estimator or a Pipeline/ColumnTransformer */\n",
       "  background-color: var(--sklearn-color-background);\n",
       "}\n",
       "\n",
       "/* Toggleable label */\n",
       "#sk-container-id-3 label.sk-toggleable__label {\n",
       "  cursor: pointer;\n",
       "  display: block;\n",
       "  width: 100%;\n",
       "  margin-bottom: 0;\n",
       "  padding: 0.5em;\n",
       "  box-sizing: border-box;\n",
       "  text-align: center;\n",
       "}\n",
       "\n",
       "#sk-container-id-3 label.sk-toggleable__label-arrow:before {\n",
       "  /* Arrow on the left of the label */\n",
       "  content: \"▸\";\n",
       "  float: left;\n",
       "  margin-right: 0.25em;\n",
       "  color: var(--sklearn-color-icon);\n",
       "}\n",
       "\n",
       "#sk-container-id-3 label.sk-toggleable__label-arrow:hover:before {\n",
       "  color: var(--sklearn-color-text);\n",
       "}\n",
       "\n",
       "/* Toggleable content - dropdown */\n",
       "\n",
       "#sk-container-id-3 div.sk-toggleable__content {\n",
       "  max-height: 0;\n",
       "  max-width: 0;\n",
       "  overflow: hidden;\n",
       "  text-align: left;\n",
       "  /* unfitted */\n",
       "  background-color: var(--sklearn-color-unfitted-level-0);\n",
       "}\n",
       "\n",
       "#sk-container-id-3 div.sk-toggleable__content.fitted {\n",
       "  /* fitted */\n",
       "  background-color: var(--sklearn-color-fitted-level-0);\n",
       "}\n",
       "\n",
       "#sk-container-id-3 div.sk-toggleable__content pre {\n",
       "  margin: 0.2em;\n",
       "  border-radius: 0.25em;\n",
       "  color: var(--sklearn-color-text);\n",
       "  /* unfitted */\n",
       "  background-color: var(--sklearn-color-unfitted-level-0);\n",
       "}\n",
       "\n",
       "#sk-container-id-3 div.sk-toggleable__content.fitted pre {\n",
       "  /* unfitted */\n",
       "  background-color: var(--sklearn-color-fitted-level-0);\n",
       "}\n",
       "\n",
       "#sk-container-id-3 input.sk-toggleable__control:checked~div.sk-toggleable__content {\n",
       "  /* Expand drop-down */\n",
       "  max-height: 200px;\n",
       "  max-width: 100%;\n",
       "  overflow: auto;\n",
       "}\n",
       "\n",
       "#sk-container-id-3 input.sk-toggleable__control:checked~label.sk-toggleable__label-arrow:before {\n",
       "  content: \"▾\";\n",
       "}\n",
       "\n",
       "/* Pipeline/ColumnTransformer-specific style */\n",
       "\n",
       "#sk-container-id-3 div.sk-label input.sk-toggleable__control:checked~label.sk-toggleable__label {\n",
       "  color: var(--sklearn-color-text);\n",
       "  background-color: var(--sklearn-color-unfitted-level-2);\n",
       "}\n",
       "\n",
       "#sk-container-id-3 div.sk-label.fitted input.sk-toggleable__control:checked~label.sk-toggleable__label {\n",
       "  background-color: var(--sklearn-color-fitted-level-2);\n",
       "}\n",
       "\n",
       "/* Estimator-specific style */\n",
       "\n",
       "/* Colorize estimator box */\n",
       "#sk-container-id-3 div.sk-estimator input.sk-toggleable__control:checked~label.sk-toggleable__label {\n",
       "  /* unfitted */\n",
       "  background-color: var(--sklearn-color-unfitted-level-2);\n",
       "}\n",
       "\n",
       "#sk-container-id-3 div.sk-estimator.fitted input.sk-toggleable__control:checked~label.sk-toggleable__label {\n",
       "  /* fitted */\n",
       "  background-color: var(--sklearn-color-fitted-level-2);\n",
       "}\n",
       "\n",
       "#sk-container-id-3 div.sk-label label.sk-toggleable__label,\n",
       "#sk-container-id-3 div.sk-label label {\n",
       "  /* The background is the default theme color */\n",
       "  color: var(--sklearn-color-text-on-default-background);\n",
       "}\n",
       "\n",
       "/* On hover, darken the color of the background */\n",
       "#sk-container-id-3 div.sk-label:hover label.sk-toggleable__label {\n",
       "  color: var(--sklearn-color-text);\n",
       "  background-color: var(--sklearn-color-unfitted-level-2);\n",
       "}\n",
       "\n",
       "/* Label box, darken color on hover, fitted */\n",
       "#sk-container-id-3 div.sk-label.fitted:hover label.sk-toggleable__label.fitted {\n",
       "  color: var(--sklearn-color-text);\n",
       "  background-color: var(--sklearn-color-fitted-level-2);\n",
       "}\n",
       "\n",
       "/* Estimator label */\n",
       "\n",
       "#sk-container-id-3 div.sk-label label {\n",
       "  font-family: monospace;\n",
       "  font-weight: bold;\n",
       "  display: inline-block;\n",
       "  line-height: 1.2em;\n",
       "}\n",
       "\n",
       "#sk-container-id-3 div.sk-label-container {\n",
       "  text-align: center;\n",
       "}\n",
       "\n",
       "/* Estimator-specific */\n",
       "#sk-container-id-3 div.sk-estimator {\n",
       "  font-family: monospace;\n",
       "  border: 1px dotted var(--sklearn-color-border-box);\n",
       "  border-radius: 0.25em;\n",
       "  box-sizing: border-box;\n",
       "  margin-bottom: 0.5em;\n",
       "  /* unfitted */\n",
       "  background-color: var(--sklearn-color-unfitted-level-0);\n",
       "}\n",
       "\n",
       "#sk-container-id-3 div.sk-estimator.fitted {\n",
       "  /* fitted */\n",
       "  background-color: var(--sklearn-color-fitted-level-0);\n",
       "}\n",
       "\n",
       "/* on hover */\n",
       "#sk-container-id-3 div.sk-estimator:hover {\n",
       "  /* unfitted */\n",
       "  background-color: var(--sklearn-color-unfitted-level-2);\n",
       "}\n",
       "\n",
       "#sk-container-id-3 div.sk-estimator.fitted:hover {\n",
       "  /* fitted */\n",
       "  background-color: var(--sklearn-color-fitted-level-2);\n",
       "}\n",
       "\n",
       "/* Specification for estimator info (e.g. \"i\" and \"?\") */\n",
       "\n",
       "/* Common style for \"i\" and \"?\" */\n",
       "\n",
       ".sk-estimator-doc-link,\n",
       "a:link.sk-estimator-doc-link,\n",
       "a:visited.sk-estimator-doc-link {\n",
       "  float: right;\n",
       "  font-size: smaller;\n",
       "  line-height: 1em;\n",
       "  font-family: monospace;\n",
       "  background-color: var(--sklearn-color-background);\n",
       "  border-radius: 1em;\n",
       "  height: 1em;\n",
       "  width: 1em;\n",
       "  text-decoration: none !important;\n",
       "  margin-left: 1ex;\n",
       "  /* unfitted */\n",
       "  border: var(--sklearn-color-unfitted-level-1) 1pt solid;\n",
       "  color: var(--sklearn-color-unfitted-level-1);\n",
       "}\n",
       "\n",
       ".sk-estimator-doc-link.fitted,\n",
       "a:link.sk-estimator-doc-link.fitted,\n",
       "a:visited.sk-estimator-doc-link.fitted {\n",
       "  /* fitted */\n",
       "  border: var(--sklearn-color-fitted-level-1) 1pt solid;\n",
       "  color: var(--sklearn-color-fitted-level-1);\n",
       "}\n",
       "\n",
       "/* On hover */\n",
       "div.sk-estimator:hover .sk-estimator-doc-link:hover,\n",
       ".sk-estimator-doc-link:hover,\n",
       "div.sk-label-container:hover .sk-estimator-doc-link:hover,\n",
       ".sk-estimator-doc-link:hover {\n",
       "  /* unfitted */\n",
       "  background-color: var(--sklearn-color-unfitted-level-3);\n",
       "  color: var(--sklearn-color-background);\n",
       "  text-decoration: none;\n",
       "}\n",
       "\n",
       "div.sk-estimator.fitted:hover .sk-estimator-doc-link.fitted:hover,\n",
       ".sk-estimator-doc-link.fitted:hover,\n",
       "div.sk-label-container:hover .sk-estimator-doc-link.fitted:hover,\n",
       ".sk-estimator-doc-link.fitted:hover {\n",
       "  /* fitted */\n",
       "  background-color: var(--sklearn-color-fitted-level-3);\n",
       "  color: var(--sklearn-color-background);\n",
       "  text-decoration: none;\n",
       "}\n",
       "\n",
       "/* Span, style for the box shown on hovering the info icon */\n",
       ".sk-estimator-doc-link span {\n",
       "  display: none;\n",
       "  z-index: 9999;\n",
       "  position: relative;\n",
       "  font-weight: normal;\n",
       "  right: .2ex;\n",
       "  padding: .5ex;\n",
       "  margin: .5ex;\n",
       "  width: min-content;\n",
       "  min-width: 20ex;\n",
       "  max-width: 50ex;\n",
       "  color: var(--sklearn-color-text);\n",
       "  box-shadow: 2pt 2pt 4pt #999;\n",
       "  /* unfitted */\n",
       "  background: var(--sklearn-color-unfitted-level-0);\n",
       "  border: .5pt solid var(--sklearn-color-unfitted-level-3);\n",
       "}\n",
       "\n",
       ".sk-estimator-doc-link.fitted span {\n",
       "  /* fitted */\n",
       "  background: var(--sklearn-color-fitted-level-0);\n",
       "  border: var(--sklearn-color-fitted-level-3);\n",
       "}\n",
       "\n",
       ".sk-estimator-doc-link:hover span {\n",
       "  display: block;\n",
       "}\n",
       "\n",
       "/* \"?\"-specific style due to the `<a>` HTML tag */\n",
       "\n",
       "#sk-container-id-3 a.estimator_doc_link {\n",
       "  float: right;\n",
       "  font-size: 1rem;\n",
       "  line-height: 1em;\n",
       "  font-family: monospace;\n",
       "  background-color: var(--sklearn-color-background);\n",
       "  border-radius: 1rem;\n",
       "  height: 1rem;\n",
       "  width: 1rem;\n",
       "  text-decoration: none;\n",
       "  /* unfitted */\n",
       "  color: var(--sklearn-color-unfitted-level-1);\n",
       "  border: var(--sklearn-color-unfitted-level-1) 1pt solid;\n",
       "}\n",
       "\n",
       "#sk-container-id-3 a.estimator_doc_link.fitted {\n",
       "  /* fitted */\n",
       "  border: var(--sklearn-color-fitted-level-1) 1pt solid;\n",
       "  color: var(--sklearn-color-fitted-level-1);\n",
       "}\n",
       "\n",
       "/* On hover */\n",
       "#sk-container-id-3 a.estimator_doc_link:hover {\n",
       "  /* unfitted */\n",
       "  background-color: var(--sklearn-color-unfitted-level-3);\n",
       "  color: var(--sklearn-color-background);\n",
       "  text-decoration: none;\n",
       "}\n",
       "\n",
       "#sk-container-id-3 a.estimator_doc_link.fitted:hover {\n",
       "  /* fitted */\n",
       "  background-color: var(--sklearn-color-fitted-level-3);\n",
       "}\n",
       "</style><div id=\"sk-container-id-3\" class=\"sk-top-container\"><div class=\"sk-text-repr-fallback\"><pre>SVR(C=8.89, epsilon=0.89, kernel=&#x27;linear&#x27;)</pre><b>In a Jupyter environment, please rerun this cell to show the HTML representation or trust the notebook. <br />On GitHub, the HTML representation is unable to render, please try loading this page with nbviewer.org.</b></div><div class=\"sk-container\" hidden><div class=\"sk-item\"><div class=\"sk-estimator fitted sk-toggleable\"><input class=\"sk-toggleable__control sk-hidden--visually\" id=\"sk-estimator-id-5\" type=\"checkbox\" checked><label for=\"sk-estimator-id-5\" class=\"sk-toggleable__label fitted sk-toggleable__label-arrow fitted\">&nbsp;&nbsp;SVR<a class=\"sk-estimator-doc-link fitted\" rel=\"noreferrer\" target=\"_blank\" href=\"https://scikit-learn.org/1.4/modules/generated/sklearn.svm.SVR.html\">?<span>Documentation for SVR</span></a><span class=\"sk-estimator-doc-link fitted\">i<span>Fitted</span></span></label><div class=\"sk-toggleable__content fitted\"><pre>SVR(C=8.89, epsilon=0.89, kernel=&#x27;linear&#x27;)</pre></div> </div></div></div></div>"
      ],
      "text/plain": [
       "SVR(C=8.89, epsilon=0.89, kernel='linear')"
      ]
     },
     "execution_count": 98,
     "metadata": {},
     "output_type": "execute_result"
    }
   ],
   "source": [
    "gscv.best_estimator_"
   ]
  },
  {
   "cell_type": "code",
   "execution_count": 112,
   "id": "4d7ead1e-7f25-4a9a-81ff-b84c660d6cc7",
   "metadata": {},
   "outputs": [
    {
     "name": "stdout",
     "output_type": "stream",
     "text": [
      "Fitting 5 folds for each of 100 candidates, totalling 500 fits\n",
      "[CV] END ......C=2.23, epsilon=0.45, gamma=auto, kernel=poly; total time=   0.0s\n",
      "[CV] END ......C=2.23, epsilon=0.45, gamma=auto, kernel=poly; total time=   0.0s\n",
      "[CV] END ......C=2.23, epsilon=0.45, gamma=auto, kernel=poly; total time=   0.0s\n",
      "[CV] END ......C=2.23, epsilon=0.45, gamma=auto, kernel=poly; total time=   0.0s\n",
      "[CV] END ......C=2.23, epsilon=0.45, gamma=auto, kernel=poly; total time=   0.0s\n",
      "[CV] END ...C=6.67, epsilon=0.45, gamma=scale, kernel=linear; total time=   0.0s\n",
      "[CV] END ...C=6.67, epsilon=0.45, gamma=scale, kernel=linear; total time=   0.0s\n",
      "[CV] END ...C=6.67, epsilon=0.45, gamma=scale, kernel=linear; total time=   0.0s\n",
      "[CV] END ...C=6.67, epsilon=0.45, gamma=scale, kernel=linear; total time=   0.0s\n",
      "[CV] END ...C=6.67, epsilon=0.45, gamma=scale, kernel=linear; total time=   0.0s\n",
      "[CV] END ...C=1.12, epsilon=0.01, gamma=auto, kernel=sigmoid; total time=   0.0s\n",
      "[CV] END ...C=1.12, epsilon=0.01, gamma=auto, kernel=sigmoid; total time=   0.0s\n",
      "[CV] END ...C=1.12, epsilon=0.01, gamma=auto, kernel=sigmoid; total time=   0.0s\n",
      "[CV] END ...C=1.12, epsilon=0.01, gamma=auto, kernel=sigmoid; total time=   0.0s\n",
      "[CV] END ...C=1.12, epsilon=0.01, gamma=auto, kernel=sigmoid; total time=   0.0s\n",
      "[CV] END .......C=8.89, epsilon=0.56, gamma=auto, kernel=rbf; total time=   0.0s\n",
      "[CV] END .......C=8.89, epsilon=0.56, gamma=auto, kernel=rbf; total time=   0.0s\n",
      "[CV] END .......C=8.89, epsilon=0.56, gamma=auto, kernel=rbf; total time=   0.0s\n",
      "[CV] END .......C=8.89, epsilon=0.56, gamma=auto, kernel=rbf; total time=   0.0s\n",
      "[CV] END .......C=8.89, epsilon=0.56, gamma=auto, kernel=rbf; total time=   0.0s\n",
      "[CV] END ..C=0.01, epsilon=0.01, gamma=scale, kernel=sigmoid; total time=   0.0s\n",
      "[CV] END ..C=0.01, epsilon=0.01, gamma=scale, kernel=sigmoid; total time=   0.0s\n",
      "[CV] END ..C=0.01, epsilon=0.01, gamma=scale, kernel=sigmoid; total time=   0.0s\n",
      "[CV] END ..C=0.01, epsilon=0.01, gamma=scale, kernel=sigmoid; total time=   0.0s\n",
      "[CV] END ..C=0.01, epsilon=0.01, gamma=scale, kernel=sigmoid; total time=   0.0s\n",
      "[CV] END .....C=8.89, epsilon=0.34, gamma=scale, kernel=poly; total time=   0.0s\n",
      "[CV] END .....C=8.89, epsilon=0.34, gamma=scale, kernel=poly; total time=   0.0s\n",
      "[CV] END .....C=8.89, epsilon=0.34, gamma=scale, kernel=poly; total time=   0.0s\n",
      "[CV] END .....C=8.89, epsilon=0.34, gamma=scale, kernel=poly; total time=   0.0s\n",
      "[CV] END .....C=8.89, epsilon=0.34, gamma=scale, kernel=poly; total time=   0.0s\n",
      "[CV] END .....C=2.23, epsilon=0.01, gamma=scale, kernel=poly; total time=   0.0s\n",
      "[CV] END .....C=2.23, epsilon=0.01, gamma=scale, kernel=poly; total time=   0.0s\n",
      "[CV] END .....C=2.23, epsilon=0.01, gamma=scale, kernel=poly; total time=   0.0s\n",
      "[CV] END .....C=2.23, epsilon=0.01, gamma=scale, kernel=poly; total time=   0.0s\n",
      "[CV] END .....C=2.23, epsilon=0.01, gamma=scale, kernel=poly; total time=   0.0s\n",
      "[CV] END ...C=7.78, epsilon=0.45, gamma=auto, kernel=sigmoid; total time=   0.0s\n",
      "[CV] END ...C=7.78, epsilon=0.45, gamma=auto, kernel=sigmoid; total time=   0.0s\n",
      "[CV] END ...C=7.78, epsilon=0.45, gamma=auto, kernel=sigmoid; total time=   0.0s\n",
      "[CV] END ...C=7.78, epsilon=0.45, gamma=auto, kernel=sigmoid; total time=   0.0s\n",
      "[CV] END ...C=7.78, epsilon=0.45, gamma=auto, kernel=sigmoid; total time=   0.0s\n",
      "[CV] END ......C=10.0, epsilon=0.34, gamma=scale, kernel=rbf; total time=   0.0s\n",
      "[CV] END ......C=10.0, epsilon=0.34, gamma=scale, kernel=rbf; total time=   0.0s\n",
      "[CV] END ......C=10.0, epsilon=0.34, gamma=scale, kernel=rbf; total time=   0.0s\n",
      "[CV] END ......C=10.0, epsilon=0.34, gamma=scale, kernel=rbf; total time=   0.0s\n",
      "[CV] END ......C=10.0, epsilon=0.34, gamma=scale, kernel=rbf; total time=   0.0s\n",
      "[CV] END ..C=6.67, epsilon=0.12, gamma=scale, kernel=sigmoid; total time=   0.0s\n",
      "[CV] END ..C=6.67, epsilon=0.12, gamma=scale, kernel=sigmoid; total time=   0.0s\n",
      "[CV] END ..C=6.67, epsilon=0.12, gamma=scale, kernel=sigmoid; total time=   0.0s\n",
      "[CV] END ..C=6.67, epsilon=0.12, gamma=scale, kernel=sigmoid; total time=   0.0s\n",
      "[CV] END ..C=6.67, epsilon=0.12, gamma=scale, kernel=sigmoid; total time=   0.0s\n",
      "[CV] END .......C=7.78, epsilon=0.56, gamma=auto, kernel=rbf; total time=   0.0s\n",
      "[CV] END .......C=7.78, epsilon=0.56, gamma=auto, kernel=rbf; total time=   0.0s\n",
      "[CV] END .......C=7.78, epsilon=0.56, gamma=auto, kernel=rbf; total time=   0.0s\n",
      "[CV] END .......C=7.78, epsilon=0.56, gamma=auto, kernel=rbf; total time=   0.0s\n",
      "[CV] END .......C=7.78, epsilon=0.56, gamma=auto, kernel=rbf; total time=   0.0s\n",
      "[CV] END ......C=7.78, epsilon=0.12, gamma=scale, kernel=rbf; total time=   0.0s\n",
      "[CV] END ......C=7.78, epsilon=0.12, gamma=scale, kernel=rbf; total time=   0.0s\n",
      "[CV] END ......C=7.78, epsilon=0.12, gamma=scale, kernel=rbf; total time=   0.0s\n",
      "[CV] END ......C=7.78, epsilon=0.12, gamma=scale, kernel=rbf; total time=   0.0s\n",
      "[CV] END ......C=7.78, epsilon=0.12, gamma=scale, kernel=rbf; total time=   0.0s\n",
      "[CV] END ...C=2.23, epsilon=0.12, gamma=scale, kernel=linear; total time=   0.0s\n",
      "[CV] END ...C=2.23, epsilon=0.12, gamma=scale, kernel=linear; total time=   0.0s\n",
      "[CV] END ...C=2.23, epsilon=0.12, gamma=scale, kernel=linear; total time=   0.0s\n",
      "[CV] END ...C=2.23, epsilon=0.12, gamma=scale, kernel=linear; total time=   0.0s\n",
      "[CV] END ...C=2.23, epsilon=0.12, gamma=scale, kernel=linear; total time=   0.0s\n",
      "[CV] END ....C=10.0, epsilon=0.01, gamma=auto, kernel=linear; total time=   0.0s\n",
      "[CV] END ....C=10.0, epsilon=0.01, gamma=auto, kernel=linear; total time=   0.0s\n",
      "[CV] END ....C=10.0, epsilon=0.01, gamma=auto, kernel=linear; total time=   0.0s\n",
      "[CV] END ....C=10.0, epsilon=0.01, gamma=auto, kernel=linear; total time=   0.0s\n",
      "[CV] END ....C=10.0, epsilon=0.01, gamma=auto, kernel=linear; total time=   0.0s\n",
      "[CV] END ......C=4.45, epsilon=0.12, gamma=auto, kernel=poly; total time=   0.0s\n",
      "[CV] END ......C=4.45, epsilon=0.12, gamma=auto, kernel=poly; total time=   0.0s\n",
      "[CV] END ......C=4.45, epsilon=0.12, gamma=auto, kernel=poly; total time=   0.0s\n",
      "[CV] END ......C=4.45, epsilon=0.12, gamma=auto, kernel=poly; total time=   0.0s\n",
      "[CV] END ......C=4.45, epsilon=0.12, gamma=auto, kernel=poly; total time=   0.0s\n",
      "[CV] END ....C=0.01, epsilon=0.34, gamma=auto, kernel=linear; total time=   0.0s\n",
      "[CV] END ....C=0.01, epsilon=0.34, gamma=auto, kernel=linear; total time=   0.0s\n",
      "[CV] END ....C=0.01, epsilon=0.34, gamma=auto, kernel=linear; total time=   0.0s\n",
      "[CV] END ....C=0.01, epsilon=0.34, gamma=auto, kernel=linear; total time=   0.0s\n",
      "[CV] END ....C=0.01, epsilon=0.34, gamma=auto, kernel=linear; total time=   0.0s\n",
      "[CV] END ..C=8.89, epsilon=0.23, gamma=scale, kernel=sigmoid; total time=   0.0s\n",
      "[CV] END ..C=8.89, epsilon=0.23, gamma=scale, kernel=sigmoid; total time=   0.0s\n",
      "[CV] END ..C=8.89, epsilon=0.23, gamma=scale, kernel=sigmoid; total time=   0.0s\n",
      "[CV] END ..C=8.89, epsilon=0.23, gamma=scale, kernel=sigmoid; total time=   0.0s\n",
      "[CV] END ..C=8.89, epsilon=0.23, gamma=scale, kernel=sigmoid; total time=   0.0s\n",
      "[CV] END .......C=10.0, epsilon=0.12, gamma=auto, kernel=rbf; total time=   0.0s\n",
      "[CV] END .......C=10.0, epsilon=0.12, gamma=auto, kernel=rbf; total time=   0.0s\n",
      "[CV] END .......C=10.0, epsilon=0.12, gamma=auto, kernel=rbf; total time=   0.0s\n",
      "[CV] END .......C=10.0, epsilon=0.12, gamma=auto, kernel=rbf; total time=   0.0s\n",
      "[CV] END .......C=10.0, epsilon=0.12, gamma=auto, kernel=rbf; total time=   0.0s\n",
      "[CV] END ...C=1.12, epsilon=0.56, gamma=scale, kernel=linear; total time=   0.0s\n",
      "[CV] END ...C=1.12, epsilon=0.56, gamma=scale, kernel=linear; total time=   0.0s\n",
      "[CV] END ...C=1.12, epsilon=0.56, gamma=scale, kernel=linear; total time=   0.0s\n",
      "[CV] END ...C=1.12, epsilon=0.56, gamma=scale, kernel=linear; total time=   0.0s\n",
      "[CV] END ...C=1.12, epsilon=0.56, gamma=scale, kernel=linear; total time=   0.0s\n",
      "[CV] END .....C=0.01, epsilon=1.0, gamma=auto, kernel=linear; total time=   0.0s\n",
      "[CV] END .....C=0.01, epsilon=1.0, gamma=auto, kernel=linear; total time=   0.0s\n",
      "[CV] END .....C=0.01, epsilon=1.0, gamma=auto, kernel=linear; total time=   0.0s\n",
      "[CV] END .....C=0.01, epsilon=1.0, gamma=auto, kernel=linear; total time=   0.0s\n",
      "[CV] END .....C=0.01, epsilon=1.0, gamma=auto, kernel=linear; total time=   0.0s\n",
      "[CV] END ...C=8.89, epsilon=0.45, gamma=auto, kernel=sigmoid; total time=   0.0s\n",
      "[CV] END ...C=8.89, epsilon=0.45, gamma=auto, kernel=sigmoid; total time=   0.0s\n",
      "[CV] END ...C=8.89, epsilon=0.45, gamma=auto, kernel=sigmoid; total time=   0.0s\n",
      "[CV] END ...C=8.89, epsilon=0.45, gamma=auto, kernel=sigmoid; total time=   0.0s\n",
      "[CV] END ...C=8.89, epsilon=0.45, gamma=auto, kernel=sigmoid; total time=   0.0s\n",
      "[CV] END ......C=8.89, epsilon=0.01, gamma=scale, kernel=rbf; total time=   0.0s\n",
      "[CV] END ......C=8.89, epsilon=0.01, gamma=scale, kernel=rbf; total time=   0.0s\n",
      "[CV] END ......C=8.89, epsilon=0.01, gamma=scale, kernel=rbf; total time=   0.0s\n",
      "[CV] END ......C=8.89, epsilon=0.01, gamma=scale, kernel=rbf; total time=   0.0s\n",
      "[CV] END ......C=8.89, epsilon=0.01, gamma=scale, kernel=rbf; total time=   0.0s\n",
      "[CV] END ......C=6.67, epsilon=0.12, gamma=auto, kernel=poly; total time=   0.0s\n",
      "[CV] END ......C=6.67, epsilon=0.12, gamma=auto, kernel=poly; total time=   0.0s\n",
      "[CV] END ......C=6.67, epsilon=0.12, gamma=auto, kernel=poly; total time=   0.0s\n",
      "[CV] END ......C=6.67, epsilon=0.12, gamma=auto, kernel=poly; total time=   0.0s\n",
      "[CV] END ......C=6.67, epsilon=0.12, gamma=auto, kernel=poly; total time=   0.0s\n",
      "[CV] END ..C=6.67, epsilon=0.67, gamma=scale, kernel=sigmoid; total time=   0.0s\n",
      "[CV] END ..C=6.67, epsilon=0.67, gamma=scale, kernel=sigmoid; total time=   0.0s\n",
      "[CV] END ..C=6.67, epsilon=0.67, gamma=scale, kernel=sigmoid; total time=   0.0s\n",
      "[CV] END ..C=6.67, epsilon=0.67, gamma=scale, kernel=sigmoid; total time=   0.0s\n",
      "[CV] END ..C=6.67, epsilon=0.67, gamma=scale, kernel=sigmoid; total time=   0.0s\n",
      "[CV] END ......C=0.01, epsilon=0.01, gamma=auto, kernel=poly; total time=   0.0s\n",
      "[CV] END ......C=0.01, epsilon=0.01, gamma=auto, kernel=poly; total time=   0.0s\n",
      "[CV] END ......C=0.01, epsilon=0.01, gamma=auto, kernel=poly; total time=   0.0s\n",
      "[CV] END ......C=0.01, epsilon=0.01, gamma=auto, kernel=poly; total time=   0.0s\n",
      "[CV] END ......C=0.01, epsilon=0.01, gamma=auto, kernel=poly; total time=   0.0s\n",
      "[CV] END ..C=0.01, epsilon=0.78, gamma=scale, kernel=sigmoid; total time=   0.0s\n",
      "[CV] END ..C=0.01, epsilon=0.78, gamma=scale, kernel=sigmoid; total time=   0.0s\n",
      "[CV] END ..C=0.01, epsilon=0.78, gamma=scale, kernel=sigmoid; total time=   0.0s\n",
      "[CV] END ..C=0.01, epsilon=0.78, gamma=scale, kernel=sigmoid; total time=   0.0s\n",
      "[CV] END ..C=0.01, epsilon=0.78, gamma=scale, kernel=sigmoid; total time=   0.0s\n",
      "[CV] END ......C=4.45, epsilon=0.01, gamma=auto, kernel=poly; total time=   0.0s\n",
      "[CV] END ......C=4.45, epsilon=0.01, gamma=auto, kernel=poly; total time=   0.0s\n",
      "[CV] END ......C=4.45, epsilon=0.01, gamma=auto, kernel=poly; total time=   0.0s\n",
      "[CV] END ......C=4.45, epsilon=0.01, gamma=auto, kernel=poly; total time=   0.0s\n",
      "[CV] END ......C=4.45, epsilon=0.01, gamma=auto, kernel=poly; total time=   0.0s\n",
      "[CV] END ....C=7.78, epsilon=0.89, gamma=auto, kernel=linear; total time=   0.0s\n",
      "[CV] END ....C=7.78, epsilon=0.89, gamma=auto, kernel=linear; total time=   0.0s\n",
      "[CV] END ....C=7.78, epsilon=0.89, gamma=auto, kernel=linear; total time=   0.0s\n",
      "[CV] END ....C=7.78, epsilon=0.89, gamma=auto, kernel=linear; total time=   0.0s\n",
      "[CV] END ....C=7.78, epsilon=0.89, gamma=auto, kernel=linear; total time=   0.0s\n",
      "[CV] END ......C=1.12, epsilon=0.34, gamma=scale, kernel=rbf; total time=   0.0s\n",
      "[CV] END ......C=1.12, epsilon=0.34, gamma=scale, kernel=rbf; total time=   0.0s\n",
      "[CV] END ......C=1.12, epsilon=0.34, gamma=scale, kernel=rbf; total time=   0.0s\n",
      "[CV] END ......C=1.12, epsilon=0.34, gamma=scale, kernel=rbf; total time=   0.0s\n",
      "[CV] END ......C=1.12, epsilon=0.34, gamma=scale, kernel=rbf; total time=   0.0s\n",
      "[CV] END ......C=10.0, epsilon=0.01, gamma=scale, kernel=rbf; total time=   0.0s\n",
      "[CV] END ......C=10.0, epsilon=0.01, gamma=scale, kernel=rbf; total time=   0.0s\n",
      "[CV] END ......C=10.0, epsilon=0.01, gamma=scale, kernel=rbf; total time=   0.0s\n",
      "[CV] END ......C=10.0, epsilon=0.01, gamma=scale, kernel=rbf; total time=   0.0s\n",
      "[CV] END ......C=10.0, epsilon=0.01, gamma=scale, kernel=rbf; total time=   0.0s\n",
      "[CV] END C=5.5600000000000005, epsilon=0.45, gamma=auto, kernel=linear; total time=   0.0s\n",
      "[CV] END C=5.5600000000000005, epsilon=0.45, gamma=auto, kernel=linear; total time=   0.0s\n",
      "[CV] END C=5.5600000000000005, epsilon=0.45, gamma=auto, kernel=linear; total time=   0.0s\n",
      "[CV] END C=5.5600000000000005, epsilon=0.45, gamma=auto, kernel=linear; total time=   0.0s\n",
      "[CV] END C=5.5600000000000005, epsilon=0.45, gamma=auto, kernel=linear; total time=   0.0s\n",
      "[CV] END ....C=2.23, epsilon=0.78, gamma=auto, kernel=linear; total time=   0.0s\n",
      "[CV] END ....C=2.23, epsilon=0.78, gamma=auto, kernel=linear; total time=   0.0s\n",
      "[CV] END ....C=2.23, epsilon=0.78, gamma=auto, kernel=linear; total time=   0.0s\n",
      "[CV] END ....C=2.23, epsilon=0.78, gamma=auto, kernel=linear; total time=   0.0s\n",
      "[CV] END ....C=2.23, epsilon=0.78, gamma=auto, kernel=linear; total time=   0.0s\n",
      "[CV] END ...C=4.45, epsilon=0.67, gamma=auto, kernel=sigmoid; total time=   0.0s\n",
      "[CV] END ...C=4.45, epsilon=0.67, gamma=auto, kernel=sigmoid; total time=   0.0s\n",
      "[CV] END ...C=4.45, epsilon=0.67, gamma=auto, kernel=sigmoid; total time=   0.0s\n",
      "[CV] END ...C=4.45, epsilon=0.67, gamma=auto, kernel=sigmoid; total time=   0.0s\n",
      "[CV] END ...C=4.45, epsilon=0.67, gamma=auto, kernel=sigmoid; total time=   0.0s\n",
      "[CV] END ....C=10.0, epsilon=1.0, gamma=auto, kernel=sigmoid; total time=   0.0s\n",
      "[CV] END ....C=10.0, epsilon=1.0, gamma=auto, kernel=sigmoid; total time=   0.0s\n",
      "[CV] END ....C=10.0, epsilon=1.0, gamma=auto, kernel=sigmoid; total time=   0.0s\n",
      "[CV] END ....C=10.0, epsilon=1.0, gamma=auto, kernel=sigmoid; total time=   0.0s\n",
      "[CV] END ....C=10.0, epsilon=1.0, gamma=auto, kernel=sigmoid; total time=   0.0s\n",
      "[CV] END ..C=10.0, epsilon=0.56, gamma=scale, kernel=sigmoid; total time=   0.0s\n",
      "[CV] END ..C=10.0, epsilon=0.56, gamma=scale, kernel=sigmoid; total time=   0.0s\n",
      "[CV] END ..C=10.0, epsilon=0.56, gamma=scale, kernel=sigmoid; total time=   0.0s\n",
      "[CV] END ..C=10.0, epsilon=0.56, gamma=scale, kernel=sigmoid; total time=   0.0s\n",
      "[CV] END ..C=10.0, epsilon=0.56, gamma=scale, kernel=sigmoid; total time=   0.0s\n",
      "[CV] END ....C=0.01, epsilon=1.0, gamma=auto, kernel=sigmoid; total time=   0.0s\n",
      "[CV] END ....C=0.01, epsilon=1.0, gamma=auto, kernel=sigmoid; total time=   0.0s\n",
      "[CV] END ....C=0.01, epsilon=1.0, gamma=auto, kernel=sigmoid; total time=   0.0s\n",
      "[CV] END ....C=0.01, epsilon=1.0, gamma=auto, kernel=sigmoid; total time=   0.0s\n",
      "[CV] END ....C=0.01, epsilon=1.0, gamma=auto, kernel=sigmoid; total time=   0.0s\n",
      "[CV] END ..C=0.01, epsilon=0.67, gamma=scale, kernel=sigmoid; total time=   0.0s\n",
      "[CV] END ..C=0.01, epsilon=0.67, gamma=scale, kernel=sigmoid; total time=   0.0s\n",
      "[CV] END ..C=0.01, epsilon=0.67, gamma=scale, kernel=sigmoid; total time=   0.0s\n",
      "[CV] END ..C=0.01, epsilon=0.67, gamma=scale, kernel=sigmoid; total time=   0.0s\n",
      "[CV] END ..C=0.01, epsilon=0.67, gamma=scale, kernel=sigmoid; total time=   0.0s\n",
      "[CV] END ..C=2.23, epsilon=0.89, gamma=scale, kernel=sigmoid; total time=   0.0s\n",
      "[CV] END ..C=2.23, epsilon=0.89, gamma=scale, kernel=sigmoid; total time=   0.0s\n",
      "[CV] END ..C=2.23, epsilon=0.89, gamma=scale, kernel=sigmoid; total time=   0.0s\n",
      "[CV] END ..C=2.23, epsilon=0.89, gamma=scale, kernel=sigmoid; total time=   0.0s\n",
      "[CV] END ..C=2.23, epsilon=0.89, gamma=scale, kernel=sigmoid; total time=   0.0s\n",
      "[CV] END .......C=3.34, epsilon=0.89, gamma=auto, kernel=rbf; total time=   0.0s\n",
      "[CV] END .......C=3.34, epsilon=0.89, gamma=auto, kernel=rbf; total time=   0.0s\n",
      "[CV] END .......C=3.34, epsilon=0.89, gamma=auto, kernel=rbf; total time=   0.0s\n",
      "[CV] END .......C=3.34, epsilon=0.89, gamma=auto, kernel=rbf; total time=   0.0s\n",
      "[CV] END .......C=3.34, epsilon=0.89, gamma=auto, kernel=rbf; total time=   0.0s\n",
      "[CV] END ...C=4.45, epsilon=0.34, gamma=auto, kernel=sigmoid; total time=   0.0s\n",
      "[CV] END ...C=4.45, epsilon=0.34, gamma=auto, kernel=sigmoid; total time=   0.0s\n",
      "[CV] END ...C=4.45, epsilon=0.34, gamma=auto, kernel=sigmoid; total time=   0.0s\n",
      "[CV] END ...C=4.45, epsilon=0.34, gamma=auto, kernel=sigmoid; total time=   0.0s\n",
      "[CV] END ...C=4.45, epsilon=0.34, gamma=auto, kernel=sigmoid; total time=   0.0s\n",
      "[CV] END ...C=0.01, epsilon=0.56, gamma=scale, kernel=linear; total time=   0.0s\n",
      "[CV] END ...C=0.01, epsilon=0.56, gamma=scale, kernel=linear; total time=   0.0s\n",
      "[CV] END ...C=0.01, epsilon=0.56, gamma=scale, kernel=linear; total time=   0.0s\n",
      "[CV] END ...C=0.01, epsilon=0.56, gamma=scale, kernel=linear; total time=   0.0s\n",
      "[CV] END ...C=0.01, epsilon=0.56, gamma=scale, kernel=linear; total time=   0.0s\n",
      "[CV] END .....C=6.67, epsilon=0.01, gamma=scale, kernel=poly; total time=   0.0s\n",
      "[CV] END .....C=6.67, epsilon=0.01, gamma=scale, kernel=poly; total time=   0.0s\n",
      "[CV] END .....C=6.67, epsilon=0.01, gamma=scale, kernel=poly; total time=   0.0s\n",
      "[CV] END .....C=6.67, epsilon=0.01, gamma=scale, kernel=poly; total time=   0.0s\n",
      "[CV] END .....C=6.67, epsilon=0.01, gamma=scale, kernel=poly; total time=   0.0s\n",
      "[CV] END ...C=1.12, epsilon=1.0, gamma=scale, kernel=sigmoid; total time=   0.0s\n",
      "[CV] END ...C=1.12, epsilon=1.0, gamma=scale, kernel=sigmoid; total time=   0.0s\n",
      "[CV] END ...C=1.12, epsilon=1.0, gamma=scale, kernel=sigmoid; total time=   0.0s\n",
      "[CV] END ...C=1.12, epsilon=1.0, gamma=scale, kernel=sigmoid; total time=   0.0s\n",
      "[CV] END ...C=1.12, epsilon=1.0, gamma=scale, kernel=sigmoid; total time=   0.0s\n",
      "[CV] END ....C=1.12, epsilon=1.0, gamma=auto, kernel=sigmoid; total time=   0.0s\n",
      "[CV] END ....C=1.12, epsilon=1.0, gamma=auto, kernel=sigmoid; total time=   0.0s\n",
      "[CV] END ....C=1.12, epsilon=1.0, gamma=auto, kernel=sigmoid; total time=   0.0s\n",
      "[CV] END ....C=1.12, epsilon=1.0, gamma=auto, kernel=sigmoid; total time=   0.0s\n",
      "[CV] END ....C=1.12, epsilon=1.0, gamma=auto, kernel=sigmoid; total time=   0.0s\n",
      "[CV] END ....C=1.12, epsilon=0.45, gamma=auto, kernel=linear; total time=   0.0s\n",
      "[CV] END ....C=1.12, epsilon=0.45, gamma=auto, kernel=linear; total time=   0.0s\n",
      "[CV] END ....C=1.12, epsilon=0.45, gamma=auto, kernel=linear; total time=   0.0s\n",
      "[CV] END ....C=1.12, epsilon=0.45, gamma=auto, kernel=linear; total time=   0.0s\n",
      "[CV] END ....C=1.12, epsilon=0.45, gamma=auto, kernel=linear; total time=   0.0s\n",
      "[CV] END ......C=7.78, epsilon=0.78, gamma=scale, kernel=rbf; total time=   0.0s\n",
      "[CV] END ......C=7.78, epsilon=0.78, gamma=scale, kernel=rbf; total time=   0.0s\n",
      "[CV] END ......C=7.78, epsilon=0.78, gamma=scale, kernel=rbf; total time=   0.0s\n",
      "[CV] END ......C=7.78, epsilon=0.78, gamma=scale, kernel=rbf; total time=   0.0s\n",
      "[CV] END ......C=7.78, epsilon=0.78, gamma=scale, kernel=rbf; total time=   0.0s\n",
      "[CV] END .......C=3.34, epsilon=0.23, gamma=auto, kernel=rbf; total time=   0.0s\n",
      "[CV] END .......C=3.34, epsilon=0.23, gamma=auto, kernel=rbf; total time=   0.0s\n",
      "[CV] END .......C=3.34, epsilon=0.23, gamma=auto, kernel=rbf; total time=   0.0s\n",
      "[CV] END .......C=3.34, epsilon=0.23, gamma=auto, kernel=rbf; total time=   0.0s\n",
      "[CV] END .......C=3.34, epsilon=0.23, gamma=auto, kernel=rbf; total time=   0.0s\n",
      "[CV] END .......C=6.67, epsilon=0.23, gamma=auto, kernel=rbf; total time=   0.0s\n",
      "[CV] END .......C=6.67, epsilon=0.23, gamma=auto, kernel=rbf; total time=   0.0s\n",
      "[CV] END .......C=6.67, epsilon=0.23, gamma=auto, kernel=rbf; total time=   0.0s\n",
      "[CV] END .......C=6.67, epsilon=0.23, gamma=auto, kernel=rbf; total time=   0.0s\n",
      "[CV] END .......C=6.67, epsilon=0.23, gamma=auto, kernel=rbf; total time=   0.0s\n",
      "[CV] END ........C=2.23, epsilon=1.0, gamma=auto, kernel=rbf; total time=   0.0s\n",
      "[CV] END ........C=2.23, epsilon=1.0, gamma=auto, kernel=rbf; total time=   0.0s\n",
      "[CV] END ........C=2.23, epsilon=1.0, gamma=auto, kernel=rbf; total time=   0.0s\n",
      "[CV] END ........C=2.23, epsilon=1.0, gamma=auto, kernel=rbf; total time=   0.0s\n",
      "[CV] END ........C=2.23, epsilon=1.0, gamma=auto, kernel=rbf; total time=   0.0s\n",
      "[CV] END C=5.5600000000000005, epsilon=0.67, gamma=scale, kernel=poly; total time=   0.0s\n",
      "[CV] END C=5.5600000000000005, epsilon=0.67, gamma=scale, kernel=poly; total time=   0.0s\n",
      "[CV] END C=5.5600000000000005, epsilon=0.67, gamma=scale, kernel=poly; total time=   0.0s\n",
      "[CV] END C=5.5600000000000005, epsilon=0.67, gamma=scale, kernel=poly; total time=   0.0s\n",
      "[CV] END C=5.5600000000000005, epsilon=0.67, gamma=scale, kernel=poly; total time=   0.0s\n",
      "[CV] END ...C=10.0, epsilon=0.23, gamma=auto, kernel=sigmoid; total time=   0.0s\n",
      "[CV] END ...C=10.0, epsilon=0.23, gamma=auto, kernel=sigmoid; total time=   0.0s\n",
      "[CV] END ...C=10.0, epsilon=0.23, gamma=auto, kernel=sigmoid; total time=   0.0s\n",
      "[CV] END ...C=10.0, epsilon=0.23, gamma=auto, kernel=sigmoid; total time=   0.0s\n",
      "[CV] END ...C=10.0, epsilon=0.23, gamma=auto, kernel=sigmoid; total time=   0.0s\n",
      "[CV] END .......C=8.89, epsilon=0.34, gamma=auto, kernel=rbf; total time=   0.0s\n",
      "[CV] END .......C=8.89, epsilon=0.34, gamma=auto, kernel=rbf; total time=   0.0s\n",
      "[CV] END .......C=8.89, epsilon=0.34, gamma=auto, kernel=rbf; total time=   0.0s\n",
      "[CV] END .......C=8.89, epsilon=0.34, gamma=auto, kernel=rbf; total time=   0.0s\n",
      "[CV] END .......C=8.89, epsilon=0.34, gamma=auto, kernel=rbf; total time=   0.0s\n",
      "[CV] END ...C=1.12, epsilon=0.78, gamma=scale, kernel=linear; total time=   0.0s\n",
      "[CV] END ...C=1.12, epsilon=0.78, gamma=scale, kernel=linear; total time=   0.0s\n",
      "[CV] END ...C=1.12, epsilon=0.78, gamma=scale, kernel=linear; total time=   0.0s\n",
      "[CV] END ...C=1.12, epsilon=0.78, gamma=scale, kernel=linear; total time=   0.0s\n",
      "[CV] END ...C=1.12, epsilon=0.78, gamma=scale, kernel=linear; total time=   0.0s\n",
      "[CV] END C=5.5600000000000005, epsilon=0.34, gamma=auto, kernel=linear; total time=   0.0s\n",
      "[CV] END C=5.5600000000000005, epsilon=0.34, gamma=auto, kernel=linear; total time=   0.0s\n",
      "[CV] END C=5.5600000000000005, epsilon=0.34, gamma=auto, kernel=linear; total time=   0.0s\n",
      "[CV] END C=5.5600000000000005, epsilon=0.34, gamma=auto, kernel=linear; total time=   0.0s\n",
      "[CV] END C=5.5600000000000005, epsilon=0.34, gamma=auto, kernel=linear; total time=   0.0s\n",
      "[CV] END .......C=7.78, epsilon=0.89, gamma=auto, kernel=rbf; total time=   0.0s\n",
      "[CV] END .......C=7.78, epsilon=0.89, gamma=auto, kernel=rbf; total time=   0.0s\n",
      "[CV] END .......C=7.78, epsilon=0.89, gamma=auto, kernel=rbf; total time=   0.0s\n",
      "[CV] END .......C=7.78, epsilon=0.89, gamma=auto, kernel=rbf; total time=   0.0s\n",
      "[CV] END .......C=7.78, epsilon=0.89, gamma=auto, kernel=rbf; total time=   0.0s\n",
      "[CV] END ..C=6.67, epsilon=0.56, gamma=scale, kernel=sigmoid; total time=   0.0s\n",
      "[CV] END ..C=6.67, epsilon=0.56, gamma=scale, kernel=sigmoid; total time=   0.0s\n",
      "[CV] END ..C=6.67, epsilon=0.56, gamma=scale, kernel=sigmoid; total time=   0.0s\n",
      "[CV] END ..C=6.67, epsilon=0.56, gamma=scale, kernel=sigmoid; total time=   0.0s\n",
      "[CV] END ..C=6.67, epsilon=0.56, gamma=scale, kernel=sigmoid; total time=   0.0s\n",
      "[CV] END ....C=10.0, epsilon=0.12, gamma=auto, kernel=linear; total time=   0.0s\n",
      "[CV] END ....C=10.0, epsilon=0.12, gamma=auto, kernel=linear; total time=   0.0s\n",
      "[CV] END ....C=10.0, epsilon=0.12, gamma=auto, kernel=linear; total time=   0.0s\n",
      "[CV] END ....C=10.0, epsilon=0.12, gamma=auto, kernel=linear; total time=   0.0s\n",
      "[CV] END ....C=10.0, epsilon=0.12, gamma=auto, kernel=linear; total time=   0.0s\n",
      "[CV] END ..C=6.67, epsilon=0.89, gamma=scale, kernel=sigmoid; total time=   0.0s\n",
      "[CV] END ..C=6.67, epsilon=0.89, gamma=scale, kernel=sigmoid; total time=   0.0s\n",
      "[CV] END ..C=6.67, epsilon=0.89, gamma=scale, kernel=sigmoid; total time=   0.0s\n",
      "[CV] END ..C=6.67, epsilon=0.89, gamma=scale, kernel=sigmoid; total time=   0.0s\n",
      "[CV] END ..C=6.67, epsilon=0.89, gamma=scale, kernel=sigmoid; total time=   0.0s\n",
      "[CV] END ....C=1.12, epsilon=0.23, gamma=auto, kernel=linear; total time=   0.0s\n",
      "[CV] END ....C=1.12, epsilon=0.23, gamma=auto, kernel=linear; total time=   0.0s\n",
      "[CV] END ....C=1.12, epsilon=0.23, gamma=auto, kernel=linear; total time=   0.0s\n",
      "[CV] END ....C=1.12, epsilon=0.23, gamma=auto, kernel=linear; total time=   0.0s\n",
      "[CV] END ....C=1.12, epsilon=0.23, gamma=auto, kernel=linear; total time=   0.0s\n",
      "[CV] END .......C=10.0, epsilon=0.56, gamma=auto, kernel=rbf; total time=   0.0s\n",
      "[CV] END .......C=10.0, epsilon=0.56, gamma=auto, kernel=rbf; total time=   0.0s\n",
      "[CV] END .......C=10.0, epsilon=0.56, gamma=auto, kernel=rbf; total time=   0.0s\n",
      "[CV] END .......C=10.0, epsilon=0.56, gamma=auto, kernel=rbf; total time=   0.0s\n",
      "[CV] END .......C=10.0, epsilon=0.56, gamma=auto, kernel=rbf; total time=   0.0s\n",
      "[CV] END C=5.5600000000000005, epsilon=0.78, gamma=scale, kernel=poly; total time=   0.0s\n",
      "[CV] END C=5.5600000000000005, epsilon=0.78, gamma=scale, kernel=poly; total time=   0.0s\n",
      "[CV] END C=5.5600000000000005, epsilon=0.78, gamma=scale, kernel=poly; total time=   0.0s\n",
      "[CV] END C=5.5600000000000005, epsilon=0.78, gamma=scale, kernel=poly; total time=   0.0s\n",
      "[CV] END C=5.5600000000000005, epsilon=0.78, gamma=scale, kernel=poly; total time=   0.0s\n",
      "[CV] END ..C=3.34, epsilon=0.45, gamma=scale, kernel=sigmoid; total time=   0.0s\n",
      "[CV] END ..C=3.34, epsilon=0.45, gamma=scale, kernel=sigmoid; total time=   0.0s\n",
      "[CV] END ..C=3.34, epsilon=0.45, gamma=scale, kernel=sigmoid; total time=   0.0s\n",
      "[CV] END ..C=3.34, epsilon=0.45, gamma=scale, kernel=sigmoid; total time=   0.0s\n",
      "[CV] END ..C=3.34, epsilon=0.45, gamma=scale, kernel=sigmoid; total time=   0.0s\n",
      "[CV] END .....C=8.89, epsilon=0.67, gamma=scale, kernel=poly; total time=   0.0s\n",
      "[CV] END .....C=8.89, epsilon=0.67, gamma=scale, kernel=poly; total time=   0.0s\n",
      "[CV] END .....C=8.89, epsilon=0.67, gamma=scale, kernel=poly; total time=   0.0s\n",
      "[CV] END .....C=8.89, epsilon=0.67, gamma=scale, kernel=poly; total time=   0.0s\n",
      "[CV] END .....C=8.89, epsilon=0.67, gamma=scale, kernel=poly; total time=   0.0s\n",
      "[CV] END C=5.5600000000000005, epsilon=0.23, gamma=scale, kernel=linear; total time=   0.0s\n",
      "[CV] END C=5.5600000000000005, epsilon=0.23, gamma=scale, kernel=linear; total time=   0.0s\n",
      "[CV] END C=5.5600000000000005, epsilon=0.23, gamma=scale, kernel=linear; total time=   0.0s\n",
      "[CV] END C=5.5600000000000005, epsilon=0.23, gamma=scale, kernel=linear; total time=   0.0s\n",
      "[CV] END C=5.5600000000000005, epsilon=0.23, gamma=scale, kernel=linear; total time=   0.0s\n",
      "[CV] END .......C=2.23, epsilon=0.45, gamma=auto, kernel=rbf; total time=   0.0s\n",
      "[CV] END .......C=2.23, epsilon=0.45, gamma=auto, kernel=rbf; total time=   0.0s\n",
      "[CV] END .......C=2.23, epsilon=0.45, gamma=auto, kernel=rbf; total time=   0.0s\n",
      "[CV] END .......C=2.23, epsilon=0.45, gamma=auto, kernel=rbf; total time=   0.0s\n",
      "[CV] END .......C=2.23, epsilon=0.45, gamma=auto, kernel=rbf; total time=   0.0s\n",
      "[CV] END ...C=3.34, epsilon=0.01, gamma=auto, kernel=sigmoid; total time=   0.0s\n",
      "[CV] END ...C=3.34, epsilon=0.01, gamma=auto, kernel=sigmoid; total time=   0.0s\n",
      "[CV] END ...C=3.34, epsilon=0.01, gamma=auto, kernel=sigmoid; total time=   0.0s\n",
      "[CV] END ...C=3.34, epsilon=0.01, gamma=auto, kernel=sigmoid; total time=   0.0s\n",
      "[CV] END ...C=3.34, epsilon=0.01, gamma=auto, kernel=sigmoid; total time=   0.0s\n",
      "[CV] END ..C=1.12, epsilon=0.78, gamma=scale, kernel=sigmoid; total time=   0.0s\n",
      "[CV] END ..C=1.12, epsilon=0.78, gamma=scale, kernel=sigmoid; total time=   0.0s\n",
      "[CV] END ..C=1.12, epsilon=0.78, gamma=scale, kernel=sigmoid; total time=   0.0s\n",
      "[CV] END ..C=1.12, epsilon=0.78, gamma=scale, kernel=sigmoid; total time=   0.0s\n",
      "[CV] END ..C=1.12, epsilon=0.78, gamma=scale, kernel=sigmoid; total time=   0.0s\n",
      "[CV] END ..C=4.45, epsilon=0.34, gamma=scale, kernel=sigmoid; total time=   0.0s\n",
      "[CV] END ..C=4.45, epsilon=0.34, gamma=scale, kernel=sigmoid; total time=   0.0s\n",
      "[CV] END ..C=4.45, epsilon=0.34, gamma=scale, kernel=sigmoid; total time=   0.0s\n",
      "[CV] END ..C=4.45, epsilon=0.34, gamma=scale, kernel=sigmoid; total time=   0.0s\n",
      "[CV] END ..C=4.45, epsilon=0.34, gamma=scale, kernel=sigmoid; total time=   0.0s\n",
      "[CV] END ....C=0.01, epsilon=0.78, gamma=auto, kernel=linear; total time=   0.0s\n",
      "[CV] END ....C=0.01, epsilon=0.78, gamma=auto, kernel=linear; total time=   0.0s\n",
      "[CV] END ....C=0.01, epsilon=0.78, gamma=auto, kernel=linear; total time=   0.0s\n",
      "[CV] END ....C=0.01, epsilon=0.78, gamma=auto, kernel=linear; total time=   0.0s\n",
      "[CV] END ....C=0.01, epsilon=0.78, gamma=auto, kernel=linear; total time=   0.0s\n",
      "[CV] END ..C=0.01, epsilon=0.12, gamma=scale, kernel=sigmoid; total time=   0.0s\n",
      "[CV] END ..C=0.01, epsilon=0.12, gamma=scale, kernel=sigmoid; total time=   0.0s\n",
      "[CV] END ..C=0.01, epsilon=0.12, gamma=scale, kernel=sigmoid; total time=   0.0s\n",
      "[CV] END ..C=0.01, epsilon=0.12, gamma=scale, kernel=sigmoid; total time=   0.0s\n",
      "[CV] END ..C=0.01, epsilon=0.12, gamma=scale, kernel=sigmoid; total time=   0.0s\n",
      "[CV] END ....C=2.23, epsilon=0.56, gamma=auto, kernel=linear; total time=   0.0s\n",
      "[CV] END ....C=2.23, epsilon=0.56, gamma=auto, kernel=linear; total time=   0.0s\n",
      "[CV] END ....C=2.23, epsilon=0.56, gamma=auto, kernel=linear; total time=   0.0s\n",
      "[CV] END ....C=2.23, epsilon=0.56, gamma=auto, kernel=linear; total time=   0.0s\n",
      "[CV] END ....C=2.23, epsilon=0.56, gamma=auto, kernel=linear; total time=   0.0s\n",
      "[CV] END C=5.5600000000000005, epsilon=0.12, gamma=scale, kernel=poly; total time=   0.0s\n",
      "[CV] END C=5.5600000000000005, epsilon=0.12, gamma=scale, kernel=poly; total time=   0.0s\n",
      "[CV] END C=5.5600000000000005, epsilon=0.12, gamma=scale, kernel=poly; total time=   0.0s\n",
      "[CV] END C=5.5600000000000005, epsilon=0.12, gamma=scale, kernel=poly; total time=   0.0s\n",
      "[CV] END C=5.5600000000000005, epsilon=0.12, gamma=scale, kernel=poly; total time=   0.0s\n",
      "[CV] END C=5.5600000000000005, epsilon=0.78, gamma=auto, kernel=poly; total time=   0.0s\n",
      "[CV] END C=5.5600000000000005, epsilon=0.78, gamma=auto, kernel=poly; total time=   0.0s\n",
      "[CV] END C=5.5600000000000005, epsilon=0.78, gamma=auto, kernel=poly; total time=   0.0s\n",
      "[CV] END C=5.5600000000000005, epsilon=0.78, gamma=auto, kernel=poly; total time=   0.0s\n",
      "[CV] END C=5.5600000000000005, epsilon=0.78, gamma=auto, kernel=poly; total time=   0.0s\n",
      "[CV] END ...C=6.67, epsilon=0.34, gamma=scale, kernel=linear; total time=   0.0s\n",
      "[CV] END ...C=6.67, epsilon=0.34, gamma=scale, kernel=linear; total time=   0.0s\n",
      "[CV] END ...C=6.67, epsilon=0.34, gamma=scale, kernel=linear; total time=   0.0s\n",
      "[CV] END ...C=6.67, epsilon=0.34, gamma=scale, kernel=linear; total time=   0.0s\n",
      "[CV] END ...C=6.67, epsilon=0.34, gamma=scale, kernel=linear; total time=   0.0s\n",
      "[CV] END .......C=3.34, epsilon=0.45, gamma=auto, kernel=rbf; total time=   0.0s\n",
      "[CV] END .......C=3.34, epsilon=0.45, gamma=auto, kernel=rbf; total time=   0.0s\n",
      "[CV] END .......C=3.34, epsilon=0.45, gamma=auto, kernel=rbf; total time=   0.0s\n",
      "[CV] END .......C=3.34, epsilon=0.45, gamma=auto, kernel=rbf; total time=   0.0s\n",
      "[CV] END .......C=3.34, epsilon=0.45, gamma=auto, kernel=rbf; total time=   0.0s\n",
      "[CV] END ...C=2.23, epsilon=0.01, gamma=auto, kernel=sigmoid; total time=   0.0s\n",
      "[CV] END ...C=2.23, epsilon=0.01, gamma=auto, kernel=sigmoid; total time=   0.0s\n",
      "[CV] END ...C=2.23, epsilon=0.01, gamma=auto, kernel=sigmoid; total time=   0.0s\n",
      "[CV] END ...C=2.23, epsilon=0.01, gamma=auto, kernel=sigmoid; total time=   0.0s\n",
      "[CV] END ...C=2.23, epsilon=0.01, gamma=auto, kernel=sigmoid; total time=   0.0s\n",
      "[CV] END .......C=6.67, epsilon=0.78, gamma=auto, kernel=rbf; total time=   0.0s\n",
      "[CV] END .......C=6.67, epsilon=0.78, gamma=auto, kernel=rbf; total time=   0.0s\n",
      "[CV] END .......C=6.67, epsilon=0.78, gamma=auto, kernel=rbf; total time=   0.0s\n",
      "[CV] END .......C=6.67, epsilon=0.78, gamma=auto, kernel=rbf; total time=   0.0s\n",
      "[CV] END .......C=6.67, epsilon=0.78, gamma=auto, kernel=rbf; total time=   0.0s\n",
      "[CV] END ......C=6.67, epsilon=0.89, gamma=auto, kernel=poly; total time=   0.0s\n",
      "[CV] END ......C=6.67, epsilon=0.89, gamma=auto, kernel=poly; total time=   0.0s\n",
      "[CV] END ......C=6.67, epsilon=0.89, gamma=auto, kernel=poly; total time=   0.0s\n",
      "[CV] END ......C=6.67, epsilon=0.89, gamma=auto, kernel=poly; total time=   0.0s\n",
      "[CV] END ......C=6.67, epsilon=0.89, gamma=auto, kernel=poly; total time=   0.0s\n",
      "[CV] END .....C=0.01, epsilon=0.23, gamma=scale, kernel=poly; total time=   0.0s\n",
      "[CV] END .....C=0.01, epsilon=0.23, gamma=scale, kernel=poly; total time=   0.0s\n",
      "[CV] END .....C=0.01, epsilon=0.23, gamma=scale, kernel=poly; total time=   0.0s\n",
      "[CV] END .....C=0.01, epsilon=0.23, gamma=scale, kernel=poly; total time=   0.0s\n",
      "[CV] END .....C=0.01, epsilon=0.23, gamma=scale, kernel=poly; total time=   0.0s\n",
      "[CV] END .......C=4.45, epsilon=0.45, gamma=auto, kernel=rbf; total time=   0.0s\n",
      "[CV] END .......C=4.45, epsilon=0.45, gamma=auto, kernel=rbf; total time=   0.0s\n",
      "[CV] END .......C=4.45, epsilon=0.45, gamma=auto, kernel=rbf; total time=   0.0s\n",
      "[CV] END .......C=4.45, epsilon=0.45, gamma=auto, kernel=rbf; total time=   0.0s\n",
      "[CV] END .......C=4.45, epsilon=0.45, gamma=auto, kernel=rbf; total time=   0.0s\n",
      "[CV] END ......C=2.23, epsilon=0.12, gamma=auto, kernel=poly; total time=   0.0s\n",
      "[CV] END ......C=2.23, epsilon=0.12, gamma=auto, kernel=poly; total time=   0.0s\n",
      "[CV] END ......C=2.23, epsilon=0.12, gamma=auto, kernel=poly; total time=   0.0s\n",
      "[CV] END ......C=2.23, epsilon=0.12, gamma=auto, kernel=poly; total time=   0.0s\n",
      "[CV] END ......C=2.23, epsilon=0.12, gamma=auto, kernel=poly; total time=   0.0s\n",
      "[CV] END ...C=4.45, epsilon=0.01, gamma=auto, kernel=sigmoid; total time=   0.0s\n",
      "[CV] END ...C=4.45, epsilon=0.01, gamma=auto, kernel=sigmoid; total time=   0.0s\n",
      "[CV] END ...C=4.45, epsilon=0.01, gamma=auto, kernel=sigmoid; total time=   0.0s\n",
      "[CV] END ...C=4.45, epsilon=0.01, gamma=auto, kernel=sigmoid; total time=   0.0s\n",
      "[CV] END ...C=4.45, epsilon=0.01, gamma=auto, kernel=sigmoid; total time=   0.0s\n",
      "[CV] END .....C=4.45, epsilon=0.23, gamma=scale, kernel=poly; total time=   0.0s\n",
      "[CV] END .....C=4.45, epsilon=0.23, gamma=scale, kernel=poly; total time=   0.0s\n",
      "[CV] END .....C=4.45, epsilon=0.23, gamma=scale, kernel=poly; total time=   0.0s\n",
      "[CV] END .....C=4.45, epsilon=0.23, gamma=scale, kernel=poly; total time=   0.0s\n",
      "[CV] END .....C=4.45, epsilon=0.23, gamma=scale, kernel=poly; total time=   0.0s\n",
      "[CV] END C=5.5600000000000005, epsilon=0.67, gamma=auto, kernel=poly; total time=   0.0s\n",
      "[CV] END C=5.5600000000000005, epsilon=0.67, gamma=auto, kernel=poly; total time=   0.0s\n",
      "[CV] END C=5.5600000000000005, epsilon=0.67, gamma=auto, kernel=poly; total time=   0.0s\n",
      "[CV] END C=5.5600000000000005, epsilon=0.67, gamma=auto, kernel=poly; total time=   0.0s\n",
      "[CV] END C=5.5600000000000005, epsilon=0.67, gamma=auto, kernel=poly; total time=   0.0s\n",
      "[CV] END ......C=0.01, epsilon=0.23, gamma=scale, kernel=rbf; total time=   0.0s\n",
      "[CV] END ......C=0.01, epsilon=0.23, gamma=scale, kernel=rbf; total time=   0.0s\n",
      "[CV] END ......C=0.01, epsilon=0.23, gamma=scale, kernel=rbf; total time=   0.0s\n",
      "[CV] END ......C=0.01, epsilon=0.23, gamma=scale, kernel=rbf; total time=   0.0s\n",
      "[CV] END ......C=0.01, epsilon=0.23, gamma=scale, kernel=rbf; total time=   0.0s\n",
      "[CV] END ....C=10.0, epsilon=0.67, gamma=auto, kernel=linear; total time=   0.0s\n",
      "[CV] END ....C=10.0, epsilon=0.67, gamma=auto, kernel=linear; total time=   0.0s\n",
      "[CV] END ....C=10.0, epsilon=0.67, gamma=auto, kernel=linear; total time=   0.0s\n",
      "[CV] END ....C=10.0, epsilon=0.67, gamma=auto, kernel=linear; total time=   0.0s\n",
      "[CV] END ....C=10.0, epsilon=0.67, gamma=auto, kernel=linear; total time=   0.0s\n",
      "[CV] END ....C=7.78, epsilon=0.45, gamma=auto, kernel=linear; total time=   0.0s\n",
      "[CV] END ....C=7.78, epsilon=0.45, gamma=auto, kernel=linear; total time=   0.0s\n",
      "[CV] END ....C=7.78, epsilon=0.45, gamma=auto, kernel=linear; total time=   0.0s\n",
      "[CV] END ....C=7.78, epsilon=0.45, gamma=auto, kernel=linear; total time=   0.0s\n",
      "[CV] END ....C=7.78, epsilon=0.45, gamma=auto, kernel=linear; total time=   0.0s\n",
      "[CV] END C=5.5600000000000005, epsilon=0.34, gamma=scale, kernel=linear; total time=   0.0s\n",
      "[CV] END C=5.5600000000000005, epsilon=0.34, gamma=scale, kernel=linear; total time=   0.0s\n",
      "[CV] END C=5.5600000000000005, epsilon=0.34, gamma=scale, kernel=linear; total time=   0.0s\n",
      "[CV] END C=5.5600000000000005, epsilon=0.34, gamma=scale, kernel=linear; total time=   0.0s\n",
      "[CV] END C=5.5600000000000005, epsilon=0.34, gamma=scale, kernel=linear; total time=   0.0s\n",
      "[CV] END ....C=0.01, epsilon=0.45, gamma=auto, kernel=linear; total time=   0.0s\n",
      "[CV] END ....C=0.01, epsilon=0.45, gamma=auto, kernel=linear; total time=   0.0s\n",
      "[CV] END ....C=0.01, epsilon=0.45, gamma=auto, kernel=linear; total time=   0.0s\n",
      "[CV] END ....C=0.01, epsilon=0.45, gamma=auto, kernel=linear; total time=   0.0s\n",
      "[CV] END ....C=0.01, epsilon=0.45, gamma=auto, kernel=linear; total time=   0.0s\n",
      "[CV] END ....C=3.34, epsilon=0.89, gamma=auto, kernel=linear; total time=   0.0s\n",
      "[CV] END ....C=3.34, epsilon=0.89, gamma=auto, kernel=linear; total time=   0.0s\n",
      "[CV] END ....C=3.34, epsilon=0.89, gamma=auto, kernel=linear; total time=   0.0s\n",
      "[CV] END ....C=3.34, epsilon=0.89, gamma=auto, kernel=linear; total time=   0.0s\n",
      "[CV] END ....C=3.34, epsilon=0.89, gamma=auto, kernel=linear; total time=   0.0s\n",
      "[CV] END C=5.5600000000000005, epsilon=0.67, gamma=scale, kernel=rbf; total time=   0.0s\n",
      "[CV] END C=5.5600000000000005, epsilon=0.67, gamma=scale, kernel=rbf; total time=   0.0s\n",
      "[CV] END C=5.5600000000000005, epsilon=0.67, gamma=scale, kernel=rbf; total time=   0.0s\n",
      "[CV] END C=5.5600000000000005, epsilon=0.67, gamma=scale, kernel=rbf; total time=   0.0s\n",
      "[CV] END C=5.5600000000000005, epsilon=0.67, gamma=scale, kernel=rbf; total time=   0.0s\n",
      "[CV] END ...C=2.23, epsilon=0.78, gamma=auto, kernel=sigmoid; total time=   0.0s\n",
      "[CV] END ...C=2.23, epsilon=0.78, gamma=auto, kernel=sigmoid; total time=   0.0s\n",
      "[CV] END ...C=2.23, epsilon=0.78, gamma=auto, kernel=sigmoid; total time=   0.0s\n",
      "[CV] END ...C=2.23, epsilon=0.78, gamma=auto, kernel=sigmoid; total time=   0.0s\n",
      "[CV] END ...C=2.23, epsilon=0.78, gamma=auto, kernel=sigmoid; total time=   0.0s\n",
      "[CV] END ...C=7.78, epsilon=0.89, gamma=auto, kernel=sigmoid; total time=   0.0s\n",
      "[CV] END ...C=7.78, epsilon=0.89, gamma=auto, kernel=sigmoid; total time=   0.0s\n",
      "[CV] END ...C=7.78, epsilon=0.89, gamma=auto, kernel=sigmoid; total time=   0.0s\n",
      "[CV] END ...C=7.78, epsilon=0.89, gamma=auto, kernel=sigmoid; total time=   0.0s\n",
      "[CV] END ...C=7.78, epsilon=0.89, gamma=auto, kernel=sigmoid; total time=   0.0s\n",
      "[CV] END ......C=0.01, epsilon=0.12, gamma=auto, kernel=poly; total time=   0.0s\n",
      "[CV] END ......C=0.01, epsilon=0.12, gamma=auto, kernel=poly; total time=   0.0s\n",
      "[CV] END ......C=0.01, epsilon=0.12, gamma=auto, kernel=poly; total time=   0.0s\n",
      "[CV] END ......C=0.01, epsilon=0.12, gamma=auto, kernel=poly; total time=   0.0s\n",
      "[CV] END ......C=0.01, epsilon=0.12, gamma=auto, kernel=poly; total time=   0.0s\n",
      "[CV] END .....C=2.23, epsilon=0.67, gamma=scale, kernel=poly; total time=   0.0s\n",
      "[CV] END .....C=2.23, epsilon=0.67, gamma=scale, kernel=poly; total time=   0.0s\n",
      "[CV] END .....C=2.23, epsilon=0.67, gamma=scale, kernel=poly; total time=   0.0s\n",
      "[CV] END .....C=2.23, epsilon=0.67, gamma=scale, kernel=poly; total time=   0.0s\n",
      "[CV] END .....C=2.23, epsilon=0.67, gamma=scale, kernel=poly; total time=   0.0s\n",
      "[CV] END ...C=10.0, epsilon=0.67, gamma=auto, kernel=sigmoid; total time=   0.0s\n",
      "[CV] END ...C=10.0, epsilon=0.67, gamma=auto, kernel=sigmoid; total time=   0.0s\n",
      "[CV] END ...C=10.0, epsilon=0.67, gamma=auto, kernel=sigmoid; total time=   0.0s\n",
      "[CV] END ...C=10.0, epsilon=0.67, gamma=auto, kernel=sigmoid; total time=   0.0s\n",
      "[CV] END ...C=10.0, epsilon=0.67, gamma=auto, kernel=sigmoid; total time=   0.0s\n",
      "[CV] END C=5.5600000000000005, epsilon=0.01, gamma=auto, kernel=poly; total time=   0.0s\n",
      "[CV] END C=5.5600000000000005, epsilon=0.01, gamma=auto, kernel=poly; total time=   0.0s\n",
      "[CV] END C=5.5600000000000005, epsilon=0.01, gamma=auto, kernel=poly; total time=   0.0s\n",
      "[CV] END C=5.5600000000000005, epsilon=0.01, gamma=auto, kernel=poly; total time=   0.0s\n",
      "[CV] END C=5.5600000000000005, epsilon=0.01, gamma=auto, kernel=poly; total time=   0.0s\n",
      "[CV] END .......C=1.12, epsilon=0.23, gamma=auto, kernel=rbf; total time=   0.0s\n",
      "[CV] END .......C=1.12, epsilon=0.23, gamma=auto, kernel=rbf; total time=   0.0s\n",
      "[CV] END .......C=1.12, epsilon=0.23, gamma=auto, kernel=rbf; total time=   0.0s\n",
      "[CV] END .......C=1.12, epsilon=0.23, gamma=auto, kernel=rbf; total time=   0.0s\n",
      "[CV] END .......C=1.12, epsilon=0.23, gamma=auto, kernel=rbf; total time=   0.0s\n",
      "[CV] END ......C=1.12, epsilon=1.0, gamma=scale, kernel=poly; total time=   0.0s\n",
      "[CV] END ......C=1.12, epsilon=1.0, gamma=scale, kernel=poly; total time=   0.0s\n",
      "[CV] END ......C=1.12, epsilon=1.0, gamma=scale, kernel=poly; total time=   0.0s\n",
      "[CV] END ......C=1.12, epsilon=1.0, gamma=scale, kernel=poly; total time=   0.0s\n",
      "[CV] END ......C=1.12, epsilon=1.0, gamma=scale, kernel=poly; total time=   0.0s\n",
      "[CV] END .......C=3.34, epsilon=0.12, gamma=auto, kernel=rbf; total time=   0.0s\n",
      "[CV] END .......C=3.34, epsilon=0.12, gamma=auto, kernel=rbf; total time=   0.0s\n",
      "[CV] END .......C=3.34, epsilon=0.12, gamma=auto, kernel=rbf; total time=   0.0s\n",
      "[CV] END .......C=3.34, epsilon=0.12, gamma=auto, kernel=rbf; total time=   0.0s\n",
      "[CV] END .......C=3.34, epsilon=0.12, gamma=auto, kernel=rbf; total time=   0.0s\n",
      "R2 TEST: 0.9977870161471202\n"
     ]
    },
    {
     "data": {
      "text/plain": [
       "[<matplotlib.lines.Line2D at 0x28ca1f4d040>]"
      ]
     },
     "execution_count": 112,
     "metadata": {},
     "output_type": "execute_result"
    },
    {
     "data": {
      "image/png": "[encoded data removed]",
      "text/plain": [
       "<Figure size 640x480 with 1 Axes>"
      ]
     },
     "metadata": {},
     "output_type": "display_data"
    }
   ],
   "source": [
    "from sklearn.svm import SVR\n",
    "from sklearn.model_selection import cross_val_score, train_test_split, GridSearchCV, RandomizedSearchCV\n",
    "from sklearn.metrics import r2_score\n",
    "import numpy as np\n",
    "\n",
    "model = SVR()\n",
    "param_grid = {'kernel': ['rbf','linear','poly','sigmoid'],\n",
    "            'C': np.linspace(0.01,10,10),\n",
    "            'epsilon': np.linspace(0.01,1,10),\n",
    "             'gamma': ['scale','auto']}\n",
    "X_train, X_test, y_train, y_test = train_test_split(dataset1_x, dataset1_y, test_size = .2)\n",
    "gscv = RandomizedSearchCV(model, param_grid, scoring = 'r2', cv = 5, verbose = 2, refit=True,n_iter=100)\n",
    "gscv.fit(X_train,y_train)\n",
    "\n",
    "y_test_pred = gscv.predict(X_test)\n",
    "print(\"R2 TEST:\",r2_score(y_test,y_test_pred))\n",
    "\n",
    "plt.scatter(dataset1_x,dataset1_y)\n",
    "plt.scatter(X_test,y_test,c='orange')\n",
    "Xs = np.linspace(-3,3,400).reshape(-1,1)\n",
    "Ys = gscv.predict(Xs)\n",
    "plt.plot(Xs,Ys,c='r')"
   ]
  },
  {
   "cell_type": "code",
   "execution_count": 106,
   "id": "cce7bc51-d051-4e69-b6c7-2581ab05fab7",
   "metadata": {},
   "outputs": [
    {
     "name": "stdout",
     "output_type": "stream",
     "text": [
      "R2 TEST: 0.997614645273504\n"
     ]
    },
    {
     "data": {
      "text/plain": [
       "[<matplotlib.lines.Line2D at 0x28ca0d805f0>]"
      ]
     },
     "execution_count": 106,
     "metadata": {},
     "output_type": "execute_result"
    },
    {
     "data": {
      "image/png": "[encoded data removed]",
      "text/plain": [
       "<Figure size 640x480 with 1 Axes>"
      ]
     },
     "metadata": {},
     "output_type": "display_data"
    }
   ],
   "source": [
    "y_test_pred = gscv.predict(X_test)\n",
    "print(\"R2 TEST:\",r2_score(y_test,y_test_pred))\n",
    "\n",
    "plt.scatter(dataset1_x,dataset1_y)\n",
    "plt.scatter(X_test,y_test,c='orange')\n",
    "Xs = np.linspace(-3,3,400).reshape(-1,1)\n",
    "Ys = gscv.predict(Xs)\n",
    "plt.plot(Xs,Ys,c='r')"
   ]
  },
  {
   "cell_type": "markdown",
   "id": "df6f7874",
   "metadata": {},
   "source": [
    "\n",
    "# Zadanie 2.\n",
    "\n",
    "Wykorzystując dane z poprzednich ćwiczeń (i podział na zbiory oraz sprawdzian kryżowy), wykorzystaj algorytm SVR do predykcji. Wesprzyj się dokumentacją: https://scikit-learn.org/1.5/modules/generated/sklearn.svm.SVR.html\n",
    "\n",
    "2a. Sprawdź wynik SVR (dla domyślnych parametrów, ale różnych typów kernela) dla różnych kombinacji cech. Potwierdź czy model działa najlepiej dla wcześniej wybranego zestawu cech czy też może zauważalna jest różnica.\n",
    "2b. Dla wybranego zestawu cech, sprawdź różne kombinacje hiperparametrów modelu, w tym kernel, C, epsilon oraz gamma. "
   ]
  },
  {
   "cell_type": "code",
   "execution_count": null,
   "id": "e40671a8",
   "metadata": {},
   "outputs": [],
   "source": []
  },
  {
   "cell_type": "markdown",
   "id": "89e010eb",
   "metadata": {},
   "source": [
    "# **Regresja k-NN (k-Nearest Neighbors Regression)**\n",
    "\n",
    "Regresja k-NN (ang. *k-Nearest Neighbors Regression*) to prosty, ale potężny algorytm uczenia maszynowego, który wykorzystuje odległości między punktami danych do przewidywania wartości ciągłych. Jest to metoda nieparametryczna, co oznacza, że nie zakłada konkretnej formy zależności między cechami a wartościami wyjściowymi.\n",
    "\n",
    "---\n",
    "\n",
    "## **Jak działa algorytm k-NN w regresji?**\n",
    "\n",
    "1. **Zbieranie danych treningowych**:\n",
    "   - Algorytm zapamiętuje wszystkie dane treningowe i nie buduje żadnego modelu wstępnego.\n",
    "\n",
    "2. **Dla nowej próbki (punktu testowego)**:\n",
    "   - **Krok 1**: Oblicz odległości między nową próbką a wszystkimi punktami w zbiorze treningowym.\n",
    "     - Najczęściej używane metryki odległości to:\n",
    "       - **Odległość euklidesowa**:\n",
    "         $$\n",
    "         d(x, x') = \\sqrt{\\sum_{i=1}^n (x_i - x'_i)^2}\n",
    "         $$\n",
    "       - **Odległość Manhattan**:\n",
    "         $$\n",
    "         d(x, x') = \\sum_{i=1}^n |x_i - x'_i|\n",
    "         $$\n",
    "   - **Krok 2**: Wybierz \\( k \\) najbliższych sąsiadów (najmniejszych odległości) do punktu testowego.\n",
    "\n",
    "3. **Obliczanie wartości przewidywanej**:\n",
    "   - Wartość przewidywana dla punktu testowego to **średnia wartość wyjściowa \\( y \\)** najbliższych sąsiadów:\n",
    "     $$\n",
    "     \\hat{y} = \\frac{1}{k} \\sum_{i=1}^k y_i\n",
    "     $$\n",
    "   - Możliwe jest również stosowanie wag, gdzie bliżsi sąsiedzi mają większy wpływ na wynik:\n",
    "     $$\n",
    "     \\hat{y} = \\frac{\\sum_{i=1}^k w_i \\cdot y_i}{\\sum_{i=1}^k w_i}\n",
    "     $$\n",
    "     gdzie $ w_i $ to odwrotność odległości do sąsiada $ w_i = \\frac{1}{d(x, x'_i) + \\epsilon} $, $ \\epsilon $ to mała wartość zapobiegająca dzieleniu przez zero.\n",
    "\n",
    "4. **Powtórzenie dla wszystkich punktów testowych**:\n",
    "   - Algorytm wykonuje powyższe kroki dla każdej próbki w zbiorze testowym.\n",
    "\n",
    "---\n",
    "\n",
    "## **Hiperparametry k-NN**\n",
    "\n",
    "1. **Liczba sąsiadów $k$**:\n",
    "   - Małe $ k $:\n",
    "     - Model bardziej wrażliwy na szum w danych (przejawia tendencję do overfittingu).\n",
    "   - Duże $ k $:\n",
    "     - Model uśrednia wartości w szerszym zakresie, co może prowadzić do underfittingu.\n",
    "\n",
    "2. **Metryka odległości**:\n",
    "   - Najczęściej używana jest odległość euklidesowa, ale można stosować inne miary, takie jak Manhattan, Minkowski czy metryki specjalistyczne.\n",
    "\n",
    "3. **Wagi sąsiadów**:\n",
    "   - Domyślnie wszyscy sąsiedzi mają równą wagę.\n",
    "   - Można stosować wagi zależne od odległości, aby bliżsi sąsiedzi mieli większy wpływ.\n",
    "\n",
    "---\n",
    "\n",
    "## **Zalety algorytmu k-NN w regresji**\n",
    "\n",
    "1. **Prostota**:\n",
    "   - Algorytm jest łatwy do zrozumienia i implementacji.\n",
    "\n",
    "2. **Elastyczność**:\n",
    "   - Działa dobrze z danymi o skomplikowanych i nieliniowych zależnościach.\n",
    "\n",
    "3. **Brak założeń**:\n",
    "   - Nie wymaga wstępnych założeń o rozkładzie danych.\n",
    "\n",
    "---\n",
    "\n",
    "## **Wady algorytmu k-NN w regresji**\n",
    "\n",
    "1. **Koszt obliczeniowy**:\n",
    "   - Algorytm wymaga obliczania odległości dla wszystkich punktów w zbiorze treningowym dla każdej próbki testowej, co może być kosztowne dla dużych zbiorów danych.\n",
    "\n",
    "2. **Wrażliwość na dane**:\n",
    "   - Wrażliwość na szum i wartości odstające, szczególnie dla małych wartości $ k $.\n",
    "\n",
    "3. **Problemy ze skalą danych**:\n",
    "   - Algorytm jest wrażliwy na różnice w skali cech, dlatego standaryzacja lub normalizacja danych jest zwykle konieczna."
   ]
  },
  {
   "cell_type": "code",
   "execution_count": 115,
   "id": "f93381fa",
   "metadata": {},
   "outputs": [
    {
     "data": {
      "application/vnd.jupyter.widget-view+json": {
       "model_id": "4a1f321923ed4ef9b5b2aebbaee73fdd",
       "version_major": 2,
       "version_minor": 0
      },
      "text/plain": [
       "interactive(children=(IntSlider(value=3, description='k (Neighbors)', max=20, min=1), RadioButtons(description…"
      ]
     },
     "metadata": {},
     "output_type": "display_data"
    },
    {
     "data": {
      "text/plain": [
       "<function __main__.interactive_knn(n_neighbors=3, weights='uniform')>"
      ]
     },
     "execution_count": 115,
     "metadata": {},
     "output_type": "execute_result"
    }
   ],
   "source": [
    "import numpy as np\n",
    "import matplotlib.pyplot as plt\n",
    "from sklearn.datasets import make_regression\n",
    "from sklearn.neighbors import KNeighborsRegressor\n",
    "from sklearn.metrics import mean_squared_error\n",
    "import ipywidgets as widgets\n",
    "from ipywidgets import interact\n",
    "\n",
    "# Generate synthetic dataset\n",
    "X, y = make_regression(n_samples=200, n_features=1, noise=20, random_state=42)\n",
    "X_train, X_test = X[:160], X[160:]\n",
    "y_train, y_test = y[:160], y[160:]\n",
    "\n",
    "# Interactive function for k-NN\n",
    "def interactive_knn(n_neighbors=3, weights='uniform'):\n",
    "    # Train k-NN regressor\n",
    "    knn = KNeighborsRegressor(n_neighbors=n_neighbors, weights=weights)\n",
    "    knn.fit(X_train, y_train)\n",
    "    \n",
    "    # Predict on test set\n",
    "    y_pred = knn.predict(X_test)\n",
    "    \n",
    "    # Calculate MSE\n",
    "    mse = mean_squared_error(y_test, y_pred)\n",
    "    \n",
    "    # Plot training data, test data, and predictions\n",
    "    plt.figure(figsize=(12, 6))\n",
    "    \n",
    "    # Scatter plot of training and test data\n",
    "    plt.scatter(X_train, y_train, label=\"Training Data\", color='blue', alpha=0.7)\n",
    "    plt.scatter(X_test, y_test, label=\"Test Data\", color='orange', alpha=0.7)\n",
    "    \n",
    "    # Line plot of predictions\n",
    "    X_range = np.linspace(X.min(), X.max(), 500).reshape(-1, 1)\n",
    "    y_pred_range = knn.predict(X_range)\n",
    "    plt.plot(X_range, y_pred_range, color='red', label=\"k-NN Predictions\", linewidth=2)\n",
    "    \n",
    "    # Titles and labels\n",
    "    plt.title(f\"k-NN Regression (k={n_neighbors}, weights='{weights}')\\nMSE: {mse:.2f}\")\n",
    "    plt.xlabel(\"Feature\")\n",
    "    plt.ylabel(\"Target\")\n",
    "    plt.legend()\n",
    "    plt.grid(True)\n",
    "    plt.show()\n",
    "\n",
    "# Interactive widgets for k and weights\n",
    "interact(\n",
    "    interactive_knn,\n",
    "    n_neighbors=widgets.IntSlider(min=1, max=20, step=1, value=3, description='k (Neighbors)'),\n",
    "    weights=widgets.RadioButtons(\n",
    "        options=['uniform', 'distance'],\n",
    "        value='uniform',\n",
    "        description='Weights:'\n",
    "    )\n",
    ")\n"
   ]
  },
  {
   "cell_type": "markdown",
   "id": "306cb426",
   "metadata": {},
   "source": [
    "## Zadanie 3.\n",
    "\n",
    "Wykorzystując dane z poprzednich ćwiczeń (i podział na zbiory oraz sprawdzian kryżowy), wykorzystaj algorytm k-NN do predykcji. Wesprzyj się dokumentacją: https://scikit-learn.org/stable/modules/generated/sklearn.neighbors.KNeighborsClassifier.html\n",
    "\n",
    "    3a. Sprawdź wynik k-NN dla wybranego przez Ciebie zestawu parametrów.\n",
    "    3b. Dla wybranego zestawu cech, sprawdź różne kombinacje hiperparametrów i wykonaj krzywe złożoności dla parametry n_neighbors oraz p."
   ]
  },
  {
   "cell_type": "code",
   "execution_count": null,
   "id": "8d0c5f88",
   "metadata": {},
   "outputs": [],
   "source": []
  },
  {
   "cell_type": "markdown",
   "id": "0682eebc",
   "metadata": {},
   "source": [
    "# Drzewa decyzyjne\n",
    "\n",
    "Drzewa decyzyjne to popularny algorytm uczenia maszynowego, który można wykorzystać zarówno do zadań klasyfikacji, jak i regresji. W przypadku regresji drzewa decyzyjne służą do przewidywania wartości ciągłych, co czyni je potężnym narzędziem w modelowaniu danych z nieliniowymi i złożonymi zależnościami.\n",
    "\n",
    "\n",
    "## Drzewo decyzyjne\n",
    "\n",
    "Drzewo decyzyjne to struktura przypominająca diagram, w której dane są dzielone na podstawie warunków logicznych, tworząc węzły i gałęzie.\n",
    "\n",
    "    Korzeń drzewa: Punkt początkowy, zawierający całe dane wejściowe.\n",
    "    \n",
    "    Węzły decyzyjne: Punkty, w których dane są dzielone na podstawie określonego warunku (np. cechy, która najlepiej wyjaśnia dane w danym momencie).\n",
    "    \n",
    "    Liście: Końcowe węzły, które reprezentują przewidywaną wartość w przypadku regresji.\n",
    "    \n",
    "## Regresja z wykorzystaniem drzew decyzyjnych\n",
    "\n",
    "### Podział danych - proces uczenia\n",
    "\n",
    "Drzewo iteracyjnie dzieli dane wejściowe na podzbiory na podstawie wybranej cechy i warunku, który minimalizuje błąd predykcji.\n",
    "\n",
    "    Na przykład powierzchnia mieszkania > 50m2 -> tak lub nie, dzieli dane na dwa podzbiory w których predykcja ma konkretną wartość.\n",
    "\n",
    "Używa się miar takich jak średni błąd kwadratowy (MSE) lub średni absolutny błąd (MAE), aby określić najlepszy podział.\n",
    "\n",
    "    Kryterium podziału to róznica między rzeczywistą wartością a średnią wartością w podgrupie, która powstała.\n",
    "\n",
    "Algorytm kontynuuje podziały, aż osiągnie określone kryterium stopu, np. minimalną liczbę próbek w liściu, maksymalną głębokość drzewa lub brak dalszej poprawy błędu.\n",
    "\n",
    "### Predykcja\n",
    "Wartość przewidywana w liściu drzewa decyzyjnego to średnia wartość wyników w danym podzbiorze danych.\n",
    "\n",
    "### Zalety\n",
    "    Drzewa są bardzo proste w użyciu i intuicyjne\n",
    "    Są zdolne do obsługi wysoce nieliniowych związków\n",
    "    Nie ma potrzeby skalowania danych\n",
    "    \n",
    "### Wady\n",
    "\n",
    "    Drzewa są podatne na overfitting\n",
    "    Ich przewidywania są średnimi, a zatem są skokowe\n",
    "    \n",
    "### Kiedy stosować\n",
    "\n",
    "    Gdy dane są wysoce nielinowe\n",
    "    Gdy interpretowalność modelu jest kluczowa\n",
    "    W danych występują złożone interakcje między cechami, a które trudno ująć np. regresją wielomianową"
   ]
  },
  {
   "cell_type": "code",
   "execution_count": 111,
   "id": "3bba0e99",
   "metadata": {},
   "outputs": [
    {
     "data": {
      "application/vnd.jupyter.widget-view+json": {
       "model_id": "33934ad8e2a744b6a453a3c5359e35d7",
       "version_major": 2,
       "version_minor": 0
      },
      "text/plain": [
       "interactive(children=(IntSlider(value=3, description='Max Depth', max=10, min=1), IntSlider(value=2, descripti…"
      ]
     },
     "metadata": {},
     "output_type": "display_data"
    },
    {
     "data": {
      "text/plain": [
       "<function __main__.interactive_tree_with_plot(max_depth=3, min_samples_split=2, min_samples_leaf=1)>"
      ]
     },
     "execution_count": 111,
     "metadata": {},
     "output_type": "execute_result"
    }
   ],
   "source": [
    "# Import additional library for tree visualization\n",
    "from sklearn.tree import plot_tree\n",
    "\n",
    "# Adjust interactive function to include tree visualization\n",
    "def interactive_tree_with_plot(max_depth=3, min_samples_split=2, min_samples_leaf=1):\n",
    "    # Train the Decision Tree Regressor with selected hyperparameters\n",
    "    regressor = DecisionTreeRegressor(\n",
    "        max_depth=max_depth, \n",
    "        min_samples_split=min_samples_split, \n",
    "        min_samples_leaf=min_samples_leaf,\n",
    "        random_state=42\n",
    "    )\n",
    "    regressor.fit(X_train, y_train)\n",
    "    \n",
    "    # Predict on the training and test set\n",
    "    y_pred_train = regressor.predict(X_train)\n",
    "    y_pred_test = regressor.predict(X_test)\n",
    "    \n",
    "    # Calculate Mean Squared Error\n",
    "    train_mse = mean_squared_error(y_train, y_pred_train)\n",
    "    test_mse = mean_squared_error(y_test, y_pred_test)\n",
    "    \n",
    "    # Create subplots for predictions and tree structure\n",
    "    fig, axs = plt.subplots(2, 1, figsize=(15, 10))\n",
    "    \n",
    "    # Plot the data and the regression tree predictions\n",
    "    X_range = np.linspace(X.min(), X.max(), 500).reshape(-1, 1)\n",
    "    y_pred_range = regressor.predict(X_range)\n",
    "    \n",
    "    axs[0].scatter(X_train, y_train, color='blue', label='Training Data', alpha=0.6)\n",
    "    axs[0].scatter(X_test, y_test, color='orange', label='Test Data', alpha=0.6)\n",
    "    axs[0].plot(X_range, y_pred_range, color='red', label='Tree Prediction', linewidth=2)\n",
    "    axs[0].set_title(f\"Decision Tree Regressor\\nTrain MSE: {train_mse:.2f}, Test MSE: {test_mse:.2f}\")\n",
    "    axs[0].set_xlabel(\"Feature\")\n",
    "    axs[0].set_ylabel(\"Target\")\n",
    "    axs[0].legend()\n",
    "    axs[0].grid(True)\n",
    "    \n",
    "    # Visualize the decision tree structure\n",
    "    plot_tree(regressor, filled=True, feature_names=[\"Feature\"], ax=axs[1])\n",
    "    axs[1].set_title(\"Decision Tree Structure\")\n",
    "    \n",
    "    plt.tight_layout()\n",
    "    plt.show()\n",
    "\n",
    "# Interactive widgets for hyperparameters\n",
    "interact(\n",
    "    interactive_tree_with_plot,\n",
    "    max_depth=widgets.IntSlider(min=1, max=10, step=1, value=3, description='Max Depth'),\n",
    "    min_samples_split=widgets.IntSlider(min=2, max=20, step=1, value=2, description='Min Samples Split'),\n",
    "    min_samples_leaf=widgets.IntSlider(min=1, max=10, step=1, value=1, description='Min Samples Leaf')\n",
    ")\n"
   ]
  },
  {
   "cell_type": "code",
   "execution_count": 114,
   "id": "1f62179f",
   "metadata": {},
   "outputs": [
    {
     "data": {
      "application/vnd.jupyter.widget-view+json": {
       "model_id": "f1d1bf8d9f114e81b399bbc03cea194d",
       "version_major": 2,
       "version_minor": 0
      },
      "text/plain": [
       "interactive(children=(IntSlider(value=3, description='Max Depth', max=10, min=1), IntSlider(value=2, descripti…"
      ]
     },
     "metadata": {},
     "output_type": "display_data"
    },
    {
     "data": {
      "text/plain": [
       "<function __main__.interactive_tree_with_plot_nonlinear(max_depth=3, min_samples_split=2, min_samples_leaf=1)>"
      ]
     },
     "execution_count": 114,
     "metadata": {},
     "output_type": "execute_result"
    }
   ],
   "source": [
    "# Generate a more non-linear dataset\n",
    "np.random.seed(42)\n",
    "X_nl = np.sort(np.random.rand(200, 1) * 10, axis=0)  # Random values between 0 and 10\n",
    "y_nl = np.sin(X_nl).ravel() + np.random.normal(0, 0.2, X_nl.shape[0])  # Sinusoidal with noise\n",
    "\n",
    "# Split into training and testing sets\n",
    "X_train_nl, X_test_nl, y_train_nl, y_test_nl = train_test_split(X_nl, y_nl, test_size=0.2, random_state=42)\n",
    "\n",
    "# Interactive function for non-linear example\n",
    "def interactive_tree_with_plot_nonlinear(max_depth=3, min_samples_split=2, min_samples_leaf=1):\n",
    "    # Train the Decision Tree Regressor with selected hyperparameters\n",
    "    regressor = DecisionTreeRegressor(\n",
    "        max_depth=max_depth, \n",
    "        min_samples_split=min_samples_split, \n",
    "        min_samples_leaf=min_samples_leaf,\n",
    "        random_state=42\n",
    "    )\n",
    "    regressor.fit(X_train_nl, y_train_nl)\n",
    "    \n",
    "    # Predict on the training and test set\n",
    "    y_pred_train_nl = regressor.predict(X_train_nl)\n",
    "    y_pred_test_nl = regressor.predict(X_test_nl)\n",
    "    \n",
    "    # Calculate Mean Squared Error\n",
    "    train_mse = mean_squared_error(y_train_nl, y_pred_train_nl)\n",
    "    test_mse = mean_squared_error(y_test_nl, y_pred_test_nl)\n",
    "    \n",
    "    # Create subplots for predictions and tree structure\n",
    "    fig, axs = plt.subplots(2, 1, figsize=(18, 16))\n",
    "    \n",
    "    # Plot the data and the regression tree predictions\n",
    "    X_range = np.linspace(X_nl.min(), X_nl.max(), 500).reshape(-1, 1)\n",
    "    y_pred_range = regressor.predict(X_range)\n",
    "    \n",
    "    axs[0].scatter(X_train_nl, y_train_nl, color='blue', label='Training Data', alpha=0.6)\n",
    "    axs[0].scatter(X_test_nl, y_test_nl, color='orange', label='Test Data', alpha=0.6)\n",
    "    axs[0].plot(X_range, y_pred_range, color='red', label='Tree Prediction', linewidth=2)\n",
    "    axs[0].set_title(f\"Decision Tree Regressor (Non-Linear Example)\\nTrain MSE: {train_mse:.2f}, Test MSE: {test_mse:.2f}\")\n",
    "    axs[0].set_xlabel(\"Feature\")\n",
    "    axs[0].set_ylabel(\"Target\")\n",
    "    axs[0].legend()\n",
    "    axs[0].grid(True)\n",
    "    \n",
    "    # Visualize the decision tree structure\n",
    "    plot_tree(regressor, filled=True, feature_names=[\"Feature\"], ax=axs[1])\n",
    "    axs[1].set_title(\"Decision Tree Structure\")\n",
    "    \n",
    "    plt.tight_layout()\n",
    "    plt.show()\n",
    "\n",
    "# Interactive widgets for hyperparameters\n",
    "interact(\n",
    "    interactive_tree_with_plot_nonlinear,\n",
    "    max_depth=widgets.IntSlider(min=1, max=10, step=1, value=3, description='Max Depth'),\n",
    "    min_samples_split=widgets.IntSlider(min=2, max=20, step=1, value=2, description='Min Samples Split'),\n",
    "    min_samples_leaf=widgets.IntSlider(min=1, max=10, step=1, value=1, description='Min Samples Leaf')\n",
    ")\n"
   ]
  },
  {
   "cell_type": "markdown",
   "id": "f2927970",
   "metadata": {},
   "source": [
    "## Zadanie 4.\n",
    "\n",
    "Wykorzystując dane z poprzednich ćwiczeń (i podział na zbiory oraz sprawdzian kryżowy), wykorzystaj algorytm k-NN do predykcji. Wesprzyj się dokumentacją: https://scikit-learn.org/stable/modules/generated/sklearn.tree.DecisionTreeRegressor.html\n",
    "\n",
    "    4a. Wytrenuj model dla danych dobierając parametry na podstawie krzywych złożoności.\n",
    "    4b. Dla wybranego modelu zwizualizuj drzewo i dokonaj jego interpretacji.\n",
    "    4c. Przeanalizuj predykcje, w których przewidywana wartość znacząco odstaje od predykcji drzewa. Spróbuj zinterpretować przyczynę tego zdarzenia."
   ]
  },
  {
   "cell_type": "code",
   "execution_count": null,
   "id": "aebc078c",
   "metadata": {},
   "outputs": [],
   "source": []
  }
 ],
 "metadata": {
  "kernelspec": {
   "display_name": "Python 3 (ipykernel)",
   "language": "python",
   "name": "python3"
  },
  "language_info": {
   "codemirror_mode": {
    "name": "ipython",
    "version": 3
   },
   "file_extension": ".py",
   "mimetype": "text/x-python",
   "name": "python",
   "nbconvert_exporter": "python",
   "pygments_lexer": "ipython3",
   "version": "3.9.12"
  }
 },
 "nbformat": 4,
 "nbformat_minor": 5
}