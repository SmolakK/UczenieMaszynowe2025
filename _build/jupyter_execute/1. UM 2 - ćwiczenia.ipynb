{
 "cells": [
  {
   "cell_type": "markdown",
   "id": "2c9253db",
   "metadata": {},
   "source": [
    "# Uczenie Maszynowe - ćwiczenia 2\n",
    "\n",
    "## Pandas\n",
    "\n",
    "Dziś potrenujemy trochę zarządzanie danych z biblioteką Pandas. Pandas “Python Data Analysis Library” to biblioteka będąca najszerzej wykorzystywanym narzędziem w analizie danych w Pythonie.\n",
    "\n",
    "Podczas gdy pandas przejmuje wiele idiomów/standardów kodowania z NumPy, największą różnicą jest to, że pandas jest przeznaczony do pracy z danymi tabelarycznymi lub heterogenicznymi. NumPy, dla porównania, najlepiej nadaje się do pracy z jednorodnymi danymi."
   ]
  },
  {
   "cell_type": "code",
   "execution_count": 1,
   "id": "ac4babe0",
   "metadata": {},
   "outputs": [],
   "source": [
    "import pandas as pd"
   ]
  },
  {
   "cell_type": "markdown",
   "id": "8971ae61",
   "metadata": {},
   "source": [
    "## Wczytujemy dane\n",
    "\n",
    "Na repozytorium na githubie (https://github.com/SmolakK/UczenieMaszynowe2025) znajduje się plik meteo.csv, wczytaj go i wykonaj następujące polecenia.\n",
    "\n",
    "Wyświetl dane i zapoznaj się z nimi:"
   ]
  },
  {
   "cell_type": "code",
   "execution_count": null,
   "id": "997764e5",
   "metadata": {},
   "outputs": [],
   "source": []
  },
  {
   "cell_type": "markdown",
   "id": "7d4d6f1d",
   "metadata": {},
   "source": [
    "Wyświetl przbieg temperatur i opadów w ciągu roku na jednym wykresie."
   ]
  },
  {
   "cell_type": "code",
   "execution_count": null,
   "id": "0155cdfa",
   "metadata": {},
   "outputs": [],
   "source": []
  },
  {
   "cell_type": "markdown",
   "id": "30094edb",
   "metadata": {},
   "source": [
    "Policz średni opad i temperaturę przypadającą na każdy miesiąc roku. Zwizualizuj je za pomocą wykresu słupkowego."
   ]
  },
  {
   "cell_type": "code",
   "execution_count": null,
   "id": "5ad5b35e",
   "metadata": {},
   "outputs": [],
   "source": []
  },
  {
   "cell_type": "code",
   "execution_count": 26,
   "id": "a9e4434d",
   "metadata": {},
   "outputs": [
    {
     "data": {
      "text/html": [
       "<div>\n",
       "<style scoped>\n",
       "    .dataframe tbody tr th:only-of-type {\n",
       "        vertical-align: middle;\n",
       "    }\n",
       "\n",
       "    .dataframe tbody tr th {\n",
       "        vertical-align: top;\n",
       "    }\n",
       "\n",
       "    .dataframe thead th {\n",
       "        text-align: right;\n",
       "    }\n",
       "</style>\n",
       "<table border=\"1\" class=\"dataframe\">\n",
       "  <thead>\n",
       "    <tr style=\"text-align: right;\">\n",
       "      <th></th>\n",
       "      <th>Precipitation total [mm]</th>\n",
       "      <th>Temperature [°C]</th>\n",
       "    </tr>\n",
       "    <tr>\n",
       "      <th>month</th>\n",
       "      <th></th>\n",
       "      <th></th>\n",
       "    </tr>\n",
       "  </thead>\n",
       "  <tbody>\n",
       "    <tr>\n",
       "      <th>1</th>\n",
       "      <td>0.000093</td>\n",
       "      <td>5.246215</td>\n",
       "    </tr>\n",
       "    <tr>\n",
       "      <th>2</th>\n",
       "      <td>0.000124</td>\n",
       "      <td>4.719129</td>\n",
       "    </tr>\n",
       "    <tr>\n",
       "      <th>3</th>\n",
       "      <td>0.000128</td>\n",
       "      <td>8.656568</td>\n",
       "    </tr>\n",
       "    <tr>\n",
       "      <th>4</th>\n",
       "      <td>0.000151</td>\n",
       "      <td>10.838686</td>\n",
       "    </tr>\n",
       "    <tr>\n",
       "      <th>5</th>\n",
       "      <td>0.000052</td>\n",
       "      <td>17.135336</td>\n",
       "    </tr>\n",
       "    <tr>\n",
       "      <th>6</th>\n",
       "      <td>0.000304</td>\n",
       "      <td>22.983876</td>\n",
       "    </tr>\n",
       "    <tr>\n",
       "      <th>7</th>\n",
       "      <td>0.000032</td>\n",
       "      <td>24.342453</td>\n",
       "    </tr>\n",
       "    <tr>\n",
       "      <th>8</th>\n",
       "      <td>0.000198</td>\n",
       "      <td>23.531245</td>\n",
       "    </tr>\n",
       "    <tr>\n",
       "      <th>9</th>\n",
       "      <td>0.000006</td>\n",
       "      <td>23.336765</td>\n",
       "    </tr>\n",
       "    <tr>\n",
       "      <th>10</th>\n",
       "      <td>0.000152</td>\n",
       "      <td>15.301698</td>\n",
       "    </tr>\n",
       "    <tr>\n",
       "      <th>11</th>\n",
       "      <td>0.000239</td>\n",
       "      <td>7.168016</td>\n",
       "    </tr>\n",
       "    <tr>\n",
       "      <th>12</th>\n",
       "      <td>0.000101</td>\n",
       "      <td>4.711255</td>\n",
       "    </tr>\n",
       "  </tbody>\n",
       "</table>\n",
       "</div>"
      ],
      "text/plain": [
       "       Precipitation total [mm]  Temperature [°C]\n",
       "month                                            \n",
       "1                      0.000093          5.246215\n",
       "2                      0.000124          4.719129\n",
       "3                      0.000128          8.656568\n",
       "4                      0.000151         10.838686\n",
       "5                      0.000052         17.135336\n",
       "6                      0.000304         22.983876\n",
       "7                      0.000032         24.342453\n",
       "8                      0.000198         23.531245\n",
       "9                      0.000006         23.336765\n",
       "10                     0.000152         15.301698\n",
       "11                     0.000239          7.168016\n",
       "12                     0.000101          4.711255"
      ]
     },
     "execution_count": 26,
     "metadata": {},
     "output_type": "execute_result"
    }
   ],
   "source": []
  },
  {
   "cell_type": "markdown",
   "id": "cec7b017",
   "metadata": {},
   "source": [
    "Policz statystyki związane z temperaturą w ciągu roku:\n",
    " * średnia\n",
    " * mediana\n",
    " * odchylenie standardowe\n",
    " * kwartyl 1 i 2\n",
    " * rozstęp międzykwartylowy"
   ]
  },
  {
   "cell_type": "code",
   "execution_count": null,
   "id": "56667316",
   "metadata": {},
   "outputs": [],
   "source": []
  },
  {
   "cell_type": "markdown",
   "id": "f4f1f432",
   "metadata": {},
   "source": [
    "Wyświetl rozkład temperatury w ciągu roku używając biblioteki seaborn. Policz skośność rozkładu."
   ]
  },
  {
   "cell_type": "code",
   "execution_count": 2,
   "id": "58d59287",
   "metadata": {},
   "outputs": [],
   "source": [
    "import seaborn as sns"
   ]
  },
  {
   "cell_type": "code",
   "execution_count": null,
   "id": "0445304a",
   "metadata": {},
   "outputs": [],
   "source": []
  },
  {
   "cell_type": "markdown",
   "id": "b2997c20",
   "metadata": {},
   "source": [
    "Wyświelt rozkład opadów w ciągu roku, pomiń dni w których nie było opadu. Policz skośność opadu."
   ]
  },
  {
   "cell_type": "code",
   "execution_count": null,
   "id": "b450e86e",
   "metadata": {},
   "outputs": [],
   "source": []
  },
  {
   "cell_type": "markdown",
   "id": "c4b790fa",
   "metadata": {},
   "source": [
    "Wykres temperatury ma bardzo dużą wariację w ciągu dni. Wygładź ten wykres wykorzystując metodę .rolling() w pandas."
   ]
  },
  {
   "cell_type": "code",
   "execution_count": null,
   "id": "88615160",
   "metadata": {},
   "outputs": [],
   "source": []
  },
  {
   "cell_type": "markdown",
   "id": "8bc47f24",
   "metadata": {},
   "source": [
    "## Teoria prawdopodobieństwa - przypomnienie\n",
    "\n",
    "Prawdopodobieństwo opisuje szanse na zajście wydarzenia. Waha się pomiędzy 0 (niemożliwe) a 1 (na pewno się wydarzy). \n",
    "\n",
    "### Zmienna losowa\n",
    "\n",
    "Zmienna losowa to wynik losowego zdarzenia. Oznaczmy ją przez X. Prawdopodobieństwo, że podczas rzutu monetą otrzymamy reszkę wynosi 0.5 (albo 50%).\n",
    "\n",
    "P(X=x) = 0.5\n",
    "\n",
    "Napisz symulację, która sprawdzi jakie jest prawdopodobieństwo, że podczas rzutu monetą otrzymamy reszkę."
   ]
  },
  {
   "cell_type": "code",
   "execution_count": 3,
   "id": "c204d77c",
   "metadata": {},
   "outputs": [],
   "source": [
    "import numpy as np\n",
    "\n",
    "def coin(trials=10_000):\n",
    "    flips = np.random.randint(0,2,trials)\n",
    "    return flips.sum()/trials"
   ]
  },
  {
   "cell_type": "code",
   "execution_count": 4,
   "id": "02938914",
   "metadata": {},
   "outputs": [
    {
     "data": {
      "text/plain": [
       "0.5"
      ]
     },
     "execution_count": 4,
     "metadata": {},
     "output_type": "execute_result"
    }
   ],
   "source": [
    "coin(trials=10)"
   ]
  },
  {
   "cell_type": "code",
   "execution_count": 5,
   "id": "966456d1",
   "metadata": {},
   "outputs": [
    {
     "ename": "NameError",
     "evalue": "name 'plt' is not defined",
     "output_type": "error",
     "traceback": [
      "\u001b[1;31m---------------------------------------------------------------------------\u001b[0m",
      "\u001b[1;31mNameError\u001b[0m                                 Traceback (most recent call last)",
      "Input \u001b[1;32mIn [5]\u001b[0m, in \u001b[0;36m<cell line: 4>\u001b[1;34m()\u001b[0m\n\u001b[0;32m      2\u001b[0m \u001b[38;5;28;01mfor\u001b[39;00m n \u001b[38;5;129;01min\u001b[39;00m \u001b[38;5;28mrange\u001b[39m(\u001b[38;5;241m100\u001b[39m,\u001b[38;5;241m100_000\u001b[39m,\u001b[38;5;241m1000\u001b[39m):\n\u001b[0;32m      3\u001b[0m     px\u001b[38;5;241m.\u001b[39mappend(coin(n))\n\u001b[1;32m----> 4\u001b[0m \u001b[43mplt\u001b[49m\u001b[38;5;241m.\u001b[39mfigure(figsize\u001b[38;5;241m=\u001b[39m(\u001b[38;5;241m10\u001b[39m,\u001b[38;5;241m5\u001b[39m))\n\u001b[0;32m      5\u001b[0m plt\u001b[38;5;241m.\u001b[39mplot(\u001b[38;5;28mrange\u001b[39m(\u001b[38;5;241m100\u001b[39m,\u001b[38;5;241m100_000\u001b[39m,\u001b[38;5;241m1000\u001b[39m),px)\n\u001b[0;32m      6\u001b[0m plt\u001b[38;5;241m.\u001b[39maxhline(\u001b[38;5;241m1\u001b[39m\u001b[38;5;241m/\u001b[39m\u001b[38;5;241m2\u001b[39m, color\u001b[38;5;241m=\u001b[39m\u001b[38;5;124m'\u001b[39m\u001b[38;5;124mred\u001b[39m\u001b[38;5;124m'\u001b[39m, linestyle\u001b[38;5;241m=\u001b[39m\u001b[38;5;124m'\u001b[39m\u001b[38;5;124m--\u001b[39m\u001b[38;5;124m'\u001b[39m)\n",
      "\u001b[1;31mNameError\u001b[0m: name 'plt' is not defined"
     ]
    }
   ],
   "source": [
    "px = []\n",
    "for n in range(100,100_000,1000):\n",
    "    px.append(coin(n))\n",
    "plt.figure(figsize=(10,5))\n",
    "plt.plot(range(100,100_000,1000),px)\n",
    "plt.axhline(1/2, color='red', linestyle='--')\n",
    "plt.ylim(0.4,0.6)"
   ]
  },
  {
   "cell_type": "markdown",
   "id": "ca2507c6",
   "metadata": {},
   "source": [
    "Napisz taką samą symulację dla rzutu kością o 6 ściankach."
   ]
  },
  {
   "cell_type": "code",
   "execution_count": null,
   "id": "b7ce7160",
   "metadata": {},
   "outputs": [],
   "source": []
  },
  {
   "cell_type": "markdown",
   "id": "14e91729",
   "metadata": {},
   "source": [
    "Używając zbioru meteo, policz jakie jest prawdopodobieństwo, że w maju będzie więcej niż X stopni? Stwórz funkcję, która pozwala wstawić różne wartości X."
   ]
  },
  {
   "cell_type": "code",
   "execution_count": null,
   "id": "dd31038c",
   "metadata": {},
   "outputs": [],
   "source": []
  },
  {
   "cell_type": "markdown",
   "id": "8f20e87b",
   "metadata": {},
   "source": [
    "Zasymuluj paradoks Monty'ego Halla. W tym paradoksie rozgrywany jest teleturniej w którym do wyboru są trzy bramki.\n",
    "\n",
    "Za jedną z nich jest nagroda, za dwiema pozostałymi koza.\n",
    "\n",
    "Uczestnik wybiera początkowo jedną z bramek. Prowadzący teleturniej otwiera jedną z dwóch niewybranych bramek. Uczestnik może wybrać - zmienić swój wybór lub pozostać przy swoim dotychczasowym wyborze.\n",
    "\n",
    "Zasymuluj prawdopodobieństwo wygranej z uczestnikiem, który zmienia bramki i który nie zmienia jej."
   ]
  },
  {
   "cell_type": "code",
   "execution_count": null,
   "id": "6b271abe",
   "metadata": {},
   "outputs": [],
   "source": []
  }
 ],
 "metadata": {
  "kernelspec": {
   "display_name": "Python 3 (ipykernel)",
   "language": "python",
   "name": "python3"
  },
  "language_info": {
   "codemirror_mode": {
    "name": "ipython",
    "version": 3
   },
   "file_extension": ".py",
   "mimetype": "text/x-python",
   "name": "python",
   "nbconvert_exporter": "python",
   "pygments_lexer": "ipython3",
   "version": "3.9.12"
  }
 },
 "nbformat": 4,
 "nbformat_minor": 5
}