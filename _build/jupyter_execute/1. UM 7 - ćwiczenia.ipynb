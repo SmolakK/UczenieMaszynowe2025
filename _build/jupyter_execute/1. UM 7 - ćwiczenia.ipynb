{
 "cells": [
  {
   "cell_type": "markdown",
   "id": "7b579e33",
   "metadata": {},
   "source": [
    "# Uczenie Maszynowe - ćwiczenia 7\n",
    "\n",
    "Wczytaj zbiór danych Titanic, który zawiera informacje o pasażerach Titanica. Celem jest rozwiazanie problemu klasyfikacyjnego - czy dany pasażer przyżyje jego katastrofę czy też nie. Zapoznaj się ze zbiorem danych - jak zmienne zawiera, jaki jest ich rozkład, czy są w nim brakujące dane."
   ]
  },
  {
   "cell_type": "code",
   "execution_count": 1,
   "id": "6bd5e196",
   "metadata": {},
   "outputs": [
    {
     "name": "stderr",
     "output_type": "stream",
     "text": [
      "C:\\Users\\kamil\\AppData\\Roaming\\Python\\Python39\\site-packages\\sklearn\\utils\\__init__.py:16: UserWarning: A NumPy version >=1.22.4 and <2.3.0 is required for this version of SciPy (detected version 1.21.5)\n",
      "  from scipy.sparse import issparse\n"
     ]
    }
   ],
   "source": [
    "from sklearn import datasets\n",
    "data = datasets.fetch_openml(name='titanic', version=1)"
   ]
  },
  {
   "cell_type": "markdown",
   "id": "54df347e",
   "metadata": {},
   "source": [
    "## 1. Dokonaj imputacji brakujących danych\n",
    "\n",
    "Istnieje kilka metod, zaleznie od typu zmiennej.\n",
    "Jesli jest to zmienna ciągła - wstawić możemy wartość stałą, średnią, medianę lub zastosować bardziej zaawansowane metody jak na przykład imputer metody najbliższych sąsiadów.\n",
    "\n",
    "Jeśli jest to zmienna stała - możemy wstawić wartośc stałą, modę lub zastosować zaawansowane metody."
   ]
  },
  {
   "cell_type": "code",
   "execution_count": null,
   "id": "8cf9ad6b",
   "metadata": {},
   "outputs": [],
   "source": []
  },
  {
   "cell_type": "markdown",
   "id": "2e248e86",
   "metadata": {},
   "source": [
    "## 2. Dokonaj eksploracyjnej analizy danych poszukując najlepszych zmiennych do predykcji. Znajdź rozkłady zmiennych które nie są  normalne. Dokonaj ich transformacji i ponów eksplorację danych."
   ]
  },
  {
   "cell_type": "code",
   "execution_count": null,
   "id": "7c72b614",
   "metadata": {},
   "outputs": [],
   "source": []
  },
  {
   "cell_type": "markdown",
   "id": "489e091c",
   "metadata": {},
   "source": [
    "## 3. Kodowanie zmiennych kategorycznych\n",
    "\n",
    "Zbiór zawiera zmienne kategoryczne, zakoduj zmienne kategoryczne tak by model mógł przeprowadzić predykcję.\n",
    "\n",
    "    Zmienną Sex za pomocą kodowania binarnego (0, 1).\n",
    "    Zmienną Embarked za pomocą one-hot encodingu.\n",
    "\n",
    "Podpowiedź:\n",
    "\n",
    "    Użyj OneHotEncoder z sklearn.preprocessing lub metody pd.get_dummies()."
   ]
  },
  {
   "cell_type": "code",
   "execution_count": null,
   "id": "ab58e31e",
   "metadata": {},
   "outputs": [],
   "source": []
  },
  {
   "cell_type": "markdown",
   "id": "e30f5477",
   "metadata": {},
   "source": [
    "## 4. Przygotuj model\n",
    "\n",
    "Podobnie do poprzednich zadań, zastosuj typowy proces uczenia maszynowego.\n",
    "\n",
    "    Podziel zbiory\n",
    "    Wybierz model\n",
    "    Wykonaj CV\n",
    "    Dobierz hiperparametry modelu\n",
    "    "
   ]
  },
  {
   "cell_type": "code",
   "execution_count": null,
   "id": "c7bd27bc",
   "metadata": {},
   "outputs": [],
   "source": []
  },
  {
   "cell_type": "markdown",
   "id": "40b80f39",
   "metadata": {},
   "source": [
    "## 5. Przeprowadź dokładną analizę wyników i dobierz własny próg decyzyjny\n",
    "\n",
    "Przeprowadź dokładną analizę wyników, zwracając uwagę na takie miary jak dokładnośc, precyzja, czułość, f1-score a także krzywe ROC i PR. Przygotuj wizualizacje wyników.\n",
    "\n",
    "Użyj classification_report, confusion_matrix oraz metryk takich jak roc_auc_score i precision_recall_curve z sklearn.metrics. Oblicz i wyświetl macierz konfuzji w postaci graficznej (heatmap z seaborn)."
   ]
  },
  {
   "cell_type": "code",
   "execution_count": null,
   "id": "4d982647",
   "metadata": {},
   "outputs": [],
   "source": []
  },
  {
   "cell_type": "markdown",
   "id": "734b3865",
   "metadata": {},
   "source": [
    "## 6. Dobierz próg predykcyjny modeli.\n",
    "\n",
    "Mając na uwadzę zwiększenie czułości modelu, dobierz próg decyzyjny tak, by wynik był jak najlepszy. Przeprowadź ponowną analizę wyników.\n"
   ]
  },
  {
   "cell_type": "code",
   "execution_count": null,
   "id": "1b4bac10",
   "metadata": {},
   "outputs": [],
   "source": []
  },
  {
   "cell_type": "markdown",
   "id": "228554ea",
   "metadata": {},
   "source": [
    "## 7. Iteracyjne ulepszenie modelu\n",
    "Cofnij się do etapu doboru hiperaparametrów, by w procesie sprawdzianu krzyżowego dobrać hiperaparametry najlepsze dla celu optymalizacji modelu."
   ]
  },
  {
   "cell_type": "code",
   "execution_count": null,
   "id": "cb093ac6",
   "metadata": {},
   "outputs": [],
   "source": []
  },
  {
   "cell_type": "markdown",
   "id": "7e7ea515",
   "metadata": {},
   "source": [
    "# 8. Iteracyjne ulepszenie modelu #2\n",
    "\n",
    " Dodaj nowe cechy do modelu:\n",
    "\n",
    "    Stwórz grupy wiekowe (child, adult, senior).\n",
    "    Użyj informacji o rodzinie (SibSp, Parch) do stworzenia cechy FamilySize i oznaczenia, czy pasażer podróżował sam.\n",
    "    \n",
    "Ponownie wytrenuj model. Czy wyniki uległy poprawie? Czy masz inny pomysł na poprawę wyników modelu?"
   ]
  },
  {
   "cell_type": "code",
   "execution_count": null,
   "id": "2f66ac3a",
   "metadata": {},
   "outputs": [],
   "source": []
  }
 ],
 "metadata": {
  "kernelspec": {
   "display_name": "Python 3 (ipykernel)",
   "language": "python",
   "name": "python3"
  },
  "language_info": {
   "codemirror_mode": {
    "name": "ipython",
    "version": 3
   },
   "file_extension": ".py",
   "mimetype": "text/x-python",
   "name": "python",
   "nbconvert_exporter": "python",
   "pygments_lexer": "ipython3",
   "version": "3.9.12"
  }
 },
 "nbformat": 4,
 "nbformat_minor": 5
}