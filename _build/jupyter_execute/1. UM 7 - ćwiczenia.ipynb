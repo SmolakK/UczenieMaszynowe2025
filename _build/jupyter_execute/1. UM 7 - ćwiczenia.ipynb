{
 "cells": [
  {
   "cell_type": "markdown",
   "id": "7b579e33",
   "metadata": {},
   "source": [
    "# Uczenie Maszynowe - ćwiczenia 7\n",
    "\n",
    "Wczytaj zbiór danych Titanic, który zawiera informacje o pasażerach Titanica. Celem jest rozwiazanie problemu klasyfikacyjnego - czy dany pasażer przyżyje jego katastrofę czy też nie. Zapoznaj się ze zbiorem danych - jak zmienne zawiera, jaki jest ich rozkład, czy są w nim brakujące dane."
   ]
  },
  {
   "cell_type": "code",
   "execution_count": 1,
   "id": "6bd5e196",
   "metadata": {},
   "outputs": [
    {
     "name": "stderr",
     "output_type": "stream",
     "text": [
      "C:\\Users\\kamil\\AppData\\Roaming\\Python\\Python39\\site-packages\\sklearn\\utils\\__init__.py:16: UserWarning: A NumPy version >=1.22.4 and <2.3.0 is required for this version of SciPy (detected version 1.21.5)\n",
      "  from scipy.sparse import issparse\n"
     ]
    }
   ],
   "source": [
    "from sklearn import datasets\n",
    "data = datasets.fetch_openml(name='titanic', version=1)"
   ]
  },
  {
   "cell_type": "code",
   "execution_count": 2,
   "id": "294a091e",
   "metadata": {},
   "outputs": [],
   "source": [
    "data['data'].to_csv('titanic.csv')"
   ]
  },
  {
   "cell_type": "code",
   "execution_count": 3,
   "id": "33326fbc",
   "metadata": {},
   "outputs": [],
   "source": [
    "data['target'].to_csv('titanic_target.csv')"
   ]
  },
  {
   "cell_type": "code",
   "execution_count": 4,
   "id": "355aa186",
   "metadata": {},
   "outputs": [],
   "source": [
    "dane = data['data']"
   ]
  },
  {
   "cell_type": "code",
   "execution_count": 5,
   "id": "f09915df",
   "metadata": {},
   "outputs": [
    {
     "data": {
      "text/html": [
       "<div>\n",
       "<style scoped>\n",
       "    .dataframe tbody tr th:only-of-type {\n",
       "        vertical-align: middle;\n",
       "    }\n",
       "\n",
       "    .dataframe tbody tr th {\n",
       "        vertical-align: top;\n",
       "    }\n",
       "\n",
       "    .dataframe thead th {\n",
       "        text-align: right;\n",
       "    }\n",
       "</style>\n",
       "<table border=\"1\" class=\"dataframe\">\n",
       "  <thead>\n",
       "    <tr style=\"text-align: right;\">\n",
       "      <th></th>\n",
       "      <th>pclass</th>\n",
       "      <th>name</th>\n",
       "      <th>sex</th>\n",
       "      <th>age</th>\n",
       "      <th>sibsp</th>\n",
       "      <th>parch</th>\n",
       "      <th>ticket</th>\n",
       "      <th>fare</th>\n",
       "      <th>cabin</th>\n",
       "      <th>embarked</th>\n",
       "      <th>boat</th>\n",
       "      <th>body</th>\n",
       "      <th>home.dest</th>\n",
       "    </tr>\n",
       "  </thead>\n",
       "  <tbody>\n",
       "    <tr>\n",
       "      <th>0</th>\n",
       "      <td>1</td>\n",
       "      <td>Allen, Miss. Elisabeth Walton</td>\n",
       "      <td>female</td>\n",
       "      <td>29.0000</td>\n",
       "      <td>0</td>\n",
       "      <td>0</td>\n",
       "      <td>24160</td>\n",
       "      <td>211.3375</td>\n",
       "      <td>B5</td>\n",
       "      <td>S</td>\n",
       "      <td>2</td>\n",
       "      <td>NaN</td>\n",
       "      <td>St Louis, MO</td>\n",
       "    </tr>\n",
       "    <tr>\n",
       "      <th>1</th>\n",
       "      <td>1</td>\n",
       "      <td>Allison, Master. Hudson Trevor</td>\n",
       "      <td>male</td>\n",
       "      <td>0.9167</td>\n",
       "      <td>1</td>\n",
       "      <td>2</td>\n",
       "      <td>113781</td>\n",
       "      <td>151.5500</td>\n",
       "      <td>C22 C26</td>\n",
       "      <td>S</td>\n",
       "      <td>11</td>\n",
       "      <td>NaN</td>\n",
       "      <td>Montreal, PQ / Chesterville, ON</td>\n",
       "    </tr>\n",
       "    <tr>\n",
       "      <th>2</th>\n",
       "      <td>1</td>\n",
       "      <td>Allison, Miss. Helen Loraine</td>\n",
       "      <td>female</td>\n",
       "      <td>2.0000</td>\n",
       "      <td>1</td>\n",
       "      <td>2</td>\n",
       "      <td>113781</td>\n",
       "      <td>151.5500</td>\n",
       "      <td>C22 C26</td>\n",
       "      <td>S</td>\n",
       "      <td>NaN</td>\n",
       "      <td>NaN</td>\n",
       "      <td>Montreal, PQ / Chesterville, ON</td>\n",
       "    </tr>\n",
       "    <tr>\n",
       "      <th>3</th>\n",
       "      <td>1</td>\n",
       "      <td>Allison, Mr. Hudson Joshua Creighton</td>\n",
       "      <td>male</td>\n",
       "      <td>30.0000</td>\n",
       "      <td>1</td>\n",
       "      <td>2</td>\n",
       "      <td>113781</td>\n",
       "      <td>151.5500</td>\n",
       "      <td>C22 C26</td>\n",
       "      <td>S</td>\n",
       "      <td>NaN</td>\n",
       "      <td>135.0</td>\n",
       "      <td>Montreal, PQ / Chesterville, ON</td>\n",
       "    </tr>\n",
       "    <tr>\n",
       "      <th>4</th>\n",
       "      <td>1</td>\n",
       "      <td>Allison, Mrs. Hudson J C (Bessie Waldo Daniels)</td>\n",
       "      <td>female</td>\n",
       "      <td>25.0000</td>\n",
       "      <td>1</td>\n",
       "      <td>2</td>\n",
       "      <td>113781</td>\n",
       "      <td>151.5500</td>\n",
       "      <td>C22 C26</td>\n",
       "      <td>S</td>\n",
       "      <td>NaN</td>\n",
       "      <td>NaN</td>\n",
       "      <td>Montreal, PQ / Chesterville, ON</td>\n",
       "    </tr>\n",
       "    <tr>\n",
       "      <th>...</th>\n",
       "      <td>...</td>\n",
       "      <td>...</td>\n",
       "      <td>...</td>\n",
       "      <td>...</td>\n",
       "      <td>...</td>\n",
       "      <td>...</td>\n",
       "      <td>...</td>\n",
       "      <td>...</td>\n",
       "      <td>...</td>\n",
       "      <td>...</td>\n",
       "      <td>...</td>\n",
       "      <td>...</td>\n",
       "      <td>...</td>\n",
       "    </tr>\n",
       "    <tr>\n",
       "      <th>1304</th>\n",
       "      <td>3</td>\n",
       "      <td>Zabour, Miss. Hileni</td>\n",
       "      <td>female</td>\n",
       "      <td>14.5000</td>\n",
       "      <td>1</td>\n",
       "      <td>0</td>\n",
       "      <td>2665</td>\n",
       "      <td>14.4542</td>\n",
       "      <td>NaN</td>\n",
       "      <td>C</td>\n",
       "      <td>NaN</td>\n",
       "      <td>328.0</td>\n",
       "      <td>NaN</td>\n",
       "    </tr>\n",
       "    <tr>\n",
       "      <th>1305</th>\n",
       "      <td>3</td>\n",
       "      <td>Zabour, Miss. Thamine</td>\n",
       "      <td>female</td>\n",
       "      <td>NaN</td>\n",
       "      <td>1</td>\n",
       "      <td>0</td>\n",
       "      <td>2665</td>\n",
       "      <td>14.4542</td>\n",
       "      <td>NaN</td>\n",
       "      <td>C</td>\n",
       "      <td>NaN</td>\n",
       "      <td>NaN</td>\n",
       "      <td>NaN</td>\n",
       "    </tr>\n",
       "    <tr>\n",
       "      <th>1306</th>\n",
       "      <td>3</td>\n",
       "      <td>Zakarian, Mr. Mapriededer</td>\n",
       "      <td>male</td>\n",
       "      <td>26.5000</td>\n",
       "      <td>0</td>\n",
       "      <td>0</td>\n",
       "      <td>2656</td>\n",
       "      <td>7.2250</td>\n",
       "      <td>NaN</td>\n",
       "      <td>C</td>\n",
       "      <td>NaN</td>\n",
       "      <td>304.0</td>\n",
       "      <td>NaN</td>\n",
       "    </tr>\n",
       "    <tr>\n",
       "      <th>1307</th>\n",
       "      <td>3</td>\n",
       "      <td>Zakarian, Mr. Ortin</td>\n",
       "      <td>male</td>\n",
       "      <td>27.0000</td>\n",
       "      <td>0</td>\n",
       "      <td>0</td>\n",
       "      <td>2670</td>\n",
       "      <td>7.2250</td>\n",
       "      <td>NaN</td>\n",
       "      <td>C</td>\n",
       "      <td>NaN</td>\n",
       "      <td>NaN</td>\n",
       "      <td>NaN</td>\n",
       "    </tr>\n",
       "    <tr>\n",
       "      <th>1308</th>\n",
       "      <td>3</td>\n",
       "      <td>Zimmerman, Mr. Leo</td>\n",
       "      <td>male</td>\n",
       "      <td>29.0000</td>\n",
       "      <td>0</td>\n",
       "      <td>0</td>\n",
       "      <td>315082</td>\n",
       "      <td>7.8750</td>\n",
       "      <td>NaN</td>\n",
       "      <td>S</td>\n",
       "      <td>NaN</td>\n",
       "      <td>NaN</td>\n",
       "      <td>NaN</td>\n",
       "    </tr>\n",
       "  </tbody>\n",
       "</table>\n",
       "<p>1309 rows × 13 columns</p>\n",
       "</div>"
      ],
      "text/plain": [
       "      pclass                                             name     sex  \\\n",
       "0          1                    Allen, Miss. Elisabeth Walton  female   \n",
       "1          1                   Allison, Master. Hudson Trevor    male   \n",
       "2          1                     Allison, Miss. Helen Loraine  female   \n",
       "3          1             Allison, Mr. Hudson Joshua Creighton    male   \n",
       "4          1  Allison, Mrs. Hudson J C (Bessie Waldo Daniels)  female   \n",
       "...      ...                                              ...     ...   \n",
       "1304       3                             Zabour, Miss. Hileni  female   \n",
       "1305       3                            Zabour, Miss. Thamine  female   \n",
       "1306       3                        Zakarian, Mr. Mapriededer    male   \n",
       "1307       3                              Zakarian, Mr. Ortin    male   \n",
       "1308       3                               Zimmerman, Mr. Leo    male   \n",
       "\n",
       "          age  sibsp  parch  ticket      fare    cabin embarked boat   body  \\\n",
       "0     29.0000      0      0   24160  211.3375       B5        S    2    NaN   \n",
       "1      0.9167      1      2  113781  151.5500  C22 C26        S   11    NaN   \n",
       "2      2.0000      1      2  113781  151.5500  C22 C26        S  NaN    NaN   \n",
       "3     30.0000      1      2  113781  151.5500  C22 C26        S  NaN  135.0   \n",
       "4     25.0000      1      2  113781  151.5500  C22 C26        S  NaN    NaN   \n",
       "...       ...    ...    ...     ...       ...      ...      ...  ...    ...   \n",
       "1304  14.5000      1      0    2665   14.4542      NaN        C  NaN  328.0   \n",
       "1305      NaN      1      0    2665   14.4542      NaN        C  NaN    NaN   \n",
       "1306  26.5000      0      0    2656    7.2250      NaN        C  NaN  304.0   \n",
       "1307  27.0000      0      0    2670    7.2250      NaN        C  NaN    NaN   \n",
       "1308  29.0000      0      0  315082    7.8750      NaN        S  NaN    NaN   \n",
       "\n",
       "                            home.dest  \n",
       "0                        St Louis, MO  \n",
       "1     Montreal, PQ / Chesterville, ON  \n",
       "2     Montreal, PQ / Chesterville, ON  \n",
       "3     Montreal, PQ / Chesterville, ON  \n",
       "4     Montreal, PQ / Chesterville, ON  \n",
       "...                               ...  \n",
       "1304                              NaN  \n",
       "1305                              NaN  \n",
       "1306                              NaN  \n",
       "1307                              NaN  \n",
       "1308                              NaN  \n",
       "\n",
       "[1309 rows x 13 columns]"
      ]
     },
     "execution_count": 5,
     "metadata": {},
     "output_type": "execute_result"
    }
   ],
   "source": [
    "dane"
   ]
  },
  {
   "cell_type": "code",
   "execution_count": 6,
   "id": "759f5b48",
   "metadata": {},
   "outputs": [
    {
     "name": "stderr",
     "output_type": "stream",
     "text": [
      "C:\\Users\\kamil\\AppData\\Local\\Temp\\ipykernel_11644\\2020417258.py:1: FutureWarning: The default value of regex will change from True to False in a future version.\n",
      "  dane.cabin.str.replace(r'(\\d+[.\\d]*)','').unique()\n"
     ]
    },
    {
     "data": {
      "text/plain": [
       "array(['B', 'C C', 'E', 'D', 'A', 'C', nan, 'B B', 'T', 'B B B', 'C C C',\n",
       "       'D D', 'B B B B', 'E E', 'F', 'F G', 'F E', 'G'], dtype=object)"
      ]
     },
     "execution_count": 6,
     "metadata": {},
     "output_type": "execute_result"
    }
   ],
   "source": [
    "dane.cabin.str.replace(r'(\\d+[.\\d]*)','').unique()"
   ]
  },
  {
   "cell_type": "markdown",
   "id": "54df347e",
   "metadata": {},
   "source": [
    "## 1. Dokonaj imputacji brakujących danych\n",
    "\n",
    "Istnieje kilka metod, zaleznie od typu zmiennej.\n",
    "Jesli jest to zmienna ciągła - wstawić możemy wartość stałą, średnią, medianę lub zastosować bardziej zaawansowane metody jak na przykład imputer metody najbliższych sąsiadów.\n",
    "\n",
    "Jeśli jest to zmienna stała - możemy wstawić wartośc stałą, modę lub zastosować zaawansowane metody."
   ]
  },
  {
   "cell_type": "code",
   "execution_count": null,
   "id": "8cf9ad6b",
   "metadata": {},
   "outputs": [],
   "source": []
  },
  {
   "cell_type": "markdown",
   "id": "2e248e86",
   "metadata": {},
   "source": [
    "## 2. Dokonaj eksploracyjnej analizy danych poszukując najlepszych zmiennych do predykcji. Znajdź rozkłady zmiennych które nie są  normalne. Dokonaj ich transformacji i ponów eksplorację danych."
   ]
  },
  {
   "cell_type": "code",
   "execution_count": null,
   "id": "7c72b614",
   "metadata": {},
   "outputs": [],
   "source": []
  },
  {
   "cell_type": "markdown",
   "id": "489e091c",
   "metadata": {},
   "source": [
    "## 3. Kodowanie zmiennych kategorycznych\n",
    "\n",
    "Zbiór zawiera zmienne kategoryczne, zakoduj zmienne kategoryczne tak by model mógł przeprowadzić predykcję.\n",
    "\n",
    "    Zmienną Sex za pomocą kodowania binarnego (0, 1).\n",
    "    Zmienną Embarked za pomocą one-hot encodingu.\n",
    "\n",
    "Podpowiedź:\n",
    "\n",
    "    Użyj OneHotEncoder z sklearn.preprocessing lub metody pd.get_dummies()."
   ]
  },
  {
   "cell_type": "code",
   "execution_count": null,
   "id": "ab58e31e",
   "metadata": {},
   "outputs": [],
   "source": []
  },
  {
   "cell_type": "markdown",
   "id": "e30f5477",
   "metadata": {},
   "source": [
    "## 4. Przygotuj model\n",
    "\n",
    "Podobnie do poprzednich zadań, zastosuj typowy proces uczenia maszynowego.\n",
    "\n",
    "    Podziel zbiory\n",
    "    Wybierz model\n",
    "    Wykonaj CV\n",
    "    Dobierz hiperparametry modelu\n",
    "    "
   ]
  },
  {
   "cell_type": "code",
   "execution_count": null,
   "id": "c7bd27bc",
   "metadata": {},
   "outputs": [],
   "source": []
  },
  {
   "cell_type": "markdown",
   "id": "40b80f39",
   "metadata": {},
   "source": [
    "## 5. Przeprowadź dokładną analizę wyników i dobierz własny próg decyzyjny\n",
    "\n",
    "Przeprowadź dokładną analizę wyników, zwracając uwagę na takie miary jak dokładnośc, precyzja, czułość, f1-score a także krzywe ROC i PR. Przygotuj wizualizacje wyników.\n",
    "\n",
    "Użyj classification_report, confusion_matrix oraz metryk takich jak roc_auc_score i precision_recall_curve z sklearn.metrics. Oblicz i wyświetl macierz konfuzji w postaci graficznej (heatmap z seaborn)."
   ]
  },
  {
   "cell_type": "code",
   "execution_count": null,
   "id": "4d982647",
   "metadata": {},
   "outputs": [],
   "source": []
  },
  {
   "cell_type": "markdown",
   "id": "734b3865",
   "metadata": {},
   "source": [
    "## 6. Dobierz próg predykcyjny modeli.\n",
    "\n",
    "Mając na uwadzę zwiększenie czułości modelu, dobierz próg decyzyjny tak, by wynik był jak najlepszy. Przeprowadź ponowną analizę wyników.\n"
   ]
  },
  {
   "cell_type": "code",
   "execution_count": null,
   "id": "1b4bac10",
   "metadata": {},
   "outputs": [],
   "source": []
  },
  {
   "cell_type": "markdown",
   "id": "228554ea",
   "metadata": {},
   "source": [
    "## 7. Iteracyjne ulepszenie modelu\n",
    "Cofnij się do etapu doboru hiperaparametrów, by w procesie sprawdzianu krzyżowego dobrać hiperaparametry najlepsze dla celu optymalizacji modelu."
   ]
  },
  {
   "cell_type": "code",
   "execution_count": null,
   "id": "cb093ac6",
   "metadata": {},
   "outputs": [],
   "source": []
  },
  {
   "cell_type": "markdown",
   "id": "7e7ea515",
   "metadata": {},
   "source": [
    "# 8. Iteracyjne ulepszenie modelu #2\n",
    "\n",
    " Dodaj nowe cechy do modelu:\n",
    "\n",
    "    Stwórz grupy wiekowe (child, adult, senior).\n",
    "    Użyj informacji o rodzinie (SibSp, Parch) do stworzenia cechy FamilySize i oznaczenia, czy pasażer podróżował sam.\n",
    "    \n",
    "Ponownie wytrenuj model. Czy wyniki uległy poprawie? Czy masz inny pomysł na poprawę wyników modelu?"
   ]
  },
  {
   "cell_type": "code",
   "execution_count": null,
   "id": "2f66ac3a",
   "metadata": {},
   "outputs": [],
   "source": []
  }
 ],
 "metadata": {
  "kernelspec": {
   "display_name": "Python 3 (ipykernel)",
   "language": "python",
   "name": "python3"
  },
  "language_info": {
   "codemirror_mode": {
    "name": "ipython",
    "version": 3
   },
   "file_extension": ".py",
   "mimetype": "text/x-python",
   "name": "python",
   "nbconvert_exporter": "python",
   "pygments_lexer": "ipython3",
   "version": "3.9.12"
  }
 },
 "nbformat": 4,
 "nbformat_minor": 5
}