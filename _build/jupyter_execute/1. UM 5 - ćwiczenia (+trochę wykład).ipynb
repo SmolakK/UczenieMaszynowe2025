{
 "cells": [
  {
   "cell_type": "markdown",
   "id": "437e2b1e",
   "metadata": {},
   "source": [
    "# Uczenie Maszynowe - ćwiczenia 5\n",
    "\n",
    "Dziś poznamy nowe algorytmy uczenia maszynowego, dowiemy się czegoś o hiperparametrach modeli i zastosujemy je w praktyce!"
   ]
  },
  {
   "cell_type": "markdown",
   "id": "712aad2e",
   "metadata": {},
   "source": [
    "# Support Vector Regression (SVR)\n",
    "\n",
    "Support Vector Regression (SVR) to algorytm oparty na zasadach Support Vector Machines (SVM), stosowany do regresji. Celem SVR jest znalezienie linii, krzywej lub powierzchni, która najlepiej odwzorowuje zależność między zmiennymi wejściowymi a wyjściową. Oto kluczowe aspekty działania SVR:\n",
    "\n",
    "Wektory nośne (support vector) oznacza wykorzystanie punktów \"najistotniejszych\" do wpsowania modelu.\n",
    "\n",
    "### Zasada Epsilon-Tube\n",
    "\n",
    "SVR nie próbuje dokładnie dopasować modelu do każdego punktu danych. Zamiast tego, określa pewien margines błędu, zwany epsilon (ε), w którym model toleruje różnice między przewidywanymi a rzeczywistymi wartościami.\n",
    "\n",
    "Jeśli punkt danych znajduje się w tym marginesie, jest traktowany jako \"dobrze dopasowany\" i nie wpływa na ostateczne rozwiązanie.\n",
    "Punkty poza marginesem (leżące poza epsilon-tube) przyczyniają się do błędu i są karane w funkcji kosztu.\n",
    "\n",
    "### Optymalizacja i marginesy\n",
    "\n",
    "Celem SVR jest znalezienie takiej linii/krzywej/powierzchni, która:\n",
    "\n",
    "Minimalizuje odchylenie od danych, jednocześnie dopuszczając tolerancję ε.\n",
    "Maksymalizuje płaskość funkcji, co oznacza regularyzację.\n",
    "\n",
    "Formuła optymalizacji w SVR uwzględnia dwa aspekty:\n",
    "\n",
    "Minimalizację ∣∣w∣∣2 (ograniczanie modelu, aby był prosty).\n",
    "Minimalizację błędów dla punktów poza epsilon-tube (punkty trudne do przewidzenia są karane proporcjonalnie do ich odległości od marginesu).\n",
    "\n",
    "### Kara za odchylenia - parametr C\n",
    "\n",
    "Parametr C kontroluje kompromis między dopasowaniem modelu a jego ogólną złożonością:\n",
    "\n",
    "    Niskie C: Model jest bardziej elastyczny, dopuszcza większe błędy, co może skutkować niedopasowaniem (underfitting).\n",
    "    Wysokie C: Model bardziej stara się dopasować do danych treningowych, co może prowadzić do przeuczenia (overfitting).\n",
    "\n",
    "### Kernel i przestrzeń cech\n",
    "\n",
    "SVR może pracować z danymi nieliniowymi dzięki tzw. trikom jądrowym (kernel tricks):\n",
    "\n",
    "Kernel przekształca dane do wyższej przestrzeni wymiarów, gdzie można łatwiej znaleźć liniową hiperpowierzchnię (np. linię regresji).\n",
    "\n",
    "Popularne kernele to:\n",
    "        \n",
    "        Linear (prosta regresja liniowa),\n",
    "        Polynomial (model polinomiczny),\n",
    "        RBF (nieliniowy model z funkcją radialną, dobry dla złożonych danych).\n",
    "\n",
    "### Epsilon i funkcja kosztu\n",
    "\n",
    "Parametr ε (epsilon) definiuje szerokość marginesu tolerancji:\n",
    "\n",
    "    Mniejsze epsilon: Model stara się bardziej dopasować do danych, co może skutkować przeuczeniem.\n",
    "    Większe epsilon: Model jest bardziej tolerancyjny na błędy i ignoruje drobne odchylenia.\n"
   ]
  },
  {
   "cell_type": "code",
   "execution_count": 1,
   "id": "a1f2fcc2",
   "metadata": {},
   "outputs": [
    {
     "data": {
      "application/vnd.jupyter.widget-view+json": {
       "model_id": "6142a821905a47da8c626b33ca8f6a8c",
       "version_major": 2,
       "version_minor": 0
      },
      "text/plain": [
       "interactive(children=(FloatSlider(value=1.0, description='C', min=0.1), FloatSlider(value=0.1, description='ep…"
      ]
     },
     "metadata": {},
     "output_type": "display_data"
    },
    {
     "data": {
      "text/plain": [
       "<function __main__.plot_svr(C=1.0, epsilon=0.1, kernel='rbf')>"
      ]
     },
     "execution_count": 1,
     "metadata": {},
     "output_type": "execute_result"
    }
   ],
   "source": [
    "import numpy as np\n",
    "import matplotlib.pyplot as plt\n",
    "from sklearn.svm import SVR\n",
    "from ipywidgets import interact\n",
    "\n",
    "# Generate synthetic data\n",
    "np.random.seed(42)\n",
    "X = np.sort(5 * np.random.rand(50, 1), axis=0)\n",
    "y = X.ravel() + 4 * (0.5 - np.random.rand(50))\n",
    "\n",
    "# Function to plot SVR with interactive controls\n",
    "def plot_svr(C=1.0, epsilon=0.1, kernel='rbf'):\n",
    "    # Train SVR model\n",
    "    svr = SVR(kernel=kernel, C=C, epsilon=epsilon)\n",
    "    svr.fit(X, y)\n",
    "    \n",
    "    # Generate predictions\n",
    "    X_fit = np.linspace(0, 5, 500).reshape(-1, 1)\n",
    "    y_fit = svr.predict(X_fit)\n",
    "    \n",
    "    # Plot data and SVR predictions\n",
    "    plt.figure(figsize=(10, 6))\n",
    "    plt.scatter(X, y, color='red', label='Data points')\n",
    "    plt.plot(X_fit, y_fit, color='blue', label='SVR prediction')\n",
    "    plt.fill_between(\n",
    "        X_fit.ravel(),\n",
    "        y_fit - epsilon,\n",
    "        y_fit + epsilon,\n",
    "        color='blue',\n",
    "        alpha=0.2,\n",
    "        label=f\"Epsilon-tube (ε={epsilon})\"\n",
    "    )\n",
    "    plt.title(f\"Support Vector Regression (Kernel: {kernel}, C={C}, ε={epsilon})\")\n",
    "    plt.xlabel(\"X\")\n",
    "    plt.ylabel(\"y\")\n",
    "    plt.legend()\n",
    "    plt.show()\n",
    "\n",
    "# Create interactive widget\n",
    "interact(\n",
    "    plot_svr,\n",
    "    C=(0.1, 100.0, 0.1),\n",
    "    epsilon=(0.01, 1.0, 0.01),\n",
    "    kernel=['linear', 'poly', 'rbf']\n",
    ")\n"
   ]
  },
  {
   "cell_type": "code",
   "execution_count": 2,
   "id": "a23bdb9f",
   "metadata": {
    "scrolled": false
   },
   "outputs": [
    {
     "data": {
      "application/vnd.jupyter.widget-view+json": {
       "model_id": "d4c09e362c8c46fb9f3c1b91159ae682",
       "version_major": 2,
       "version_minor": 0
      },
      "text/plain": [
       "interactive(children=(FloatSlider(value=1.0, description='C', min=0.1), FloatSlider(value=0.1, description='ep…"
      ]
     },
     "metadata": {},
     "output_type": "display_data"
    },
    {
     "data": {
      "text/plain": [
       "<function __main__.plot_svr(C=1.0, epsilon=0.1, kernel='rbf')>"
      ]
     },
     "execution_count": 2,
     "metadata": {},
     "output_type": "execute_result"
    }
   ],
   "source": [
    "import numpy as np\n",
    "import matplotlib.pyplot as plt\n",
    "from sklearn.svm import SVR\n",
    "from ipywidgets import interact\n",
    "\n",
    "# Generate synthetic data\n",
    "np.random.seed(42)\n",
    "X = np.sort(5 * np.random.rand(50, 1), axis=0)\n",
    "y = np.sin(X).ravel() + 0.3 * (0.5 - np.random.rand(50))\n",
    "\n",
    "# Function to plot SVR with interactive controls\n",
    "def plot_svr(C=1.0, epsilon=0.1, kernel='rbf'):\n",
    "    # Train SVR model\n",
    "    svr = SVR(kernel=kernel, C=C, epsilon=epsilon)\n",
    "    svr.fit(X, y)\n",
    "    \n",
    "    # Generate predictions\n",
    "    X_fit = np.linspace(0, 5, 500).reshape(-1, 1)\n",
    "    y_fit = svr.predict(X_fit)\n",
    "    \n",
    "    # Plot data and SVR predictions\n",
    "    plt.figure(figsize=(10, 6))\n",
    "    plt.scatter(X, y, color='red', label='Data points')\n",
    "    plt.plot(X_fit, y_fit, color='blue', label='SVR prediction')\n",
    "    plt.fill_between(\n",
    "        X_fit.ravel(),\n",
    "        y_fit - epsilon,\n",
    "        y_fit + epsilon,\n",
    "        color='blue',\n",
    "        alpha=0.2,\n",
    "        label=f\"Epsilon-tube (ε={epsilon})\"\n",
    "    )\n",
    "    plt.title(f\"Support Vector Regression (Kernel: {kernel}, C={C}, ε={epsilon})\")\n",
    "    plt.xlabel(\"X\")\n",
    "    plt.ylabel(\"y\")\n",
    "    plt.legend()\n",
    "    plt.show()\n",
    "\n",
    "# Create interactive widget\n",
    "interact(\n",
    "    plot_svr,\n",
    "    C=(0.1, 100.0, 0.1),\n",
    "    epsilon=(0.01, 1.0, 0.01),\n",
    "    kernel=['linear', 'poly', 'rbf']\n",
    ")\n"
   ]
  },
  {
   "cell_type": "markdown",
   "id": "e29b0ee1",
   "metadata": {},
   "source": [
    "# Zadanie 1.\n",
    "\n",
    "Poniżej znajdziesz wygenerowane dwa zestawy danych. Wykorzystaj algorytm SVR by jak najlepiej rozwiązać problem predykcji. Wyświetl wpasowany model w dane by lepiej zwizualizować zależność parametrów od zachowania algorytmu.\n"
   ]
  },
  {
   "cell_type": "code",
   "execution_count": 3,
   "id": "a77ea37b",
   "metadata": {},
   "outputs": [],
   "source": [
    "from sklearn.datasets import make_regression\n",
    "dataset1 = make_regression(n_samples=100,n_features=1,noise=3)\n",
    "dataset1_x = dataset1[0]\n",
    "dataset1_y = dataset1[1]\n",
    "dataset2 = make_regression(n_samples=100,n_features=1,noise=3)\n",
    "dataset2_x = dataset2[0]\n",
    "dataset2_y = dataset2[1]**2"
   ]
  },
  {
   "cell_type": "code",
   "execution_count": 4,
   "id": "9a0400c8",
   "metadata": {},
   "outputs": [
    {
     "data": {
      "text/plain": [
       "<matplotlib.collections.PathCollection at 0x1e910b93280>"
      ]
     },
     "execution_count": 4,
     "metadata": {},
     "output_type": "execute_result"
    },
    {
     "data": {
      "image/png": "[encoded data removed]",
      "text/plain": [
       "<Figure size 432x288 with 1 Axes>"
      ]
     },
     "metadata": {
      "needs_background": "light"
     },
     "output_type": "display_data"
    }
   ],
   "source": [
    "plt.scatter(dataset1_x,dataset1_y)"
   ]
  },
  {
   "cell_type": "code",
   "execution_count": 5,
   "id": "8821065e",
   "metadata": {},
   "outputs": [
    {
     "data": {
      "text/plain": [
       "<matplotlib.collections.PathCollection at 0x1e9103d1a60>"
      ]
     },
     "execution_count": 5,
     "metadata": {},
     "output_type": "execute_result"
    },
    {
     "data": {
      "image/png": "[encoded data removed]",
      "text/plain": [
       "<Figure size 432x288 with 1 Axes>"
      ]
     },
     "metadata": {
      "needs_background": "light"
     },
     "output_type": "display_data"
    }
   ],
   "source": [
    "plt.scatter(dataset2_x,dataset2_y)"
   ]
  },
  {
   "cell_type": "code",
   "execution_count": null,
   "id": "992a934a",
   "metadata": {},
   "outputs": [],
   "source": []
  },
  {
   "cell_type": "markdown",
   "id": "df6f7874",
   "metadata": {},
   "source": [
    "# Zadanie 2.\n",
    "\n",
    "Wykorzystując dane z poprzednich ćwiczeń (i podział na zbiory oraz sprawdzian kryżowy), wykorzystaj algorytm SVR do predykcji. Wesprzyj się dokumentacją: https://scikit-learn.org/1.5/modules/generated/sklearn.svm.SVR.html\n",
    "\n",
    "2a. Sprawdź wynik SVR (dla domyślnych parametrów, ale różnych typów kernela) dla różnych kombinacji cech. Potwierdź czy model działa najlepiej dla wcześniej wybranego zestawu cech czy też może zauważalna jest różnica.\n",
    "2b. Dla wybranego zestawu cech, sprawdź różne kombinacje hiperparametrów modelu, w tym kernel, C, epsilon oraz gamma. "
   ]
  },
  {
   "cell_type": "code",
   "execution_count": null,
   "id": "e40671a8",
   "metadata": {},
   "outputs": [],
   "source": []
  },
  {
   "cell_type": "markdown",
   "id": "89e010eb",
   "metadata": {},
   "source": [
    "# **Regresja k-NN (k-Nearest Neighbors Regression)**\n",
    "\n",
    "Regresja k-NN (ang. *k-Nearest Neighbors Regression*) to prosty, ale potężny algorytm uczenia maszynowego, który wykorzystuje odległości między punktami danych do przewidywania wartości ciągłych. Jest to metoda nieparametryczna, co oznacza, że nie zakłada konkretnej formy zależności między cechami a wartościami wyjściowymi.\n",
    "\n",
    "---\n",
    "\n",
    "## **Jak działa algorytm k-NN w regresji?**\n",
    "\n",
    "1. **Zbieranie danych treningowych**:\n",
    "   - Algorytm zapamiętuje wszystkie dane treningowe i nie buduje żadnego modelu wstępnego.\n",
    "\n",
    "2. **Dla nowej próbki (punktu testowego)**:\n",
    "   - **Krok 1**: Oblicz odległości między nową próbką a wszystkimi punktami w zbiorze treningowym.\n",
    "     - Najczęściej używane metryki odległości to:\n",
    "       - **Odległość euklidesowa**:\n",
    "         $$\n",
    "         d(x, x') = \\sqrt{\\sum_{i=1}^n (x_i - x'_i)^2}\n",
    "         $$\n",
    "       - **Odległość Manhattan**:\n",
    "         $$\n",
    "         d(x, x') = \\sum_{i=1}^n |x_i - x'_i|\n",
    "         $$\n",
    "   - **Krok 2**: Wybierz \\( k \\) najbliższych sąsiadów (najmniejszych odległości) do punktu testowego.\n",
    "\n",
    "3. **Obliczanie wartości przewidywanej**:\n",
    "   - Wartość przewidywana dla punktu testowego to **średnia wartość wyjściowa \\( y \\)** najbliższych sąsiadów:\n",
    "     $$\n",
    "     \\hat{y} = \\frac{1}{k} \\sum_{i=1}^k y_i\n",
    "     $$\n",
    "   - Możliwe jest również stosowanie wag, gdzie bliżsi sąsiedzi mają większy wpływ na wynik:\n",
    "     $$\n",
    "     \\hat{y} = \\frac{\\sum_{i=1}^k w_i \\cdot y_i}{\\sum_{i=1}^k w_i}\n",
    "     $$\n",
    "     gdzie $ w_i $ to odwrotność odległości do sąsiada $ w_i = \\frac{1}{d(x, x'_i) + \\epsilon} $, $ \\epsilon $ to mała wartość zapobiegająca dzieleniu przez zero.\n",
    "\n",
    "4. **Powtórzenie dla wszystkich punktów testowych**:\n",
    "   - Algorytm wykonuje powyższe kroki dla każdej próbki w zbiorze testowym.\n",
    "\n",
    "---\n",
    "\n",
    "## **Hiperparametry k-NN**\n",
    "\n",
    "1. **Liczba sąsiadów $k$**:\n",
    "   - Małe $ k $:\n",
    "     - Model bardziej wrażliwy na szum w danych (przejawia tendencję do overfittingu).\n",
    "   - Duże $ k $:\n",
    "     - Model uśrednia wartości w szerszym zakresie, co może prowadzić do underfittingu.\n",
    "\n",
    "2. **Metryka odległości**:\n",
    "   - Najczęściej używana jest odległość euklidesowa, ale można stosować inne miary, takie jak Manhattan, Minkowski czy metryki specjalistyczne.\n",
    "\n",
    "3. **Wagi sąsiadów**:\n",
    "   - Domyślnie wszyscy sąsiedzi mają równą wagę.\n",
    "   - Można stosować wagi zależne od odległości, aby bliżsi sąsiedzi mieli większy wpływ.\n",
    "\n",
    "---\n",
    "\n",
    "## **Zalety algorytmu k-NN w regresji**\n",
    "\n",
    "1. **Prostota**:\n",
    "   - Algorytm jest łatwy do zrozumienia i implementacji.\n",
    "\n",
    "2. **Elastyczność**:\n",
    "   - Działa dobrze z danymi o skomplikowanych i nieliniowych zależnościach.\n",
    "\n",
    "3. **Brak założeń**:\n",
    "   - Nie wymaga wstępnych założeń o rozkładzie danych.\n",
    "\n",
    "---\n",
    "\n",
    "## **Wady algorytmu k-NN w regresji**\n",
    "\n",
    "1. **Koszt obliczeniowy**:\n",
    "   - Algorytm wymaga obliczania odległości dla wszystkich punktów w zbiorze treningowym dla każdej próbki testowej, co może być kosztowne dla dużych zbiorów danych.\n",
    "\n",
    "2. **Wrażliwość na dane**:\n",
    "   - Wrażliwość na szum i wartości odstające, szczególnie dla małych wartości $ k $.\n",
    "\n",
    "3. **Problemy ze skalą danych**:\n",
    "   - Algorytm jest wrażliwy na różnice w skali cech, dlatego standaryzacja lub normalizacja danych jest zwykle konieczna."
   ]
  },
  {
   "cell_type": "code",
   "execution_count": 6,
   "id": "f93381fa",
   "metadata": {},
   "outputs": [
    {
     "data": {
      "application/vnd.jupyter.widget-view+json": {
       "model_id": "47c353eac62840f7b29a3dfe9325a5b0",
       "version_major": 2,
       "version_minor": 0
      },
      "text/plain": [
       "interactive(children=(IntSlider(value=3, description='k (Neighbors)', max=20, min=1), RadioButtons(description…"
      ]
     },
     "metadata": {},
     "output_type": "display_data"
    },
    {
     "data": {
      "text/plain": [
       "<function __main__.interactive_knn(n_neighbors=3, weights='uniform')>"
      ]
     },
     "execution_count": 6,
     "metadata": {},
     "output_type": "execute_result"
    }
   ],
   "source": [
    "import numpy as np\n",
    "import matplotlib.pyplot as plt\n",
    "from sklearn.datasets import make_regression\n",
    "from sklearn.neighbors import KNeighborsRegressor\n",
    "from sklearn.metrics import mean_squared_error\n",
    "import ipywidgets as widgets\n",
    "from ipywidgets import interact\n",
    "\n",
    "# Generate synthetic dataset\n",
    "X, y = make_regression(n_samples=200, n_features=1, noise=20, random_state=42)\n",
    "X_train, X_test = X[:160], X[160:]\n",
    "y_train, y_test = y[:160], y[160:]\n",
    "\n",
    "# Interactive function for k-NN\n",
    "def interactive_knn(n_neighbors=3, weights='uniform'):\n",
    "    # Train k-NN regressor\n",
    "    knn = KNeighborsRegressor(n_neighbors=n_neighbors, weights=weights)\n",
    "    knn.fit(X_train, y_train)\n",
    "    \n",
    "    # Predict on test set\n",
    "    y_pred = knn.predict(X_test)\n",
    "    \n",
    "    # Calculate MSE\n",
    "    mse = mean_squared_error(y_test, y_pred)\n",
    "    \n",
    "    # Plot training data, test data, and predictions\n",
    "    plt.figure(figsize=(12, 6))\n",
    "    \n",
    "    # Scatter plot of training and test data\n",
    "    plt.scatter(X_train, y_train, label=\"Training Data\", color='blue', alpha=0.7)\n",
    "    plt.scatter(X_test, y_test, label=\"Test Data\", color='orange', alpha=0.7)\n",
    "    \n",
    "    # Line plot of predictions\n",
    "    X_range = np.linspace(X.min(), X.max(), 500).reshape(-1, 1)\n",
    "    y_pred_range = knn.predict(X_range)\n",
    "    plt.plot(X_range, y_pred_range, color='red', label=\"k-NN Predictions\", linewidth=2)\n",
    "    \n",
    "    # Titles and labels\n",
    "    plt.title(f\"k-NN Regression (k={n_neighbors}, weights='{weights}')\\nMSE: {mse:.2f}\")\n",
    "    plt.xlabel(\"Feature\")\n",
    "    plt.ylabel(\"Target\")\n",
    "    plt.legend()\n",
    "    plt.grid(True)\n",
    "    plt.show()\n",
    "\n",
    "# Interactive widgets for k and weights\n",
    "interact(\n",
    "    interactive_knn,\n",
    "    n_neighbors=widgets.IntSlider(min=1, max=20, step=1, value=3, description='k (Neighbors)'),\n",
    "    weights=widgets.RadioButtons(\n",
    "        options=['uniform', 'distance'],\n",
    "        value='uniform',\n",
    "        description='Weights:'\n",
    "    )\n",
    ")\n"
   ]
  },
  {
   "cell_type": "markdown",
   "id": "306cb426",
   "metadata": {},
   "source": [
    "## Zadanie 3.\n",
    "\n",
    "Wykorzystując dane z poprzednich ćwiczeń (i podział na zbiory oraz sprawdzian kryżowy), wykorzystaj algorytm k-NN do predykcji. Wesprzyj się dokumentacją: https://scikit-learn.org/stable/modules/generated/sklearn.neighbors.KNeighborsClassifier.html\n",
    "\n",
    "    3a. Sprawdź wynik k-NN dla wybranego przez Ciebie zestawu parametrów.\n",
    "    3b. Dla wybranego zestawu cech, sprawdź różne kombinacje hiperparametrów i wykonaj krzywe złożoności dla parametry n_neighbors oraz p."
   ]
  },
  {
   "cell_type": "code",
   "execution_count": null,
   "id": "8d0c5f88",
   "metadata": {},
   "outputs": [],
   "source": []
  },
  {
   "cell_type": "markdown",
   "id": "0682eebc",
   "metadata": {},
   "source": [
    "# Drzewa decyzyjne\n",
    "\n",
    "Drzewa decyzyjne to popularny algorytm uczenia maszynowego, który można wykorzystać zarówno do zadań klasyfikacji, jak i regresji. W przypadku regresji drzewa decyzyjne służą do przewidywania wartości ciągłych, co czyni je potężnym narzędziem w modelowaniu danych z nieliniowymi i złożonymi zależnościami.\n",
    "\n",
    "\n",
    "## Drzewo decyzyjne\n",
    "\n",
    "Drzewo decyzyjne to struktura przypominająca diagram, w której dane są dzielone na podstawie warunków logicznych, tworząc węzły i gałęzie.\n",
    "\n",
    "    Korzeń drzewa: Punkt początkowy, zawierający całe dane wejściowe.\n",
    "    \n",
    "    Węzły decyzyjne: Punkty, w których dane są dzielone na podstawie określonego warunku (np. cechy, która najlepiej wyjaśnia dane w danym momencie).\n",
    "    \n",
    "    Liście: Końcowe węzły, które reprezentują przewidywaną wartość w przypadku regresji.\n",
    "    \n",
    "## Regresja z wykorzystaniem drzew decyzyjnych\n",
    "\n",
    "### Podział danych - proces uczenia\n",
    "\n",
    "Drzewo iteracyjnie dzieli dane wejściowe na podzbiory na podstawie wybranej cechy i warunku, który minimalizuje błąd predykcji.\n",
    "\n",
    "    Na przykład powierzchnia mieszkania > 50m2 -> tak lub nie, dzieli dane na dwa podzbiory w których predykcja ma konkretną wartość.\n",
    "\n",
    "Używa się miar takich jak średni błąd kwadratowy (MSE) lub średni absolutny błąd (MAE), aby określić najlepszy podział.\n",
    "\n",
    "    Kryterium podziału to róznica między rzeczywistą wartością a średnią wartością w podgrupie, która powstała.\n",
    "\n",
    "Algorytm kontynuuje podziały, aż osiągnie określone kryterium stopu, np. minimalną liczbę próbek w liściu, maksymalną głębokość drzewa lub brak dalszej poprawy błędu.\n",
    "\n",
    "### Predykcja\n",
    "Wartość przewidywana w liściu drzewa decyzyjnego to średnia wartość wyników w danym podzbiorze danych.\n",
    "\n",
    "### Zalety\n",
    "    Drzewa są bardzo proste w użyciu i intuicyjne\n",
    "    Są zdolne do obsługi wysoce nieliniowych związków\n",
    "    Nie ma potrzeby skalowania danych\n",
    "    \n",
    "### Wady\n",
    "\n",
    "    Drzewa są podatne na overfitting\n",
    "    Ich przewidywania są średnimi, a zatem są skokowe\n",
    "    \n",
    "### Kiedy stosować\n",
    "\n",
    "    Gdy dane są wysoce nielinowe\n",
    "    Gdy interpretowalność modelu jest kluczowa\n",
    "    W danych występują złożone interakcje między cechami, a które trudno ująć np. regresją wielomianową"
   ]
  },
  {
   "cell_type": "code",
   "execution_count": 7,
   "id": "3bba0e99",
   "metadata": {
    "scrolled": false
   },
   "outputs": [
    {
     "data": {
      "application/vnd.jupyter.widget-view+json": {
       "model_id": "639bb4f61ecc4404944740b544705d02",
       "version_major": 2,
       "version_minor": 0
      },
      "text/plain": [
       "interactive(children=(IntSlider(value=3, description='Max Depth', max=10, min=1), IntSlider(value=2, descripti…"
      ]
     },
     "metadata": {},
     "output_type": "display_data"
    },
    {
     "data": {
      "text/plain": [
       "<function __main__.interactive_tree_with_plot(max_depth=3, min_samples_split=2, min_samples_leaf=1)>"
      ]
     },
     "execution_count": 7,
     "metadata": {},
     "output_type": "execute_result"
    }
   ],
   "source": [
    "# Import additional library for tree visualization\n",
    "from sklearn.tree import plot_tree\n",
    "\n",
    "# Adjust interactive function to include tree visualization\n",
    "def interactive_tree_with_plot(max_depth=3, min_samples_split=2, min_samples_leaf=1):\n",
    "    # Train the Decision Tree Regressor with selected hyperparameters\n",
    "    regressor = DecisionTreeRegressor(\n",
    "        max_depth=max_depth, \n",
    "        min_samples_split=min_samples_split, \n",
    "        min_samples_leaf=min_samples_leaf,\n",
    "        random_state=42\n",
    "    )\n",
    "    regressor.fit(X_train, y_train)\n",
    "    \n",
    "    # Predict on the training and test set\n",
    "    y_pred_train = regressor.predict(X_train)\n",
    "    y_pred_test = regressor.predict(X_test)\n",
    "    \n",
    "    # Calculate Mean Squared Error\n",
    "    train_mse = mean_squared_error(y_train, y_pred_train)\n",
    "    test_mse = mean_squared_error(y_test, y_pred_test)\n",
    "    \n",
    "    # Create subplots for predictions and tree structure\n",
    "    fig, axs = plt.subplots(2, 1, figsize=(15, 10))\n",
    "    \n",
    "    # Plot the data and the regression tree predictions\n",
    "    X_range = np.linspace(X.min(), X.max(), 500).reshape(-1, 1)\n",
    "    y_pred_range = regressor.predict(X_range)\n",
    "    \n",
    "    axs[0].scatter(X_train, y_train, color='blue', label='Training Data', alpha=0.6)\n",
    "    axs[0].scatter(X_test, y_test, color='orange', label='Test Data', alpha=0.6)\n",
    "    axs[0].plot(X_range, y_pred_range, color='red', label='Tree Prediction', linewidth=2)\n",
    "    axs[0].set_title(f\"Decision Tree Regressor\\nTrain MSE: {train_mse:.2f}, Test MSE: {test_mse:.2f}\")\n",
    "    axs[0].set_xlabel(\"Feature\")\n",
    "    axs[0].set_ylabel(\"Target\")\n",
    "    axs[0].legend()\n",
    "    axs[0].grid(True)\n",
    "    \n",
    "    # Visualize the decision tree structure\n",
    "    plot_tree(regressor, filled=True, feature_names=[\"Feature\"], ax=axs[1])\n",
    "    axs[1].set_title(\"Decision Tree Structure\")\n",
    "    \n",
    "    plt.tight_layout()\n",
    "    plt.show()\n",
    "\n",
    "# Interactive widgets for hyperparameters\n",
    "interact(\n",
    "    interactive_tree_with_plot,\n",
    "    max_depth=widgets.IntSlider(min=1, max=10, step=1, value=3, description='Max Depth'),\n",
    "    min_samples_split=widgets.IntSlider(min=2, max=20, step=1, value=2, description='Min Samples Split'),\n",
    "    min_samples_leaf=widgets.IntSlider(min=1, max=10, step=1, value=1, description='Min Samples Leaf')\n",
    ")\n"
   ]
  },
  {
   "cell_type": "code",
   "execution_count": 8,
   "id": "1f62179f",
   "metadata": {},
   "outputs": [
    {
     "ename": "NameError",
     "evalue": "name 'train_test_split' is not defined",
     "output_type": "error",
     "traceback": [
      "\u001b[1;31m---------------------------------------------------------------------------\u001b[0m",
      "\u001b[1;31mNameError\u001b[0m                                 Traceback (most recent call last)",
      "Input \u001b[1;32mIn [8]\u001b[0m, in \u001b[0;36m<cell line: 7>\u001b[1;34m()\u001b[0m\n\u001b[0;32m      4\u001b[0m y_nl \u001b[38;5;241m=\u001b[39m np\u001b[38;5;241m.\u001b[39msin(X_nl)\u001b[38;5;241m.\u001b[39mravel() \u001b[38;5;241m+\u001b[39m np\u001b[38;5;241m.\u001b[39mrandom\u001b[38;5;241m.\u001b[39mnormal(\u001b[38;5;241m0\u001b[39m, \u001b[38;5;241m0.2\u001b[39m, X_nl\u001b[38;5;241m.\u001b[39mshape[\u001b[38;5;241m0\u001b[39m])  \u001b[38;5;66;03m# Sinusoidal with noise\u001b[39;00m\n\u001b[0;32m      6\u001b[0m \u001b[38;5;66;03m# Split into training and testing sets\u001b[39;00m\n\u001b[1;32m----> 7\u001b[0m X_train_nl, X_test_nl, y_train_nl, y_test_nl \u001b[38;5;241m=\u001b[39m \u001b[43mtrain_test_split\u001b[49m(X_nl, y_nl, test_size\u001b[38;5;241m=\u001b[39m\u001b[38;5;241m0.2\u001b[39m, random_state\u001b[38;5;241m=\u001b[39m\u001b[38;5;241m42\u001b[39m)\n\u001b[0;32m      9\u001b[0m \u001b[38;5;66;03m# Interactive function for non-linear example\u001b[39;00m\n\u001b[0;32m     10\u001b[0m \u001b[38;5;28;01mdef\u001b[39;00m \u001b[38;5;21minteractive_tree_with_plot_nonlinear\u001b[39m(max_depth\u001b[38;5;241m=\u001b[39m\u001b[38;5;241m3\u001b[39m, min_samples_split\u001b[38;5;241m=\u001b[39m\u001b[38;5;241m2\u001b[39m, min_samples_leaf\u001b[38;5;241m=\u001b[39m\u001b[38;5;241m1\u001b[39m):\n\u001b[0;32m     11\u001b[0m     \u001b[38;5;66;03m# Train the Decision Tree Regressor with selected hyperparameters\u001b[39;00m\n",
      "\u001b[1;31mNameError\u001b[0m: name 'train_test_split' is not defined"
     ]
    }
   ],
   "source": [
    "# Generate a more non-linear dataset\n",
    "np.random.seed(42)\n",
    "X_nl = np.sort(np.random.rand(200, 1) * 10, axis=0)  # Random values between 0 and 10\n",
    "y_nl = np.sin(X_nl).ravel() + np.random.normal(0, 0.2, X_nl.shape[0])  # Sinusoidal with noise\n",
    "\n",
    "# Split into training and testing sets\n",
    "X_train_nl, X_test_nl, y_train_nl, y_test_nl = train_test_split(X_nl, y_nl, test_size=0.2, random_state=42)\n",
    "\n",
    "# Interactive function for non-linear example\n",
    "def interactive_tree_with_plot_nonlinear(max_depth=3, min_samples_split=2, min_samples_leaf=1):\n",
    "    # Train the Decision Tree Regressor with selected hyperparameters\n",
    "    regressor = DecisionTreeRegressor(\n",
    "        max_depth=max_depth, \n",
    "        min_samples_split=min_samples_split, \n",
    "        min_samples_leaf=min_samples_leaf,\n",
    "        random_state=42\n",
    "    )\n",
    "    regressor.fit(X_train_nl, y_train_nl)\n",
    "    \n",
    "    # Predict on the training and test set\n",
    "    y_pred_train_nl = regressor.predict(X_train_nl)\n",
    "    y_pred_test_nl = regressor.predict(X_test_nl)\n",
    "    \n",
    "    # Calculate Mean Squared Error\n",
    "    train_mse = mean_squared_error(y_train_nl, y_pred_train_nl)\n",
    "    test_mse = mean_squared_error(y_test_nl, y_pred_test_nl)\n",
    "    \n",
    "    # Create subplots for predictions and tree structure\n",
    "    fig, axs = plt.subplots(2, 1, figsize=(18, 16))\n",
    "    \n",
    "    # Plot the data and the regression tree predictions\n",
    "    X_range = np.linspace(X_nl.min(), X_nl.max(), 500).reshape(-1, 1)\n",
    "    y_pred_range = regressor.predict(X_range)\n",
    "    \n",
    "    axs[0].scatter(X_train_nl, y_train_nl, color='blue', label='Training Data', alpha=0.6)\n",
    "    axs[0].scatter(X_test_nl, y_test_nl, color='orange', label='Test Data', alpha=0.6)\n",
    "    axs[0].plot(X_range, y_pred_range, color='red', label='Tree Prediction', linewidth=2)\n",
    "    axs[0].set_title(f\"Decision Tree Regressor (Non-Linear Example)\\nTrain MSE: {train_mse:.2f}, Test MSE: {test_mse:.2f}\")\n",
    "    axs[0].set_xlabel(\"Feature\")\n",
    "    axs[0].set_ylabel(\"Target\")\n",
    "    axs[0].legend()\n",
    "    axs[0].grid(True)\n",
    "    \n",
    "    # Visualize the decision tree structure\n",
    "    plot_tree(regressor, filled=True, feature_names=[\"Feature\"], ax=axs[1])\n",
    "    axs[1].set_title(\"Decision Tree Structure\")\n",
    "    \n",
    "    plt.tight_layout()\n",
    "    plt.show()\n",
    "\n",
    "# Interactive widgets for hyperparameters\n",
    "interact(\n",
    "    interactive_tree_with_plot_nonlinear,\n",
    "    max_depth=widgets.IntSlider(min=1, max=10, step=1, value=3, description='Max Depth'),\n",
    "    min_samples_split=widgets.IntSlider(min=2, max=20, step=1, value=2, description='Min Samples Split'),\n",
    "    min_samples_leaf=widgets.IntSlider(min=1, max=10, step=1, value=1, description='Min Samples Leaf')\n",
    ")\n"
   ]
  },
  {
   "cell_type": "markdown",
   "id": "f2927970",
   "metadata": {},
   "source": [
    "## Zadanie 4.\n",
    "\n",
    "Wykorzystując dane z poprzednich ćwiczeń (i podział na zbiory oraz sprawdzian kryżowy), wykorzystaj algorytm k-NN do predykcji. Wesprzyj się dokumentacją: https://scikit-learn.org/stable/modules/generated/sklearn.tree.DecisionTreeRegressor.html\n",
    "\n",
    "    4a. Wytrenuj model dla danych dobierając parametry na podstawie krzywych złożoności.\n",
    "    4b. Dla wybranego modelu zwizualizuj drzewo i dokonaj jego interpretacji.\n",
    "    4c. Przeanalizuj predykcje, w których przewidywana wartość znacząco odstaje od predykcji drzewa. Spróbuj zinterpretować przyczynę tego zdarzenia."
   ]
  },
  {
   "cell_type": "code",
   "execution_count": null,
   "id": "aebc078c",
   "metadata": {},
   "outputs": [],
   "source": []
  }
 ],
 "metadata": {
  "kernelspec": {
   "display_name": "Python 3 (ipykernel)",
   "language": "python",
   "name": "python3"
  },
  "language_info": {
   "codemirror_mode": {
    "name": "ipython",
    "version": 3
   },
   "file_extension": ".py",
   "mimetype": "text/x-python",
   "name": "python",
   "nbconvert_exporter": "python",
   "pygments_lexer": "ipython3",
   "version": "3.9.12"
  }
 },
 "nbformat": 4,
 "nbformat_minor": 5
}