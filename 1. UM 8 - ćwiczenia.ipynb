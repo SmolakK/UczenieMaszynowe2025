{
 "cells": [
  {
   "cell_type": "markdown",
   "id": "374ee889",
   "metadata": {},
   "source": [
    "# Uczenie Maszynowe - ćwiczenia 8\n",
    "\n",
    "## Klasteryzacja \n",
    "\n",
    "Klasteryzacja to technika uczenia maszynowego bez nadzoru, używana do grupowania podobnych punktów danych w klastry na podstawie ich cech. W przeciwieństwie do uczenia nadzorowanego, klasteryzacja nie opiera się na danych z oznaczeniami.\n",
    "\n",
    "Przykładowe zastosowania klasteryzacji:\n",
    "    \n",
    "    Segmentacja klientów\n",
    "    \n",
    "    Segmentacja obrazów\n",
    "    \n",
    "    Kategoryzacja dokumentów\n",
    "    \n",
    "    Wykrywanie anomalii\n",
    "    \n",
    "## Kompletny przykład klasteryzacji\n",
    "\n",
    "Najpierw importy:"
   ]
  },
  {
   "cell_type": "code",
   "execution_count": null,
   "id": "ead4e554",
   "metadata": {},
   "outputs": [],
   "source": [
    "import numpy as np\n",
    "import matplotlib.pyplot as plt\n",
    "from sklearn.cluster import KMeans\n",
    "import seaborn as sns\n",
    "sns.set_style(\"whitegrid\")"
   ]
  },
  {
   "cell_type": "markdown",
   "id": "44ec8b14",
   "metadata": {},
   "source": [
    "Wygenerujmy przykładowe dane do klasteryzacji (możesz zmodyfikować parametry i sprawdzić jak zmienią się dane)"
   ]
  },
  {
   "cell_type": "code",
   "execution_count": null,
   "id": "a47c87f7",
   "metadata": {},
   "outputs": [],
   "source": [
    "from sklearn.datasets import make_blobs\n",
    "X, y_true = make_blobs(n_samples=300, centers=4, cluster_std=0.60, random_state=0)"
   ]
  },
  {
   "cell_type": "markdown",
   "id": "5db764ad",
   "metadata": {},
   "source": [
    "Obejrzyjmy jak wyglądają te dane:"
   ]
  },
  {
   "cell_type": "code",
   "execution_count": null,
   "id": "ecc10c37",
   "metadata": {},
   "outputs": [],
   "source": [
    "plt.scatter(X[:, 0], X[:, 1], s=50)\n",
    "plt.title(\"Data Points\")\n",
    "plt.show()"
   ]
  },
  {
   "cell_type": "markdown",
   "id": "fd1c00da",
   "metadata": {},
   "source": [
    "Zastosujmy prosty model klasteryzacji K-Means (modele znajdziesz tutaj: https://scikit-learn.org/stable/api/sklearn.cluster.html)"
   ]
  },
  {
   "cell_type": "code",
   "execution_count": null,
   "id": "87a2756f",
   "metadata": {},
   "outputs": [],
   "source": [
    "kmeans = KMeans(n_clusters=4)\n",
    "kmeans.fit(X)"
   ]
  },
  {
   "cell_type": "markdown",
   "id": "0850b55e",
   "metadata": {},
   "source": [
    "Pozyskajmy etykiety obiektów"
   ]
  },
  {
   "cell_type": "code",
   "execution_count": null,
   "id": "b4fee423",
   "metadata": {},
   "outputs": [],
   "source": [
    "y_kmeans = kmeans.predict(X)"
   ]
  },
  {
   "cell_type": "markdown",
   "id": "beb10350",
   "metadata": {},
   "source": [
    "Zobaczmy wyniki:"
   ]
  },
  {
   "cell_type": "code",
   "execution_count": null,
   "id": "6f47a2fe",
   "metadata": {},
   "outputs": [],
   "source": [
    "plt.scatter(X[:, 0], X[:, 1], c=y_kmeans, s=50, cmap='viridis')"
   ]
  },
  {
   "cell_type": "markdown",
   "id": "59495fa3",
   "metadata": {},
   "source": [
    "## Zadanie 1\n",
    "\n",
    "Wykorzystaj generowany zbiór danych (pseudolosowy, więc zawsze stały) by dokonać klasteryzacji. "
   ]
  },
  {
   "cell_type": "code",
   "execution_count": null,
   "id": "34d3f036",
   "metadata": {},
   "outputs": [],
   "source": [
    "import numpy as np\n",
    "import matplotlib.pyplot as plt\n",
    "from sklearn.datasets import make_moons\n",
    "from sklearn.cluster import KMeans\n",
    "\n",
    "# 1. Generowanie zbioru danych\n",
    "X, klasy = make_moons(n_samples=300, noise=.12, random_state=42)\n",
    "\n",
    "# 2. Wizualizacja danych\n",
    "plt.scatter(X[:, 0], X[:, 1], s=30)\n",
    "plt.title(\"Wygenerowany zbiór danych\")\n",
    "plt.xlabel(\"Cecha 1\")\n",
    "plt.ylabel(\"Cecha 2\")\n",
    "plt.show()\n",
    "\n",
    "# 3. Wizualizacja prawdziwego podziału\n",
    "plt.scatter(X[:, 0], X[:, 1], s=30, c=klasy, cmap='viridis')\n",
    "plt.title(\"Prawdziwy podział\")\n",
    "plt.xlabel(\"Cecha 1\")\n",
    "plt.ylabel(\"Cecha 2\")\n",
    "plt.show()\n",
    "\n",
    "\n",
    "# 4. Klasteryzacja przy pomocy KMeans\n",
    "\n",
    "# 5. Wizualizacja wyników\n",
    "# Rysowanie danych\n",
    "plt.scatter(X[:, 0], X[:, 1], c=clusters, cmap=\"viridis\", s=30)\n",
    "\n",
    "# Rysowanie centroidów\n",
    "plt.scatter(kmeans.cluster_centers_[:, 0], kmeans.cluster_centers_[:, 1], c=\"red\", marker=\"x\", s=100, label=\"Centroidy\")\n",
    "\n",
    "plt.title(\"Wynik klasteryzacji KMeans z tłem\")\n",
    "plt.xlabel(\"Cecha 1\")\n",
    "plt.ylabel(\"Cecha 2\")\n",
    "plt.legend()\n",
    "plt.show()"
   ]
  },
  {
   "cell_type": "markdown",
   "id": "39137a36",
   "metadata": {},
   "source": [
    "## Zadanie 2\n",
    "\n",
    "Spróbuj zmienić model na model DBSCAN (https://scikit-learn.org/stable/modules/generated/sklearn.cluster.DBSCAN.html). Dobierz odpowiednie parametry - jak to wpłynęło na wyniki?"
   ]
  },
  {
   "cell_type": "code",
   "execution_count": null,
   "id": "a6bffec2",
   "metadata": {},
   "outputs": [],
   "source": [
    "import numpy as np\n",
    "import matplotlib.pyplot as plt\n",
    "from sklearn.datasets import make_moons\n",
    "from sklearn.cluster import DBSCAN\n",
    "\n",
    "# 1. Generowanie zbioru danych\n",
    "X, klasy = make_moons(n_samples=300, noise=.12, random_state=42)\n",
    "\n",
    "# 2. Wizualizacja prawdziwego podziału\n",
    "plt.scatter(X[:, 0], X[:, 1], s=30, c=klasy, cmap='viridis')\n",
    "plt.title(\"Prawdziwy podział\")\n",
    "plt.xlabel(\"Cecha 1\")\n",
    "plt.ylabel(\"Cecha 2\")\n",
    "plt.show()\n",
    "\n",
    "# 3. Klasteryzacja przy pomocy DBSCAN\n",
    "# kod tutaj\n",
    "\n",
    "# 4. Wizualizacja wyników\n",
    "# Rysowanie danych\n",
    "plt.scatter(X[:, 0], X[:, 1], c=clusters, cmap=\"viridis\", s=30)\n",
    "\n",
    "plt.title(\"Wynik klasteryzacji DBSCAN\")\n",
    "plt.xlabel(\"Cecha 1\")\n",
    "plt.ylabel(\"Cecha 2\")\n",
    "plt.legend()\n",
    "plt.show()\n",
    "plt.show()"
   ]
  },
  {
   "cell_type": "markdown",
   "id": "02ae962e",
   "metadata": {},
   "source": [
    "## Zadanie 3\n",
    "\n",
    "Normalizacja zmiennych jest w klasteryzacji niezwykle istotna. Dokonaj normalizacji zmiennych i powtórz proces uczenia. Jak wypłynęło to na wyniki?"
   ]
  },
  {
   "cell_type": "code",
   "execution_count": null,
   "id": "211c13c5",
   "metadata": {},
   "outputs": [],
   "source": [
    "from sklearn.preprocessing import StandardScaler\n",
    "\n",
    "# 1. Generowanie zbioru danych\n",
    "X, klasy = make_moons(n_samples=300, noise=.12, random_state=42)\n",
    "\n",
    "# Standaryzacja danych\n",
    "\n",
    "# Klasteryzacja po standaryzacji\n",
    "\n",
    "# Wizualizacja\n",
    "plt.scatter(X_scaled[:, 0], X_scaled[:, 1], c=clusters_dbscan, cmap=\"viridis\", s=30)\n",
    "plt.title(\"Klasteryzacja po standaryzacji\")\n",
    "plt.xlabel(\"Standaryzowana cecha 1\")\n",
    "plt.ylabel(\"Standaryzowana cecha 2\")\n",
    "plt.legend()\n",
    "plt.show()\n"
   ]
  }
 ],
 "metadata": {
  "kernelspec": {
   "display_name": "Python 3 (ipykernel)",
   "language": "python",
   "name": "python3"
  },
  "language_info": {
   "codemirror_mode": {
    "name": "ipython",
    "version": 3
   },
   "file_extension": ".py",
   "mimetype": "text/x-python",
   "name": "python",
   "nbconvert_exporter": "python",
   "pygments_lexer": "ipython3",
   "version": "3.9.12"
  }
 },
 "nbformat": 4,
 "nbformat_minor": 5
}
