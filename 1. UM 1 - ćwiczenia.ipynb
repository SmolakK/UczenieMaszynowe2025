{
 "cells": [
  {
   "cell_type": "markdown",
   "id": "eb34863a",
   "metadata": {},
   "source": [
    "# Uczenie Maszynowe (kurs zima 2024/2025)\n",
    "\n",
    "## Prowadzący zajęcia:\n",
    "\n",
    "* Dr Kamil Smolak; email: <kamil.smolak@upwr.edu.pl>\n",
    "\n",
    "# UM 1 - Ćwczenia\n",
    "\n",
    "Zaczynamy dziś nietypowo - od ćwiczeń.\n",
    "\n",
    "<b> Dzisiejsze ćwiczenia skupią się zatem na podstawowej umiejętności  niezbędnej do nauki uczenia maszynowego - Pythona </b>\n",
    "\n",
    "Po wstęp do przedmiotu i teorię zapraszam do wykład - piątki 10:00 (co drugi piątek)\n",
    "\n",
    "# Forma zajęć:\n",
    "\n",
    "Wszystkie materiały do zajęć, wykłady i ćwiczenia są dostępne online w postaci Jupyter Book. (smolakk.github.io/UczenieMaszynowe2025)\n",
    "\n",
    "Materiały są interaktywnymi notebookami Pythona, które umożliwiają prezentację i praktykę umiejętności związanych z uczeniem maszynowym.\n",
    "\n",
    "Materiały będą dostępne online *przed* ćwiczeniami, co pozwoli na realizację zajęć w fomie _odwróconej_, w której studenci zapoznają się z materiałami *przed* ćwiczeniami. Dzięki temu możemy postawić większy nacisk na praktykę w trakcie zajęć."
   ]
  },
  {
   "cell_type": "code",
   "execution_count": 2,
   "id": "88a4736b",
   "metadata": {},
   "outputs": [
    {
     "data": {
      "application/vnd.jupyter.widget-view+json": {
       "model_id": "162717526d3640e59f267c47d8e0cc4a",
       "version_major": 2,
       "version_minor": 0
      },
      "text/plain": [
       "interactive(children=(FloatSlider(value=1.0, description='C (Inverse of Regularization Strength)', max=1.0, mi…"
      ]
     },
     "metadata": {},
     "output_type": "display_data"
    }
   ],
   "source": [
    "import numpy as np\n",
    "import matplotlib.pyplot as plt\n",
    "from sklearn.datasets import load_iris\n",
    "from sklearn.model_selection import train_test_split\n",
    "from sklearn.preprocessing import StandardScaler\n",
    "from sklearn.linear_model import LogisticRegression\n",
    "from sklearn.decomposition import PCA\n",
    "from sklearn.metrics import accuracy_score\n",
    "import ipywidgets as widgets\n",
    "from ipywidgets import interact\n",
    "\n",
    "# Load Iris Dataset\n",
    "iris = load_iris()\n",
    "X = iris.data\n",
    "y = iris.target\n",
    "\n",
    "# Use PCA to reduce to 2 dimensions for visualization\n",
    "pca = PCA(n_components=2)\n",
    "X_reduced = pca.fit_transform(X)\n",
    "\n",
    "# Standardize the dataset\n",
    "scaler = StandardScaler()\n",
    "X_reduced = scaler.fit_transform(X_reduced)\n",
    "\n",
    "# Train-test split\n",
    "X_train, X_test, y_train, y_test = train_test_split(X_reduced, y, test_size=0.2, random_state=42)\n",
    "\n",
    "# Interactive function to visualize the decision boundary with different regularization strength\n",
    "def plot_classification(C):\n",
    "    # Create and train the model\n",
    "    model = LogisticRegression(C=C, multi_class='ovr')\n",
    "    model.fit(X_train, y_train)\n",
    "\n",
    "    # Predict the test set\n",
    "    y_pred = model.predict(X_test)\n",
    "    accuracy = accuracy_score(y_test, y_pred)\n",
    "\n",
    "    # Plot decision boundary\n",
    "    plt.figure(figsize=(8, 6))\n",
    "    x_min, x_max = X_train[:, 0].min() - 1, X_train[:, 0].max() + 1\n",
    "    y_min, y_max = X_train[:, 1].min() - 1, X_train[:, 1].max() + 1\n",
    "    xx, yy = np.meshgrid(np.arange(x_min, x_max, 0.01), np.arange(y_min, y_max, 0.01))\n",
    "    Z = model.predict(np.c_[xx.ravel(), yy.ravel()])\n",
    "    Z = Z.reshape(xx.shape)\n",
    "\n",
    "    plt.contourf(xx, yy, Z, alpha=0.8)\n",
    "    plt.scatter(X_train[:, 0], X_train[:, 1], c=y_train, edgecolors='k', marker='o', label='Train set')\n",
    "    plt.scatter(X_test[:, 0], X_test[:, 1], c=y_test, marker='x', label='Test set')\n",
    "    \n",
    "    plt.title(f'Logistic Regression (C={C:.2f})\\nAccuracy: {accuracy:.2f}')\n",
    "    plt.xlabel('PCA Component 1')\n",
    "    plt.ylabel('PCA Component 2')\n",
    "    plt.legend(loc='upper left')\n",
    "    plt.show()\n",
    "\n",
    "# Interactive slider to control the regularization strength (C parameter)\n",
    "interact(plot_classification, C=widgets.FloatSlider(value=1.0, min=0.01, max=1.0, step=.1, description='C (Inverse of Regularization Strength)'));\n"
   ]
  },
  {
   "cell_type": "markdown",
   "id": "4c5d9557",
   "metadata": {},
   "source": [
    "## Cel zajęć i ćwiczeń\n",
    "\n",
    "Przedmiot obejmuje wprowadzenie i kształcenie w dziedzinie uczenia maszynowego i powiązanych obszarów, takich jak Data Science.\n",
    "\n",
    "Ćwiczenia skupią się na praktyce związanej z uczeniem maszynowym.\n",
    "\n",
    "\n",
    "## Dzisiejsze ćwiczenia\n",
    "\n",
    "Podstawową umiejętnością (dla tych zajęć jak i dla stosowania uczenia maszynowego) jest programowanie w Pythonie. Dzisiejsze ćwiczenia poświęcone są przypomnieniu sobie tej umiejętności oraz ocenie Państwa zaawansowania w programowaniu w Pythonie.\n",
    "\n",
    "Python jest najlepszym językiem do nauki uczenia maszynowego, głównie ze względu na bogactwo bibliotek i narzędzi poświęconych temu tematowi.\n",
    "\n",
    "\n",
    "## Czym jest uczenie maszynowe?\n",
    "\n",
    "Uczenie maszynowe (Machine Learning) to poddział sztucznej inteligencji (AI) (na wykładzie więcej o tym podziale), który zajmuje się rozwojem algorytmów zdolnych do uczenia się na podstawie danych i wykonywania pewnych decyzji lub predykcji nie będąc wprost zaprogramowanych do tego.\n",
    "\n",
    "Algorytmy uczenia maszynowego mają za zadanie odkryć wzorzec w danych i powiązać ze sposobem rozwiązania konkretnego zadania.\n",
    "\n",
    "Pokrótce można powiedzieć że algorytmy uczą sie na podstawie doświadczenia E jak wykonać zadanie T oceniając się poprzez P, wtedy gdy ich zdolność do wykonywania T oceniana przez P wzrasta dzięki E.\n",
    "\n",
    "To oznacza, że algorytmy ulepszają się bez interwencji człowieka, to nazywamy \"uczeniem\".\n",
    "\n",
    "### Kluczowe koncepcje związane z uczeniem maszynowym:\n",
    "\n",
    "* Oparte na danych - podstawą uczenia maszynowego są dane. Te dane to właśnie doświadczenie E. Bez nich, niemożliwy jest trening algorytmu.\n",
    "    \n",
    "    \n",
    "* Nauka na podstawie doświadczenia E oznacza wykorzystanie jakichś danych, np. historycznych by zdobyć wiedzę i zaaplikować je do obecnego problemu i nowych danych opisujących ten problem.\n",
    "    \n",
    "    \n",
    "* Model - modele stanowią podstawę uczenia maszynowego, modele stworzone są tak by być w stanie się uczyć.\n",
    "    \n",
    "    \n",
    "* Trening - trening oznacza pozyskiwanie wiedzy z doświadczenia E i odpowiednie dostosowanie modelu według miary oceny P by wykonać T\n",
    "    \n",
    "    \n",
    "* Testowanie - testowanie jest niezbędne do oceny tego jak nasz model radzi sobie w rzeczywistości. Oceniamy jak wykonuje zadanie T na podstawie miar P.\n",
    "     \n",
    "     \n",
    "* Uczenie nadzorowane - uczenie, w którym algorytm na podstawie \"poprawnych\" przykładów wykonania zadania uczy się jak je wykonywać.\n",
    "\n",
    "\n",
    "* Uczenie nienadzorowane - uczenie, w którym algorytm musi wykonuje zadanie bez poprawnych przykładów, odkrywając ukryte wzorce w danych.\n",
    "\n",
    "\n",
    "* Uczenie przez wzmocnienie - typ uczenia, w którym algorytm poprzez interakcję z otoczeniem i system nagród i kar uczy się wykonywać zadanie.\n",
    "\n",
    "\n",
    "## Niezbędne umiejętności\n",
    "\n",
    "\n",
    "* Statystyka\n",
    "    * Rachunek prawdopodobieństwa, podstawy statystyki (miary statystyczne, rozkłady zmiennych, testy statystyczne)\n",
    "        * Modele uczenia maszynowego oparte są na koncepcji prawdopodobieństwa\n",
    "        * Zrozumienie danych wymaga znajomość właściwości statystycznych danych\n",
    "    * Algebra liniowa\n",
    "        * Algebra liniowa stanowi podstawę obliczeń prowadzonych w algorytmach, obejmuje to operacje na wektorach, macierzach i tensorach, transformacje linearne\n",
    "    * Rachunek różniczkowy\n",
    "         * Większość algorytmów, a zwłaszcza część związana z ich optymalizacją jest oparta na pojęciu pochodnych i gradientów. Wiedza ta niezbędna jest do \"uczenia\" algorytmów\n",
    "    * Rachunek wyrównawczy (optymalizacja)\n",
    "         * Wiedza z rachunku wyrównawczego (choć niezwiązana z geodezyjnym wymiarem wiedzy) będzie bardzo przydatna w kontekście optymalizacji modeli - o to w końcu chodzi w rachunku wyrównawczym.\n",
    "* Programowanie (Python)\n",
    "    * Biblioteki Pythona związane z uczeniem maszynowym:\n",
    "        * NumPy - algebra liniowa\n",
    "        * Pandas - zarządzanie danymi\n",
    "        * Matplotlib - wizualizacja danych\n",
    "        * Scikit-learn - standardowe algorytmy uczenia maszynowego\n",
    "        * TensorFlow, Keras, PyTorch - uczenie głębokie"
   ]
  },
  {
   "cell_type": "markdown",
   "id": "b06de77a",
   "metadata": {},
   "source": [
    "## Potrenujmy zatem Pythona (i matematykę)\n",
    "\n",
    "### Wykonaj mnożenie dwóch wektorów z wykorzystaniem:\n",
    "\n",
    "    1. Wyłącznie Pythona (uwzględnij ograniczenia - wektory muszą być tej samej długości)\n",
    "    2. Wykorzystając bibliotekę NumPy\n",
    "    \n",
    "Mnożymy dwa wektory a i b, jak podane poniżej:\n",
    "\n",
    "a = [1, 2, 3]\n",
    "b = [4, 5, 6]\n",
    "\n",
    "\n",
    "Oczekiwany wynik: 32"
   ]
  },
  {
   "cell_type": "code",
   "execution_count": null,
   "id": "5e16904c",
   "metadata": {},
   "outputs": [],
   "source": []
  },
  {
   "cell_type": "markdown",
   "id": "8196076a",
   "metadata": {},
   "source": [
    "### Wykonaj mnożenie dwóch macierzy z wykorzystaniem:\n",
    "\n",
    "1. Wyłącznie Pythona (uwzględnij warunek)\n",
    "2. Wykorzystując NumPy\n",
    "\n",
    "Wejście:\n",
    "A = [[1, 2], [3, 4]]\n",
    "B = [[5, 6], [7, 8]]\n",
    "\n",
    "Wyjście:\n",
    "[[19, 22], [43, 50]]"
   ]
  },
  {
   "cell_type": "code",
   "execution_count": 12,
   "id": "5ad25169",
   "metadata": {},
   "outputs": [],
   "source": [
    "A = [[1, 2], [3, 4]]\n",
    "B = [[5, 6], [7, 8]]"
   ]
  },
  {
   "cell_type": "code",
   "execution_count": null,
   "id": "4a70790a",
   "metadata": {},
   "outputs": [],
   "source": []
  },
  {
   "cell_type": "markdown",
   "id": "e5426789",
   "metadata": {},
   "source": [
    "### Oblicz pochodną funkcji wykorzystując:\n",
    "\n",
    "0. Ręcznie\n",
    "1. Wyłącznie Pythona\n",
    "2. Wykorzystując SciPy\n",
    "\n",
    "Obliczmy pochodną dla funkcji\n",
    "\n",
    "def f(x):\n",
    "    return x**2\n",
    "    \n",
    "w punkcie 2, przyjmij mały krok ~1e-5\n",
    "\n",
    "<p>Wykorzystaj wzór:</p>\n",
    "<p>\n",
    "  <math xmlns=\"http://www.w3.org/1998/Math/MathML\">\n",
    "    <mfrac>\n",
    "      <mrow>\n",
    "        <mi>f</mi><mo>&#x2061;</mo><mo>&#x2061;</mo><mo>(</mo><msub><mi>x</mi><mn>0</mn></msub><mo>+</mo><mi>h</mi><mo>)</mo><mo>-</mo>\n",
    "        <mi>f</mi><mo>&#x2061;</mo><mo>(</mo><msub><mi>x</mi><mn>0</mn></msub><mo>-</mo><mi>h</mi><mo>)</mo>\n",
    "      </mrow>\n",
    "      <mrow>\n",
    "        <mn>/2</mn><mi>h</mi>\n",
    "      </mrow>\n",
    "    </mfrac>\n",
    "  </math>\n",
    "</p>\n"
   ]
  },
  {
   "cell_type": "code",
   "execution_count": 55,
   "id": "210eefee",
   "metadata": {},
   "outputs": [],
   "source": [
    "def f(x):\n",
    "    return x**2\n",
    "\n",
    "x0 = 2\n",
    "h = 1e-5 "
   ]
  },
  {
   "cell_type": "code",
   "execution_count": null,
   "id": "228493dd",
   "metadata": {},
   "outputs": [],
   "source": []
  },
  {
   "cell_type": "code",
   "execution_count": null,
   "id": "cdb3f01e",
   "metadata": {},
   "outputs": [],
   "source": [
    "from scipy.misc import derivative"
   ]
  },
  {
   "cell_type": "markdown",
   "id": "4f5f3c25",
   "metadata": {},
   "source": [
    "### Oblicz wartość prawdopodobieństwa w rozkładzie normalnym wykorzystując:\n",
    "\n",
    "1. Wyłącznie Pythona\n",
    "2. Wykorzystując SciPy\n",
    "\n",
    "\n",
    "i zwizualizuj wykres dla różnych parametrów."
   ]
  },
  {
   "cell_type": "code",
   "execution_count": null,
   "id": "7a49720b",
   "metadata": {},
   "outputs": [],
   "source": []
  },
  {
   "cell_type": "code",
   "execution_count": null,
   "id": "ac22465e",
   "metadata": {},
   "outputs": [],
   "source": [
    "from scipy.stats import norm"
   ]
  },
  {
   "cell_type": "markdown",
   "id": "dd892b95",
   "metadata": {},
   "source": [
    "### Rozwiąż problem optymalizacyjny wykorzystując:\n",
    "\n",
    "1. Wykorzystując NumPy\n",
    "2. wykorzystując SciPy\n",
    "\n",
    "Optymalizowana funkcja jest liniowa:\n",
    "y = XA\n",
    "\n",
    "gdzie A to poszukiwane parametry.\n",
    "\n",
    "Dane do optymalizacji:\n",
    "\n",
    "X = np.array([[1, 1], [1, 2], [1, 3], [1, 4]])\n",
    "y = np.array([2, 3, 4, 5])"
   ]
  },
  {
   "cell_type": "code",
   "execution_count": 81,
   "id": "a0ccaf26",
   "metadata": {},
   "outputs": [],
   "source": [
    "X = np.array([[1, 1], [1, 2], [1, 3], [1, 4]])\n",
    "y = np.array([2, 3, 4, 5])"
   ]
  },
  {
   "cell_type": "code",
   "execution_count": 84,
   "id": "65ffc496",
   "metadata": {},
   "outputs": [
    {
     "data": {
      "text/plain": [
       "array([1., 1.])"
      ]
     },
     "execution_count": 84,
     "metadata": {},
     "output_type": "execute_result"
    }
   ],
   "source": []
  },
  {
   "cell_type": "code",
   "execution_count": 87,
   "id": "0c1e246e",
   "metadata": {},
   "outputs": [],
   "source": [
    "from scipy.optimize import minimize\n",
    "\n",
    "def kwadrat_bledu(theta, X, y):\n",
    "    m = len(y)  # Liczba próbek\n",
    "    predictions = X.dot(theta) # predykcje\n",
    "    return (1 / (2 * m)) * np.sum((predictions - y) ** 2) # suma kwadratów błędu"
   ]
  }
 ],
 "metadata": {
  "kernelspec": {
   "display_name": "Python 3 (ipykernel)",
   "language": "python",
   "name": "python3"
  },
  "language_info": {
   "codemirror_mode": {
    "name": "ipython",
    "version": 3
   },
   "file_extension": ".py",
   "mimetype": "text/x-python",
   "name": "python",
   "nbconvert_exporter": "python",
   "pygments_lexer": "ipython3",
   "version": "3.9.12"
  }
 },
 "nbformat": 4,
 "nbformat_minor": 5
}
